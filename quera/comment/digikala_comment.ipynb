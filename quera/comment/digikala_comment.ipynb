{
 "cells": [
  {
   "cell_type": "code",
   "execution_count": 1,
   "id": "c3fb4c27",
   "metadata": {},
   "outputs": [],
   "source": [
    "import numpy as np \n",
    "import pandas as pd \n",
    "import matplotlib.pyplot as plt \n",
    "import seaborn as sns"
   ]
  },
  {
   "cell_type": "code",
   "execution_count": 24,
   "metadata": {},
   "outputs": [],
   "source": [
    "from sklearn.naive_bayes import MultinomialNB\n",
    "from sklearn.pipeline import make_pipeline\n",
    "from sklearn.feature_extraction.text import TfidfVectorizer\n",
    "from sklearn.model_selection import train_test_split\n",
    "from sklearn.metrics import classification_report"
   ]
  },
  {
   "cell_type": "code",
   "execution_count": 62,
   "id": "2c9cca07",
   "metadata": {},
   "outputs": [
    {
     "name": "stderr",
     "output_type": "stream",
     "text": [
      "/home/ahmad/.local/lib/python3.8/site-packages/IPython/core/interactiveshell.py:3444: DtypeWarning: Columns (2,4,6) have mixed types.Specify dtype option on import or set low_memory=False.\n",
      "  exec(code_obj, self.user_global_ns, self.user_ns)\n"
     ]
    }
   ],
   "source": [
    "data = pd.read_csv('train.csv')\n",
    "data_test = pd.read_csv('test.csv')"
   ]
  },
  {
   "cell_type": "code",
   "execution_count": 63,
   "metadata": {},
   "outputs": [
    {
     "data": {
      "text/html": [
       "<div>\n",
       "<style scoped>\n",
       "    .dataframe tbody tr th:only-of-type {\n",
       "        vertical-align: middle;\n",
       "    }\n",
       "\n",
       "    .dataframe tbody tr th {\n",
       "        vertical-align: top;\n",
       "    }\n",
       "\n",
       "    .dataframe thead th {\n",
       "        text-align: right;\n",
       "    }\n",
       "</style>\n",
       "<table border=\"1\" class=\"dataframe\">\n",
       "  <thead>\n",
       "    <tr style=\"text-align: right;\">\n",
       "      <th></th>\n",
       "      <th>id</th>\n",
       "      <th>comment</th>\n",
       "      <th>product_id</th>\n",
       "      <th>product_title_fa</th>\n",
       "      <th>category_id</th>\n",
       "      <th>category_title_fa</th>\n",
       "      <th>is_buyer</th>\n",
       "    </tr>\n",
       "  </thead>\n",
       "  <tbody>\n",
       "    <tr>\n",
       "      <th>0</th>\n",
       "      <td>1130083</td>\n",
       "      <td>پیشنهاد میکنم</td>\n",
       "      <td>723251</td>\n",
       "      <td>پایه نگهدارنده شارژر موبایل مدل Stop charge</td>\n",
       "      <td>81.0</td>\n",
       "      <td>پایه نگهدارنده گوشی و تبلت</td>\n",
       "      <td>True</td>\n",
       "    </tr>\n",
       "    <tr>\n",
       "      <th>1</th>\n",
       "      <td>1051036</td>\n",
       "      <td>اول یکی خریدم دیدم خیلی خوبه\\r\\nخداروشکر نظری ...</td>\n",
       "      <td>623643</td>\n",
       "      <td>کابل تبدیل USB به microUSB تسکو مدل TC 50 طول ...</td>\n",
       "      <td>80.0</td>\n",
       "      <td>کابل و مبدل</td>\n",
       "      <td>True</td>\n",
       "    </tr>\n",
       "    <tr>\n",
       "      <th>2</th>\n",
       "      <td>1240179</td>\n",
       "      <td>نسبت به قیمت بصرفه هست</td>\n",
       "      <td>1552547</td>\n",
       "      <td>دستبند مدل S261-A</td>\n",
       "      <td>9541.0</td>\n",
       "      <td>دستبند زنانه و مردانه</td>\n",
       "      <td>True</td>\n",
       "    </tr>\n",
       "    <tr>\n",
       "      <th>3</th>\n",
       "      <td>1197397</td>\n",
       "      <td>داخل توضیحات نوشته درب عقب باز میشه ولی اینطور...</td>\n",
       "      <td>1545300</td>\n",
       "      <td>ماشین بازی طرح وانت نیسان مدل جونیور</td>\n",
       "      <td>6055.0</td>\n",
       "      <td>ماشین</td>\n",
       "      <td>True</td>\n",
       "    </tr>\n",
       "    <tr>\n",
       "      <th>4</th>\n",
       "      <td>1212378</td>\n",
       "      <td>خیلی زود ازبین میره روی پوت نمی مونه اصلا از خ...</td>\n",
       "      <td>81003</td>\n",
       "      <td>کرم پودر تیوبی مای  شماره 202</td>\n",
       "      <td>6462.0</td>\n",
       "      <td>کرم پودر</td>\n",
       "      <td>True</td>\n",
       "    </tr>\n",
       "  </tbody>\n",
       "</table>\n",
       "</div>"
      ],
      "text/plain": [
       "        id                                            comment  product_id  \\\n",
       "0  1130083                                      پیشنهاد میکنم      723251   \n",
       "1  1051036  اول یکی خریدم دیدم خیلی خوبه\\r\\nخداروشکر نظری ...      623643   \n",
       "2  1240179                            نسبت به قیمت بصرفه هست      1552547   \n",
       "3  1197397  داخل توضیحات نوشته درب عقب باز میشه ولی اینطور...     1545300   \n",
       "4  1212378  خیلی زود ازبین میره روی پوت نمی مونه اصلا از خ...       81003   \n",
       "\n",
       "                                    product_title_fa  category_id  \\\n",
       "0        پایه نگهدارنده شارژر موبایل مدل Stop charge         81.0   \n",
       "1  کابل تبدیل USB به microUSB تسکو مدل TC 50 طول ...         80.0   \n",
       "2                                  دستبند مدل S261-A       9541.0   \n",
       "3              ماشین بازی طرح وانت نیسان مدل جونیور        6055.0   \n",
       "4                      کرم پودر تیوبی مای  شماره 202       6462.0   \n",
       "\n",
       "            category_title_fa  is_buyer  \n",
       "0  پایه نگهدارنده گوشی و تبلت      True  \n",
       "1                 کابل و مبدل      True  \n",
       "2       دستبند زنانه و مردانه      True  \n",
       "3                       ماشین      True  \n",
       "4                    کرم پودر      True  "
      ]
     },
     "execution_count": 63,
     "metadata": {},
     "output_type": "execute_result"
    }
   ],
   "source": [
    "data_test.head()\n"
   ]
  },
  {
   "cell_type": "code",
   "execution_count": 5,
   "id": "d69ce4a7",
   "metadata": {},
   "outputs": [
    {
     "data": {
      "text/html": [
       "<div>\n",
       "<style scoped>\n",
       "    .dataframe tbody tr th:only-of-type {\n",
       "        vertical-align: middle;\n",
       "    }\n",
       "\n",
       "    .dataframe tbody tr th {\n",
       "        vertical-align: top;\n",
       "    }\n",
       "\n",
       "    .dataframe thead th {\n",
       "        text-align: right;\n",
       "    }\n",
       "</style>\n",
       "<table border=\"1\" class=\"dataframe\">\n",
       "  <thead>\n",
       "    <tr style=\"text-align: right;\">\n",
       "      <th></th>\n",
       "      <th>id</th>\n",
       "      <th>comment</th>\n",
       "      <th>product_id</th>\n",
       "      <th>product_title_fa</th>\n",
       "      <th>category_id</th>\n",
       "      <th>category_title_fa</th>\n",
       "      <th>is_buyer</th>\n",
       "      <th>price_value</th>\n",
       "      <th>fake_originality</th>\n",
       "      <th>warranty</th>\n",
       "      <th>size</th>\n",
       "      <th>discrepancy</th>\n",
       "      <th>flavor_odor</th>\n",
       "      <th>expiration_date</th>\n",
       "    </tr>\n",
       "  </thead>\n",
       "  <tbody>\n",
       "    <tr>\n",
       "      <th>0</th>\n",
       "      <td>1215666.0</td>\n",
       "      <td>ارزششو داشت</td>\n",
       "      <td>2802959</td>\n",
       "      <td>جوراب مردانه فیرو پلاس مدل FP200 مجموعه 4 عددی</td>\n",
       "      <td>9456.0</td>\n",
       "      <td>جوراب و ساق مردانه</td>\n",
       "      <td>True</td>\n",
       "      <td>1.0</td>\n",
       "      <td>0.0</td>\n",
       "      <td>0.0</td>\n",
       "      <td>0.0</td>\n",
       "      <td>0.0</td>\n",
       "      <td>0.0</td>\n",
       "      <td>0.0</td>\n",
       "    </tr>\n",
       "    <tr>\n",
       "      <th>1</th>\n",
       "      <td>1183149.0</td>\n",
       "      <td>یه دستگاه کاربردی فقط ای کاش طرز استفادشو میزد...</td>\n",
       "      <td>1894596</td>\n",
       "      <td>دستگاه سفید کننده دندان دنتال وایت مدل DT-1244</td>\n",
       "      <td>5745.0</td>\n",
       "      <td>مسواک برقی</td>\n",
       "      <td>True</td>\n",
       "      <td>0.0</td>\n",
       "      <td>0.0</td>\n",
       "      <td>0.0</td>\n",
       "      <td>0.0</td>\n",
       "      <td>0.0</td>\n",
       "      <td>0.0</td>\n",
       "      <td>0.0</td>\n",
       "    </tr>\n",
       "    <tr>\n",
       "      <th>2</th>\n",
       "      <td>1011730.0</td>\n",
       "      <td>خیلی خوب و ارزان</td>\n",
       "      <td>323729</td>\n",
       "      <td>کتاب بهترین قصه ملانصرالدین کلک مرغابی اثر مهر...</td>\n",
       "      <td>5918.0</td>\n",
       "      <td>کتاب چاپی</td>\n",
       "      <td>True</td>\n",
       "      <td>1.0</td>\n",
       "      <td>0.0</td>\n",
       "      <td>0.0</td>\n",
       "      <td>0.0</td>\n",
       "      <td>0.0</td>\n",
       "      <td>0.0</td>\n",
       "      <td>0.0</td>\n",
       "    </tr>\n",
       "    <tr>\n",
       "      <th>3</th>\n",
       "      <td>1093325.0</td>\n",
       "      <td>اندازش خیلیییییی بزرگ بود</td>\n",
       "      <td>1431242</td>\n",
       "      <td>نوار بهداشتی تافته مدل Thin بسته 7 عددی</td>\n",
       "      <td>6528.0</td>\n",
       "      <td>نوار بهداشتی</td>\n",
       "      <td>True</td>\n",
       "      <td>0.0</td>\n",
       "      <td>0.0</td>\n",
       "      <td>0.0</td>\n",
       "      <td>1.0</td>\n",
       "      <td>0.0</td>\n",
       "      <td>0.0</td>\n",
       "      <td>0.0</td>\n",
       "    </tr>\n",
       "    <tr>\n",
       "      <th>4</th>\n",
       "      <td>1111983.0</td>\n",
       "      <td>خیلی بد بود و میچسبید به دست</td>\n",
       "      <td>1902220</td>\n",
       "      <td>ژل بازی کد shb57</td>\n",
       "      <td>6083.0</td>\n",
       "      <td>ابزار شوخی</td>\n",
       "      <td>False</td>\n",
       "      <td>0.0</td>\n",
       "      <td>0.0</td>\n",
       "      <td>0.0</td>\n",
       "      <td>0.0</td>\n",
       "      <td>0.0</td>\n",
       "      <td>0.0</td>\n",
       "      <td>0.0</td>\n",
       "    </tr>\n",
       "  </tbody>\n",
       "</table>\n",
       "</div>"
      ],
      "text/plain": [
       "          id                                            comment product_id  \\\n",
       "0  1215666.0                                        ارزششو داشت    2802959   \n",
       "1  1183149.0  یه دستگاه کاربردی فقط ای کاش طرز استفادشو میزد...    1894596   \n",
       "2  1011730.0                                   خیلی خوب و ارزان     323729   \n",
       "3  1093325.0                          اندازش خیلیییییی بزرگ بود    1431242   \n",
       "4  1111983.0                       خیلی بد بود و میچسبید به دست    1902220   \n",
       "\n",
       "                                    product_title_fa category_id  \\\n",
       "0     جوراب مردانه فیرو پلاس مدل FP200 مجموعه 4 عددی      9456.0   \n",
       "1     دستگاه سفید کننده دندان دنتال وایت مدل DT-1244      5745.0   \n",
       "2  کتاب بهترین قصه ملانصرالدین کلک مرغابی اثر مهر...      5918.0   \n",
       "3            نوار بهداشتی تافته مدل Thin بسته 7 عددی      6528.0   \n",
       "4                                   ژل بازی کد shb57      6083.0   \n",
       "\n",
       "    category_title_fa is_buyer  price_value  fake_originality  warranty  size  \\\n",
       "0  جوراب و ساق مردانه     True          1.0               0.0       0.0   0.0   \n",
       "1          مسواک برقی     True          0.0               0.0       0.0   0.0   \n",
       "2           کتاب چاپی     True          1.0               0.0       0.0   0.0   \n",
       "3        نوار بهداشتی     True          0.0               0.0       0.0   1.0   \n",
       "4          ابزار شوخی    False          0.0               0.0       0.0   0.0   \n",
       "\n",
       "   discrepancy  flavor_odor  expiration_date  \n",
       "0          0.0          0.0              0.0  \n",
       "1          0.0          0.0              0.0  \n",
       "2          0.0          0.0              0.0  \n",
       "3          0.0          0.0              0.0  \n",
       "4          0.0          0.0              0.0  "
      ]
     },
     "execution_count": 5,
     "metadata": {},
     "output_type": "execute_result"
    }
   ],
   "source": [
    "data.head()"
   ]
  },
  {
   "cell_type": "code",
   "execution_count": 6,
   "id": "6030d412",
   "metadata": {},
   "outputs": [
    {
     "name": "stdout",
     "output_type": "stream",
     "text": [
      "<class 'pandas.core.frame.DataFrame'>\n",
      "RangeIndex: 224130 entries, 0 to 224129\n",
      "Data columns (total 14 columns):\n",
      " #   Column             Non-Null Count   Dtype  \n",
      "---  ------             --------------   -----  \n",
      " 0   id                 224129 non-null  float64\n",
      " 1   comment            224127 non-null  object \n",
      " 2   product_id         224129 non-null  object \n",
      " 3   product_title_fa   224129 non-null  object \n",
      " 4   category_id        224129 non-null  object \n",
      " 5   category_title_fa  224129 non-null  object \n",
      " 6   is_buyer           224129 non-null  object \n",
      " 7   price_value        224129 non-null  float64\n",
      " 8   fake_originality   224129 non-null  float64\n",
      " 9   warranty           224129 non-null  float64\n",
      " 10  size               224129 non-null  float64\n",
      " 11  discrepancy        224129 non-null  float64\n",
      " 12  flavor_odor        224129 non-null  float64\n",
      " 13  expiration_date    224128 non-null  float64\n",
      "dtypes: float64(8), object(6)\n",
      "memory usage: 23.9+ MB\n"
     ]
    }
   ],
   "source": [
    "data.info()"
   ]
  },
  {
   "cell_type": "code",
   "execution_count": 7,
   "id": "ef58e852",
   "metadata": {},
   "outputs": [
    {
     "name": "stdout",
     "output_type": "stream",
     "text": [
      "<class 'pandas.core.frame.DataFrame'>\n",
      "Int64Index: 224125 entries, 0 to 224129\n",
      "Data columns (total 14 columns):\n",
      " #   Column             Non-Null Count   Dtype  \n",
      "---  ------             --------------   -----  \n",
      " 0   id                 224125 non-null  float64\n",
      " 1   comment            224125 non-null  object \n",
      " 2   product_id         224125 non-null  object \n",
      " 3   product_title_fa   224125 non-null  object \n",
      " 4   category_id        224125 non-null  object \n",
      " 5   category_title_fa  224125 non-null  object \n",
      " 6   is_buyer           224125 non-null  object \n",
      " 7   price_value        224125 non-null  float64\n",
      " 8   fake_originality   224125 non-null  float64\n",
      " 9   warranty           224125 non-null  float64\n",
      " 10  size               224125 non-null  float64\n",
      " 11  discrepancy        224125 non-null  float64\n",
      " 12  flavor_odor        224125 non-null  float64\n",
      " 13  expiration_date    224125 non-null  float64\n",
      "dtypes: float64(8), object(6)\n",
      "memory usage: 25.6+ MB\n"
     ]
    }
   ],
   "source": [
    "data = data.dropna()\n",
    "data.info()"
   ]
  },
  {
   "cell_type": "code",
   "execution_count": 9,
   "metadata": {},
   "outputs": [
    {
     "data": {
      "text/plain": [
       "0         1.0\n",
       "1         0.0\n",
       "2         1.0\n",
       "3         0.0\n",
       "4         0.0\n",
       "         ... \n",
       "224125    0.0\n",
       "224126    1.0\n",
       "224127    0.0\n",
       "224128    0.0\n",
       "224129    0.0\n",
       "Name: price_value, Length: 224125, dtype: float64"
      ]
     },
     "execution_count": 9,
     "metadata": {},
     "output_type": "execute_result"
    }
   ],
   "source": [
    "X = data['comment']\n",
    "y = data['price_value']\n",
    "y"
   ]
  },
  {
   "cell_type": "code",
   "execution_count": 19,
   "metadata": {},
   "outputs": [],
   "source": [
    "\n",
    "X = data.iloc[:, 1]\n",
    "y = data['price_value']\n",
    "X_train, X_test, y_train, y_test = train_test_split(X, y, test_size=0.3, random_state=42)\n"
   ]
  },
  {
   "cell_type": "code",
   "execution_count": 20,
   "metadata": {},
   "outputs": [
    {
     "data": {
      "text/plain": [
       "<156887x51748 sparse matrix of type '<class 'numpy.float64'>'\n",
       "\twith 1729743 stored elements in Compressed Sparse Row format>"
      ]
     },
     "execution_count": 20,
     "metadata": {},
     "output_type": "execute_result"
    }
   ],
   "source": [
    "tf = TfidfVectorizer()\n",
    "x = tf.fit_transform(X_train.values.astype('U'), y_train)\n",
    "x"
   ]
  },
  {
   "cell_type": "markdown",
   "metadata": {},
   "source": [
    "### price value"
   ]
  },
  {
   "cell_type": "code",
   "execution_count": 61,
   "metadata": {},
   "outputs": [
    {
     "name": "stdout",
     "output_type": "stream",
     "text": [
      "              precision    recall  f1-score   support\n",
      "\n",
      "         0.0       0.99      1.00      1.00     66758\n",
      "         1.0       0.00      0.00      0.00       480\n",
      "\n",
      "    accuracy                           0.99     67238\n",
      "   macro avg       0.50      0.50      0.50     67238\n",
      "weighted avg       0.99      0.99      0.99     67238\n",
      "\n"
     ]
    },
    {
     "name": "stderr",
     "output_type": "stream",
     "text": [
      "/home/ahmad/.local/lib/python3.8/site-packages/sklearn/metrics/_classification.py:1308: UndefinedMetricWarning: Precision and F-score are ill-defined and being set to 0.0 in labels with no predicted samples. Use `zero_division` parameter to control this behavior.\n",
      "  _warn_prf(average, modifier, msg_start, len(result))\n",
      "/home/ahmad/.local/lib/python3.8/site-packages/sklearn/metrics/_classification.py:1308: UndefinedMetricWarning: Precision and F-score are ill-defined and being set to 0.0 in labels with no predicted samples. Use `zero_division` parameter to control this behavior.\n",
      "  _warn_prf(average, modifier, msg_start, len(result))\n",
      "/home/ahmad/.local/lib/python3.8/site-packages/sklearn/metrics/_classification.py:1308: UndefinedMetricWarning: Precision and F-score are ill-defined and being set to 0.0 in labels with no predicted samples. Use `zero_division` parameter to control this behavior.\n",
      "  _warn_prf(average, modifier, msg_start, len(result))\n"
     ]
    }
   ],
   "source": [
    "model = make_pipeline(TfidfVectorizer(), MultinomialNB())\n",
    "model.fit(X_train.values.astype('U'), y_train)\n",
    "y_pred_price = model.predict(X_test)\n",
    "print(classification_report(y_test, y_pred_price))"
   ]
  },
  {
   "cell_type": "markdown",
   "metadata": {},
   "source": [
    "### Fake-Original"
   ]
  },
  {
   "cell_type": "code",
   "execution_count": 60,
   "metadata": {},
   "outputs": [
    {
     "name": "stdout",
     "output_type": "stream",
     "text": [
      "              precision    recall  f1-score   support\n",
      "\n",
      "         0.0       0.99      1.00      1.00     66758\n",
      "         1.0       0.00      0.00      0.00       480\n",
      "\n",
      "    accuracy                           0.99     67238\n",
      "   macro avg       0.50      0.50      0.50     67238\n",
      "weighted avg       0.99      0.99      0.99     67238\n",
      "\n"
     ]
    },
    {
     "name": "stderr",
     "output_type": "stream",
     "text": [
      "/home/ahmad/.local/lib/python3.8/site-packages/sklearn/metrics/_classification.py:1308: UndefinedMetricWarning: Precision and F-score are ill-defined and being set to 0.0 in labels with no predicted samples. Use `zero_division` parameter to control this behavior.\n",
      "  _warn_prf(average, modifier, msg_start, len(result))\n",
      "/home/ahmad/.local/lib/python3.8/site-packages/sklearn/metrics/_classification.py:1308: UndefinedMetricWarning: Precision and F-score are ill-defined and being set to 0.0 in labels with no predicted samples. Use `zero_division` parameter to control this behavior.\n",
      "  _warn_prf(average, modifier, msg_start, len(result))\n",
      "/home/ahmad/.local/lib/python3.8/site-packages/sklearn/metrics/_classification.py:1308: UndefinedMetricWarning: Precision and F-score are ill-defined and being set to 0.0 in labels with no predicted samples. Use `zero_division` parameter to control this behavior.\n",
      "  _warn_prf(average, modifier, msg_start, len(result))\n"
     ]
    }
   ],
   "source": [
    "y_fake_original = data['fake_originality']\n",
    "X_train, X_test, y_train, y_test = train_test_split(X, y_fake_original, test_size=0.3, random_state=0)\n",
    "model.fit(X_train, y_train)\n",
    "y_pred_fake_original = model.predict(X_test)\n",
    "print(classification_report(y_test, y_pred_fake_original));"
   ]
  },
  {
   "cell_type": "code",
   "execution_count": 30,
   "metadata": {},
   "outputs": [
    {
     "name": "stdout",
     "output_type": "stream",
     "text": [
      "              precision    recall  f1-score   support\n",
      "\n",
      "         0.0       0.99      1.00      1.00     66758\n",
      "         1.0       0.00      0.00      0.00       480\n",
      "\n",
      "    accuracy                           0.99     67238\n",
      "   macro avg       0.50      0.50      0.50     67238\n",
      "weighted avg       0.99      0.99      0.99     67238\n",
      "\n"
     ]
    },
    {
     "name": "stderr",
     "output_type": "stream",
     "text": [
      "/home/ahmad/.local/lib/python3.8/site-packages/sklearn/metrics/_classification.py:1308: UndefinedMetricWarning: Precision and F-score are ill-defined and being set to 0.0 in labels with no predicted samples. Use `zero_division` parameter to control this behavior.\n",
      "  _warn_prf(average, modifier, msg_start, len(result))\n",
      "/home/ahmad/.local/lib/python3.8/site-packages/sklearn/metrics/_classification.py:1308: UndefinedMetricWarning: Precision and F-score are ill-defined and being set to 0.0 in labels with no predicted samples. Use `zero_division` parameter to control this behavior.\n",
      "  _warn_prf(average, modifier, msg_start, len(result))\n",
      "/home/ahmad/.local/lib/python3.8/site-packages/sklearn/metrics/_classification.py:1308: UndefinedMetricWarning: Precision and F-score are ill-defined and being set to 0.0 in labels with no predicted samples. Use `zero_division` parameter to control this behavior.\n",
      "  _warn_prf(average, modifier, msg_start, len(result))\n"
     ]
    }
   ],
   "source": []
  },
  {
   "cell_type": "markdown",
   "metadata": {},
   "source": [
    "### warranty "
   ]
  },
  {
   "cell_type": "code",
   "execution_count": 59,
   "metadata": {},
   "outputs": [
    {
     "name": "stdout",
     "output_type": "stream",
     "text": [
      "              precision    recall  f1-score   support\n",
      "\n",
      "         0.0       0.99      1.00      1.00     66770\n",
      "         1.0       0.00      0.00      0.00       468\n",
      "\n",
      "    accuracy                           0.99     67238\n",
      "   macro avg       0.50      0.50      0.50     67238\n",
      "weighted avg       0.99      0.99      0.99     67238\n",
      "\n"
     ]
    },
    {
     "name": "stderr",
     "output_type": "stream",
     "text": [
      "/home/ahmad/.local/lib/python3.8/site-packages/sklearn/metrics/_classification.py:1308: UndefinedMetricWarning: Precision and F-score are ill-defined and being set to 0.0 in labels with no predicted samples. Use `zero_division` parameter to control this behavior.\n",
      "  _warn_prf(average, modifier, msg_start, len(result))\n",
      "/home/ahmad/.local/lib/python3.8/site-packages/sklearn/metrics/_classification.py:1308: UndefinedMetricWarning: Precision and F-score are ill-defined and being set to 0.0 in labels with no predicted samples. Use `zero_division` parameter to control this behavior.\n",
      "  _warn_prf(average, modifier, msg_start, len(result))\n",
      "/home/ahmad/.local/lib/python3.8/site-packages/sklearn/metrics/_classification.py:1308: UndefinedMetricWarning: Precision and F-score are ill-defined and being set to 0.0 in labels with no predicted samples. Use `zero_division` parameter to control this behavior.\n",
      "  _warn_prf(average, modifier, msg_start, len(result))\n"
     ]
    }
   ],
   "source": [
    "y_warranty = data['warranty']\n",
    "X_train, X_test, y_train, y_test = train_test_split(X, y_fake_original, test_size=0.3, random_state=42)\n",
    "model.fit(X_train, y_train)\n",
    "y_pred_warranty = model.predict(X_test)\n",
    "print(classification_report(y_test, y_pred_warranty))"
   ]
  },
  {
   "cell_type": "markdown",
   "metadata": {},
   "source": [
    "### size"
   ]
  },
  {
   "cell_type": "code",
   "execution_count": 39,
   "metadata": {},
   "outputs": [
    {
     "name": "stdout",
     "output_type": "stream",
     "text": [
      "              precision    recall  f1-score   support\n",
      "\n",
      "         0.0       0.99      1.00      1.00     66770\n",
      "         1.0       0.00      0.00      0.00       468\n",
      "\n",
      "    accuracy                           0.99     67238\n",
      "   macro avg       0.50      0.50      0.50     67238\n",
      "weighted avg       0.99      0.99      0.99     67238\n",
      "\n"
     ]
    },
    {
     "name": "stderr",
     "output_type": "stream",
     "text": [
      "/home/ahmad/.local/lib/python3.8/site-packages/sklearn/metrics/_classification.py:1308: UndefinedMetricWarning: Precision and F-score are ill-defined and being set to 0.0 in labels with no predicted samples. Use `zero_division` parameter to control this behavior.\n",
      "  _warn_prf(average, modifier, msg_start, len(result))\n",
      "/home/ahmad/.local/lib/python3.8/site-packages/sklearn/metrics/_classification.py:1308: UndefinedMetricWarning: Precision and F-score are ill-defined and being set to 0.0 in labels with no predicted samples. Use `zero_division` parameter to control this behavior.\n",
      "  _warn_prf(average, modifier, msg_start, len(result))\n",
      "/home/ahmad/.local/lib/python3.8/site-packages/sklearn/metrics/_classification.py:1308: UndefinedMetricWarning: Precision and F-score are ill-defined and being set to 0.0 in labels with no predicted samples. Use `zero_division` parameter to control this behavior.\n",
      "  _warn_prf(average, modifier, msg_start, len(result))\n"
     ]
    }
   ],
   "source": [
    "y_size = data['size']\n",
    "X_train, X_test, y_train, y_test = train_test_split(X, y_fake_original, test_size=0.3, random_state=42)\n",
    "model.fit(X_train, y_train)\n",
    "y_pred_size = model.predict(X_test)\n",
    "print(classification_report(y_test, y_pred_size));"
   ]
  },
  {
   "cell_type": "markdown",
   "metadata": {},
   "source": [
    "### discrepancy"
   ]
  },
  {
   "cell_type": "code",
   "execution_count": 45,
   "metadata": {},
   "outputs": [
    {
     "name": "stdout",
     "output_type": "stream",
     "text": [
      "              precision    recall  f1-score   support\n",
      "\n",
      "         0.0       0.96      1.00      0.98     64308\n",
      "         1.0       0.96      0.01      0.02      2930\n",
      "\n",
      "    accuracy                           0.96     67238\n",
      "   macro avg       0.96      0.50      0.50     67238\n",
      "weighted avg       0.96      0.96      0.94     67238\n",
      "\n"
     ]
    }
   ],
   "source": [
    "y_discrepancy = data['discrepancy']\n",
    "X_train, X_test, y_train, y_test = train_test_split(X, y_discrepancy, test_size=0.3, random_state=42)\n",
    "model.fit(X_train, y_train)\n",
    "y_pred_discrepancy = model.predict(X_test)\n",
    "print(classification_report(y_test, y_pred_discrepancy));"
   ]
  },
  {
   "cell_type": "markdown",
   "metadata": {},
   "source": [
    "### flavor_odor"
   ]
  },
  {
   "cell_type": "code",
   "execution_count": 56,
   "metadata": {},
   "outputs": [
    {
     "name": "stdout",
     "output_type": "stream",
     "text": [
      "              precision    recall  f1-score   support\n",
      "\n",
      "         0.0       0.96      1.00      0.98     63853\n",
      "         1.0       0.94      0.15      0.26      3385\n",
      "\n",
      "    accuracy                           0.96     67238\n",
      "   macro avg       0.95      0.58      0.62     67238\n",
      "weighted avg       0.96      0.96      0.94     67238\n",
      "\n"
     ]
    }
   ],
   "source": [
    "y_flavor_odor = data['flavor_odor']\n",
    "X_train, X_test, y_train, y_test = train_test_split(X, y_flavor_odor, test_size=0.3, random_state=42)\n",
    "model.fit(X_train, y_train)\n",
    "y_pred_flavor_odor = model.predict(X_test)\n",
    "print(classification_report(y_test, y_pred_flavor_odor));"
   ]
  },
  {
   "cell_type": "markdown",
   "metadata": {},
   "source": [
    "### expiration_date"
   ]
  },
  {
   "cell_type": "code",
   "execution_count": 57,
   "metadata": {},
   "outputs": [
    {
     "data": {
      "text/plain": [
       "0         0.0\n",
       "1         0.0\n",
       "2         0.0\n",
       "3         0.0\n",
       "4         0.0\n",
       "         ... \n",
       "224125    0.0\n",
       "224126    1.0\n",
       "224127    0.0\n",
       "224128    0.0\n",
       "224129    0.0\n",
       "Name: expiration_date, Length: 224125, dtype: float64"
      ]
     },
     "execution_count": 57,
     "metadata": {},
     "output_type": "execute_result"
    }
   ],
   "source": [
    "data['expiration_date']"
   ]
  },
  {
   "cell_type": "code",
   "execution_count": 58,
   "metadata": {},
   "outputs": [
    {
     "name": "stdout",
     "output_type": "stream",
     "text": [
      "              precision    recall  f1-score   support\n",
      "\n",
      "         0.0       1.00      1.00      1.00     67027\n",
      "         1.0       0.00      0.00      0.00       211\n",
      "\n",
      "    accuracy                           1.00     67238\n",
      "   macro avg       0.50      0.50      0.50     67238\n",
      "weighted avg       0.99      1.00      1.00     67238\n",
      "\n"
     ]
    },
    {
     "name": "stderr",
     "output_type": "stream",
     "text": [
      "/home/ahmad/.local/lib/python3.8/site-packages/sklearn/metrics/_classification.py:1308: UndefinedMetricWarning: Precision and F-score are ill-defined and being set to 0.0 in labels with no predicted samples. Use `zero_division` parameter to control this behavior.\n",
      "  _warn_prf(average, modifier, msg_start, len(result))\n",
      "/home/ahmad/.local/lib/python3.8/site-packages/sklearn/metrics/_classification.py:1308: UndefinedMetricWarning: Precision and F-score are ill-defined and being set to 0.0 in labels with no predicted samples. Use `zero_division` parameter to control this behavior.\n",
      "  _warn_prf(average, modifier, msg_start, len(result))\n",
      "/home/ahmad/.local/lib/python3.8/site-packages/sklearn/metrics/_classification.py:1308: UndefinedMetricWarning: Precision and F-score are ill-defined and being set to 0.0 in labels with no predicted samples. Use `zero_division` parameter to control this behavior.\n",
      "  _warn_prf(average, modifier, msg_start, len(result))\n"
     ]
    }
   ],
   "source": [
    "y_expiration_date = data['expiration_date']\n",
    "X_train, X_test, y_train, y_test = train_test_split(X, y_expiration_date, test_size=0.3, random_state=42)\n",
    "model.fit(X_train, y_train)\n",
    "y_pred_expiration_date = model.predict(X_test)\n",
    "print(classification_report(y_test, y_pred_expiration_date))"
   ]
  }
 ],
 "metadata": {
  "interpreter": {
   "hash": "916dbcbb3f70747c44a77c7bcd40155683ae19c65e1c03b4aa3499c5328201f1"
  },
  "kernelspec": {
   "display_name": "Python 3.8.10 64-bit",
   "name": "python3"
  },
  "language_info": {
   "codemirror_mode": {
    "name": "ipython",
    "version": 3
   },
   "file_extension": ".py",
   "mimetype": "text/x-python",
   "name": "python",
   "nbconvert_exporter": "python",
   "pygments_lexer": "ipython3",
   "version": "3.8.10"
  }
 },
 "nbformat": 4,
 "nbformat_minor": 5
}
