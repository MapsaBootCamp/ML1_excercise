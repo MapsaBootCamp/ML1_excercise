{
 "cells": [
  {
   "cell_type": "code",
   "execution_count": 100,
   "id": "fb85fd93",
   "metadata": {},
   "outputs": [],
   "source": [
    "import matplotlib.pyplot as plt\n",
    "import pandas as pd\n",
    "import seaborn as sns"
   ]
  },
  {
   "cell_type": "code",
   "execution_count": 101,
   "id": "5b62000d",
   "metadata": {},
   "outputs": [],
   "source": [
    "titanic_df = pd.read_csv('c:/users/mehrh/program/MapsaHR/BootCamp/MachineLearning1/ML_Libraries/data/titanic.csv')"
   ]
  },
  {
   "cell_type": "code",
   "execution_count": 102,
   "id": "53ccd650",
   "metadata": {
    "scrolled": true
   },
   "outputs": [
    {
     "data": {
      "text/html": [
       "<div>\n",
       "<style scoped>\n",
       "    .dataframe tbody tr th:only-of-type {\n",
       "        vertical-align: middle;\n",
       "    }\n",
       "\n",
       "    .dataframe tbody tr th {\n",
       "        vertical-align: top;\n",
       "    }\n",
       "\n",
       "    .dataframe thead th {\n",
       "        text-align: right;\n",
       "    }\n",
       "</style>\n",
       "<table border=\"1\" class=\"dataframe\">\n",
       "  <thead>\n",
       "    <tr style=\"text-align: right;\">\n",
       "      <th></th>\n",
       "      <th>PassengerId</th>\n",
       "      <th>Survived</th>\n",
       "      <th>Pclass</th>\n",
       "      <th>Name</th>\n",
       "      <th>Sex</th>\n",
       "      <th>Age</th>\n",
       "      <th>SibSp</th>\n",
       "      <th>Parch</th>\n",
       "      <th>Ticket</th>\n",
       "      <th>Fare</th>\n",
       "      <th>Cabin</th>\n",
       "      <th>Embarked</th>\n",
       "    </tr>\n",
       "  </thead>\n",
       "  <tbody>\n",
       "    <tr>\n",
       "      <th>0</th>\n",
       "      <td>1</td>\n",
       "      <td>0</td>\n",
       "      <td>3</td>\n",
       "      <td>Braund, Mr. Owen Harris</td>\n",
       "      <td>male</td>\n",
       "      <td>22.0</td>\n",
       "      <td>1</td>\n",
       "      <td>0</td>\n",
       "      <td>A/5 21171</td>\n",
       "      <td>7.2500</td>\n",
       "      <td>NaN</td>\n",
       "      <td>S</td>\n",
       "    </tr>\n",
       "    <tr>\n",
       "      <th>1</th>\n",
       "      <td>2</td>\n",
       "      <td>1</td>\n",
       "      <td>1</td>\n",
       "      <td>Cumings, Mrs. John Bradley (Florence Briggs Th...</td>\n",
       "      <td>female</td>\n",
       "      <td>38.0</td>\n",
       "      <td>1</td>\n",
       "      <td>0</td>\n",
       "      <td>PC 17599</td>\n",
       "      <td>71.2833</td>\n",
       "      <td>C85</td>\n",
       "      <td>C</td>\n",
       "    </tr>\n",
       "    <tr>\n",
       "      <th>2</th>\n",
       "      <td>3</td>\n",
       "      <td>1</td>\n",
       "      <td>3</td>\n",
       "      <td>Heikkinen, Miss. Laina</td>\n",
       "      <td>female</td>\n",
       "      <td>26.0</td>\n",
       "      <td>0</td>\n",
       "      <td>0</td>\n",
       "      <td>STON/O2. 3101282</td>\n",
       "      <td>7.9250</td>\n",
       "      <td>NaN</td>\n",
       "      <td>S</td>\n",
       "    </tr>\n",
       "    <tr>\n",
       "      <th>3</th>\n",
       "      <td>4</td>\n",
       "      <td>1</td>\n",
       "      <td>1</td>\n",
       "      <td>Futrelle, Mrs. Jacques Heath (Lily May Peel)</td>\n",
       "      <td>female</td>\n",
       "      <td>35.0</td>\n",
       "      <td>1</td>\n",
       "      <td>0</td>\n",
       "      <td>113803</td>\n",
       "      <td>53.1000</td>\n",
       "      <td>C123</td>\n",
       "      <td>S</td>\n",
       "    </tr>\n",
       "    <tr>\n",
       "      <th>4</th>\n",
       "      <td>5</td>\n",
       "      <td>0</td>\n",
       "      <td>3</td>\n",
       "      <td>Allen, Mr. William Henry</td>\n",
       "      <td>male</td>\n",
       "      <td>35.0</td>\n",
       "      <td>0</td>\n",
       "      <td>0</td>\n",
       "      <td>373450</td>\n",
       "      <td>8.0500</td>\n",
       "      <td>NaN</td>\n",
       "      <td>S</td>\n",
       "    </tr>\n",
       "    <tr>\n",
       "      <th>...</th>\n",
       "      <td>...</td>\n",
       "      <td>...</td>\n",
       "      <td>...</td>\n",
       "      <td>...</td>\n",
       "      <td>...</td>\n",
       "      <td>...</td>\n",
       "      <td>...</td>\n",
       "      <td>...</td>\n",
       "      <td>...</td>\n",
       "      <td>...</td>\n",
       "      <td>...</td>\n",
       "      <td>...</td>\n",
       "    </tr>\n",
       "    <tr>\n",
       "      <th>886</th>\n",
       "      <td>887</td>\n",
       "      <td>0</td>\n",
       "      <td>2</td>\n",
       "      <td>Montvila, Rev. Juozas</td>\n",
       "      <td>male</td>\n",
       "      <td>27.0</td>\n",
       "      <td>0</td>\n",
       "      <td>0</td>\n",
       "      <td>211536</td>\n",
       "      <td>13.0000</td>\n",
       "      <td>NaN</td>\n",
       "      <td>S</td>\n",
       "    </tr>\n",
       "    <tr>\n",
       "      <th>887</th>\n",
       "      <td>888</td>\n",
       "      <td>1</td>\n",
       "      <td>1</td>\n",
       "      <td>Graham, Miss. Margaret Edith</td>\n",
       "      <td>female</td>\n",
       "      <td>19.0</td>\n",
       "      <td>0</td>\n",
       "      <td>0</td>\n",
       "      <td>112053</td>\n",
       "      <td>30.0000</td>\n",
       "      <td>B42</td>\n",
       "      <td>S</td>\n",
       "    </tr>\n",
       "    <tr>\n",
       "      <th>888</th>\n",
       "      <td>889</td>\n",
       "      <td>0</td>\n",
       "      <td>3</td>\n",
       "      <td>Johnston, Miss. Catherine Helen \"Carrie\"</td>\n",
       "      <td>female</td>\n",
       "      <td>NaN</td>\n",
       "      <td>1</td>\n",
       "      <td>2</td>\n",
       "      <td>W./C. 6607</td>\n",
       "      <td>23.4500</td>\n",
       "      <td>NaN</td>\n",
       "      <td>S</td>\n",
       "    </tr>\n",
       "    <tr>\n",
       "      <th>889</th>\n",
       "      <td>890</td>\n",
       "      <td>1</td>\n",
       "      <td>1</td>\n",
       "      <td>Behr, Mr. Karl Howell</td>\n",
       "      <td>male</td>\n",
       "      <td>26.0</td>\n",
       "      <td>0</td>\n",
       "      <td>0</td>\n",
       "      <td>111369</td>\n",
       "      <td>30.0000</td>\n",
       "      <td>C148</td>\n",
       "      <td>C</td>\n",
       "    </tr>\n",
       "    <tr>\n",
       "      <th>890</th>\n",
       "      <td>891</td>\n",
       "      <td>0</td>\n",
       "      <td>3</td>\n",
       "      <td>Dooley, Mr. Patrick</td>\n",
       "      <td>male</td>\n",
       "      <td>32.0</td>\n",
       "      <td>0</td>\n",
       "      <td>0</td>\n",
       "      <td>370376</td>\n",
       "      <td>7.7500</td>\n",
       "      <td>NaN</td>\n",
       "      <td>Q</td>\n",
       "    </tr>\n",
       "  </tbody>\n",
       "</table>\n",
       "<p>891 rows × 12 columns</p>\n",
       "</div>"
      ],
      "text/plain": [
       "     PassengerId  Survived  Pclass  \\\n",
       "0              1         0       3   \n",
       "1              2         1       1   \n",
       "2              3         1       3   \n",
       "3              4         1       1   \n",
       "4              5         0       3   \n",
       "..           ...       ...     ...   \n",
       "886          887         0       2   \n",
       "887          888         1       1   \n",
       "888          889         0       3   \n",
       "889          890         1       1   \n",
       "890          891         0       3   \n",
       "\n",
       "                                                  Name     Sex   Age  SibSp  \\\n",
       "0                              Braund, Mr. Owen Harris    male  22.0      1   \n",
       "1    Cumings, Mrs. John Bradley (Florence Briggs Th...  female  38.0      1   \n",
       "2                               Heikkinen, Miss. Laina  female  26.0      0   \n",
       "3         Futrelle, Mrs. Jacques Heath (Lily May Peel)  female  35.0      1   \n",
       "4                             Allen, Mr. William Henry    male  35.0      0   \n",
       "..                                                 ...     ...   ...    ...   \n",
       "886                              Montvila, Rev. Juozas    male  27.0      0   \n",
       "887                       Graham, Miss. Margaret Edith  female  19.0      0   \n",
       "888           Johnston, Miss. Catherine Helen \"Carrie\"  female   NaN      1   \n",
       "889                              Behr, Mr. Karl Howell    male  26.0      0   \n",
       "890                                Dooley, Mr. Patrick    male  32.0      0   \n",
       "\n",
       "     Parch            Ticket     Fare Cabin Embarked  \n",
       "0        0         A/5 21171   7.2500   NaN        S  \n",
       "1        0          PC 17599  71.2833   C85        C  \n",
       "2        0  STON/O2. 3101282   7.9250   NaN        S  \n",
       "3        0            113803  53.1000  C123        S  \n",
       "4        0            373450   8.0500   NaN        S  \n",
       "..     ...               ...      ...   ...      ...  \n",
       "886      0            211536  13.0000   NaN        S  \n",
       "887      0            112053  30.0000   B42        S  \n",
       "888      2        W./C. 6607  23.4500   NaN        S  \n",
       "889      0            111369  30.0000  C148        C  \n",
       "890      0            370376   7.7500   NaN        Q  \n",
       "\n",
       "[891 rows x 12 columns]"
      ]
     },
     "execution_count": 102,
     "metadata": {},
     "output_type": "execute_result"
    }
   ],
   "source": [
    "titanic_df"
   ]
  },
  {
   "cell_type": "code",
   "execution_count": 103,
   "id": "1fc6a1fd",
   "metadata": {},
   "outputs": [
    {
     "data": {
      "text/plain": [
       "Text(0.5, 1.0, 'histogram of Fare')"
      ]
     },
     "execution_count": 103,
     "metadata": {},
     "output_type": "execute_result"
    },
    {
     "data": {
      "image/png": "[encoded data removed]",
      "text/plain": [
       "<Figure size 648x720 with 4 Axes>"
      ]
     },
     "metadata": {
      "needs_background": "light"
     },
     "output_type": "display_data"
    }
   ],
   "source": [
    "plt.figure(figsize=(9, 10))\n",
    "\n",
    "\n",
    "plt.subplot(221)\n",
    "plt.hist(titanic_df['Survived'], bins=3)\n",
    "plt.xticks(range(2))\n",
    "plt.xlabel('Survived')\n",
    "plt.ylabel('Freq')\n",
    "\n",
    "plt.title('histogram of Survived Pass.')\n",
    "\n",
    "\n",
    "plt.subplot(223)\n",
    "plt.hist(titanic_df['Age'], bins=30)\n",
    "plt.xlabel('Age')\n",
    "plt.ylabel('Freq')\n",
    "\n",
    "plt.title('histogram of Age Pass.')\n",
    "\n",
    "\n",
    "plt.subplot(222)\n",
    "plt.hist(titanic_df['Pclass'], bins=30)\n",
    "plt.xlabel('Pclass')\n",
    "plt.ylabel('Freq')\n",
    "\n",
    "plt.title('histogram of Pclass')\n",
    "\n",
    "\n",
    "\n",
    "\n",
    "plt.subplot(224)\n",
    "plt.hist(titanic_df['Fare'], bins=30)\n",
    "plt.xlabel('Fare')\n",
    "plt.ylabel('Freq')\n",
    "\n",
    "plt.title('histogram of Fare')"
   ]
  },
  {
   "cell_type": "code",
   "execution_count": 104,
   "id": "79404512",
   "metadata": {},
   "outputs": [
    {
     "data": {
      "text/plain": [
       "Text(0.5, 1.0, 'Fare vs. Survived')"
      ]
     },
     "execution_count": 104,
     "metadata": {},
     "output_type": "execute_result"
    },
    {
     "data": {
      "image/png": "[encoded data removed]",
      "text/plain": [
       "<Figure size 1080x216 with 2 Axes>"
      ]
     },
     "metadata": {
      "needs_background": "light"
     },
     "output_type": "display_data"
    }
   ],
   "source": [
    "a = titanic_df['Survived']\n",
    "b = titanic_df['Age']\n",
    "c = titanic_df['Fare']\n",
    "\n",
    "plt.figure(figsize=(15, 3))\n",
    "\n",
    "plt.subplot(121)\n",
    "plt.scatter(b, a)\n",
    "plt.xlabel('Age')\n",
    "plt.ylabel('Survived')\n",
    "\n",
    "plt.title('Age vs Survived')\n",
    "\n",
    "plt.subplot(122)\n",
    "plt.scatter(c, a)\n",
    "plt.xlabel('Fare')\n",
    "plt.ylabel('Survived')\n",
    "\n",
    "plt.title('Fare vs. Survived')"
   ]
  },
  {
   "cell_type": "code",
   "execution_count": 105,
   "id": "dd4c5088",
   "metadata": {},
   "outputs": [
    {
     "data": {
      "text/plain": [
       "Text(0.5, 1.0, 'histogram of Survived_age')"
      ]
     },
     "execution_count": 105,
     "metadata": {},
     "output_type": "execute_result"
    },
    {
     "data": {
      "image/png": "[encoded data removed]",
      "text/plain": [
       "<Figure size 432x288 with 1 Axes>"
      ]
     },
     "metadata": {
      "needs_background": "light"
     },
     "output_type": "display_data"
    }
   ],
   "source": [
    "Survived_age = pd.DataFrame(titanic_df[titanic_df['Survived'] == 1 ]['Age'])\n",
    "\n",
    "plt.hist(Survived_age['Age'], bins=30)\n",
    "plt.xlabel('Age')\n",
    "plt.ylabel('Freq')\n",
    "\n",
    "plt.title('histogram of Survived_age')\n"
   ]
  },
  {
   "cell_type": "code",
   "execution_count": 106,
   "id": "35169943",
   "metadata": {},
   "outputs": [
    {
     "data": {
      "text/html": [
       "<div>\n",
       "<style scoped>\n",
       "    .dataframe tbody tr th:only-of-type {\n",
       "        vertical-align: middle;\n",
       "    }\n",
       "\n",
       "    .dataframe tbody tr th {\n",
       "        vertical-align: top;\n",
       "    }\n",
       "\n",
       "    .dataframe thead th {\n",
       "        text-align: right;\n",
       "    }\n",
       "</style>\n",
       "<table border=\"1\" class=\"dataframe\">\n",
       "  <thead>\n",
       "    <tr style=\"text-align: right;\">\n",
       "      <th></th>\n",
       "      <th>PassengerId</th>\n",
       "      <th>Survived</th>\n",
       "      <th>Pclass</th>\n",
       "      <th>Name</th>\n",
       "      <th>Sex</th>\n",
       "      <th>Age</th>\n",
       "      <th>SibSp</th>\n",
       "      <th>Parch</th>\n",
       "      <th>Ticket</th>\n",
       "      <th>Fare</th>\n",
       "      <th>Cabin</th>\n",
       "      <th>Embarked</th>\n",
       "    </tr>\n",
       "  </thead>\n",
       "  <tbody>\n",
       "    <tr>\n",
       "      <th>0</th>\n",
       "      <td>1</td>\n",
       "      <td>0</td>\n",
       "      <td>3</td>\n",
       "      <td>Braund, Mr. Owen Harris</td>\n",
       "      <td>male</td>\n",
       "      <td>22.0</td>\n",
       "      <td>1</td>\n",
       "      <td>0</td>\n",
       "      <td>A/5 21171</td>\n",
       "      <td>7.2500</td>\n",
       "      <td>NaN</td>\n",
       "      <td>S</td>\n",
       "    </tr>\n",
       "    <tr>\n",
       "      <th>1</th>\n",
       "      <td>2</td>\n",
       "      <td>1</td>\n",
       "      <td>1</td>\n",
       "      <td>Cumings, Mrs. John Bradley (Florence Briggs Th...</td>\n",
       "      <td>female</td>\n",
       "      <td>38.0</td>\n",
       "      <td>1</td>\n",
       "      <td>0</td>\n",
       "      <td>PC 17599</td>\n",
       "      <td>71.2833</td>\n",
       "      <td>C85</td>\n",
       "      <td>C</td>\n",
       "    </tr>\n",
       "    <tr>\n",
       "      <th>2</th>\n",
       "      <td>3</td>\n",
       "      <td>1</td>\n",
       "      <td>3</td>\n",
       "      <td>Heikkinen, Miss. Laina</td>\n",
       "      <td>female</td>\n",
       "      <td>26.0</td>\n",
       "      <td>0</td>\n",
       "      <td>0</td>\n",
       "      <td>STON/O2. 3101282</td>\n",
       "      <td>7.9250</td>\n",
       "      <td>NaN</td>\n",
       "      <td>S</td>\n",
       "    </tr>\n",
       "    <tr>\n",
       "      <th>3</th>\n",
       "      <td>4</td>\n",
       "      <td>1</td>\n",
       "      <td>1</td>\n",
       "      <td>Futrelle, Mrs. Jacques Heath (Lily May Peel)</td>\n",
       "      <td>female</td>\n",
       "      <td>35.0</td>\n",
       "      <td>1</td>\n",
       "      <td>0</td>\n",
       "      <td>113803</td>\n",
       "      <td>53.1000</td>\n",
       "      <td>C123</td>\n",
       "      <td>S</td>\n",
       "    </tr>\n",
       "    <tr>\n",
       "      <th>4</th>\n",
       "      <td>5</td>\n",
       "      <td>0</td>\n",
       "      <td>3</td>\n",
       "      <td>Allen, Mr. William Henry</td>\n",
       "      <td>male</td>\n",
       "      <td>35.0</td>\n",
       "      <td>0</td>\n",
       "      <td>0</td>\n",
       "      <td>373450</td>\n",
       "      <td>8.0500</td>\n",
       "      <td>NaN</td>\n",
       "      <td>S</td>\n",
       "    </tr>\n",
       "    <tr>\n",
       "      <th>...</th>\n",
       "      <td>...</td>\n",
       "      <td>...</td>\n",
       "      <td>...</td>\n",
       "      <td>...</td>\n",
       "      <td>...</td>\n",
       "      <td>...</td>\n",
       "      <td>...</td>\n",
       "      <td>...</td>\n",
       "      <td>...</td>\n",
       "      <td>...</td>\n",
       "      <td>...</td>\n",
       "      <td>...</td>\n",
       "    </tr>\n",
       "    <tr>\n",
       "      <th>886</th>\n",
       "      <td>887</td>\n",
       "      <td>0</td>\n",
       "      <td>2</td>\n",
       "      <td>Montvila, Rev. Juozas</td>\n",
       "      <td>male</td>\n",
       "      <td>27.0</td>\n",
       "      <td>0</td>\n",
       "      <td>0</td>\n",
       "      <td>211536</td>\n",
       "      <td>13.0000</td>\n",
       "      <td>NaN</td>\n",
       "      <td>S</td>\n",
       "    </tr>\n",
       "    <tr>\n",
       "      <th>887</th>\n",
       "      <td>888</td>\n",
       "      <td>1</td>\n",
       "      <td>1</td>\n",
       "      <td>Graham, Miss. Margaret Edith</td>\n",
       "      <td>female</td>\n",
       "      <td>19.0</td>\n",
       "      <td>0</td>\n",
       "      <td>0</td>\n",
       "      <td>112053</td>\n",
       "      <td>30.0000</td>\n",
       "      <td>B42</td>\n",
       "      <td>S</td>\n",
       "    </tr>\n",
       "    <tr>\n",
       "      <th>888</th>\n",
       "      <td>889</td>\n",
       "      <td>0</td>\n",
       "      <td>3</td>\n",
       "      <td>Johnston, Miss. Catherine Helen \"Carrie\"</td>\n",
       "      <td>female</td>\n",
       "      <td>NaN</td>\n",
       "      <td>1</td>\n",
       "      <td>2</td>\n",
       "      <td>W./C. 6607</td>\n",
       "      <td>23.4500</td>\n",
       "      <td>NaN</td>\n",
       "      <td>S</td>\n",
       "    </tr>\n",
       "    <tr>\n",
       "      <th>889</th>\n",
       "      <td>890</td>\n",
       "      <td>1</td>\n",
       "      <td>1</td>\n",
       "      <td>Behr, Mr. Karl Howell</td>\n",
       "      <td>male</td>\n",
       "      <td>26.0</td>\n",
       "      <td>0</td>\n",
       "      <td>0</td>\n",
       "      <td>111369</td>\n",
       "      <td>30.0000</td>\n",
       "      <td>C148</td>\n",
       "      <td>C</td>\n",
       "    </tr>\n",
       "    <tr>\n",
       "      <th>890</th>\n",
       "      <td>891</td>\n",
       "      <td>0</td>\n",
       "      <td>3</td>\n",
       "      <td>Dooley, Mr. Patrick</td>\n",
       "      <td>male</td>\n",
       "      <td>32.0</td>\n",
       "      <td>0</td>\n",
       "      <td>0</td>\n",
       "      <td>370376</td>\n",
       "      <td>7.7500</td>\n",
       "      <td>NaN</td>\n",
       "      <td>Q</td>\n",
       "    </tr>\n",
       "  </tbody>\n",
       "</table>\n",
       "<p>891 rows × 12 columns</p>\n",
       "</div>"
      ],
      "text/plain": [
       "     PassengerId  Survived  Pclass  \\\n",
       "0              1         0       3   \n",
       "1              2         1       1   \n",
       "2              3         1       3   \n",
       "3              4         1       1   \n",
       "4              5         0       3   \n",
       "..           ...       ...     ...   \n",
       "886          887         0       2   \n",
       "887          888         1       1   \n",
       "888          889         0       3   \n",
       "889          890         1       1   \n",
       "890          891         0       3   \n",
       "\n",
       "                                                  Name     Sex   Age  SibSp  \\\n",
       "0                              Braund, Mr. Owen Harris    male  22.0      1   \n",
       "1    Cumings, Mrs. John Bradley (Florence Briggs Th...  female  38.0      1   \n",
       "2                               Heikkinen, Miss. Laina  female  26.0      0   \n",
       "3         Futrelle, Mrs. Jacques Heath (Lily May Peel)  female  35.0      1   \n",
       "4                             Allen, Mr. William Henry    male  35.0      0   \n",
       "..                                                 ...     ...   ...    ...   \n",
       "886                              Montvila, Rev. Juozas    male  27.0      0   \n",
       "887                       Graham, Miss. Margaret Edith  female  19.0      0   \n",
       "888           Johnston, Miss. Catherine Helen \"Carrie\"  female   NaN      1   \n",
       "889                              Behr, Mr. Karl Howell    male  26.0      0   \n",
       "890                                Dooley, Mr. Patrick    male  32.0      0   \n",
       "\n",
       "     Parch            Ticket     Fare Cabin Embarked  \n",
       "0        0         A/5 21171   7.2500   NaN        S  \n",
       "1        0          PC 17599  71.2833   C85        C  \n",
       "2        0  STON/O2. 3101282   7.9250   NaN        S  \n",
       "3        0            113803  53.1000  C123        S  \n",
       "4        0            373450   8.0500   NaN        S  \n",
       "..     ...               ...      ...   ...      ...  \n",
       "886      0            211536  13.0000   NaN        S  \n",
       "887      0            112053  30.0000   B42        S  \n",
       "888      2        W./C. 6607  23.4500   NaN        S  \n",
       "889      0            111369  30.0000  C148        C  \n",
       "890      0            370376   7.7500   NaN        Q  \n",
       "\n",
       "[891 rows x 12 columns]"
      ]
     },
     "execution_count": 106,
     "metadata": {},
     "output_type": "execute_result"
    }
   ],
   "source": [
    "titanic_df"
   ]
  },
  {
   "cell_type": "code",
   "execution_count": 107,
   "id": "b4dfe3d5",
   "metadata": {},
   "outputs": [],
   "source": [
    "titanic_df2 = titanic_df.fillna(titanic_df[\"Age\"].mean().astype(\"int8\"),inplace = False)"
   ]
  },
  {
   "cell_type": "code",
   "execution_count": 108,
   "id": "3d85d21e",
   "metadata": {},
   "outputs": [
    {
     "data": {
      "image/png": "[encoded data removed]",
      "text/plain": [
       "<Figure size 432x288 with 1 Axes>"
      ]
     },
     "metadata": {
      "needs_background": "light"
     },
     "output_type": "display_data"
    }
   ],
   "source": [
    "Survived_age2 = pd.DataFrame(titanic_df2[titanic_df2['Survived'] == 1 ]['Age'])\n",
    "\n",
    "plt.boxplot(Survived_age2.loc[:, 'Age'])\n",
    "plt.show()\n"
   ]
  },
  {
   "cell_type": "code",
   "execution_count": 109,
   "id": "1a1ffd1d",
   "metadata": {},
   "outputs": [
    {
     "data": {
      "text/plain": [
       "{'whiskers': [<matplotlib.lines.Line2D at 0x1a44f328>,\n",
       "  <matplotlib.lines.Line2D at 0x1a44f4f0>,\n",
       "  <matplotlib.lines.Line2D at 0x1a44ffa0>,\n",
       "  <matplotlib.lines.Line2D at 0x1a45c190>],\n",
       " 'caps': [<matplotlib.lines.Line2D at 0x1a44f6b8>,\n",
       "  <matplotlib.lines.Line2D at 0x1a44f880>,\n",
       "  <matplotlib.lines.Line2D at 0x1a45c358>,\n",
       "  <matplotlib.lines.Line2D at 0x1a45c520>],\n",
       " 'boxes': [<matplotlib.lines.Line2D at 0x1a44f160>,\n",
       "  <matplotlib.lines.Line2D at 0x1a44fdd8>],\n",
       " 'medians': [<matplotlib.lines.Line2D at 0x1a44fa48>,\n",
       "  <matplotlib.lines.Line2D at 0x1a45c6e8>],\n",
       " 'fliers': [<matplotlib.lines.Line2D at 0x1a44fc10>,\n",
       "  <matplotlib.lines.Line2D at 0x1a45c8b0>],\n",
       " 'means': []}"
      ]
     },
     "execution_count": 109,
     "metadata": {},
     "output_type": "execute_result"
    },
    {
     "data": {
      "image/png": "[encoded data removed]",
      "text/plain": [
       "<Figure size 432x288 with 1 Axes>"
      ]
     },
     "metadata": {
      "needs_background": "light"
     },
     "output_type": "display_data"
    }
   ],
   "source": [
    "survived_pass = list(set(titanic_df2['Survived']))\n",
    "# print(survived_pass)\n",
    "\n",
    "survived_age_list = []\n",
    "\n",
    "for i in survived_pass:\n",
    "#     print(i)\n",
    "    survived_age_list.append(titanic_df2['Age'][titanic_df2['Survived'] == i].tolist())\n",
    "\n",
    "# for i in range(2):\n",
    "#     for item in survived_age_list[i]:\n",
    "#         if item == nan:\n",
    "#             survived_age_list[i].remove(item)\n",
    "# print(survived_age_list)            \n",
    "plt.figure()\n",
    "plt.boxplot(survived_age_list, labels=survived_pass)"
   ]
  },
  {
   "cell_type": "code",
   "execution_count": 110,
   "id": "d123851e",
   "metadata": {},
   "outputs": [
    {
     "name": "stdout",
     "output_type": "stream",
     "text": [
      "[[35.0, 54.0, 4.0, 58.0, 34.0, 28.0, 19.0, 45.0, 29.0, 25.0, 23.0, 46.0, 21.0, 47.0, 32.5, 54.0, 19.0, 37.0, 36.5, 22.0, 61.0, 1.0, 3.0, 2.0, 38.0, 35.0, 37.0, 29.0, 62.0, 30.0, 52.0, 40.0, 58.0, 35.0, 63.0, 2.0, 0.92, 31.0, 36.0, 45.5, 38.0, 29.0, 45.0, 2.0, 24.0, 24.0, 22.0, 36.0, 24.0, 32.0, 28.0, 50.0, 14.0, 64.0, 4.0, 52.0, 65.0, 48.0, 47.0, 35.0, 55.0, 25.0, 16.0, 36.0, 47.0, 34.0, 30.0, 45.0, 36.0, 39.0, 53.0, 36.0, 39.0, 18.0, 40.0, 4.0, 42.0, 61.0, 21.0, 80.0, 47.0, 31.0, 15.0, 31.0, 42.0, 35.0, 42.0, 48.0, 19.0, 27.0, 27.0, 29.0, 36.0, 70.0, 19.0, 6.0, 33.0, 36.0, 51.0, 57.0, 43.0, 17.0, 29.0, 49.0, 11.0, 39.0, 33.0, 52.0, 27.0, 16.0, 51.0, 48.0, 31.0, 47.0, 33.0, 19.0]]\n",
      "[[35.0, 54.0, 4.0, 58.0, 34.0, 28.0, 19.0, 45.0, 29.0, 25.0, 23.0, 46.0, 21.0, 47.0, 32.5, 54.0, 19.0, 37.0, 36.5, 22.0, 61.0, 1.0, 3.0, 2.0, 38.0, 35.0, 37.0, 29.0, 62.0, 30.0, 52.0, 40.0, 58.0, 35.0, 63.0, 2.0, 0.92, 31.0, 36.0, 45.5, 38.0, 29.0, 45.0, 2.0, 24.0, 24.0, 22.0, 36.0, 24.0, 32.0, 28.0, 50.0, 14.0, 64.0, 4.0, 52.0, 65.0, 48.0, 47.0, 35.0, 55.0, 25.0, 16.0, 36.0, 47.0, 34.0, 30.0, 45.0, 36.0, 39.0, 53.0, 36.0, 39.0, 18.0, 40.0, 4.0, 42.0, 61.0, 21.0, 80.0, 47.0, 31.0, 15.0, 31.0, 42.0, 35.0, 42.0, 48.0, 19.0, 27.0, 27.0, 29.0, 36.0, 70.0, 19.0, 6.0, 33.0, 36.0, 51.0, 57.0, 43.0, 17.0, 29.0, 49.0, 11.0, 39.0, 33.0, 52.0, 27.0, 16.0, 51.0, 48.0, 31.0, 47.0, 33.0, 19.0], [38.0, 49.0, 65.0, 71.0, 23.0, 24.0, 24.0, 56.0, 50.0, 44.0, 58.0, 40.0, 31.0, 32.0, 37.0, 19.0, 36.0, 50.0, 17.0, 30.0, 24.0, 18.0, 40.0, 36.0, 16.0, 41.0, 60.0, 24.0, 25.0, 27.0, 23.0, 30.0, 49.0, 23.0, 25.0, 58.0, 54.0, 18.0, 44.0, 22.0, 50.0, 17.0, 48.0, 39.0, 36.0, 60.0, 52.0, 49.0, 32.0, 24.0, 48.0, 56.0, 58.0, 36.0, 27.0, 49.0, 18.0, 24.0, 38.0, 35.0, 21.0, 46.0, 39.0, 56.0, 26.0]]\n",
      "[[35.0, 54.0, 4.0, 58.0, 34.0, 28.0, 19.0, 45.0, 29.0, 25.0, 23.0, 46.0, 21.0, 47.0, 32.5, 54.0, 19.0, 37.0, 36.5, 22.0, 61.0, 1.0, 3.0, 2.0, 38.0, 35.0, 37.0, 29.0, 62.0, 30.0, 52.0, 40.0, 58.0, 35.0, 63.0, 2.0, 0.92, 31.0, 36.0, 45.5, 38.0, 29.0, 45.0, 2.0, 24.0, 24.0, 22.0, 36.0, 24.0, 32.0, 28.0, 50.0, 14.0, 64.0, 4.0, 52.0, 65.0, 48.0, 47.0, 35.0, 55.0, 25.0, 16.0, 36.0, 47.0, 34.0, 30.0, 45.0, 36.0, 39.0, 53.0, 36.0, 39.0, 18.0, 40.0, 4.0, 42.0, 61.0, 21.0, 80.0, 47.0, 31.0, 15.0, 31.0, 42.0, 35.0, 42.0, 48.0, 19.0, 27.0, 27.0, 29.0, 36.0, 70.0, 19.0, 6.0, 33.0, 36.0, 51.0, 57.0, 43.0, 17.0, 29.0, 49.0, 11.0, 39.0, 33.0, 52.0, 27.0, 16.0, 51.0, 48.0, 31.0, 47.0, 33.0, 19.0], [38.0, 49.0, 65.0, 71.0, 23.0, 24.0, 24.0, 56.0, 50.0, 44.0, 58.0, 40.0, 31.0, 32.0, 37.0, 19.0, 36.0, 50.0, 17.0, 30.0, 24.0, 18.0, 40.0, 36.0, 16.0, 41.0, 60.0, 24.0, 25.0, 27.0, 23.0, 30.0, 49.0, 23.0, 25.0, 58.0, 54.0, 18.0, 44.0, 22.0, 50.0, 17.0, 48.0, 39.0, 36.0, 60.0, 52.0, 49.0, 32.0, 24.0, 48.0, 56.0, 58.0, 36.0, 27.0, 49.0, 18.0, 24.0, 38.0, 35.0, 21.0, 46.0, 39.0, 56.0, 26.0], [44.0, 33.0]]\n"
     ]
    },
    {
     "data": {
      "text/plain": [
       "{'whiskers': [<matplotlib.lines.Line2D at 0x1a5081c0>,\n",
       "  <matplotlib.lines.Line2D at 0x1a508388>,\n",
       "  <matplotlib.lines.Line2D at 0x1a508e38>,\n",
       "  <matplotlib.lines.Line2D at 0x1a512028>,\n",
       "  <matplotlib.lines.Line2D at 0x1a512ad8>,\n",
       "  <matplotlib.lines.Line2D at 0x1a512ca0>],\n",
       " 'caps': [<matplotlib.lines.Line2D at 0x1a508550>,\n",
       "  <matplotlib.lines.Line2D at 0x1a508718>,\n",
       "  <matplotlib.lines.Line2D at 0x1a5121f0>,\n",
       "  <matplotlib.lines.Line2D at 0x1a5123b8>,\n",
       "  <matplotlib.lines.Line2D at 0x1a512e68>,\n",
       "  <matplotlib.lines.Line2D at 0x1a521058>],\n",
       " 'boxes': [<matplotlib.lines.Line2D at 0x1a48afd0>,\n",
       "  <matplotlib.lines.Line2D at 0x1a508c70>,\n",
       "  <matplotlib.lines.Line2D at 0x1a512910>],\n",
       " 'medians': [<matplotlib.lines.Line2D at 0x1a5088e0>,\n",
       "  <matplotlib.lines.Line2D at 0x1a512580>,\n",
       "  <matplotlib.lines.Line2D at 0x1a521220>],\n",
       " 'fliers': [<matplotlib.lines.Line2D at 0x1a508aa8>,\n",
       "  <matplotlib.lines.Line2D at 0x1a512748>,\n",
       "  <matplotlib.lines.Line2D at 0x1a5213e8>],\n",
       " 'means': []}"
      ]
     },
     "execution_count": 110,
     "metadata": {},
     "output_type": "execute_result"
    },
    {
     "data": {
      "image/png": "[encoded data removed]",
      "text/plain": [
       "<Figure size 432x288 with 1 Axes>"
      ]
     },
     "metadata": {
      "needs_background": "light"
     },
     "output_type": "display_data"
    }
   ],
   "source": [
    "titanic_df3 = titanic_df.dropna(inplace= False, axis= 0)\n",
    "Embarked = list(set(titanic_df3['Embarked']))\n",
    "\n",
    "titanic_list = []\n",
    "\n",
    "for i in Embarked:\n",
    "#     print(i)\n",
    "    titanic_list.append(titanic_df3['Age'][titanic_df3['Embarked']==i].tolist())\n",
    "    print(titanic_list)\n",
    "\n",
    "    \n",
    "plt.figure()\n",
    "plt.boxplot(titanic_list, labels=Embarked)\n",
    "    \n",
    "\n"
   ]
  },
  {
   "cell_type": "code",
   "execution_count": 111,
   "id": "9d8af117",
   "metadata": {},
   "outputs": [
    {
     "name": "stdout",
     "output_type": "stream",
     "text": [
      "[1, 2, 3]\n"
     ]
    },
    {
     "data": {
      "text/plain": [
       "Text(0, 0.5, 'Survived')"
      ]
     },
     "execution_count": 111,
     "metadata": {},
     "output_type": "execute_result"
    },
    {
     "data": {
      "image/png": "[encoded data removed]",
      "text/plain": [
       "<Figure size 432x288 with 1 Axes>"
      ]
     },
     "metadata": {
      "needs_background": "light"
     },
     "output_type": "display_data"
    }
   ],
   "source": [
    "plt.figure()\n",
    "plt.title(\"Age vs. Survived\")\n",
    "\n",
    "Pclass = list(set(titanic_df3['Pclass']))\n",
    "print(Pclass)\n",
    "color_plt = {Pclass[0] : 'red', Pclass[1] : 'green', Pclass[2]: 'blue'}\n",
    "\n",
    "\n",
    "for index, val in enumerate(Pclass):\n",
    "    \n",
    "    temp = titanic_df3[titanic_df3['Pclass'] == val]\n",
    "    plt.scatter(temp['Age'], temp['Survived'], c= color_plt[val] , label=('Pclass', val))\n",
    "\n",
    "    \n",
    "plt.legend()\n",
    "plt.xlabel('Age')\n",
    "plt.ylabel('Survived')"
   ]
  }
 ],
 "metadata": {
  "kernelspec": {
   "display_name": "Python 3 (ipykernel)",
   "language": "python",
   "name": "python3"
  },
  "language_info": {
   "codemirror_mode": {
    "name": "ipython",
    "version": 3
   },
   "file_extension": ".py",
   "mimetype": "text/x-python",
   "name": "python",
   "nbconvert_exporter": "python",
   "pygments_lexer": "ipython3",
   "version": "3.8.5"
  }
 },
 "nbformat": 4,
 "nbformat_minor": 5
}
