{
  "nbformat": 4,
  "nbformat_minor": 0,
  "metadata": {
    "colab": {
      "name": "hyperparameter_tuning_cnn.ipynb",
      "provenance": [],
      "collapsed_sections": []
    },
    "kernelspec": {
      "name": "python3",
      "display_name": "Python 3"
    },
    "language_info": {
      "name": "python"
    }
  },
  "cells": [
    {
      "cell_type": "code",
      "metadata": {
        "id": "FgMm6fRdcBUc"
      },
      "source": [
        "from tensorflow.keras.datasets import fashion_mnist\n",
        "from tensorflow import keras\n",
        "from tensorflow.keras.layers import Conv2D, MaxPooling2D, Dense, Flatten, Activation\n",
        "from keras_tuner.tuners import RandomSearch"
      ],
      "execution_count": 1,
      "outputs": []
    },
    {
      "cell_type": "code",
      "metadata": {
        "colab": {
          "base_uri": "https://localhost:8080/"
        },
        "id": "4D_Dqr9HJgu2",
        "outputId": "8a806af2-a3a4-40ce-a2ba-7a507f52f3b4"
      },
      "source": [
        "#load fashin mnist dataset\n",
        "(training_images, training_labels), (test_images, test_labels) = fashion_mnist.load_data()\n",
        "print(training_images.shape)\n",
        "\n",
        "#reshape\n",
        "training_images = training_images.reshape(-1, 28, 28, 1)\n",
        "test_images = test_images.reshape(-1, 28, 28, 1)\n",
        "print(training_images.shape)"
      ],
      "execution_count": 2,
      "outputs": [
        {
          "output_type": "stream",
          "name": "stdout",
          "text": [
            "(60000, 28, 28)\n",
            "(60000, 28, 28, 1)\n"
          ]
        }
      ]
    },
    {
      "cell_type": "code",
      "metadata": {
        "id": "N6ZN4A25P2H8"
      },
      "source": [
        "\n",
        "def build_model_cnn(hp):  # random search passes this hyperparameter() object \n",
        "    model_cnn = keras.models.Sequential()\n",
        "    \n",
        "    model_cnn.add(Conv2D(hp.Int('input_units',\n",
        "                                min_value=32,\n",
        "                                max_value=256,\n",
        "                                step=32), (3, 3), input_shape=training_images.shape[1:]))\n",
        "    \n",
        "    model_cnn.add(Activation('relu'))\n",
        "    model_cnn.add(MaxPooling2D(pool_size=(2, 2)))\n",
        "\n",
        "    for i in range(hp.Int('n_layers', 1, 4)):  # adding variation of layers.\n",
        "        model_cnn.add(Conv2D(hp.Int(f'conv_{i}_units',\n",
        "                                min_value=32,\n",
        "                                max_value=256,\n",
        "                                step=32), (3, 3)))\n",
        "        model_cnn.add(Activation('relu'))\n",
        "\n",
        "    model_cnn.add(Flatten()) \n",
        "    model_cnn.add(Dense(128))\n",
        "    model_cnn.add(Dense(10))\n",
        "    model_cnn.add(Activation(\"softmax\"))\n",
        "\n",
        "    model_cnn.compile(optimizer=\"adam\",\n",
        "                  loss=\"sparse_categorical_crossentropy\",\n",
        "                  metrics=[\"accuracy\"])\n",
        "    \n",
        "    return model_cnn\n"
      ],
      "execution_count": 3,
      "outputs": []
    },
    {
      "cell_type": "code",
      "metadata": {
        "colab": {
          "base_uri": "https://localhost:8080/"
        },
        "id": "XrpX3pl7SNnw",
        "outputId": "3a60fd3a-0301-40ed-e901-e9c61789b6a3"
      },
      "source": [
        "import time\n",
        "LOG_DIR = f\"{int(time.time())}\"\n",
        "\n",
        "tuner = RandomSearch(\n",
        "    build_model_cnn,\n",
        "    objective='val_accuracy',\n",
        "    max_trials=1,\n",
        "    executions_per_trial=1, \n",
        "    directory=LOG_DIR)\n",
        "\n",
        "tuner.search(x=training_images,\n",
        "             y=training_labels,\n",
        "             verbose=2,\n",
        "             epochs=1,\n",
        "             batch_size=64,\n",
        "             validation_data=(test_images, test_labels))"
      ],
      "execution_count": 4,
      "outputs": [
        {
          "output_type": "stream",
          "name": "stdout",
          "text": [
            "Trial 1 Complete [00h 00m 16s]\n",
            "val_accuracy: 0.8481000065803528\n",
            "\n",
            "Best val_accuracy So Far: 0.8481000065803528\n",
            "Total elapsed time: 00h 00m 16s\n",
            "INFO:tensorflow:Oracle triggered exit\n"
          ]
        }
      ]
    },
    {
      "cell_type": "code",
      "metadata": {
        "colab": {
          "base_uri": "https://localhost:8080/"
        },
        "id": "wUAPndpHTFeN",
        "outputId": "448f7015-0141-4bb7-a765-55a8d9b97a8c"
      },
      "source": [
        "tuner.get_best_hyperparameters()[0].values"
      ],
      "execution_count": 5,
      "outputs": [
        {
          "output_type": "execute_result",
          "data": {
            "text/plain": [
              "{'conv_0_units': 128,\n",
              " 'conv_1_units': 32,\n",
              " 'conv_2_units': 32,\n",
              " 'input_units': 160,\n",
              " 'n_layers': 3}"
            ]
          },
          "metadata": {},
          "execution_count": 5
        }
      ]
    },
    {
      "cell_type": "code",
      "metadata": {
        "colab": {
          "base_uri": "https://localhost:8080/"
        },
        "id": "x-K1HYdZTKDN",
        "outputId": "c0589c31-a276-4712-f7b8-b109bc6812ff"
      },
      "source": [
        "tuner.get_best_models()[0].summary()"
      ],
      "execution_count": 6,
      "outputs": [
        {
          "output_type": "stream",
          "name": "stdout",
          "text": [
            "Model: \"sequential\"\n",
            "_________________________________________________________________\n",
            " Layer (type)                Output Shape              Param #   \n",
            "=================================================================\n",
            " conv2d (Conv2D)             (None, 26, 26, 160)       1600      \n",
            "                                                                 \n",
            " activation (Activation)     (None, 26, 26, 160)       0         \n",
            "                                                                 \n",
            " max_pooling2d (MaxPooling2D  (None, 13, 13, 160)      0         \n",
            " )                                                               \n",
            "                                                                 \n",
            " conv2d_1 (Conv2D)           (None, 11, 11, 128)       184448    \n",
            "                                                                 \n",
            " activation_1 (Activation)   (None, 11, 11, 128)       0         \n",
            "                                                                 \n",
            " conv2d_2 (Conv2D)           (None, 9, 9, 32)          36896     \n",
            "                                                                 \n",
            " activation_2 (Activation)   (None, 9, 9, 32)          0         \n",
            "                                                                 \n",
            " conv2d_3 (Conv2D)           (None, 7, 7, 32)          9248      \n",
            "                                                                 \n",
            " activation_3 (Activation)   (None, 7, 7, 32)          0         \n",
            "                                                                 \n",
            " flatten (Flatten)           (None, 1568)              0         \n",
            "                                                                 \n",
            " dense (Dense)               (None, 128)               200832    \n",
            "                                                                 \n",
            " dense_1 (Dense)             (None, 10)                1290      \n",
            "                                                                 \n",
            " activation_4 (Activation)   (None, 10)                0         \n",
            "                                                                 \n",
            "=================================================================\n",
            "Total params: 434,314\n",
            "Trainable params: 434,314\n",
            "Non-trainable params: 0\n",
            "_________________________________________________________________\n",
            "WARNING:tensorflow:Unresolved object in checkpoint: (root).optimizer.iter\n",
            "WARNING:tensorflow:Unresolved object in checkpoint: (root).optimizer.beta_1\n",
            "WARNING:tensorflow:Unresolved object in checkpoint: (root).optimizer.beta_2\n",
            "WARNING:tensorflow:Unresolved object in checkpoint: (root).optimizer.decay\n",
            "WARNING:tensorflow:Unresolved object in checkpoint: (root).optimizer.learning_rate\n",
            "WARNING:tensorflow:A checkpoint was restored (e.g. tf.train.Checkpoint.restore or tf.keras.Model.load_weights) but not all checkpointed values were used. See above for specific issues. Use expect_partial() on the load status object, e.g. tf.train.Checkpoint.restore(...).expect_partial(), to silence these warnings, or use assert_consumed() to make the check explicit. See https://www.tensorflow.org/guide/checkpoint#loading_mechanics for details.\n"
          ]
        }
      ]
    }
  ]
}