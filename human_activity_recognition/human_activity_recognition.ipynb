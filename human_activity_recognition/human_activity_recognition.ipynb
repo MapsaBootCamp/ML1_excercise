{
 "cells": [
  {
   "cell_type": "code",
   "execution_count": 1,
   "id": "39ef361c",
   "metadata": {},
   "outputs": [],
   "source": [
    "import pandas as pd"
   ]
  },
  {
   "cell_type": "code",
   "execution_count": 2,
   "id": "749f9c5a",
   "metadata": {},
   "outputs": [
    {
     "data": {
      "text/html": [
       "<div>\n",
       "<style scoped>\n",
       "    .dataframe tbody tr th:only-of-type {\n",
       "        vertical-align: middle;\n",
       "    }\n",
       "\n",
       "    .dataframe tbody tr th {\n",
       "        vertical-align: top;\n",
       "    }\n",
       "\n",
       "    .dataframe thead th {\n",
       "        text-align: right;\n",
       "    }\n",
       "</style>\n",
       "<table border=\"1\" class=\"dataframe\">\n",
       "  <thead>\n",
       "    <tr style=\"text-align: right;\">\n",
       "      <th></th>\n",
       "      <th>0</th>\n",
       "      <th>1</th>\n",
       "      <th>2</th>\n",
       "      <th>3</th>\n",
       "      <th>4</th>\n",
       "      <th>5</th>\n",
       "      <th>6</th>\n",
       "      <th>7</th>\n",
       "      <th>8</th>\n",
       "      <th>9</th>\n",
       "    </tr>\n",
       "  </thead>\n",
       "  <tbody>\n",
       "    <tr>\n",
       "      <th>0</th>\n",
       "      <td>0.288585</td>\n",
       "      <td>-0.020294</td>\n",
       "      <td>-0.132905</td>\n",
       "      <td>-0.995279</td>\n",
       "      <td>-0.983111</td>\n",
       "      <td>-0.913526</td>\n",
       "      <td>-0.995112</td>\n",
       "      <td>-0.983185</td>\n",
       "      <td>-0.923527</td>\n",
       "      <td>-0.934724</td>\n",
       "    </tr>\n",
       "    <tr>\n",
       "      <th>1</th>\n",
       "      <td>0.278419</td>\n",
       "      <td>-0.016411</td>\n",
       "      <td>-0.123520</td>\n",
       "      <td>-0.998245</td>\n",
       "      <td>-0.975300</td>\n",
       "      <td>-0.960322</td>\n",
       "      <td>-0.998807</td>\n",
       "      <td>-0.974914</td>\n",
       "      <td>-0.957686</td>\n",
       "      <td>-0.943068</td>\n",
       "    </tr>\n",
       "    <tr>\n",
       "      <th>2</th>\n",
       "      <td>0.279653</td>\n",
       "      <td>-0.019467</td>\n",
       "      <td>-0.113462</td>\n",
       "      <td>-0.995380</td>\n",
       "      <td>-0.967187</td>\n",
       "      <td>-0.978944</td>\n",
       "      <td>-0.996520</td>\n",
       "      <td>-0.963668</td>\n",
       "      <td>-0.977469</td>\n",
       "      <td>-0.938692</td>\n",
       "    </tr>\n",
       "    <tr>\n",
       "      <th>3</th>\n",
       "      <td>0.279174</td>\n",
       "      <td>-0.026201</td>\n",
       "      <td>-0.123283</td>\n",
       "      <td>-0.996091</td>\n",
       "      <td>-0.983403</td>\n",
       "      <td>-0.990675</td>\n",
       "      <td>-0.997099</td>\n",
       "      <td>-0.982750</td>\n",
       "      <td>-0.989302</td>\n",
       "      <td>-0.938692</td>\n",
       "    </tr>\n",
       "    <tr>\n",
       "      <th>4</th>\n",
       "      <td>0.276629</td>\n",
       "      <td>-0.016570</td>\n",
       "      <td>-0.115362</td>\n",
       "      <td>-0.998139</td>\n",
       "      <td>-0.980817</td>\n",
       "      <td>-0.990482</td>\n",
       "      <td>-0.998321</td>\n",
       "      <td>-0.979672</td>\n",
       "      <td>-0.990441</td>\n",
       "      <td>-0.942469</td>\n",
       "    </tr>\n",
       "  </tbody>\n",
       "</table>\n",
       "</div>"
      ],
      "text/plain": [
       "          0         1         2         3         4         5         6  \\\n",
       "0  0.288585 -0.020294 -0.132905 -0.995279 -0.983111 -0.913526 -0.995112   \n",
       "1  0.278419 -0.016411 -0.123520 -0.998245 -0.975300 -0.960322 -0.998807   \n",
       "2  0.279653 -0.019467 -0.113462 -0.995380 -0.967187 -0.978944 -0.996520   \n",
       "3  0.279174 -0.026201 -0.123283 -0.996091 -0.983403 -0.990675 -0.997099   \n",
       "4  0.276629 -0.016570 -0.115362 -0.998139 -0.980817 -0.990482 -0.998321   \n",
       "\n",
       "          7         8         9  \n",
       "0 -0.983185 -0.923527 -0.934724  \n",
       "1 -0.974914 -0.957686 -0.943068  \n",
       "2 -0.963668 -0.977469 -0.938692  \n",
       "3 -0.982750 -0.989302 -0.938692  \n",
       "4 -0.979672 -0.990441 -0.942469  "
      ]
     },
     "execution_count": 2,
     "metadata": {},
     "output_type": "execute_result"
    }
   ],
   "source": [
    "X_train=pd.read_csv('Human_Activity_Recognition/train/X_train.txt', sep=\" \", header=None)\n",
    "X_train.head()"
   ]
  },
  {
   "cell_type": "code",
   "execution_count": 3,
   "id": "d290bd3e",
   "metadata": {},
   "outputs": [
    {
     "name": "stdout",
     "output_type": "stream",
     "text": [
      "(2000, 10)\n"
     ]
    }
   ],
   "source": [
    "print(X_train.shape)"
   ]
  },
  {
   "cell_type": "code",
   "execution_count": 4,
   "id": "8cee5762",
   "metadata": {},
   "outputs": [
    {
     "name": "stdout",
     "output_type": "stream",
     "text": [
      "0    float64\n",
      "1    float64\n",
      "2    float64\n",
      "3    float64\n",
      "4    float64\n",
      "5    float64\n",
      "6    float64\n",
      "7    float64\n",
      "8    float64\n",
      "9    float64\n",
      "dtype: object\n"
     ]
    }
   ],
   "source": [
    "print(X_train.dtypes)"
   ]
  },
  {
   "cell_type": "code",
   "execution_count": 5,
   "id": "7f36733d",
   "metadata": {},
   "outputs": [
    {
     "data": {
      "text/plain": [
       "<AxesSubplot:>"
      ]
     },
     "execution_count": 5,
     "metadata": {},
     "output_type": "execute_result"
    },
    {
     "data": {
      "image/png": "[encoded data removed]",
      "text/plain": [
       "<Figure size 432x288 with 1 Axes>"
      ]
     },
     "metadata": {
      "needs_background": "light"
     },
     "output_type": "display_data"
    }
   ],
   "source": [
    "boxplot = X_train.boxplot()\n",
    "boxplot"
   ]
  },
  {
   "cell_type": "code",
   "execution_count": 6,
   "id": "2b782b43",
   "metadata": {},
   "outputs": [],
   "source": [
    "y_train=pd.read_csv('Human_Activity_Recognition/train/y_train.txt', sep=\" \", header=None)"
   ]
  },
  {
   "cell_type": "code",
   "execution_count": 7,
   "id": "d7d6e4aa",
   "metadata": {},
   "outputs": [
    {
     "name": "stdout",
     "output_type": "stream",
     "text": [
      "(2000, 1)\n"
     ]
    }
   ],
   "source": [
    "print(y_train.shape)"
   ]
  },
  {
   "cell_type": "code",
   "execution_count": 8,
   "id": "f93d6fbe",
   "metadata": {},
   "outputs": [
    {
     "name": "stdout",
     "output_type": "stream",
     "text": [
      "0    float64\n",
      "dtype: object\n"
     ]
    }
   ],
   "source": [
    "print(y_train.dtypes)"
   ]
  },
  {
   "cell_type": "code",
   "execution_count": 9,
   "id": "22a36636",
   "metadata": {},
   "outputs": [
    {
     "data": {
      "text/html": [
       "<div>\n",
       "<style scoped>\n",
       "    .dataframe tbody tr th:only-of-type {\n",
       "        vertical-align: middle;\n",
       "    }\n",
       "\n",
       "    .dataframe tbody tr th {\n",
       "        vertical-align: top;\n",
       "    }\n",
       "\n",
       "    .dataframe thead th {\n",
       "        text-align: right;\n",
       "    }\n",
       "</style>\n",
       "<table border=\"1\" class=\"dataframe\">\n",
       "  <thead>\n",
       "    <tr style=\"text-align: right;\">\n",
       "      <th></th>\n",
       "      <th>0</th>\n",
       "      <th>1</th>\n",
       "      <th>2</th>\n",
       "      <th>3</th>\n",
       "      <th>4</th>\n",
       "      <th>5</th>\n",
       "      <th>6</th>\n",
       "      <th>7</th>\n",
       "      <th>8</th>\n",
       "      <th>9</th>\n",
       "      <th>10</th>\n",
       "    </tr>\n",
       "  </thead>\n",
       "  <tbody>\n",
       "    <tr>\n",
       "      <th>0</th>\n",
       "      <td>0.288585</td>\n",
       "      <td>-0.020294</td>\n",
       "      <td>-0.132905</td>\n",
       "      <td>-0.995279</td>\n",
       "      <td>-0.983111</td>\n",
       "      <td>-0.913526</td>\n",
       "      <td>-0.995112</td>\n",
       "      <td>-0.983185</td>\n",
       "      <td>-0.923527</td>\n",
       "      <td>-0.934724</td>\n",
       "      <td>5.0</td>\n",
       "    </tr>\n",
       "    <tr>\n",
       "      <th>1</th>\n",
       "      <td>0.278419</td>\n",
       "      <td>-0.016411</td>\n",
       "      <td>-0.123520</td>\n",
       "      <td>-0.998245</td>\n",
       "      <td>-0.975300</td>\n",
       "      <td>-0.960322</td>\n",
       "      <td>-0.998807</td>\n",
       "      <td>-0.974914</td>\n",
       "      <td>-0.957686</td>\n",
       "      <td>-0.943068</td>\n",
       "      <td>5.0</td>\n",
       "    </tr>\n",
       "    <tr>\n",
       "      <th>2</th>\n",
       "      <td>0.279653</td>\n",
       "      <td>-0.019467</td>\n",
       "      <td>-0.113462</td>\n",
       "      <td>-0.995380</td>\n",
       "      <td>-0.967187</td>\n",
       "      <td>-0.978944</td>\n",
       "      <td>-0.996520</td>\n",
       "      <td>-0.963668</td>\n",
       "      <td>-0.977469</td>\n",
       "      <td>-0.938692</td>\n",
       "      <td>5.0</td>\n",
       "    </tr>\n",
       "    <tr>\n",
       "      <th>3</th>\n",
       "      <td>0.279174</td>\n",
       "      <td>-0.026201</td>\n",
       "      <td>-0.123283</td>\n",
       "      <td>-0.996091</td>\n",
       "      <td>-0.983403</td>\n",
       "      <td>-0.990675</td>\n",
       "      <td>-0.997099</td>\n",
       "      <td>-0.982750</td>\n",
       "      <td>-0.989302</td>\n",
       "      <td>-0.938692</td>\n",
       "      <td>5.0</td>\n",
       "    </tr>\n",
       "    <tr>\n",
       "      <th>4</th>\n",
       "      <td>0.276629</td>\n",
       "      <td>-0.016570</td>\n",
       "      <td>-0.115362</td>\n",
       "      <td>-0.998139</td>\n",
       "      <td>-0.980817</td>\n",
       "      <td>-0.990482</td>\n",
       "      <td>-0.998321</td>\n",
       "      <td>-0.979672</td>\n",
       "      <td>-0.990441</td>\n",
       "      <td>-0.942469</td>\n",
       "      <td>5.0</td>\n",
       "    </tr>\n",
       "    <tr>\n",
       "      <th>...</th>\n",
       "      <td>...</td>\n",
       "      <td>...</td>\n",
       "      <td>...</td>\n",
       "      <td>...</td>\n",
       "      <td>...</td>\n",
       "      <td>...</td>\n",
       "      <td>...</td>\n",
       "      <td>...</td>\n",
       "      <td>...</td>\n",
       "      <td>...</td>\n",
       "      <td>...</td>\n",
       "    </tr>\n",
       "    <tr>\n",
       "      <th>1995</th>\n",
       "      <td>0.239866</td>\n",
       "      <td>-0.016819</td>\n",
       "      <td>-0.127938</td>\n",
       "      <td>-0.479384</td>\n",
       "      <td>-0.167162</td>\n",
       "      <td>-0.520564</td>\n",
       "      <td>-0.508147</td>\n",
       "      <td>-0.183497</td>\n",
       "      <td>-0.483609</td>\n",
       "      <td>-0.435364</td>\n",
       "      <td>1.0</td>\n",
       "    </tr>\n",
       "    <tr>\n",
       "      <th>1996</th>\n",
       "      <td>0.234524</td>\n",
       "      <td>-0.010957</td>\n",
       "      <td>-0.099738</td>\n",
       "      <td>-0.500860</td>\n",
       "      <td>-0.167850</td>\n",
       "      <td>-0.508214</td>\n",
       "      <td>-0.537495</td>\n",
       "      <td>-0.191106</td>\n",
       "      <td>-0.469048</td>\n",
       "      <td>-0.435364</td>\n",
       "      <td>1.0</td>\n",
       "    </tr>\n",
       "    <tr>\n",
       "      <th>1997</th>\n",
       "      <td>0.212202</td>\n",
       "      <td>-0.009611</td>\n",
       "      <td>-0.058073</td>\n",
       "      <td>-0.487049</td>\n",
       "      <td>-0.174565</td>\n",
       "      <td>-0.463627</td>\n",
       "      <td>-0.524110</td>\n",
       "      <td>-0.172802</td>\n",
       "      <td>-0.435630</td>\n",
       "      <td>-0.457439</td>\n",
       "      <td>1.0</td>\n",
       "    </tr>\n",
       "    <tr>\n",
       "      <th>1998</th>\n",
       "      <td>0.273924</td>\n",
       "      <td>0.016351</td>\n",
       "      <td>-0.082030</td>\n",
       "      <td>-0.480790</td>\n",
       "      <td>-0.088519</td>\n",
       "      <td>-0.466508</td>\n",
       "      <td>-0.506083</td>\n",
       "      <td>-0.113374</td>\n",
       "      <td>-0.438114</td>\n",
       "      <td>-0.457439</td>\n",
       "      <td>1.0</td>\n",
       "    </tr>\n",
       "    <tr>\n",
       "      <th>1999</th>\n",
       "      <td>0.359350</td>\n",
       "      <td>-0.023102</td>\n",
       "      <td>-0.075862</td>\n",
       "      <td>-0.440916</td>\n",
       "      <td>-0.083580</td>\n",
       "      <td>-0.465084</td>\n",
       "      <td>-0.478698</td>\n",
       "      <td>-0.103542</td>\n",
       "      <td>-0.443367</td>\n",
       "      <td>-0.306826</td>\n",
       "      <td>1.0</td>\n",
       "    </tr>\n",
       "  </tbody>\n",
       "</table>\n",
       "<p>2000 rows × 11 columns</p>\n",
       "</div>"
      ],
      "text/plain": [
       "            0         1         2         3         4         5         6   \\\n",
       "0     0.288585 -0.020294 -0.132905 -0.995279 -0.983111 -0.913526 -0.995112   \n",
       "1     0.278419 -0.016411 -0.123520 -0.998245 -0.975300 -0.960322 -0.998807   \n",
       "2     0.279653 -0.019467 -0.113462 -0.995380 -0.967187 -0.978944 -0.996520   \n",
       "3     0.279174 -0.026201 -0.123283 -0.996091 -0.983403 -0.990675 -0.997099   \n",
       "4     0.276629 -0.016570 -0.115362 -0.998139 -0.980817 -0.990482 -0.998321   \n",
       "...        ...       ...       ...       ...       ...       ...       ...   \n",
       "1995  0.239866 -0.016819 -0.127938 -0.479384 -0.167162 -0.520564 -0.508147   \n",
       "1996  0.234524 -0.010957 -0.099738 -0.500860 -0.167850 -0.508214 -0.537495   \n",
       "1997  0.212202 -0.009611 -0.058073 -0.487049 -0.174565 -0.463627 -0.524110   \n",
       "1998  0.273924  0.016351 -0.082030 -0.480790 -0.088519 -0.466508 -0.506083   \n",
       "1999  0.359350 -0.023102 -0.075862 -0.440916 -0.083580 -0.465084 -0.478698   \n",
       "\n",
       "            7         8         9    10  \n",
       "0    -0.983185 -0.923527 -0.934724  5.0  \n",
       "1    -0.974914 -0.957686 -0.943068  5.0  \n",
       "2    -0.963668 -0.977469 -0.938692  5.0  \n",
       "3    -0.982750 -0.989302 -0.938692  5.0  \n",
       "4    -0.979672 -0.990441 -0.942469  5.0  \n",
       "...        ...       ...       ...  ...  \n",
       "1995 -0.183497 -0.483609 -0.435364  1.0  \n",
       "1996 -0.191106 -0.469048 -0.435364  1.0  \n",
       "1997 -0.172802 -0.435630 -0.457439  1.0  \n",
       "1998 -0.113374 -0.438114 -0.457439  1.0  \n",
       "1999 -0.103542 -0.443367 -0.306826  1.0  \n",
       "\n",
       "[2000 rows x 11 columns]"
      ]
     },
     "execution_count": 9,
     "metadata": {},
     "output_type": "execute_result"
    }
   ],
   "source": [
    "train_data = pd.concat([X_train, y_train], ignore_index=True , axis=1)\n",
    "train_data"
   ]
  },
  {
   "cell_type": "code",
   "execution_count": 10,
   "id": "a8f7a50b",
   "metadata": {},
   "outputs": [
    {
     "data": {
      "text/plain": [
       "<AxesSubplot:>"
      ]
     },
     "execution_count": 10,
     "metadata": {},
     "output_type": "execute_result"
    },
    {
     "data": {
      "image/png": "[encoded data removed]",
      "text/plain": [
       "<Figure size 792x648 with 2 Axes>"
      ]
     },
     "metadata": {},
     "output_type": "display_data"
    }
   ],
   "source": [
    "from string import ascii_letters\n",
    "import numpy as np\n",
    "import pandas as pd\n",
    "import seaborn as sns\n",
    "import matplotlib.pyplot as plt\n",
    "\n",
    "sns.set_theme(style=\"white\")\n",
    "\n",
    "# Compute the correlation matrix\n",
    "corr = train_data.corr()\n",
    "\n",
    "# Generate a mask for the upper triangle\n",
    "mask = np.triu(np.ones_like(corr, dtype=bool))\n",
    "\n",
    "# Set up the matplotlib figure\n",
    "f, ax = plt.subplots(figsize=(11, 9))\n",
    "\n",
    "# Generate a custom diverging colormap\n",
    "cmap = sns.diverging_palette(230, 20, as_cmap=True)\n",
    "\n",
    "# Draw the heatmap with the mask and correct aspect ratio\n",
    "sns.heatmap(corr, mask=mask, cmap=cmap, vmax=.3, center=0,\n",
    "            square=True, linewidths=.5, cbar_kws={\"shrink\": .5})"
   ]
  },
  {
   "cell_type": "code",
   "execution_count": 11,
   "id": "a60af366",
   "metadata": {},
   "outputs": [
    {
     "data": {
      "text/html": [
       "<style  type=\"text/css\" >\n",
       "#T_1628c_row0_col0,#T_1628c_row1_col1,#T_1628c_row2_col2,#T_1628c_row3_col3,#T_1628c_row3_col6,#T_1628c_row4_col4,#T_1628c_row4_col7,#T_1628c_row5_col5,#T_1628c_row5_col8,#T_1628c_row6_col3,#T_1628c_row6_col6,#T_1628c_row7_col4,#T_1628c_row7_col7,#T_1628c_row8_col5,#T_1628c_row8_col8,#T_1628c_row9_col9,#T_1628c_row10_col10{\n",
       "            background-color:  #b40426;\n",
       "            color:  #f1f1f1;\n",
       "        }#T_1628c_row0_col1,#T_1628c_row10_col2{\n",
       "            background-color:  #5a78e4;\n",
       "            color:  #000000;\n",
       "        }#T_1628c_row0_col2,#T_1628c_row2_col0,#T_1628c_row4_col1,#T_1628c_row4_col10,#T_1628c_row5_col1,#T_1628c_row7_col1,#T_1628c_row7_col10,#T_1628c_row8_col1,#T_1628c_row10_col3,#T_1628c_row10_col4,#T_1628c_row10_col5,#T_1628c_row10_col6,#T_1628c_row10_col7,#T_1628c_row10_col8,#T_1628c_row10_col9{\n",
       "            background-color:  #3b4cc0;\n",
       "            color:  #f1f1f1;\n",
       "        }#T_1628c_row0_col3{\n",
       "            background-color:  #c6d6f1;\n",
       "            color:  #000000;\n",
       "        }#T_1628c_row0_col4,#T_1628c_row0_col7{\n",
       "            background-color:  #cdd9ec;\n",
       "            color:  #000000;\n",
       "        }#T_1628c_row0_col5{\n",
       "            background-color:  #c0d4f5;\n",
       "            color:  #000000;\n",
       "        }#T_1628c_row0_col6{\n",
       "            background-color:  #c7d7f0;\n",
       "            color:  #000000;\n",
       "        }#T_1628c_row0_col8,#T_1628c_row2_col9{\n",
       "            background-color:  #c1d4f4;\n",
       "            color:  #000000;\n",
       "        }#T_1628c_row0_col9,#T_1628c_row2_col4{\n",
       "            background-color:  #d1dae9;\n",
       "            color:  #000000;\n",
       "        }#T_1628c_row0_col10{\n",
       "            background-color:  #cbd8ee;\n",
       "            color:  #000000;\n",
       "        }#T_1628c_row1_col0{\n",
       "            background-color:  #5d7ce6;\n",
       "            color:  #000000;\n",
       "        }#T_1628c_row1_col2,#T_1628c_row6_col0,#T_1628c_row7_col2{\n",
       "            background-color:  #5572df;\n",
       "            color:  #000000;\n",
       "        }#T_1628c_row1_col3,#T_1628c_row1_col6{\n",
       "            background-color:  #bbd1f8;\n",
       "            color:  #000000;\n",
       "        }#T_1628c_row1_col4,#T_1628c_row1_col7,#T_1628c_row2_col5{\n",
       "            background-color:  #c4d5f3;\n",
       "            color:  #000000;\n",
       "        }#T_1628c_row1_col5,#T_1628c_row1_col9{\n",
       "            background-color:  #bcd2f7;\n",
       "            color:  #000000;\n",
       "        }#T_1628c_row1_col8{\n",
       "            background-color:  #bed2f6;\n",
       "            color:  #000000;\n",
       "        }#T_1628c_row1_col10{\n",
       "            background-color:  #d6dce4;\n",
       "            color:  #000000;\n",
       "        }#T_1628c_row2_col1,#T_1628c_row3_col0{\n",
       "            background-color:  #536edd;\n",
       "            color:  #000000;\n",
       "        }#T_1628c_row2_col3,#T_1628c_row2_col6,#T_1628c_row2_col8{\n",
       "            background-color:  #c5d6f2;\n",
       "            color:  #000000;\n",
       "        }#T_1628c_row2_col7{\n",
       "            background-color:  #d2dbe8;\n",
       "            color:  #000000;\n",
       "        }#T_1628c_row2_col10{\n",
       "            background-color:  #d5dbe5;\n",
       "            color:  #000000;\n",
       "        }#T_1628c_row3_col1,#T_1628c_row6_col1{\n",
       "            background-color:  #3e51c5;\n",
       "            color:  #f1f1f1;\n",
       "        }#T_1628c_row3_col2,#T_1628c_row6_col2{\n",
       "            background-color:  #506bda;\n",
       "            color:  #000000;\n",
       "        }#T_1628c_row3_col4{\n",
       "            background-color:  #c32e31;\n",
       "            color:  #f1f1f1;\n",
       "        }#T_1628c_row3_col5,#T_1628c_row6_col5{\n",
       "            background-color:  #d44e41;\n",
       "            color:  #000000;\n",
       "        }#T_1628c_row3_col7,#T_1628c_row4_col3,#T_1628c_row4_col6,#T_1628c_row6_col4{\n",
       "            background-color:  #c43032;\n",
       "            color:  #f1f1f1;\n",
       "        }#T_1628c_row3_col8,#T_1628c_row5_col3,#T_1628c_row5_col6,#T_1628c_row6_col8,#T_1628c_row8_col3{\n",
       "            background-color:  #d55042;\n",
       "            color:  #000000;\n",
       "        }#T_1628c_row3_col9,#T_1628c_row6_col9,#T_1628c_row9_col6{\n",
       "            background-color:  #b8122a;\n",
       "            color:  #f1f1f1;\n",
       "        }#T_1628c_row3_col10,#T_1628c_row6_col10,#T_1628c_row9_col2{\n",
       "            background-color:  #4b64d5;\n",
       "            color:  #f1f1f1;\n",
       "        }#T_1628c_row4_col0,#T_1628c_row7_col0,#T_1628c_row9_col10{\n",
       "            background-color:  #4c66d6;\n",
       "            color:  #000000;\n",
       "        }#T_1628c_row4_col2{\n",
       "            background-color:  #5470de;\n",
       "            color:  #000000;\n",
       "        }#T_1628c_row4_col5,#T_1628c_row7_col5,#T_1628c_row7_col8{\n",
       "            background-color:  #cf453c;\n",
       "            color:  #f1f1f1;\n",
       "        }#T_1628c_row4_col8,#T_1628c_row5_col4,#T_1628c_row5_col7,#T_1628c_row8_col4,#T_1628c_row8_col7{\n",
       "            background-color:  #cd423b;\n",
       "            color:  #f1f1f1;\n",
       "        }#T_1628c_row4_col9{\n",
       "            background-color:  #c83836;\n",
       "            color:  #f1f1f1;\n",
       "        }#T_1628c_row5_col0{\n",
       "            background-color:  #4358cb;\n",
       "            color:  #f1f1f1;\n",
       "        }#T_1628c_row5_col2,#T_1628c_row8_col2,#T_1628c_row10_col0{\n",
       "            background-color:  #4961d2;\n",
       "            color:  #f1f1f1;\n",
       "        }#T_1628c_row5_col9,#T_1628c_row9_col8{\n",
       "            background-color:  #d75445;\n",
       "            color:  #000000;\n",
       "        }#T_1628c_row5_col10,#T_1628c_row8_col10{\n",
       "            background-color:  #455cce;\n",
       "            color:  #f1f1f1;\n",
       "        }#T_1628c_row6_col7,#T_1628c_row7_col3,#T_1628c_row7_col6{\n",
       "            background-color:  #c53334;\n",
       "            color:  #f1f1f1;\n",
       "        }#T_1628c_row7_col9,#T_1628c_row9_col7{\n",
       "            background-color:  #ca3b37;\n",
       "            color:  #f1f1f1;\n",
       "        }#T_1628c_row8_col0{\n",
       "            background-color:  #445acc;\n",
       "            color:  #f1f1f1;\n",
       "        }#T_1628c_row8_col6,#T_1628c_row9_col5{\n",
       "            background-color:  #d65244;\n",
       "            color:  #000000;\n",
       "        }#T_1628c_row8_col9{\n",
       "            background-color:  #d85646;\n",
       "            color:  #000000;\n",
       "        }#T_1628c_row9_col0{\n",
       "            background-color:  #6485ec;\n",
       "            color:  #000000;\n",
       "        }#T_1628c_row9_col1{\n",
       "            background-color:  #4055c8;\n",
       "            color:  #f1f1f1;\n",
       "        }#T_1628c_row9_col3{\n",
       "            background-color:  #b70d28;\n",
       "            color:  #f1f1f1;\n",
       "        }#T_1628c_row9_col4{\n",
       "            background-color:  #c73635;\n",
       "            color:  #f1f1f1;\n",
       "        }#T_1628c_row10_col1{\n",
       "            background-color:  #5b7ae5;\n",
       "            color:  #000000;\n",
       "        }</style><table id=\"T_1628c_\" ><thead>    <tr>        <th class=\"blank level0\" ></th>        <th class=\"col_heading level0 col0\" >0</th>        <th class=\"col_heading level0 col1\" >1</th>        <th class=\"col_heading level0 col2\" >2</th>        <th class=\"col_heading level0 col3\" >3</th>        <th class=\"col_heading level0 col4\" >4</th>        <th class=\"col_heading level0 col5\" >5</th>        <th class=\"col_heading level0 col6\" >6</th>        <th class=\"col_heading level0 col7\" >7</th>        <th class=\"col_heading level0 col8\" >8</th>        <th class=\"col_heading level0 col9\" >9</th>        <th class=\"col_heading level0 col10\" >10</th>    </tr></thead><tbody>\n",
       "                <tr>\n",
       "                        <th id=\"T_1628c_level0_row0\" class=\"row_heading level0 row0\" >0</th>\n",
       "                        <td id=\"T_1628c_row0_col0\" class=\"data row0 col0\" >1.000000</td>\n",
       "                        <td id=\"T_1628c_row0_col1\" class=\"data row0 col1\" >0.032595</td>\n",
       "                        <td id=\"T_1628c_row0_col2\" class=\"data row0 col2\" >-0.089690</td>\n",
       "                        <td id=\"T_1628c_row0_col3\" class=\"data row0 col3\" >-0.000793</td>\n",
       "                        <td id=\"T_1628c_row0_col4\" class=\"data row0 col4\" >-0.021674</td>\n",
       "                        <td id=\"T_1628c_row0_col5\" class=\"data row0 col5\" >-0.056942</td>\n",
       "                        <td id=\"T_1628c_row0_col6\" class=\"data row0 col6\" >0.005033</td>\n",
       "                        <td id=\"T_1628c_row0_col7\" class=\"data row0 col7\" >-0.021966</td>\n",
       "                        <td id=\"T_1628c_row0_col8\" class=\"data row0 col8\" >-0.055044</td>\n",
       "                        <td id=\"T_1628c_row0_col9\" class=\"data row0 col9\" >0.056669</td>\n",
       "                        <td id=\"T_1628c_row0_col10\" class=\"data row0 col10\" >-0.034647</td>\n",
       "            </tr>\n",
       "            <tr>\n",
       "                        <th id=\"T_1628c_level0_row1\" class=\"row_heading level0 row1\" >1</th>\n",
       "                        <td id=\"T_1628c_row1_col0\" class=\"data row1 col0\" >0.032595</td>\n",
       "                        <td id=\"T_1628c_row1_col1\" class=\"data row1 col1\" >1.000000</td>\n",
       "                        <td id=\"T_1628c_row1_col2\" class=\"data row1 col2\" >0.004264</td>\n",
       "                        <td id=\"T_1628c_row1_col3\" class=\"data row1 col3\" >-0.064564</td>\n",
       "                        <td id=\"T_1628c_row1_col4\" class=\"data row1 col4\" >-0.079949</td>\n",
       "                        <td id=\"T_1628c_row1_col5\" class=\"data row1 col5\" >-0.078946</td>\n",
       "                        <td id=\"T_1628c_row1_col6\" class=\"data row1 col6\" >-0.064747</td>\n",
       "                        <td id=\"T_1628c_row1_col7\" class=\"data row1 col7\" >-0.080622</td>\n",
       "                        <td id=\"T_1628c_row1_col8\" class=\"data row1 col8\" >-0.077550</td>\n",
       "                        <td id=\"T_1628c_row1_col9\" class=\"data row1 col9\" >-0.056787</td>\n",
       "                        <td id=\"T_1628c_row1_col10\" class=\"data row1 col10\" >0.037563</td>\n",
       "            </tr>\n",
       "            <tr>\n",
       "                        <th id=\"T_1628c_level0_row2\" class=\"row_heading level0 row2\" >2</th>\n",
       "                        <td id=\"T_1628c_row2_col0\" class=\"data row2 col0\" >-0.089690</td>\n",
       "                        <td id=\"T_1628c_row2_col1\" class=\"data row2 col1\" >0.004264</td>\n",
       "                        <td id=\"T_1628c_row2_col2\" class=\"data row2 col2\" >1.000000</td>\n",
       "                        <td id=\"T_1628c_row2_col3\" class=\"data row2 col3\" >-0.012481</td>\n",
       "                        <td id=\"T_1628c_row2_col4\" class=\"data row2 col4\" >0.003705</td>\n",
       "                        <td id=\"T_1628c_row2_col5\" class=\"data row2 col5\" >-0.036683</td>\n",
       "                        <td id=\"T_1628c_row2_col6\" class=\"data row2 col6\" >-0.011469</td>\n",
       "                        <td id=\"T_1628c_row2_col7\" class=\"data row2 col7\" >0.006591</td>\n",
       "                        <td id=\"T_1628c_row2_col8\" class=\"data row2 col8\" >-0.037679</td>\n",
       "                        <td id=\"T_1628c_row2_col9\" class=\"data row2 col9\" >-0.026388</td>\n",
       "                        <td id=\"T_1628c_row2_col10\" class=\"data row2 col10\" >0.024847</td>\n",
       "            </tr>\n",
       "            <tr>\n",
       "                        <th id=\"T_1628c_level0_row3\" class=\"row_heading level0 row3\" >3</th>\n",
       "                        <td id=\"T_1628c_row3_col0\" class=\"data row3 col0\" >-0.000793</td>\n",
       "                        <td id=\"T_1628c_row3_col1\" class=\"data row3 col1\" >-0.064564</td>\n",
       "                        <td id=\"T_1628c_row3_col2\" class=\"data row3 col2\" >-0.012481</td>\n",
       "                        <td id=\"T_1628c_row3_col3\" class=\"data row3 col3\" >1.000000</td>\n",
       "                        <td id=\"T_1628c_row3_col4\" class=\"data row3 col4\" >0.921573</td>\n",
       "                        <td id=\"T_1628c_row3_col5\" class=\"data row3 col5\" >0.837425</td>\n",
       "                        <td id=\"T_1628c_row3_col6\" class=\"data row3 col6\" >0.998915</td>\n",
       "                        <td id=\"T_1628c_row3_col7\" class=\"data row3 col7\" >0.914350</td>\n",
       "                        <td id=\"T_1628c_row3_col8\" class=\"data row3 col8\" >0.831113</td>\n",
       "                        <td id=\"T_1628c_row3_col9\" class=\"data row3 col9\" >0.979763</td>\n",
       "                        <td id=\"T_1628c_row3_col10\" class=\"data row3 col10\" >-0.729680</td>\n",
       "            </tr>\n",
       "            <tr>\n",
       "                        <th id=\"T_1628c_level0_row4\" class=\"row_heading level0 row4\" >4</th>\n",
       "                        <td id=\"T_1628c_row4_col0\" class=\"data row4 col0\" >-0.021674</td>\n",
       "                        <td id=\"T_1628c_row4_col1\" class=\"data row4 col1\" >-0.079949</td>\n",
       "                        <td id=\"T_1628c_row4_col2\" class=\"data row4 col2\" >0.003705</td>\n",
       "                        <td id=\"T_1628c_row4_col3\" class=\"data row4 col3\" >0.921573</td>\n",
       "                        <td id=\"T_1628c_row4_col4\" class=\"data row4 col4\" >1.000000</td>\n",
       "                        <td id=\"T_1628c_row4_col5\" class=\"data row4 col5\" >0.868580</td>\n",
       "                        <td id=\"T_1628c_row4_col6\" class=\"data row4 col6\" >0.920583</td>\n",
       "                        <td id=\"T_1628c_row4_col7\" class=\"data row4 col7\" >0.997786</td>\n",
       "                        <td id=\"T_1628c_row4_col8\" class=\"data row4 col8\" >0.868558</td>\n",
       "                        <td id=\"T_1628c_row4_col9\" class=\"data row4 col9\" >0.899957</td>\n",
       "                        <td id=\"T_1628c_row4_col10\" class=\"data row4 col10\" >-0.834146</td>\n",
       "            </tr>\n",
       "            <tr>\n",
       "                        <th id=\"T_1628c_level0_row5\" class=\"row_heading level0 row5\" >5</th>\n",
       "                        <td id=\"T_1628c_row5_col0\" class=\"data row5 col0\" >-0.056942</td>\n",
       "                        <td id=\"T_1628c_row5_col1\" class=\"data row5 col1\" >-0.078946</td>\n",
       "                        <td id=\"T_1628c_row5_col2\" class=\"data row5 col2\" >-0.036683</td>\n",
       "                        <td id=\"T_1628c_row5_col3\" class=\"data row5 col3\" >0.837425</td>\n",
       "                        <td id=\"T_1628c_row5_col4\" class=\"data row5 col4\" >0.868580</td>\n",
       "                        <td id=\"T_1628c_row5_col5\" class=\"data row5 col5\" >1.000000</td>\n",
       "                        <td id=\"T_1628c_row5_col6\" class=\"data row5 col6\" >0.836926</td>\n",
       "                        <td id=\"T_1628c_row5_col7\" class=\"data row5 col7\" >0.867480</td>\n",
       "                        <td id=\"T_1628c_row5_col8\" class=\"data row5 col8\" >0.997384</td>\n",
       "                        <td id=\"T_1628c_row5_col9\" class=\"data row5 col9\" >0.823596</td>\n",
       "                        <td id=\"T_1628c_row5_col10\" class=\"data row5 col10\" >-0.765508</td>\n",
       "            </tr>\n",
       "            <tr>\n",
       "                        <th id=\"T_1628c_level0_row6\" class=\"row_heading level0 row6\" >6</th>\n",
       "                        <td id=\"T_1628c_row6_col0\" class=\"data row6 col0\" >0.005033</td>\n",
       "                        <td id=\"T_1628c_row6_col1\" class=\"data row6 col1\" >-0.064747</td>\n",
       "                        <td id=\"T_1628c_row6_col2\" class=\"data row6 col2\" >-0.011469</td>\n",
       "                        <td id=\"T_1628c_row6_col3\" class=\"data row6 col3\" >0.998915</td>\n",
       "                        <td id=\"T_1628c_row6_col4\" class=\"data row6 col4\" >0.920583</td>\n",
       "                        <td id=\"T_1628c_row6_col5\" class=\"data row6 col5\" >0.836926</td>\n",
       "                        <td id=\"T_1628c_row6_col6\" class=\"data row6 col6\" >1.000000</td>\n",
       "                        <td id=\"T_1628c_row6_col7\" class=\"data row6 col7\" >0.913067</td>\n",
       "                        <td id=\"T_1628c_row6_col8\" class=\"data row6 col8\" >0.830987</td>\n",
       "                        <td id=\"T_1628c_row6_col9\" class=\"data row6 col9\" >0.973991</td>\n",
       "                        <td id=\"T_1628c_row6_col10\" class=\"data row6 col10\" >-0.729421</td>\n",
       "            </tr>\n",
       "            <tr>\n",
       "                        <th id=\"T_1628c_level0_row7\" class=\"row_heading level0 row7\" >7</th>\n",
       "                        <td id=\"T_1628c_row7_col0\" class=\"data row7 col0\" >-0.021966</td>\n",
       "                        <td id=\"T_1628c_row7_col1\" class=\"data row7 col1\" >-0.080622</td>\n",
       "                        <td id=\"T_1628c_row7_col2\" class=\"data row7 col2\" >0.006591</td>\n",
       "                        <td id=\"T_1628c_row7_col3\" class=\"data row7 col3\" >0.914350</td>\n",
       "                        <td id=\"T_1628c_row7_col4\" class=\"data row7 col4\" >0.997786</td>\n",
       "                        <td id=\"T_1628c_row7_col5\" class=\"data row7 col5\" >0.867480</td>\n",
       "                        <td id=\"T_1628c_row7_col6\" class=\"data row7 col6\" >0.913067</td>\n",
       "                        <td id=\"T_1628c_row7_col7\" class=\"data row7 col7\" >1.000000</td>\n",
       "                        <td id=\"T_1628c_row7_col8\" class=\"data row7 col8\" >0.868306</td>\n",
       "                        <td id=\"T_1628c_row7_col9\" class=\"data row7 col9\" >0.892321</td>\n",
       "                        <td id=\"T_1628c_row7_col10\" class=\"data row7 col10\" >-0.836571</td>\n",
       "            </tr>\n",
       "            <tr>\n",
       "                        <th id=\"T_1628c_level0_row8\" class=\"row_heading level0 row8\" >8</th>\n",
       "                        <td id=\"T_1628c_row8_col0\" class=\"data row8 col0\" >-0.055044</td>\n",
       "                        <td id=\"T_1628c_row8_col1\" class=\"data row8 col1\" >-0.077550</td>\n",
       "                        <td id=\"T_1628c_row8_col2\" class=\"data row8 col2\" >-0.037679</td>\n",
       "                        <td id=\"T_1628c_row8_col3\" class=\"data row8 col3\" >0.831113</td>\n",
       "                        <td id=\"T_1628c_row8_col4\" class=\"data row8 col4\" >0.868558</td>\n",
       "                        <td id=\"T_1628c_row8_col5\" class=\"data row8 col5\" >0.997384</td>\n",
       "                        <td id=\"T_1628c_row8_col6\" class=\"data row8 col6\" >0.830987</td>\n",
       "                        <td id=\"T_1628c_row8_col7\" class=\"data row8 col7\" >0.868306</td>\n",
       "                        <td id=\"T_1628c_row8_col8\" class=\"data row8 col8\" >1.000000</td>\n",
       "                        <td id=\"T_1628c_row8_col9\" class=\"data row8 col9\" >0.815626</td>\n",
       "                        <td id=\"T_1628c_row8_col10\" class=\"data row8 col10\" >-0.771246</td>\n",
       "            </tr>\n",
       "            <tr>\n",
       "                        <th id=\"T_1628c_level0_row9\" class=\"row_heading level0 row9\" >9</th>\n",
       "                        <td id=\"T_1628c_row9_col0\" class=\"data row9 col0\" >0.056669</td>\n",
       "                        <td id=\"T_1628c_row9_col1\" class=\"data row9 col1\" >-0.056787</td>\n",
       "                        <td id=\"T_1628c_row9_col2\" class=\"data row9 col2\" >-0.026388</td>\n",
       "                        <td id=\"T_1628c_row9_col3\" class=\"data row9 col3\" >0.979763</td>\n",
       "                        <td id=\"T_1628c_row9_col4\" class=\"data row9 col4\" >0.899957</td>\n",
       "                        <td id=\"T_1628c_row9_col5\" class=\"data row9 col5\" >0.823596</td>\n",
       "                        <td id=\"T_1628c_row9_col6\" class=\"data row9 col6\" >0.973991</td>\n",
       "                        <td id=\"T_1628c_row9_col7\" class=\"data row9 col7\" >0.892321</td>\n",
       "                        <td id=\"T_1628c_row9_col8\" class=\"data row9 col8\" >0.815626</td>\n",
       "                        <td id=\"T_1628c_row9_col9\" class=\"data row9 col9\" >1.000000</td>\n",
       "                        <td id=\"T_1628c_row9_col10\" class=\"data row9 col10\" >-0.726921</td>\n",
       "            </tr>\n",
       "            <tr>\n",
       "                        <th id=\"T_1628c_level0_row10\" class=\"row_heading level0 row10\" >10</th>\n",
       "                        <td id=\"T_1628c_row10_col0\" class=\"data row10 col0\" >-0.034647</td>\n",
       "                        <td id=\"T_1628c_row10_col1\" class=\"data row10 col1\" >0.037563</td>\n",
       "                        <td id=\"T_1628c_row10_col2\" class=\"data row10 col2\" >0.024847</td>\n",
       "                        <td id=\"T_1628c_row10_col3\" class=\"data row10 col3\" >-0.729680</td>\n",
       "                        <td id=\"T_1628c_row10_col4\" class=\"data row10 col4\" >-0.834146</td>\n",
       "                        <td id=\"T_1628c_row10_col5\" class=\"data row10 col5\" >-0.765508</td>\n",
       "                        <td id=\"T_1628c_row10_col6\" class=\"data row10 col6\" >-0.729421</td>\n",
       "                        <td id=\"T_1628c_row10_col7\" class=\"data row10 col7\" >-0.836571</td>\n",
       "                        <td id=\"T_1628c_row10_col8\" class=\"data row10 col8\" >-0.771246</td>\n",
       "                        <td id=\"T_1628c_row10_col9\" class=\"data row10 col9\" >-0.726921</td>\n",
       "                        <td id=\"T_1628c_row10_col10\" class=\"data row10 col10\" >1.000000</td>\n",
       "            </tr>\n",
       "    </tbody></table>"
      ],
      "text/plain": [
       "<pandas.io.formats.style.Styler at 0x7f98adadcf70>"
      ]
     },
     "execution_count": 11,
     "metadata": {},
     "output_type": "execute_result"
    }
   ],
   "source": [
    "corr.style.background_gradient(cmap='coolwarm')"
   ]
  },
  {
   "cell_type": "code",
   "execution_count": 12,
   "id": "bab5f8a1",
   "metadata": {},
   "outputs": [
    {
     "data": {
      "text/html": [
       "<div>\n",
       "<style scoped>\n",
       "    .dataframe tbody tr th:only-of-type {\n",
       "        vertical-align: middle;\n",
       "    }\n",
       "\n",
       "    .dataframe tbody tr th {\n",
       "        vertical-align: top;\n",
       "    }\n",
       "\n",
       "    .dataframe thead th {\n",
       "        text-align: right;\n",
       "    }\n",
       "</style>\n",
       "<table border=\"1\" class=\"dataframe\">\n",
       "  <thead>\n",
       "    <tr style=\"text-align: right;\">\n",
       "      <th></th>\n",
       "      <th>0</th>\n",
       "      <th>1</th>\n",
       "      <th>2</th>\n",
       "      <th>3</th>\n",
       "      <th>4</th>\n",
       "      <th>5</th>\n",
       "      <th>6</th>\n",
       "      <th>7</th>\n",
       "      <th>8</th>\n",
       "      <th>9</th>\n",
       "      <th>10</th>\n",
       "    </tr>\n",
       "  </thead>\n",
       "  <tbody>\n",
       "    <tr>\n",
       "      <th>count</th>\n",
       "      <td>2000.000000</td>\n",
       "      <td>2000.000000</td>\n",
       "      <td>2000.000000</td>\n",
       "      <td>2000.000000</td>\n",
       "      <td>2000.000000</td>\n",
       "      <td>2000.000000</td>\n",
       "      <td>2000.000000</td>\n",
       "      <td>2000.000000</td>\n",
       "      <td>2000.000000</td>\n",
       "      <td>2000.000000</td>\n",
       "      <td>2000.000000</td>\n",
       "    </tr>\n",
       "    <tr>\n",
       "      <th>mean</th>\n",
       "      <td>0.272118</td>\n",
       "      <td>-0.017664</td>\n",
       "      <td>-0.109250</td>\n",
       "      <td>-0.573163</td>\n",
       "      <td>-0.437783</td>\n",
       "      <td>-0.588382</td>\n",
       "      <td>-0.602356</td>\n",
       "      <td>-0.458355</td>\n",
       "      <td>-0.584828</td>\n",
       "      <td>-0.426606</td>\n",
       "      <td>3.508500</td>\n",
       "    </tr>\n",
       "    <tr>\n",
       "      <th>std</th>\n",
       "      <td>0.075211</td>\n",
       "      <td>0.035625</td>\n",
       "      <td>0.052521</td>\n",
       "      <td>0.442809</td>\n",
       "      <td>0.532625</td>\n",
       "      <td>0.395762</td>\n",
       "      <td>0.414894</td>\n",
       "      <td>0.511722</td>\n",
       "      <td>0.397590</td>\n",
       "      <td>0.545411</td>\n",
       "      <td>1.774684</td>\n",
       "    </tr>\n",
       "    <tr>\n",
       "      <th>min</th>\n",
       "      <td>-0.853848</td>\n",
       "      <td>-0.684097</td>\n",
       "      <td>-1.000000</td>\n",
       "      <td>-0.999533</td>\n",
       "      <td>-0.999873</td>\n",
       "      <td>-0.999454</td>\n",
       "      <td>-0.999571</td>\n",
       "      <td>-1.000000</td>\n",
       "      <td>-0.999808</td>\n",
       "      <td>-0.971348</td>\n",
       "      <td>1.000000</td>\n",
       "    </tr>\n",
       "    <tr>\n",
       "      <th>25%</th>\n",
       "      <td>0.258628</td>\n",
       "      <td>-0.026181</td>\n",
       "      <td>-0.122994</td>\n",
       "      <td>-0.990261</td>\n",
       "      <td>-0.970481</td>\n",
       "      <td>-0.973827</td>\n",
       "      <td>-0.991563</td>\n",
       "      <td>-0.971355</td>\n",
       "      <td>-0.972810</td>\n",
       "      <td>-0.933162</td>\n",
       "      <td>2.000000</td>\n",
       "    </tr>\n",
       "    <tr>\n",
       "      <th>50%</th>\n",
       "      <td>0.276901</td>\n",
       "      <td>-0.017071</td>\n",
       "      <td>-0.108526</td>\n",
       "      <td>-0.829770</td>\n",
       "      <td>-0.547319</td>\n",
       "      <td>-0.621977</td>\n",
       "      <td>-0.854891</td>\n",
       "      <td>-0.539695</td>\n",
       "      <td>-0.608834</td>\n",
       "      <td>-0.767989</td>\n",
       "      <td>4.000000</td>\n",
       "    </tr>\n",
       "    <tr>\n",
       "      <th>75%</th>\n",
       "      <td>0.289831</td>\n",
       "      <td>-0.009111</td>\n",
       "      <td>-0.095795</td>\n",
       "      <td>-0.221974</td>\n",
       "      <td>0.070118</td>\n",
       "      <td>-0.296077</td>\n",
       "      <td>-0.269720</td>\n",
       "      <td>0.035807</td>\n",
       "      <td>-0.287284</td>\n",
       "      <td>0.012421</td>\n",
       "      <td>5.000000</td>\n",
       "    </tr>\n",
       "    <tr>\n",
       "      <th>max</th>\n",
       "      <td>0.515654</td>\n",
       "      <td>0.324130</td>\n",
       "      <td>0.346658</td>\n",
       "      <td>0.544540</td>\n",
       "      <td>0.782590</td>\n",
       "      <td>0.461668</td>\n",
       "      <td>0.496864</td>\n",
       "      <td>0.621585</td>\n",
       "      <td>0.554965</td>\n",
       "      <td>0.731065</td>\n",
       "      <td>6.000000</td>\n",
       "    </tr>\n",
       "  </tbody>\n",
       "</table>\n",
       "</div>"
      ],
      "text/plain": [
       "                0            1            2            3            4   \\\n",
       "count  2000.000000  2000.000000  2000.000000  2000.000000  2000.000000   \n",
       "mean      0.272118    -0.017664    -0.109250    -0.573163    -0.437783   \n",
       "std       0.075211     0.035625     0.052521     0.442809     0.532625   \n",
       "min      -0.853848    -0.684097    -1.000000    -0.999533    -0.999873   \n",
       "25%       0.258628    -0.026181    -0.122994    -0.990261    -0.970481   \n",
       "50%       0.276901    -0.017071    -0.108526    -0.829770    -0.547319   \n",
       "75%       0.289831    -0.009111    -0.095795    -0.221974     0.070118   \n",
       "max       0.515654     0.324130     0.346658     0.544540     0.782590   \n",
       "\n",
       "                5            6            7            8            9   \\\n",
       "count  2000.000000  2000.000000  2000.000000  2000.000000  2000.000000   \n",
       "mean     -0.588382    -0.602356    -0.458355    -0.584828    -0.426606   \n",
       "std       0.395762     0.414894     0.511722     0.397590     0.545411   \n",
       "min      -0.999454    -0.999571    -1.000000    -0.999808    -0.971348   \n",
       "25%      -0.973827    -0.991563    -0.971355    -0.972810    -0.933162   \n",
       "50%      -0.621977    -0.854891    -0.539695    -0.608834    -0.767989   \n",
       "75%      -0.296077    -0.269720     0.035807    -0.287284     0.012421   \n",
       "max       0.461668     0.496864     0.621585     0.554965     0.731065   \n",
       "\n",
       "                10  \n",
       "count  2000.000000  \n",
       "mean      3.508500  \n",
       "std       1.774684  \n",
       "min       1.000000  \n",
       "25%       2.000000  \n",
       "50%       4.000000  \n",
       "75%       5.000000  \n",
       "max       6.000000  "
      ]
     },
     "execution_count": 12,
     "metadata": {},
     "output_type": "execute_result"
    }
   ],
   "source": [
    "train_data.describe()"
   ]
  },
  {
   "cell_type": "code",
   "execution_count": 13,
   "id": "588798aa",
   "metadata": {},
   "outputs": [
    {
     "name": "stdout",
     "output_type": "stream",
     "text": [
      "<class 'pandas.core.frame.DataFrame'>\n",
      "RangeIndex: 2000 entries, 0 to 1999\n",
      "Data columns (total 11 columns):\n",
      " #   Column  Non-Null Count  Dtype  \n",
      "---  ------  --------------  -----  \n",
      " 0   0       2000 non-null   float64\n",
      " 1   1       2000 non-null   float64\n",
      " 2   2       2000 non-null   float64\n",
      " 3   3       2000 non-null   float64\n",
      " 4   4       2000 non-null   float64\n",
      " 5   5       2000 non-null   float64\n",
      " 6   6       2000 non-null   float64\n",
      " 7   7       2000 non-null   float64\n",
      " 8   8       2000 non-null   float64\n",
      " 9   9       2000 non-null   float64\n",
      " 10  10      2000 non-null   float64\n",
      "dtypes: float64(11)\n",
      "memory usage: 172.0 KB\n"
     ]
    }
   ],
   "source": [
    "train_data.info()"
   ]
  },
  {
   "cell_type": "code",
   "execution_count": 14,
   "id": "f9db3dd7",
   "metadata": {},
   "outputs": [
    {
     "data": {
      "text/html": [
       "<div>\n",
       "<style scoped>\n",
       "    .dataframe tbody tr th:only-of-type {\n",
       "        vertical-align: middle;\n",
       "    }\n",
       "\n",
       "    .dataframe tbody tr th {\n",
       "        vertical-align: top;\n",
       "    }\n",
       "\n",
       "    .dataframe thead th {\n",
       "        text-align: right;\n",
       "    }\n",
       "</style>\n",
       "<table border=\"1\" class=\"dataframe\">\n",
       "  <thead>\n",
       "    <tr style=\"text-align: right;\">\n",
       "      <th></th>\n",
       "      <th>0</th>\n",
       "      <th>1</th>\n",
       "      <th>2</th>\n",
       "      <th>3</th>\n",
       "      <th>4</th>\n",
       "      <th>5</th>\n",
       "      <th>6</th>\n",
       "      <th>7</th>\n",
       "      <th>8</th>\n",
       "      <th>9</th>\n",
       "    </tr>\n",
       "  </thead>\n",
       "  <tbody>\n",
       "    <tr>\n",
       "      <th>0</th>\n",
       "      <td>0.257178</td>\n",
       "      <td>-0.023285</td>\n",
       "      <td>-0.014654</td>\n",
       "      <td>-0.938404</td>\n",
       "      <td>-0.920091</td>\n",
       "      <td>-0.667683</td>\n",
       "      <td>-0.952501</td>\n",
       "      <td>-0.925249</td>\n",
       "      <td>-0.674302</td>\n",
       "      <td>-0.894088</td>\n",
       "    </tr>\n",
       "    <tr>\n",
       "      <th>1</th>\n",
       "      <td>0.286027</td>\n",
       "      <td>-0.013163</td>\n",
       "      <td>-0.119083</td>\n",
       "      <td>-0.975415</td>\n",
       "      <td>-0.967458</td>\n",
       "      <td>-0.944958</td>\n",
       "      <td>-0.986799</td>\n",
       "      <td>-0.968401</td>\n",
       "      <td>-0.945823</td>\n",
       "      <td>-0.894088</td>\n",
       "    </tr>\n",
       "    <tr>\n",
       "      <th>2</th>\n",
       "      <td>0.275485</td>\n",
       "      <td>-0.026050</td>\n",
       "      <td>-0.118152</td>\n",
       "      <td>-0.993819</td>\n",
       "      <td>-0.969926</td>\n",
       "      <td>-0.962748</td>\n",
       "      <td>-0.994403</td>\n",
       "      <td>-0.970735</td>\n",
       "      <td>-0.963483</td>\n",
       "      <td>-0.939260</td>\n",
       "    </tr>\n",
       "    <tr>\n",
       "      <th>3</th>\n",
       "      <td>0.270298</td>\n",
       "      <td>-0.032614</td>\n",
       "      <td>-0.117520</td>\n",
       "      <td>-0.994743</td>\n",
       "      <td>-0.973268</td>\n",
       "      <td>-0.967091</td>\n",
       "      <td>-0.995274</td>\n",
       "      <td>-0.974471</td>\n",
       "      <td>-0.968897</td>\n",
       "      <td>-0.938610</td>\n",
       "    </tr>\n",
       "    <tr>\n",
       "      <th>4</th>\n",
       "      <td>0.274833</td>\n",
       "      <td>-0.027848</td>\n",
       "      <td>-0.129527</td>\n",
       "      <td>-0.993852</td>\n",
       "      <td>-0.967445</td>\n",
       "      <td>-0.978295</td>\n",
       "      <td>-0.994111</td>\n",
       "      <td>-0.965953</td>\n",
       "      <td>-0.977346</td>\n",
       "      <td>-0.938610</td>\n",
       "    </tr>\n",
       "  </tbody>\n",
       "</table>\n",
       "</div>"
      ],
      "text/plain": [
       "          0         1         2         3         4         5         6  \\\n",
       "0  0.257178 -0.023285 -0.014654 -0.938404 -0.920091 -0.667683 -0.952501   \n",
       "1  0.286027 -0.013163 -0.119083 -0.975415 -0.967458 -0.944958 -0.986799   \n",
       "2  0.275485 -0.026050 -0.118152 -0.993819 -0.969926 -0.962748 -0.994403   \n",
       "3  0.270298 -0.032614 -0.117520 -0.994743 -0.973268 -0.967091 -0.995274   \n",
       "4  0.274833 -0.027848 -0.129527 -0.993852 -0.967445 -0.978295 -0.994111   \n",
       "\n",
       "          7         8         9  \n",
       "0 -0.925249 -0.674302 -0.894088  \n",
       "1 -0.968401 -0.945823 -0.894088  \n",
       "2 -0.970735 -0.963483 -0.939260  \n",
       "3 -0.974471 -0.968897 -0.938610  \n",
       "4 -0.965953 -0.977346 -0.938610  "
      ]
     },
     "execution_count": 14,
     "metadata": {},
     "output_type": "execute_result"
    }
   ],
   "source": [
    "X_test=pd.read_csv('Human_Activity_Recognition/test/X_test.txt', sep=\" \", header=None)\n",
    "X_test.head()"
   ]
  },
  {
   "cell_type": "code",
   "execution_count": 15,
   "id": "3c9c6a08",
   "metadata": {},
   "outputs": [],
   "source": [
    "y_test=pd.read_csv('Human_Activity_Recognition/test/y_test.txt', sep=\" \", header=None)"
   ]
  },
  {
   "cell_type": "code",
   "execution_count": 16,
   "id": "b77d6e4e",
   "metadata": {},
   "outputs": [
    {
     "data": {
      "text/html": [
       "<div>\n",
       "<style scoped>\n",
       "    .dataframe tbody tr th:only-of-type {\n",
       "        vertical-align: middle;\n",
       "    }\n",
       "\n",
       "    .dataframe tbody tr th {\n",
       "        vertical-align: top;\n",
       "    }\n",
       "\n",
       "    .dataframe thead th {\n",
       "        text-align: right;\n",
       "    }\n",
       "</style>\n",
       "<table border=\"1\" class=\"dataframe\">\n",
       "  <thead>\n",
       "    <tr style=\"text-align: right;\">\n",
       "      <th></th>\n",
       "      <th>0</th>\n",
       "      <th>1</th>\n",
       "      <th>2</th>\n",
       "      <th>3</th>\n",
       "      <th>4</th>\n",
       "      <th>5</th>\n",
       "      <th>6</th>\n",
       "      <th>7</th>\n",
       "      <th>8</th>\n",
       "      <th>9</th>\n",
       "      <th>10</th>\n",
       "    </tr>\n",
       "  </thead>\n",
       "  <tbody>\n",
       "    <tr>\n",
       "      <th>0</th>\n",
       "      <td>0.257178</td>\n",
       "      <td>-0.023285</td>\n",
       "      <td>-0.014654</td>\n",
       "      <td>-0.938404</td>\n",
       "      <td>-0.920091</td>\n",
       "      <td>-0.667683</td>\n",
       "      <td>-0.952501</td>\n",
       "      <td>-0.925249</td>\n",
       "      <td>-0.674302</td>\n",
       "      <td>-0.894088</td>\n",
       "      <td>5.0</td>\n",
       "    </tr>\n",
       "    <tr>\n",
       "      <th>1</th>\n",
       "      <td>0.286027</td>\n",
       "      <td>-0.013163</td>\n",
       "      <td>-0.119083</td>\n",
       "      <td>-0.975415</td>\n",
       "      <td>-0.967458</td>\n",
       "      <td>-0.944958</td>\n",
       "      <td>-0.986799</td>\n",
       "      <td>-0.968401</td>\n",
       "      <td>-0.945823</td>\n",
       "      <td>-0.894088</td>\n",
       "      <td>5.0</td>\n",
       "    </tr>\n",
       "    <tr>\n",
       "      <th>2</th>\n",
       "      <td>0.275485</td>\n",
       "      <td>-0.026050</td>\n",
       "      <td>-0.118152</td>\n",
       "      <td>-0.993819</td>\n",
       "      <td>-0.969926</td>\n",
       "      <td>-0.962748</td>\n",
       "      <td>-0.994403</td>\n",
       "      <td>-0.970735</td>\n",
       "      <td>-0.963483</td>\n",
       "      <td>-0.939260</td>\n",
       "      <td>5.0</td>\n",
       "    </tr>\n",
       "    <tr>\n",
       "      <th>3</th>\n",
       "      <td>0.270298</td>\n",
       "      <td>-0.032614</td>\n",
       "      <td>-0.117520</td>\n",
       "      <td>-0.994743</td>\n",
       "      <td>-0.973268</td>\n",
       "      <td>-0.967091</td>\n",
       "      <td>-0.995274</td>\n",
       "      <td>-0.974471</td>\n",
       "      <td>-0.968897</td>\n",
       "      <td>-0.938610</td>\n",
       "      <td>5.0</td>\n",
       "    </tr>\n",
       "    <tr>\n",
       "      <th>4</th>\n",
       "      <td>0.274833</td>\n",
       "      <td>-0.027848</td>\n",
       "      <td>-0.129527</td>\n",
       "      <td>-0.993852</td>\n",
       "      <td>-0.967445</td>\n",
       "      <td>-0.978295</td>\n",
       "      <td>-0.994111</td>\n",
       "      <td>-0.965953</td>\n",
       "      <td>-0.977346</td>\n",
       "      <td>-0.938610</td>\n",
       "      <td>5.0</td>\n",
       "    </tr>\n",
       "    <tr>\n",
       "      <th>...</th>\n",
       "      <td>...</td>\n",
       "      <td>...</td>\n",
       "      <td>...</td>\n",
       "      <td>...</td>\n",
       "      <td>...</td>\n",
       "      <td>...</td>\n",
       "      <td>...</td>\n",
       "      <td>...</td>\n",
       "      <td>...</td>\n",
       "      <td>...</td>\n",
       "      <td>...</td>\n",
       "    </tr>\n",
       "    <tr>\n",
       "      <th>995</th>\n",
       "      <td>0.220061</td>\n",
       "      <td>-0.015905</td>\n",
       "      <td>-0.126731</td>\n",
       "      <td>-0.198277</td>\n",
       "      <td>-0.032091</td>\n",
       "      <td>-0.446172</td>\n",
       "      <td>-0.279805</td>\n",
       "      <td>-0.150247</td>\n",
       "      <td>-0.399941</td>\n",
       "      <td>0.222755</td>\n",
       "      <td>1.0</td>\n",
       "    </tr>\n",
       "    <tr>\n",
       "      <th>996</th>\n",
       "      <td>0.240172</td>\n",
       "      <td>-0.010125</td>\n",
       "      <td>-0.132276</td>\n",
       "      <td>-0.324234</td>\n",
       "      <td>0.086649</td>\n",
       "      <td>-0.445843</td>\n",
       "      <td>-0.388274</td>\n",
       "      <td>-0.006090</td>\n",
       "      <td>-0.378945</td>\n",
       "      <td>-0.041089</td>\n",
       "      <td>1.0</td>\n",
       "    </tr>\n",
       "    <tr>\n",
       "      <th>997</th>\n",
       "      <td>0.326055</td>\n",
       "      <td>0.016412</td>\n",
       "      <td>-0.128606</td>\n",
       "      <td>-0.335340</td>\n",
       "      <td>0.194411</td>\n",
       "      <td>-0.419720</td>\n",
       "      <td>-0.386108</td>\n",
       "      <td>0.060010</td>\n",
       "      <td>-0.372052</td>\n",
       "      <td>-0.184208</td>\n",
       "      <td>1.0</td>\n",
       "    </tr>\n",
       "    <tr>\n",
       "      <th>998</th>\n",
       "      <td>0.342461</td>\n",
       "      <td>-0.041919</td>\n",
       "      <td>-0.122903</td>\n",
       "      <td>-0.331123</td>\n",
       "      <td>0.236781</td>\n",
       "      <td>-0.378248</td>\n",
       "      <td>-0.368269</td>\n",
       "      <td>0.096951</td>\n",
       "      <td>-0.355019</td>\n",
       "      <td>-0.184208</td>\n",
       "      <td>1.0</td>\n",
       "    </tr>\n",
       "    <tr>\n",
       "      <th>999</th>\n",
       "      <td>0.190791</td>\n",
       "      <td>-0.007812</td>\n",
       "      <td>-0.010447</td>\n",
       "      <td>-0.343863</td>\n",
       "      <td>0.040872</td>\n",
       "      <td>-0.411884</td>\n",
       "      <td>-0.386850</td>\n",
       "      <td>-0.001485</td>\n",
       "      <td>-0.362981</td>\n",
       "      <td>-0.093665</td>\n",
       "      <td>1.0</td>\n",
       "    </tr>\n",
       "  </tbody>\n",
       "</table>\n",
       "<p>1000 rows × 11 columns</p>\n",
       "</div>"
      ],
      "text/plain": [
       "           0         1         2         3         4         5         6   \\\n",
       "0    0.257178 -0.023285 -0.014654 -0.938404 -0.920091 -0.667683 -0.952501   \n",
       "1    0.286027 -0.013163 -0.119083 -0.975415 -0.967458 -0.944958 -0.986799   \n",
       "2    0.275485 -0.026050 -0.118152 -0.993819 -0.969926 -0.962748 -0.994403   \n",
       "3    0.270298 -0.032614 -0.117520 -0.994743 -0.973268 -0.967091 -0.995274   \n",
       "4    0.274833 -0.027848 -0.129527 -0.993852 -0.967445 -0.978295 -0.994111   \n",
       "..        ...       ...       ...       ...       ...       ...       ...   \n",
       "995  0.220061 -0.015905 -0.126731 -0.198277 -0.032091 -0.446172 -0.279805   \n",
       "996  0.240172 -0.010125 -0.132276 -0.324234  0.086649 -0.445843 -0.388274   \n",
       "997  0.326055  0.016412 -0.128606 -0.335340  0.194411 -0.419720 -0.386108   \n",
       "998  0.342461 -0.041919 -0.122903 -0.331123  0.236781 -0.378248 -0.368269   \n",
       "999  0.190791 -0.007812 -0.010447 -0.343863  0.040872 -0.411884 -0.386850   \n",
       "\n",
       "           7         8         9    10  \n",
       "0   -0.925249 -0.674302 -0.894088  5.0  \n",
       "1   -0.968401 -0.945823 -0.894088  5.0  \n",
       "2   -0.970735 -0.963483 -0.939260  5.0  \n",
       "3   -0.974471 -0.968897 -0.938610  5.0  \n",
       "4   -0.965953 -0.977346 -0.938610  5.0  \n",
       "..        ...       ...       ...  ...  \n",
       "995 -0.150247 -0.399941  0.222755  1.0  \n",
       "996 -0.006090 -0.378945 -0.041089  1.0  \n",
       "997  0.060010 -0.372052 -0.184208  1.0  \n",
       "998  0.096951 -0.355019 -0.184208  1.0  \n",
       "999 -0.001485 -0.362981 -0.093665  1.0  \n",
       "\n",
       "[1000 rows x 11 columns]"
      ]
     },
     "execution_count": 16,
     "metadata": {},
     "output_type": "execute_result"
    }
   ],
   "source": [
    "test_data = pd.concat([X_test, y_test], ignore_index=True , axis=1)\n",
    "test_data"
   ]
  },
  {
   "cell_type": "code",
   "execution_count": 17,
   "id": "0021b03f",
   "metadata": {},
   "outputs": [],
   "source": [
    "# scale data before pca\n",
    "from sklearn.preprocessing import StandardScaler\n",
    "scaler = StandardScaler()\n",
    "X_train = scaler.fit_transform(X_train)\n",
    "X_test = scaler.transform(X_test)"
   ]
  },
  {
   "cell_type": "markdown",
   "id": "1f38c26e",
   "metadata": {},
   "source": [
    "# Principal Component Analysis (PCA)"
   ]
  },
  {
   "cell_type": "code",
   "execution_count": 18,
   "id": "b3e01ecb",
   "metadata": {},
   "outputs": [],
   "source": [
    "from sklearn.decomposition import PCA\n",
    "data_pca_all=PCA(n_components=None)\n",
    "pca_components = data_pca_all.fit(X_train)\n",
    "X_train_pca_all = pca_components.transform(X_train)\n",
    "X_test_pca_all = pca_components.transform(X_test)"
   ]
  },
  {
   "cell_type": "code",
   "execution_count": 19,
   "id": "bef539e8",
   "metadata": {},
   "outputs": [
    {
     "data": {
      "text/plain": [
       "array([6.40052919e+00, 1.10093976e+00, 9.97881800e-01, 9.13416805e-01,\n",
       "       3.81955283e-01, 1.77166221e-01, 2.80599524e-02, 2.54202895e-03,\n",
       "       1.92159142e-03, 5.89874906e-04])"
      ]
     },
     "execution_count": 19,
     "metadata": {},
     "output_type": "execute_result"
    }
   ],
   "source": [
    "pca_components.explained_variance_"
   ]
  },
  {
   "cell_type": "code",
   "execution_count": 20,
   "id": "a89879d6",
   "metadata": {},
   "outputs": [
    {
     "data": {
      "text/plain": [
       "0.9408061165309529"
      ]
     },
     "execution_count": 20,
     "metadata": {},
     "output_type": "execute_result"
    }
   ],
   "source": [
    "sum(pca_components.explained_variance_ratio_[:4])"
   ]
  },
  {
   "cell_type": "code",
   "execution_count": 21,
   "id": "b72c50bd",
   "metadata": {},
   "outputs": [
    {
     "data": {
      "text/plain": [
       "0.9789825471008299"
      ]
     },
     "execution_count": 21,
     "metadata": {},
     "output_type": "execute_result"
    }
   ],
   "source": [
    "sum(pca_components.explained_variance_ratio_[:5])"
   ]
  },
  {
   "cell_type": "code",
   "execution_count": 22,
   "id": "54a852e8",
   "metadata": {},
   "outputs": [
    {
     "data": {
      "text/plain": [
       "0.9966903109027904"
      ]
     },
     "execution_count": 22,
     "metadata": {},
     "output_type": "execute_result"
    }
   ],
   "source": [
    "sum(pca_components.explained_variance_ratio_[:6])"
   ]
  },
  {
   "cell_type": "code",
   "execution_count": 23,
   "id": "8141a2aa",
   "metadata": {},
   "outputs": [
    {
     "data": {
      "text/plain": [
       "SVC(kernel='linear')"
      ]
     },
     "execution_count": 23,
     "metadata": {},
     "output_type": "execute_result"
    }
   ],
   "source": [
    "from sklearn.svm import SVC\n",
    "svc_clf = SVC(kernel=\"linear\")\n",
    "svc_clf.fit(X_train_pca_all, np.ravel(y_train))"
   ]
  },
  {
   "cell_type": "code",
   "execution_count": 24,
   "id": "aab9a6d4",
   "metadata": {},
   "outputs": [],
   "source": [
    "y_predict = svc_clf.predict(X_test_pca_all)"
   ]
  },
  {
   "cell_type": "code",
   "execution_count": 25,
   "id": "9c7626cb",
   "metadata": {},
   "outputs": [
    {
     "name": "stdout",
     "output_type": "stream",
     "text": [
      "              precision    recall  f1-score   support\n",
      "\n",
      "         1.0       0.62      0.73      0.67       186\n",
      "         2.0       0.55      0.44      0.49       149\n",
      "         3.0       0.93      0.92      0.92       134\n",
      "         4.0       0.82      0.05      0.10       170\n",
      "         5.0       0.42      0.90      0.57       178\n",
      "         6.0       0.79      0.60      0.68       183\n",
      "\n",
      "    accuracy                           0.60      1000\n",
      "   macro avg       0.69      0.61      0.57      1000\n",
      "weighted avg       0.68      0.60      0.57      1000\n",
      "\n"
     ]
    }
   ],
   "source": [
    "from sklearn.metrics import classification_report\n",
    "print(classification_report(y_test, y_predict))"
   ]
  },
  {
   "cell_type": "code",
   "execution_count": 26,
   "id": "508312f7",
   "metadata": {},
   "outputs": [],
   "source": [
    "data_pca=PCA(n_components=6)\n",
    "X_train_pca = data_pca.fit_transform(X_train)\n",
    "X_test_pca = data_pca.transform(X_test)"
   ]
  },
  {
   "cell_type": "code",
   "execution_count": 27,
   "id": "f08ccf50",
   "metadata": {},
   "outputs": [
    {
     "data": {
      "text/plain": [
       "SVC(kernel='linear')"
      ]
     },
     "execution_count": 27,
     "metadata": {},
     "output_type": "execute_result"
    }
   ],
   "source": [
    "from sklearn.svm import SVC\n",
    "svc_clf = SVC(kernel=\"linear\")\n",
    "svc_clf.fit(X_train_pca, np.ravel(y_train))"
   ]
  },
  {
   "cell_type": "code",
   "execution_count": 28,
   "id": "c0d0d0eb",
   "metadata": {},
   "outputs": [],
   "source": [
    "y_predict = svc_clf.predict(X_test_pca)"
   ]
  },
  {
   "cell_type": "code",
   "execution_count": 29,
   "id": "cb764502",
   "metadata": {},
   "outputs": [
    {
     "name": "stdout",
     "output_type": "stream",
     "text": [
      "              precision    recall  f1-score   support\n",
      "\n",
      "         1.0       0.64      0.73      0.68       186\n",
      "         2.0       0.53      0.42      0.47       149\n",
      "         3.0       0.84      0.85      0.84       134\n",
      "         4.0       0.75      0.05      0.10       170\n",
      "         5.0       0.42      0.83      0.56       178\n",
      "         6.0       0.73      0.67      0.70       183\n",
      "\n",
      "    accuracy                           0.59      1000\n",
      "   macro avg       0.65      0.59      0.56      1000\n",
      "weighted avg       0.64      0.59      0.55      1000\n",
      "\n"
     ]
    }
   ],
   "source": [
    "print(classification_report(y_test, y_predict))"
   ]
  },
  {
   "cell_type": "markdown",
   "id": "9eb2b68f",
   "metadata": {},
   "source": [
    "# Linear Discriminant Analysis (LDA)"
   ]
  },
  {
   "cell_type": "code",
   "execution_count": 30,
   "id": "ac50999a",
   "metadata": {},
   "outputs": [],
   "source": [
    "from sklearn.discriminant_analysis import LinearDiscriminantAnalysis as LDA\n",
    "data_lda = LDA(n_components=None)\n",
    "lda_components = data_lda.fit(X_train, np.ravel(y_train))\n",
    "X_train_lda_all = data_lda.transform(X_train)\n",
    "X_test_lda_all = data_lda.transform(X_test)"
   ]
  },
  {
   "cell_type": "code",
   "execution_count": 31,
   "id": "1ed91ce3",
   "metadata": {},
   "outputs": [
    {
     "data": {
      "text/plain": [
       "array([1., 2., 3., 4., 5., 6.])"
      ]
     },
     "execution_count": 31,
     "metadata": {},
     "output_type": "execute_result"
    }
   ],
   "source": [
    "lda_components.classes_"
   ]
  },
  {
   "cell_type": "code",
   "execution_count": 32,
   "id": "efe39c7d",
   "metadata": {},
   "outputs": [
    {
     "data": {
      "text/plain": [
       "array([9.42510951e-01, 4.80621812e-02, 8.39530062e-03, 8.32934186e-04,\n",
       "       1.98632523e-04])"
      ]
     },
     "execution_count": 32,
     "metadata": {},
     "output_type": "execute_result"
    }
   ],
   "source": [
    "lda_components.explained_variance_ratio_"
   ]
  },
  {
   "cell_type": "code",
   "execution_count": 33,
   "id": "a6ebb6b0",
   "metadata": {},
   "outputs": [
    {
     "data": {
      "text/plain": [
       "0.9998013674774467"
      ]
     },
     "execution_count": 33,
     "metadata": {},
     "output_type": "execute_result"
    }
   ],
   "source": [
    "sum(lda_components.explained_variance_ratio_[:4])"
   ]
  },
  {
   "cell_type": "code",
   "execution_count": 34,
   "id": "d41abcd8",
   "metadata": {},
   "outputs": [
    {
     "data": {
      "text/plain": [
       "0.998968433291818"
      ]
     },
     "execution_count": 34,
     "metadata": {},
     "output_type": "execute_result"
    }
   ],
   "source": [
    "sum(lda_components.explained_variance_ratio_[:3])"
   ]
  },
  {
   "cell_type": "code",
   "execution_count": 35,
   "id": "b005af77",
   "metadata": {},
   "outputs": [
    {
     "data": {
      "text/plain": [
       "0.9905731326691956"
      ]
     },
     "execution_count": 35,
     "metadata": {},
     "output_type": "execute_result"
    }
   ],
   "source": [
    "sum(lda_components.explained_variance_ratio_[:2])"
   ]
  },
  {
   "cell_type": "code",
   "execution_count": 36,
   "id": "05753e32",
   "metadata": {},
   "outputs": [
    {
     "data": {
      "text/plain": [
       "0.9425109514763355"
      ]
     },
     "execution_count": 36,
     "metadata": {},
     "output_type": "execute_result"
    }
   ],
   "source": [
    "sum(lda_components.explained_variance_ratio_[:1])"
   ]
  },
  {
   "cell_type": "code",
   "execution_count": 37,
   "id": "d5feea12",
   "metadata": {},
   "outputs": [
    {
     "data": {
      "text/plain": [
       "array([0.94251095, 0.04806218])"
      ]
     },
     "execution_count": 37,
     "metadata": {},
     "output_type": "execute_result"
    }
   ],
   "source": [
    "lda_components.explained_variance_ratio_[:2]"
   ]
  },
  {
   "cell_type": "code",
   "execution_count": 38,
   "id": "29633d89",
   "metadata": {},
   "outputs": [],
   "source": [
    "svc_clf = SVC(kernel=\"linear\")\n",
    "svc_clf.fit(X_train_lda_all, np.ravel(y_train))\n",
    "y_predict = svc_clf.predict(X_test_lda_all)"
   ]
  },
  {
   "cell_type": "code",
   "execution_count": 39,
   "id": "4988bd19",
   "metadata": {},
   "outputs": [
    {
     "name": "stdout",
     "output_type": "stream",
     "text": [
      "              precision    recall  f1-score   support\n",
      "\n",
      "         1.0       0.72      0.72      0.72       186\n",
      "         2.0       0.61      0.60      0.61       149\n",
      "         3.0       0.91      0.93      0.92       134\n",
      "         4.0       0.64      0.04      0.08       170\n",
      "         5.0       0.43      0.71      0.54       178\n",
      "         6.0       0.63      0.77      0.69       183\n",
      "\n",
      "    accuracy                           0.62      1000\n",
      "   macro avg       0.66      0.63      0.59      1000\n",
      "weighted avg       0.65      0.62      0.58      1000\n",
      "\n"
     ]
    }
   ],
   "source": [
    "print(classification_report(y_test, y_predict))"
   ]
  },
  {
   "cell_type": "code",
   "execution_count": 40,
   "id": "aa03c20b",
   "metadata": {},
   "outputs": [],
   "source": [
    "data_lda = LDA(n_components=2)\n",
    "X_train_lda = data_lda.fit_transform(X_train,np.ravel(y_train))\n",
    "X_test_lda = data_lda.transform(X_test)"
   ]
  },
  {
   "cell_type": "code",
   "execution_count": 41,
   "id": "665d311c",
   "metadata": {},
   "outputs": [],
   "source": [
    "svc_clf = SVC(kernel=\"linear\")\n",
    "svc_clf.fit(X_train_lda, np.ravel(y_train))\n",
    "y_predict = svc_clf.predict(X_test_lda)"
   ]
  },
  {
   "cell_type": "code",
   "execution_count": 42,
   "id": "3faeee2b",
   "metadata": {},
   "outputs": [
    {
     "name": "stdout",
     "output_type": "stream",
     "text": [
      "              precision    recall  f1-score   support\n",
      "\n",
      "         1.0       0.67      0.82      0.74       186\n",
      "         2.0       0.63      0.46      0.53       149\n",
      "         3.0       0.93      0.93      0.93       134\n",
      "         4.0       0.70      0.04      0.08       170\n",
      "         5.0       0.52      0.61      0.56       178\n",
      "         6.0       0.50      0.85      0.63       183\n",
      "\n",
      "    accuracy                           0.62      1000\n",
      "   macro avg       0.66      0.62      0.58      1000\n",
      "weighted avg       0.65      0.62      0.57      1000\n",
      "\n"
     ]
    }
   ],
   "source": [
    "print(classification_report(y_test, y_predict))"
   ]
  },
  {
   "cell_type": "code",
   "execution_count": null,
   "id": "5c6aa3d7",
   "metadata": {},
   "outputs": [],
   "source": []
  }
 ],
 "metadata": {
  "kernelspec": {
   "display_name": "Python 3",
   "language": "python",
   "name": "python3"
  },
  "language_info": {
   "codemirror_mode": {
    "name": "ipython",
    "version": 3
   },
   "file_extension": ".py",
   "mimetype": "text/x-python",
   "name": "python",
   "nbconvert_exporter": "python",
   "pygments_lexer": "ipython3",
   "version": "3.8.8"
  }
 },
 "nbformat": 4,
 "nbformat_minor": 5
}
