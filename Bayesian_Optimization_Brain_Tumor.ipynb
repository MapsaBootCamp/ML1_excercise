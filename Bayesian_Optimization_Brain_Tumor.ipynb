{
 "cells": [
  {
   "cell_type": "code",
   "execution_count": 1,
   "id": "5fda4acb",
   "metadata": {
    "scrolled": true
   },
   "outputs": [
    {
     "name": "stdout",
     "output_type": "stream",
     "text": [
      "Requirement already satisfied: opencv-python in /opt/anaconda3/lib/python3.8/site-packages (4.5.4.58)\n",
      "Requirement already satisfied: numpy>=1.17.3 in /opt/anaconda3/lib/python3.8/site-packages (from opencv-python) (1.20.1)\n",
      "Note: you may need to restart the kernel to use updated packages.\n"
     ]
    }
   ],
   "source": [
    "pip install opencv-python"
   ]
  },
  {
   "cell_type": "code",
   "execution_count": 2,
   "id": "a53080d9",
   "metadata": {},
   "outputs": [
    {
     "name": "stdout",
     "output_type": "stream",
     "text": [
      "Requirement already satisfied: keras-tuner in /opt/anaconda3/lib/python3.8/site-packages (1.1.0)\n",
      "Requirement already satisfied: ipython in /opt/anaconda3/lib/python3.8/site-packages (from keras-tuner) (7.22.0)\n",
      "Requirement already satisfied: requests in /opt/anaconda3/lib/python3.8/site-packages (from keras-tuner) (2.25.1)\n",
      "Requirement already satisfied: kt-legacy in /opt/anaconda3/lib/python3.8/site-packages (from keras-tuner) (1.0.4)\n",
      "Requirement already satisfied: numpy in /opt/anaconda3/lib/python3.8/site-packages (from keras-tuner) (1.20.1)\n",
      "Requirement already satisfied: scipy in /opt/anaconda3/lib/python3.8/site-packages (from keras-tuner) (1.6.2)\n",
      "Requirement already satisfied: packaging in /opt/anaconda3/lib/python3.8/site-packages (from keras-tuner) (20.9)\n",
      "Requirement already satisfied: tensorboard in /opt/anaconda3/lib/python3.8/site-packages (from keras-tuner) (2.7.0)\n",
      "Requirement already satisfied: appnope in /opt/anaconda3/lib/python3.8/site-packages (from ipython->keras-tuner) (0.1.2)\n",
      "Requirement already satisfied: jedi>=0.16 in /opt/anaconda3/lib/python3.8/site-packages (from ipython->keras-tuner) (0.17.2)\n",
      "Requirement already satisfied: traitlets>=4.2 in /opt/anaconda3/lib/python3.8/site-packages (from ipython->keras-tuner) (5.0.5)\n",
      "Requirement already satisfied: pickleshare in /opt/anaconda3/lib/python3.8/site-packages (from ipython->keras-tuner) (0.7.5)\n",
      "Requirement already satisfied: pygments in /opt/anaconda3/lib/python3.8/site-packages (from ipython->keras-tuner) (2.8.1)\n",
      "Requirement already satisfied: backcall in /opt/anaconda3/lib/python3.8/site-packages (from ipython->keras-tuner) (0.2.0)\n",
      "Requirement already satisfied: prompt-toolkit!=3.0.0,!=3.0.1,<3.1.0,>=2.0.0 in /opt/anaconda3/lib/python3.8/site-packages (from ipython->keras-tuner) (3.0.17)\n",
      "Requirement already satisfied: pexpect>4.3 in /opt/anaconda3/lib/python3.8/site-packages (from ipython->keras-tuner) (4.8.0)\n",
      "Requirement already satisfied: decorator in /opt/anaconda3/lib/python3.8/site-packages (from ipython->keras-tuner) (5.0.6)\n",
      "Requirement already satisfied: setuptools>=18.5 in /opt/anaconda3/lib/python3.8/site-packages (from ipython->keras-tuner) (52.0.0.post20210125)\n",
      "Requirement already satisfied: parso<0.8.0,>=0.7.0 in /opt/anaconda3/lib/python3.8/site-packages (from jedi>=0.16->ipython->keras-tuner) (0.7.0)\n",
      "Requirement already satisfied: ptyprocess>=0.5 in /opt/anaconda3/lib/python3.8/site-packages (from pexpect>4.3->ipython->keras-tuner) (0.7.0)\n",
      "Requirement already satisfied: wcwidth in /opt/anaconda3/lib/python3.8/site-packages (from prompt-toolkit!=3.0.0,!=3.0.1,<3.1.0,>=2.0.0->ipython->keras-tuner) (0.2.5)\n",
      "Requirement already satisfied: ipython-genutils in /opt/anaconda3/lib/python3.8/site-packages (from traitlets>=4.2->ipython->keras-tuner) (0.2.0)\n",
      "Requirement already satisfied: pyparsing>=2.0.2 in /opt/anaconda3/lib/python3.8/site-packages (from packaging->keras-tuner) (2.4.7)\n",
      "Requirement already satisfied: chardet<5,>=3.0.2 in /opt/anaconda3/lib/python3.8/site-packages (from requests->keras-tuner) (4.0.0)\n",
      "Requirement already satisfied: idna<3,>=2.5 in /opt/anaconda3/lib/python3.8/site-packages (from requests->keras-tuner) (2.10)\n",
      "Requirement already satisfied: urllib3<1.27,>=1.21.1 in /opt/anaconda3/lib/python3.8/site-packages (from requests->keras-tuner) (1.26.4)\n",
      "Requirement already satisfied: certifi>=2017.4.17 in /opt/anaconda3/lib/python3.8/site-packages (from requests->keras-tuner) (2020.12.5)\n",
      "Requirement already satisfied: google-auth-oauthlib<0.5,>=0.4.1 in /opt/anaconda3/lib/python3.8/site-packages (from tensorboard->keras-tuner) (0.4.6)\n",
      "Requirement already satisfied: absl-py>=0.4 in /opt/anaconda3/lib/python3.8/site-packages (from tensorboard->keras-tuner) (1.0.0)\n",
      "Requirement already satisfied: werkzeug>=0.11.15 in /opt/anaconda3/lib/python3.8/site-packages (from tensorboard->keras-tuner) (1.0.1)\n",
      "Requirement already satisfied: protobuf>=3.6.0 in /opt/anaconda3/lib/python3.8/site-packages (from tensorboard->keras-tuner) (3.19.1)\n",
      "Requirement already satisfied: markdown>=2.6.8 in /opt/anaconda3/lib/python3.8/site-packages (from tensorboard->keras-tuner) (3.3.6)\n",
      "Requirement already satisfied: tensorboard-plugin-wit>=1.6.0 in /opt/anaconda3/lib/python3.8/site-packages (from tensorboard->keras-tuner) (1.8.0)\n",
      "Requirement already satisfied: google-auth<3,>=1.6.3 in /opt/anaconda3/lib/python3.8/site-packages (from tensorboard->keras-tuner) (2.3.3)\n",
      "Requirement already satisfied: grpcio>=1.24.3 in /opt/anaconda3/lib/python3.8/site-packages (from tensorboard->keras-tuner) (1.42.0)\n",
      "Requirement already satisfied: wheel>=0.26 in /opt/anaconda3/lib/python3.8/site-packages (from tensorboard->keras-tuner) (0.36.2)\n",
      "Requirement already satisfied: tensorboard-data-server<0.7.0,>=0.6.0 in /opt/anaconda3/lib/python3.8/site-packages (from tensorboard->keras-tuner) (0.6.1)\n",
      "Requirement already satisfied: six in /opt/anaconda3/lib/python3.8/site-packages (from absl-py>=0.4->tensorboard->keras-tuner) (1.15.0)\n",
      "Requirement already satisfied: pyasn1-modules>=0.2.1 in /opt/anaconda3/lib/python3.8/site-packages (from google-auth<3,>=1.6.3->tensorboard->keras-tuner) (0.2.8)\n",
      "Requirement already satisfied: rsa<5,>=3.1.4 in /opt/anaconda3/lib/python3.8/site-packages (from google-auth<3,>=1.6.3->tensorboard->keras-tuner) (4.7.2)\n",
      "Requirement already satisfied: cachetools<5.0,>=2.0.0 in /opt/anaconda3/lib/python3.8/site-packages (from google-auth<3,>=1.6.3->tensorboard->keras-tuner) (4.2.4)\n",
      "Requirement already satisfied: requests-oauthlib>=0.7.0 in /opt/anaconda3/lib/python3.8/site-packages (from google-auth-oauthlib<0.5,>=0.4.1->tensorboard->keras-tuner) (1.3.0)\n",
      "Requirement already satisfied: importlib-metadata>=4.4 in /opt/anaconda3/lib/python3.8/site-packages (from markdown>=2.6.8->tensorboard->keras-tuner) (4.8.2)\n",
      "Requirement already satisfied: zipp>=0.5 in /opt/anaconda3/lib/python3.8/site-packages (from importlib-metadata>=4.4->markdown>=2.6.8->tensorboard->keras-tuner) (3.4.1)\n",
      "Requirement already satisfied: pyasn1<0.5.0,>=0.4.6 in /opt/anaconda3/lib/python3.8/site-packages (from pyasn1-modules>=0.2.1->google-auth<3,>=1.6.3->tensorboard->keras-tuner) (0.4.8)\n",
      "Requirement already satisfied: oauthlib>=3.0.0 in /opt/anaconda3/lib/python3.8/site-packages (from requests-oauthlib>=0.7.0->google-auth-oauthlib<0.5,>=0.4.1->tensorboard->keras-tuner) (3.1.1)\n",
      "Note: you may need to restart the kernel to use updated packages.\n"
     ]
    }
   ],
   "source": [
    "pip install keras-tuner --upgrade"
   ]
  },
  {
   "cell_type": "code",
   "execution_count": 3,
   "id": "e5ec198a",
   "metadata": {},
   "outputs": [],
   "source": [
    "import numpy as np\n",
    "import pandas as pd\n",
    "import matplotlib.pyplot as plt\n",
    "import glob\n",
    "import cv2"
   ]
  },
  {
   "cell_type": "code",
   "execution_count": 4,
   "id": "b9c4ceab",
   "metadata": {},
   "outputs": [
    {
     "data": {
      "text/plain": [
       "98"
      ]
     },
     "execution_count": 4,
     "metadata": {},
     "output_type": "execute_result"
    }
   ],
   "source": [
    "images_yes = [cv2.imread(file) for file in glob.glob(\"data/yes/*.*\")]\n",
    "images_no = [cv2.imread(file) for file in glob.glob(\"data/no/*.*\")]\n",
    "len(images_no)"
   ]
  },
  {
   "cell_type": "code",
   "execution_count": 33,
   "id": "bf8e58d0",
   "metadata": {},
   "outputs": [],
   "source": [
    "def image_crop(image_path):\n",
    "    cropped_image = []\n",
    "    for i in image_path:\n",
    "        if i is None:\n",
    "            pass\n",
    "        else:\n",
    "            image = cv2.resize(i , (128, 128))\n",
    "        \n",
    "        #The initial processing of the image\n",
    "        image = cv2.medianBlur(image, 3)\n",
    "        image_bw = cv2.cvtColor(image, cv2.COLOR_BGR2GRAY)\n",
    "\n",
    "        #The declaration of CLAHE \n",
    "        #clipLimit -> Threshold for contrast limiting\n",
    "        clahe = cv2.createCLAHE(clipLimit = 5)\n",
    "        final_img = clahe.apply(image_bw)\n",
    "        cropped_image.append(final_img)\n",
    "    cropped_image = np.array(cropped_image)\n",
    "    return cropped_image"
   ]
  },
  {
   "cell_type": "code",
   "execution_count": 34,
   "id": "7f3387fa",
   "metadata": {},
   "outputs": [],
   "source": [
    "cropped_images_no = image_crop(images_no)\n",
    "cropped_images_yes = image_crop(images_yes)"
   ]
  },
  {
   "cell_type": "code",
   "execution_count": 35,
   "id": "c3db3bc6",
   "metadata": {},
   "outputs": [],
   "source": [
    "y_yes = np.ones(len(cropped_images_yes), dtype=\"int8\")\n",
    "y_no = np.zeros(len(cropped_images_no), dtype=\"int8\")"
   ]
  },
  {
   "cell_type": "code",
   "execution_count": 36,
   "id": "20edfc92",
   "metadata": {},
   "outputs": [],
   "source": [
    "X = np.concatenate((cropped_images_yes, cropped_images_no), axis=0)\n",
    "y = np.concatenate((y_yes, y_no), axis=0)\n",
    "\n",
    "# d1, d2, d3 = X.shape\n",
    "# X = X.reshape((d1, d2 * d3))"
   ]
  },
  {
   "cell_type": "code",
   "execution_count": 37,
   "id": "ba4b8830",
   "metadata": {},
   "outputs": [],
   "source": [
    "from sklearn.model_selection import train_test_split\n",
    "\n",
    "X_train, X_test, y_train, y_test = train_test_split(X, y, test_size=0.2, random_state=42)"
   ]
  },
  {
   "cell_type": "code",
   "execution_count": 38,
   "id": "b04a1f69",
   "metadata": {},
   "outputs": [],
   "source": [
    "from keras_tuner.engine.hyperparameters import HyperParameters\n",
    "hp = HyperParameters()"
   ]
  },
  {
   "cell_type": "code",
   "execution_count": 39,
   "id": "a0ca0a83",
   "metadata": {},
   "outputs": [
    {
     "name": "stdout",
     "output_type": "stream",
     "text": [
      "Model: \"sequential\"\n",
      "_________________________________________________________________\n",
      " Layer (type)                Output Shape              Param #   \n",
      "=================================================================\n",
      " rescaling (Rescaling)       (None, 128, 128)          0         \n",
      "                                                                 \n",
      " flatten (Flatten)           (None, 16384)             0         \n",
      "                                                                 \n",
      " dense (Dense)               (None, 128)               2097280   \n",
      "                                                                 \n",
      " dense_1 (Dense)             (None, 128)               16512     \n",
      "                                                                 \n",
      " dense_2 (Dense)             (None, 10)                1290      \n",
      "                                                                 \n",
      "=================================================================\n",
      "Total params: 2,115,082\n",
      "Trainable params: 2,115,082\n",
      "Non-trainable params: 0\n",
      "_________________________________________________________________\n"
     ]
    }
   ],
   "source": [
    "import tensorflow as tf\n",
    "from tensorflow import keras\n",
    "from tensorflow.keras import models\n",
    "\n",
    "def build_model(hp):\n",
    "    \n",
    "    model = keras.models.Sequential()\n",
    "\n",
    "    model.add(keras.layers.experimental.preprocessing.Rescaling(scale=1.0/255, input_shape=(128, 128)))\n",
    "    model.add(keras.layers.Flatten())\n",
    "    model.add(keras.layers.Dense(128, activation='relu'))\n",
    "    model.add(keras.layers.Dense(10, activation='softmax'))\n",
    "    model.compile(optimizer='adam', loss=keras.losses.sparse_categorical_crossentropy, metrics=['accuracy'])\n",
    "\n",
    "    return model\n",
    "\n",
    "model.summary()"
   ]
  },
  {
   "cell_type": "code",
   "execution_count": 40,
   "id": "700ccae8",
   "metadata": {
    "scrolled": true
   },
   "outputs": [
    {
     "name": "stdout",
     "output_type": "stream",
     "text": [
      "INFO:tensorflow:Reloading Oracle from existing project ./untitled_project/oracle.json\n"
     ]
    }
   ],
   "source": [
    "import keras_tuner as kt\n",
    "\n",
    "tuner = kt.BayesianOptimization(build_model, hyperparameters = hp, objective = 'val_loss')"
   ]
  },
  {
   "cell_type": "code",
   "execution_count": 41,
   "id": "d5017478",
   "metadata": {},
   "outputs": [
    {
     "name": "stdout",
     "output_type": "stream",
     "text": [
      "Trial 2 Complete [00h 00m 02s]\n",
      "val_loss: 2.4832985401153564\n",
      "\n",
      "Best val_loss So Far: 2.4832985401153564\n",
      "Total elapsed time: 00h 00m 02s\n",
      "INFO:tensorflow:Oracle triggered exit\n"
     ]
    }
   ],
   "source": [
    "tuner.search(X_train, y_train, validation_split = 0.2, batch_size = 32, epochs = 5)\n",
    "\n",
    "best_model = tuner.get_best_models()[0]"
   ]
  },
  {
   "cell_type": "code",
   "execution_count": 42,
   "id": "04794900",
   "metadata": {},
   "outputs": [
    {
     "name": "stdout",
     "output_type": "stream",
     "text": [
      "Epoch 1/5\n",
      "7/7 [==============================] - 1s 17ms/step - loss: 1.4752 - accuracy: 0.7871\n",
      "Epoch 2/5\n",
      "7/7 [==============================] - 0s 20ms/step - loss: 1.3417 - accuracy: 0.7277\n",
      "Epoch 3/5\n",
      "7/7 [==============================] - 0s 22ms/step - loss: 0.7957 - accuracy: 0.8020\n",
      "Epoch 4/5\n",
      "7/7 [==============================] - 0s 19ms/step - loss: 0.3548 - accuracy: 0.8812\n",
      "Epoch 5/5\n",
      "7/7 [==============================] - 0s 21ms/step - loss: 0.4855 - accuracy: 0.8762\n"
     ]
    }
   ],
   "source": [
    "history = best_model.fit(X_train, y_train, epochs=5)"
   ]
  },
  {
   "cell_type": "code",
   "execution_count": 44,
   "id": "91196d8e",
   "metadata": {},
   "outputs": [
    {
     "name": "stdout",
     "output_type": "stream",
     "text": [
      "2/2 [==============================] - 0s 11ms/step - loss: 0.7228 - accuracy: 0.7647\n",
      "0.7647058963775635\n"
     ]
    }
   ],
   "source": [
    "test_loss, test_acc = best_model.evaluate(X_test, y_test)\n",
    "print(test_acc)"
   ]
  }
 ],
 "metadata": {
  "kernelspec": {
   "display_name": "Python 3",
   "language": "python",
   "name": "python3"
  },
  "language_info": {
   "codemirror_mode": {
    "name": "ipython",
    "version": 3
   },
   "file_extension": ".py",
   "mimetype": "text/x-python",
   "name": "python",
   "nbconvert_exporter": "python",
   "pygments_lexer": "ipython3",
   "version": "3.8.8"
  }
 },
 "nbformat": 4,
 "nbformat_minor": 5
}
