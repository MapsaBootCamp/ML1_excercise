{
  "nbformat": 4,
  "nbformat_minor": 0,
  "metadata": {
    "colab": {
      "name": "Gan_Model_ExcerciseClass_revised.ipynb",
      "provenance": []
    },
    "kernelspec": {
      "name": "python3",
      "display_name": "Python 3"
    },
    "language_info": {
      "name": "python"
    },
    "accelerator": "GPU"
  },
  "cells": [
    {
      "cell_type": "code",
      "execution_count": 66,
      "metadata": {
        "colab": {
          "base_uri": "https://localhost:8080/"
        },
        "id": "OB4Cwq3S-RSQ",
        "outputId": "b4341b8c-8caf-41c6-e25f-2429d9a828e0"
      },
      "outputs": [
        {
          "output_type": "stream",
          "name": "stdout",
          "text": [
            "Requirement already satisfied: tensorflow in /usr/local/lib/python3.7/dist-packages (2.8.0)\n",
            "Requirement already satisfied: google-pasta>=0.1.1 in /usr/local/lib/python3.7/dist-packages (from tensorflow) (0.2.0)\n",
            "Requirement already satisfied: keras<2.9,>=2.8.0rc0 in /usr/local/lib/python3.7/dist-packages (from tensorflow) (2.8.0)\n",
            "Requirement already satisfied: keras-preprocessing>=1.1.1 in /usr/local/lib/python3.7/dist-packages (from tensorflow) (1.1.2)\n",
            "Requirement already satisfied: tf-estimator-nightly==2.8.0.dev2021122109 in /usr/local/lib/python3.7/dist-packages (from tensorflow) (2.8.0.dev2021122109)\n",
            "Requirement already satisfied: flatbuffers>=1.12 in /usr/local/lib/python3.7/dist-packages (from tensorflow) (2.0)\n",
            "Requirement already satisfied: wrapt>=1.11.0 in /usr/local/lib/python3.7/dist-packages (from tensorflow) (1.13.3)\n",
            "Requirement already satisfied: libclang>=9.0.1 in /usr/local/lib/python3.7/dist-packages (from tensorflow) (13.0.0)\n",
            "Requirement already satisfied: gast>=0.2.1 in /usr/local/lib/python3.7/dist-packages (from tensorflow) (0.5.3)\n",
            "Requirement already satisfied: typing-extensions>=3.6.6 in /usr/local/lib/python3.7/dist-packages (from tensorflow) (3.10.0.2)\n",
            "Requirement already satisfied: protobuf>=3.9.2 in /usr/local/lib/python3.7/dist-packages (from tensorflow) (3.17.3)\n",
            "Requirement already satisfied: astunparse>=1.6.0 in /usr/local/lib/python3.7/dist-packages (from tensorflow) (1.6.3)\n",
            "Requirement already satisfied: setuptools in /usr/local/lib/python3.7/dist-packages (from tensorflow) (57.4.0)\n",
            "Requirement already satisfied: tensorflow-io-gcs-filesystem>=0.23.1 in /usr/local/lib/python3.7/dist-packages (from tensorflow) (0.24.0)\n",
            "Requirement already satisfied: h5py>=2.9.0 in /usr/local/lib/python3.7/dist-packages (from tensorflow) (3.1.0)\n",
            "Requirement already satisfied: termcolor>=1.1.0 in /usr/local/lib/python3.7/dist-packages (from tensorflow) (1.1.0)\n",
            "Requirement already satisfied: tensorboard<2.9,>=2.8 in /usr/local/lib/python3.7/dist-packages (from tensorflow) (2.8.0)\n",
            "Requirement already satisfied: six>=1.12.0 in /usr/local/lib/python3.7/dist-packages (from tensorflow) (1.15.0)\n",
            "Requirement already satisfied: opt-einsum>=2.3.2 in /usr/local/lib/python3.7/dist-packages (from tensorflow) (3.3.0)\n",
            "Requirement already satisfied: grpcio<2.0,>=1.24.3 in /usr/local/lib/python3.7/dist-packages (from tensorflow) (1.43.0)\n",
            "Requirement already satisfied: absl-py>=0.4.0 in /usr/local/lib/python3.7/dist-packages (from tensorflow) (1.0.0)\n",
            "Requirement already satisfied: numpy>=1.20 in /usr/local/lib/python3.7/dist-packages (from tensorflow) (1.21.5)\n",
            "Requirement already satisfied: wheel<1.0,>=0.23.0 in /usr/local/lib/python3.7/dist-packages (from astunparse>=1.6.0->tensorflow) (0.37.1)\n",
            "Requirement already satisfied: cached-property in /usr/local/lib/python3.7/dist-packages (from h5py>=2.9.0->tensorflow) (1.5.2)\n",
            "Requirement already satisfied: requests<3,>=2.21.0 in /usr/local/lib/python3.7/dist-packages (from tensorboard<2.9,>=2.8->tensorflow) (2.23.0)\n",
            "Requirement already satisfied: google-auth-oauthlib<0.5,>=0.4.1 in /usr/local/lib/python3.7/dist-packages (from tensorboard<2.9,>=2.8->tensorflow) (0.4.6)\n",
            "Requirement already satisfied: tensorboard-data-server<0.7.0,>=0.6.0 in /usr/local/lib/python3.7/dist-packages (from tensorboard<2.9,>=2.8->tensorflow) (0.6.1)\n",
            "Requirement already satisfied: markdown>=2.6.8 in /usr/local/lib/python3.7/dist-packages (from tensorboard<2.9,>=2.8->tensorflow) (3.3.6)\n",
            "Requirement already satisfied: werkzeug>=0.11.15 in /usr/local/lib/python3.7/dist-packages (from tensorboard<2.9,>=2.8->tensorflow) (1.0.1)\n",
            "Requirement already satisfied: google-auth<3,>=1.6.3 in /usr/local/lib/python3.7/dist-packages (from tensorboard<2.9,>=2.8->tensorflow) (1.35.0)\n",
            "Requirement already satisfied: tensorboard-plugin-wit>=1.6.0 in /usr/local/lib/python3.7/dist-packages (from tensorboard<2.9,>=2.8->tensorflow) (1.8.1)\n",
            "Requirement already satisfied: pyasn1-modules>=0.2.1 in /usr/local/lib/python3.7/dist-packages (from google-auth<3,>=1.6.3->tensorboard<2.9,>=2.8->tensorflow) (0.2.8)\n",
            "Requirement already satisfied: rsa<5,>=3.1.4 in /usr/local/lib/python3.7/dist-packages (from google-auth<3,>=1.6.3->tensorboard<2.9,>=2.8->tensorflow) (4.8)\n",
            "Requirement already satisfied: cachetools<5.0,>=2.0.0 in /usr/local/lib/python3.7/dist-packages (from google-auth<3,>=1.6.3->tensorboard<2.9,>=2.8->tensorflow) (4.2.4)\n",
            "Requirement already satisfied: requests-oauthlib>=0.7.0 in /usr/local/lib/python3.7/dist-packages (from google-auth-oauthlib<0.5,>=0.4.1->tensorboard<2.9,>=2.8->tensorflow) (1.3.1)\n",
            "Requirement already satisfied: importlib-metadata>=4.4 in /usr/local/lib/python3.7/dist-packages (from markdown>=2.6.8->tensorboard<2.9,>=2.8->tensorflow) (4.11.0)\n",
            "Requirement already satisfied: zipp>=0.5 in /usr/local/lib/python3.7/dist-packages (from importlib-metadata>=4.4->markdown>=2.6.8->tensorboard<2.9,>=2.8->tensorflow) (3.7.0)\n",
            "Requirement already satisfied: pyasn1<0.5.0,>=0.4.6 in /usr/local/lib/python3.7/dist-packages (from pyasn1-modules>=0.2.1->google-auth<3,>=1.6.3->tensorboard<2.9,>=2.8->tensorflow) (0.4.8)\n",
            "Requirement already satisfied: urllib3!=1.25.0,!=1.25.1,<1.26,>=1.21.1 in /usr/local/lib/python3.7/dist-packages (from requests<3,>=2.21.0->tensorboard<2.9,>=2.8->tensorflow) (1.24.3)\n",
            "Requirement already satisfied: chardet<4,>=3.0.2 in /usr/local/lib/python3.7/dist-packages (from requests<3,>=2.21.0->tensorboard<2.9,>=2.8->tensorflow) (3.0.4)\n",
            "Requirement already satisfied: certifi>=2017.4.17 in /usr/local/lib/python3.7/dist-packages (from requests<3,>=2.21.0->tensorboard<2.9,>=2.8->tensorflow) (2021.10.8)\n",
            "Requirement already satisfied: idna<3,>=2.5 in /usr/local/lib/python3.7/dist-packages (from requests<3,>=2.21.0->tensorboard<2.9,>=2.8->tensorflow) (2.10)\n",
            "Requirement already satisfied: oauthlib>=3.0.0 in /usr/local/lib/python3.7/dist-packages (from requests-oauthlib>=0.7.0->google-auth-oauthlib<0.5,>=0.4.1->tensorboard<2.9,>=2.8->tensorflow) (3.2.0)\n"
          ]
        }
      ],
      "source": [
        "!pip install tensorflow"
      ]
    },
    {
      "cell_type": "code",
      "source": [
        "import tensorflow as tf\n",
        "from tensorflow import keras\n",
        "from tensorflow.keras.utils import plot_model\n",
        "from tensorflow.keras import models\n",
        "from tensorflow.keras.layers import Conv2DTranspose\n",
        "from tensorflow.keras.layers import Reshape\n",
        "from tensorflow.keras.layers import BatchNormalization\n"
      ],
      "metadata": {
        "id": "4rtZA3YZ-j0E"
      },
      "execution_count": 67,
      "outputs": []
    },
    {
      "cell_type": "code",
      "source": [
        "import numpy as np \n",
        "from keras.layers import LeakyReLU\n",
        "import tensorflow as tf\n",
        "from tensorflow import keras\n",
        "from tensorflow.keras.utils import plot_model\n",
        "# from tensorflow.keras import models\n",
        "from tensorflow.keras.layers import Conv2DTranspose\n",
        "from tensorflow.keras.layers import Reshape\n",
        "from tensorflow.keras.layers import BatchNormalization"
      ],
      "metadata": {
        "id": "UOODzPPF-8AE"
      },
      "execution_count": 68,
      "outputs": []
    },
    {
      "cell_type": "code",
      "source": [
        "def build_generator(z_dim):\n",
        "    model = keras.models.Sequential()\n",
        "    model.add(keras.layers.Dense(7*7*256, input_dim=z_dim))\n",
        "    model.add(keras.layers.Reshape((7, 7, 256)))\n",
        "    model.add(keras.layers.Conv2DTranspose(filters=128, kernel_size=(3,3), strides=(2, 2), padding=\"same\"))\n",
        "    model.add(keras.layers.BatchNormalization())   \n",
        "    model.add(keras.layers.LeakyReLU(alpha=0.2))\n",
        "    model.add(keras.layers.Conv2DTranspose(filters=64, kernel_size=(3,3), strides=(1, 1), padding=\"same\"))\n",
        "    model.add(keras.layers.BatchNormalization())   \n",
        "    model.add(keras.layers.LeakyReLU(alpha=0.2))\n",
        "    model.add(keras.layers.Conv2DTranspose(filters=1, kernel_size=(3,3),strides=(2, 2),activation=\"tanh\", padding=\"same\"))\n",
        "   \n",
        "    return model"
      ],
      "metadata": {
        "id": "BudCbVwH-ZKE"
      },
      "execution_count": 69,
      "outputs": []
    },
    {
      "cell_type": "code",
      "source": [
        "model=build_generator(100)\n",
        "model.summary()\n"
      ],
      "metadata": {
        "colab": {
          "base_uri": "https://localhost:8080/"
        },
        "id": "q1ZJNTat-cIC",
        "outputId": "af8275c1-c6b0-4056-be48-221d660b30b6"
      },
      "execution_count": 70,
      "outputs": [
        {
          "output_type": "stream",
          "name": "stdout",
          "text": [
            "Model: \"sequential_17\"\n",
            "_________________________________________________________________\n",
            " Layer (type)                Output Shape              Param #   \n",
            "=================================================================\n",
            " dense_12 (Dense)            (None, 12544)             1266944   \n",
            "                                                                 \n",
            " reshape_6 (Reshape)         (None, 7, 7, 256)         0         \n",
            "                                                                 \n",
            " conv2d_transpose_18 (Conv2D  (None, 14, 14, 128)      295040    \n",
            " Transpose)                                                      \n",
            "                                                                 \n",
            " batch_normalization_24 (Bat  (None, 14, 14, 128)      512       \n",
            " chNormalization)                                                \n",
            "                                                                 \n",
            " leaky_re_lu_30 (LeakyReLU)  (None, 14, 14, 128)       0         \n",
            "                                                                 \n",
            " conv2d_transpose_19 (Conv2D  (None, 14, 14, 64)       73792     \n",
            " Transpose)                                                      \n",
            "                                                                 \n",
            " batch_normalization_25 (Bat  (None, 14, 14, 64)       256       \n",
            " chNormalization)                                                \n",
            "                                                                 \n",
            " leaky_re_lu_31 (LeakyReLU)  (None, 14, 14, 64)        0         \n",
            "                                                                 \n",
            " conv2d_transpose_20 (Conv2D  (None, 28, 28, 1)        577       \n",
            " Transpose)                                                      \n",
            "                                                                 \n",
            "=================================================================\n",
            "Total params: 1,637,121\n",
            "Trainable params: 1,636,737\n",
            "Non-trainable params: 384\n",
            "_________________________________________________________________\n"
          ]
        }
      ]
    },
    {
      "cell_type": "code",
      "source": [
        "def build_disciminator():\n",
        "    model = keras.models.Sequential()\n",
        "    model.add(keras.layers.Conv2D(filters=32,kernel_size=(3, 3),  strides=(2, 2),  padding='same', input_shape=(28, 28, 1))) \n",
        "    model.add(keras.layers.LeakyReLU(alpha=0.2))\n",
        "    model.add(keras.layers.Conv2D(filters=64,kernel_size=(3, 3), strides=(2, 2), padding='same'))\n",
        "    model.add(keras.layers.BatchNormalization())   \n",
        "    model.add(keras.layers.LeakyReLU(alpha=0.2))\n",
        "    model.add(keras.layers.Conv2D(filters=128,kernel_size=(3, 3), strides=(2, 2)))\n",
        "    model.add(keras.layers.BatchNormalization())   \n",
        "    model.add(keras.layers.LeakyReLU(alpha=0.2))\n",
        "    model.add(keras.layers.Flatten())\n",
        "    model.add(keras.layers.Dense(1, activation='sigmoid'))\n",
        "    return model"
      ],
      "metadata": {
        "id": "20FvQgRx_Yoj"
      },
      "execution_count": 71,
      "outputs": []
    },
    {
      "cell_type": "code",
      "source": [
        "model=build_disciminator()\n",
        "model.summary()"
      ],
      "metadata": {
        "colab": {
          "base_uri": "https://localhost:8080/"
        },
        "id": "Ukpbp5ZaEoSF",
        "outputId": "ac377420-0a11-4c7e-b08e-1c5b17fc9b73"
      },
      "execution_count": 72,
      "outputs": [
        {
          "output_type": "stream",
          "name": "stdout",
          "text": [
            "Model: \"sequential_18\"\n",
            "_________________________________________________________________\n",
            " Layer (type)                Output Shape              Param #   \n",
            "=================================================================\n",
            " conv2d_18 (Conv2D)          (None, 14, 14, 32)        320       \n",
            "                                                                 \n",
            " leaky_re_lu_32 (LeakyReLU)  (None, 14, 14, 32)        0         \n",
            "                                                                 \n",
            " conv2d_19 (Conv2D)          (None, 7, 7, 64)          18496     \n",
            "                                                                 \n",
            " batch_normalization_26 (Bat  (None, 7, 7, 64)         256       \n",
            " chNormalization)                                                \n",
            "                                                                 \n",
            " leaky_re_lu_33 (LeakyReLU)  (None, 7, 7, 64)          0         \n",
            "                                                                 \n",
            " conv2d_20 (Conv2D)          (None, 3, 3, 128)         73856     \n",
            "                                                                 \n",
            " batch_normalization_27 (Bat  (None, 3, 3, 128)        512       \n",
            " chNormalization)                                                \n",
            "                                                                 \n",
            " leaky_re_lu_34 (LeakyReLU)  (None, 3, 3, 128)         0         \n",
            "                                                                 \n",
            " flatten_6 (Flatten)         (None, 1152)              0         \n",
            "                                                                 \n",
            " dense_13 (Dense)            (None, 1)                 1153      \n",
            "                                                                 \n",
            "=================================================================\n",
            "Total params: 94,593\n",
            "Trainable params: 94,209\n",
            "Non-trainable params: 384\n",
            "_________________________________________________________________\n"
          ]
        }
      ]
    },
    {
      "cell_type": "code",
      "source": [
        "def build_Gan(generator, discriminator):\n",
        "  discriminator.trainable=False\n",
        "  model = keras.models.Sequential()\n",
        "  model.add(generator)\n",
        "  model.add(discriminator)\n",
        "  return model\n"
      ],
      "metadata": {
        "id": "5ATtnSXkE-q_"
      },
      "execution_count": 73,
      "outputs": []
    },
    {
      "cell_type": "code",
      "source": [
        "generator=build_generator(100)\n",
        "discriminator=build_disciminator()\n",
        "discriminator.compile(optimizer=keras.optimizers.Adam(), loss=keras.losses.binary_crossentropy, metrics=[keras.metrics.binary_accuracy])\n",
        "disciminator.trainable=False\n",
        "gan=build_Gan(generator, discriminator)\n",
        "gan.compile(optimizer=keras.optimizers.Adam(), loss=keras.losses.binary_crossentropy)\n"
      ],
      "metadata": {
        "id": "8qpFoESnNjuY"
      },
      "execution_count": 74,
      "outputs": []
    },
    {
      "cell_type": "code",
      "source": [
        "gan.summary()"
      ],
      "metadata": {
        "colab": {
          "base_uri": "https://localhost:8080/"
        },
        "id": "a6sqqjYoNLno",
        "outputId": "b838b70f-4260-424a-b64c-fed4e56c7069"
      },
      "execution_count": 75,
      "outputs": [
        {
          "output_type": "stream",
          "name": "stdout",
          "text": [
            "Model: \"sequential_21\"\n",
            "_________________________________________________________________\n",
            " Layer (type)                Output Shape              Param #   \n",
            "=================================================================\n",
            " sequential_19 (Sequential)  (None, 28, 28, 1)         1637121   \n",
            "                                                                 \n",
            " sequential_20 (Sequential)  (None, 1)                 94593     \n",
            "                                                                 \n",
            "=================================================================\n",
            "Total params: 1,731,714\n",
            "Trainable params: 1,636,737\n",
            "Non-trainable params: 94,977\n",
            "_________________________________________________________________\n"
          ]
        }
      ]
    },
    {
      "cell_type": "code",
      "source": [
        "from keras.datasets import mnist\n",
        "(train_X, train_y), (test_X, test_y) = mnist.load_data()\n",
        "train_X.shape\n"
      ],
      "metadata": {
        "id": "lktNPW0CO9or",
        "colab": {
          "base_uri": "https://localhost:8080/"
        },
        "outputId": "99d0fe54-36b0-454f-fb89-9d8e53338130"
      },
      "execution_count": 76,
      "outputs": [
        {
          "output_type": "execute_result",
          "data": {
            "text/plain": [
              "(60000, 28, 28)"
            ]
          },
          "metadata": {},
          "execution_count": 76
        }
      ]
    },
    {
      "cell_type": "code",
      "source": [
        "batch_size = 128\n",
        "real_label = np.ones((batch_size,1))\n",
        "fake_label = np.zeros((batch_size,1))\n",
        "for i in range(1000):\n",
        "  indices = np.random.randint(0, train_X.shape[0], batch_size)\n",
        "  x_real = train_X[indices]\n",
        "  z_dim=100\n",
        "  noise=np.random.normal(0,1,(batch_size, z_dim))\n",
        "  x_fake=generator.predict(noise)\n",
        "\n",
        "  loss_real = discriminator.train_on_batch(x_real, real_label)\n",
        "  loss_fake = discriminator.train_on_batch(x_fake, fake_label)\n",
        "  loss_general=0.5*(np.add(loss_real,loss_fake))\n",
        "  if i %100 ==0:\n",
        "    print(f\"loss_general: {loss_general}\")\n",
        "\n",
        "  indices = np.random.randint(0, train_X.shape[0], batch_size)\n",
        "  x_real = train_X[indices]\n",
        "  z_dim=100\n",
        "  noise=np.random.normal(0,1,(batch_size, z_dim))\n",
        "  x_fake=generator.predict(noise)\n",
        "  loss_fake =gan.train_on_batch(noise,real_label)\n",
        "  if i %100 ==0:\n",
        "    print(f\"loss_fake: {loss_fake}\")\n"
      ],
      "metadata": {
        "colab": {
          "base_uri": "https://localhost:8080/"
        },
        "id": "ZMmH9GLA7pLn",
        "outputId": "2c817c8b-1bf3-40b9-96cd-33d46faeb6bd"
      },
      "execution_count": null,
      "outputs": [
        {
          "output_type": "stream",
          "name": "stdout",
          "text": [
            "loss_general: [8.15589621e-04 1.00000000e+00]\n",
            "loss_fake: 0.4837302565574646\n",
            "loss_general: [4.18691357e-04 1.00000000e+00]\n",
            "loss_fake: 0.2513490319252014\n",
            "loss_general: [2.54636499e-04 1.00000000e+00]\n",
            "loss_fake: 0.1433069109916687\n",
            "loss_general: [2.85503804e-04 1.00000000e+00]\n",
            "loss_fake: 0.10427699983119965\n"
          ]
        }
      ]
    },
    {
      "cell_type": "code",
      "source": [
        ""
      ],
      "metadata": {
        "id": "EshzakbbYFlH"
      },
      "execution_count": 77,
      "outputs": []
    }
  ]
}