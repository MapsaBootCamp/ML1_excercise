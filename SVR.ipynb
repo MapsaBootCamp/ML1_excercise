{
 "cells": [
  {
   "cell_type": "code",
   "execution_count": 1,
   "id": "40b03584",
   "metadata": {},
   "outputs": [],
   "source": [
    "import pandas as pd\n",
    "from sklearn.datasets import load_boston"
   ]
  },
  {
   "cell_type": "code",
   "execution_count": 2,
   "id": "86816a6a",
   "metadata": {},
   "outputs": [
    {
     "data": {
      "text/plain": [
       "array(['CRIM', 'ZN', 'INDUS', 'CHAS', 'NOX', 'RM', 'AGE', 'DIS', 'RAD',\n",
       "       'TAX', 'PTRATIO', 'B', 'LSTAT'], dtype='<U7')"
      ]
     },
     "execution_count": 2,
     "metadata": {},
     "output_type": "execute_result"
    }
   ],
   "source": [
    "boston_dict = load_boston()\n",
    "boston_dict.feature_names"
   ]
  },
  {
   "cell_type": "code",
   "execution_count": 3,
   "id": "80dc21c3",
   "metadata": {},
   "outputs": [
    {
     "data": {
      "text/plain": [
       "dict_keys(['data', 'target', 'feature_names', 'DESCR', 'filename'])"
      ]
     },
     "execution_count": 3,
     "metadata": {},
     "output_type": "execute_result"
    }
   ],
   "source": [
    "boston_dict.keys()"
   ]
  },
  {
   "cell_type": "code",
   "execution_count": 4,
   "id": "2ea88c3e",
   "metadata": {},
   "outputs": [
    {
     "data": {
      "text/html": [
       "<div>\n",
       "<style scoped>\n",
       "    .dataframe tbody tr th:only-of-type {\n",
       "        vertical-align: middle;\n",
       "    }\n",
       "\n",
       "    .dataframe tbody tr th {\n",
       "        vertical-align: top;\n",
       "    }\n",
       "\n",
       "    .dataframe thead th {\n",
       "        text-align: right;\n",
       "    }\n",
       "</style>\n",
       "<table border=\"1\" class=\"dataframe\">\n",
       "  <thead>\n",
       "    <tr style=\"text-align: right;\">\n",
       "      <th></th>\n",
       "      <th>CRIM</th>\n",
       "      <th>ZN</th>\n",
       "      <th>INDUS</th>\n",
       "      <th>CHAS</th>\n",
       "      <th>NOX</th>\n",
       "      <th>RM</th>\n",
       "      <th>AGE</th>\n",
       "      <th>DIS</th>\n",
       "      <th>RAD</th>\n",
       "      <th>TAX</th>\n",
       "      <th>PTRATIO</th>\n",
       "      <th>B</th>\n",
       "      <th>LSTAT</th>\n",
       "      <th>target</th>\n",
       "    </tr>\n",
       "  </thead>\n",
       "  <tbody>\n",
       "    <tr>\n",
       "      <th>0</th>\n",
       "      <td>0.00632</td>\n",
       "      <td>18.0</td>\n",
       "      <td>2.31</td>\n",
       "      <td>0.0</td>\n",
       "      <td>0.538</td>\n",
       "      <td>6.575</td>\n",
       "      <td>65.2</td>\n",
       "      <td>4.0900</td>\n",
       "      <td>1.0</td>\n",
       "      <td>296.0</td>\n",
       "      <td>15.3</td>\n",
       "      <td>396.90</td>\n",
       "      <td>4.98</td>\n",
       "      <td>24.0</td>\n",
       "    </tr>\n",
       "    <tr>\n",
       "      <th>1</th>\n",
       "      <td>0.02731</td>\n",
       "      <td>0.0</td>\n",
       "      <td>7.07</td>\n",
       "      <td>0.0</td>\n",
       "      <td>0.469</td>\n",
       "      <td>6.421</td>\n",
       "      <td>78.9</td>\n",
       "      <td>4.9671</td>\n",
       "      <td>2.0</td>\n",
       "      <td>242.0</td>\n",
       "      <td>17.8</td>\n",
       "      <td>396.90</td>\n",
       "      <td>9.14</td>\n",
       "      <td>21.6</td>\n",
       "    </tr>\n",
       "    <tr>\n",
       "      <th>2</th>\n",
       "      <td>0.02729</td>\n",
       "      <td>0.0</td>\n",
       "      <td>7.07</td>\n",
       "      <td>0.0</td>\n",
       "      <td>0.469</td>\n",
       "      <td>7.185</td>\n",
       "      <td>61.1</td>\n",
       "      <td>4.9671</td>\n",
       "      <td>2.0</td>\n",
       "      <td>242.0</td>\n",
       "      <td>17.8</td>\n",
       "      <td>392.83</td>\n",
       "      <td>4.03</td>\n",
       "      <td>34.7</td>\n",
       "    </tr>\n",
       "    <tr>\n",
       "      <th>3</th>\n",
       "      <td>0.03237</td>\n",
       "      <td>0.0</td>\n",
       "      <td>2.18</td>\n",
       "      <td>0.0</td>\n",
       "      <td>0.458</td>\n",
       "      <td>6.998</td>\n",
       "      <td>45.8</td>\n",
       "      <td>6.0622</td>\n",
       "      <td>3.0</td>\n",
       "      <td>222.0</td>\n",
       "      <td>18.7</td>\n",
       "      <td>394.63</td>\n",
       "      <td>2.94</td>\n",
       "      <td>33.4</td>\n",
       "    </tr>\n",
       "    <tr>\n",
       "      <th>4</th>\n",
       "      <td>0.06905</td>\n",
       "      <td>0.0</td>\n",
       "      <td>2.18</td>\n",
       "      <td>0.0</td>\n",
       "      <td>0.458</td>\n",
       "      <td>7.147</td>\n",
       "      <td>54.2</td>\n",
       "      <td>6.0622</td>\n",
       "      <td>3.0</td>\n",
       "      <td>222.0</td>\n",
       "      <td>18.7</td>\n",
       "      <td>396.90</td>\n",
       "      <td>5.33</td>\n",
       "      <td>36.2</td>\n",
       "    </tr>\n",
       "  </tbody>\n",
       "</table>\n",
       "</div>"
      ],
      "text/plain": [
       "      CRIM    ZN  INDUS  CHAS    NOX     RM   AGE     DIS  RAD    TAX  \\\n",
       "0  0.00632  18.0   2.31   0.0  0.538  6.575  65.2  4.0900  1.0  296.0   \n",
       "1  0.02731   0.0   7.07   0.0  0.469  6.421  78.9  4.9671  2.0  242.0   \n",
       "2  0.02729   0.0   7.07   0.0  0.469  7.185  61.1  4.9671  2.0  242.0   \n",
       "3  0.03237   0.0   2.18   0.0  0.458  6.998  45.8  6.0622  3.0  222.0   \n",
       "4  0.06905   0.0   2.18   0.0  0.458  7.147  54.2  6.0622  3.0  222.0   \n",
       "\n",
       "   PTRATIO       B  LSTAT  target  \n",
       "0     15.3  396.90   4.98    24.0  \n",
       "1     17.8  396.90   9.14    21.6  \n",
       "2     17.8  392.83   4.03    34.7  \n",
       "3     18.7  394.63   2.94    33.4  \n",
       "4     18.7  396.90   5.33    36.2  "
      ]
     },
     "execution_count": 4,
     "metadata": {},
     "output_type": "execute_result"
    }
   ],
   "source": [
    "boston_dataset = pd.DataFrame(boston_dict.data, columns=boston_dict.feature_names)\n",
    "boston_dataset['target']=boston_dict.target\n",
    "boston_dataset.head()"
   ]
  },
  {
   "cell_type": "code",
   "execution_count": 5,
   "id": "aaf1c678",
   "metadata": {},
   "outputs": [
    {
     "data": {
      "text/plain": [
       "(506, 14)"
      ]
     },
     "execution_count": 5,
     "metadata": {},
     "output_type": "execute_result"
    }
   ],
   "source": [
    "boston_dataset.shape"
   ]
  },
  {
   "cell_type": "code",
   "execution_count": 6,
   "id": "3521f9fd",
   "metadata": {},
   "outputs": [],
   "source": [
    "X=boston_dataset.iloc[:,:-1]\n",
    "y=boston_dataset['target']"
   ]
  },
  {
   "cell_type": "code",
   "execution_count": 7,
   "id": "deebb499",
   "metadata": {},
   "outputs": [],
   "source": [
    "from sklearn.model_selection import train_test_split\n",
    "X_train, X_test, y_train, y_test = train_test_split(X,y, test_size=0.3, random_state=20)"
   ]
  },
  {
   "cell_type": "code",
   "execution_count": 8,
   "id": "deb237f7",
   "metadata": {},
   "outputs": [],
   "source": [
    "from sklearn.preprocessing import MinMaxScaler\n",
    "scaler = MinMaxScaler()\n",
    "X_train_scaled=scaler.fit_transform(X_train)\n",
    "X_test_scaled=scaler.transform(X_test)"
   ]
  },
  {
   "cell_type": "code",
   "execution_count": 9,
   "id": "c24ec33a",
   "metadata": {},
   "outputs": [],
   "source": [
    "from sklearn.svm import SVR,LinearSVR\n",
    "from sklearn.model_selection import GridSearchCV"
   ]
  },
  {
   "cell_type": "code",
   "execution_count": 10,
   "id": "b6b0376c",
   "metadata": {},
   "outputs": [],
   "source": [
    "# linear kernel \n",
    "svm_linear = SVR(kernel='linear')\n",
    "search_dic_linear = {'C': [0.01, 0.1, 1 , 8, 10 , 100, 1000]}\n",
    "grid_search_linear = GridSearchCV(svm_linear, search_dic_linear)"
   ]
  },
  {
   "cell_type": "code",
   "execution_count": 11,
   "id": "467139e8",
   "metadata": {},
   "outputs": [
    {
     "data": {
      "text/plain": [
       "GridSearchCV(estimator=SVR(kernel='linear'),\n",
       "             param_grid={'C': [0.01, 0.1, 1, 8, 10, 100, 1000]})"
      ]
     },
     "execution_count": 11,
     "metadata": {},
     "output_type": "execute_result"
    }
   ],
   "source": [
    "grid_search_linear.fit(X_train_scaled, y_train)"
   ]
  },
  {
   "cell_type": "code",
   "execution_count": 12,
   "id": "71773c08",
   "metadata": {},
   "outputs": [],
   "source": [
    "y_pred_linear = grid_search_linear.predict(X_test_scaled)"
   ]
  },
  {
   "cell_type": "code",
   "execution_count": 13,
   "id": "8eee3f37",
   "metadata": {},
   "outputs": [],
   "source": [
    "from sklearn import metrics\n",
    "import numpy as np"
   ]
  },
  {
   "cell_type": "code",
   "execution_count": 14,
   "id": "e0f4b110",
   "metadata": {},
   "outputs": [
    {
     "name": "stdout",
     "output_type": "stream",
     "text": [
      "**************************************************\n",
      "                SVR (kernel=linear)                \n",
      "**************************************************\n",
      "Mean Absolute Error(MAE) = 3.28\n",
      "Mean Squared Error(MSE) = 28.16\n",
      "Root Mean Squared Error(RMSE) = 5.31\n",
      "R-squared(r2_score) = 0.67\n",
      "\n",
      "Best parameters set found on development set:\n",
      "{'C': 10}\n"
     ]
    }
   ],
   "source": [
    "print('*'*50)\n",
    "print(' '*15+' SVR (kernel=linear) '+' '*15)\n",
    "print('*'*50)\n",
    "# calculate MAE, MSE, RMSE\n",
    "print('Mean Absolute Error(MAE) = {:.2f}'.format(metrics.mean_absolute_error(y_test, y_pred_linear)))\n",
    "print('Mean Squared Error(MSE) = {:.2f}'.format(metrics.mean_squared_error(y_test, y_pred_linear)))\n",
    "print('Root Mean Squared Error(RMSE) = {:.2f}'.format(np.sqrt(metrics.mean_squared_error(y_test, y_pred_linear))))\n",
    "print('R-squared(r2_score) = {:.2f}'.format(metrics.r2_score(y_test, y_pred_linear)))\n",
    "print()\n",
    "print(\"Best parameters set found on development set:\")\n",
    "print(grid_search_linear.best_params_)"
   ]
  },
  {
   "cell_type": "code",
   "execution_count": 15,
   "id": "66c74472",
   "metadata": {},
   "outputs": [],
   "source": [
    "# Polynomial kernel \n",
    "svm_poly = SVR(kernel='poly')\n",
    "search_dic_poly = {'C': [0.01, 0.1, 1 , 8, 10 , 100, 1000],'degree':[3,5] ,'gamma': [1, 0.1, 0.01, 0.001, 0.0001]}\n",
    "grid_search_poly = GridSearchCV(svm_poly, search_dic_poly)"
   ]
  },
  {
   "cell_type": "code",
   "execution_count": 16,
   "id": "5bbb788b",
   "metadata": {},
   "outputs": [
    {
     "data": {
      "text/plain": [
       "GridSearchCV(estimator=SVR(kernel='poly'),\n",
       "             param_grid={'C': [0.01, 0.1, 1, 8, 10, 100, 1000],\n",
       "                         'degree': [3, 5],\n",
       "                         'gamma': [1, 0.1, 0.01, 0.001, 0.0001]})"
      ]
     },
     "execution_count": 16,
     "metadata": {},
     "output_type": "execute_result"
    }
   ],
   "source": [
    "grid_search_poly.fit(X_train_scaled, y_train)"
   ]
  },
  {
   "cell_type": "code",
   "execution_count": 17,
   "id": "4afe4f80",
   "metadata": {},
   "outputs": [],
   "source": [
    "y_pred_poly = grid_search_poly.predict(X_test_scaled)"
   ]
  },
  {
   "cell_type": "code",
   "execution_count": 18,
   "id": "5b81328c",
   "metadata": {},
   "outputs": [
    {
     "name": "stdout",
     "output_type": "stream",
     "text": [
      "**************************************************\n",
      "                SVR (kernel=poly)                \n",
      "**************************************************\n",
      "Mean Absolute Error(MAE) = 2.65\n",
      "Mean Squared Error(MSE) = 19.18\n",
      "Root Mean Squared Error(RMSE) = 4.38\n",
      "R-squared(r2_score) = 0.78\n",
      "\n",
      "Best parameters set found on development set:\n",
      "{'C': 1, 'degree': 5, 'gamma': 1}\n"
     ]
    }
   ],
   "source": [
    "print('*'*50)\n",
    "print(' '*15+' SVR (kernel=poly) '+' '*15)\n",
    "print('*'*50)\n",
    "# calculate MAE, MSE, RMSE\n",
    "print('Mean Absolute Error(MAE) = {:.2f}'.format(metrics.mean_absolute_error(y_test, y_pred_poly)))\n",
    "print('Mean Squared Error(MSE) = {:.2f}'.format(metrics.mean_squared_error(y_test, y_pred_poly)))\n",
    "print('Root Mean Squared Error(RMSE) = {:.2f}'.format(np.sqrt(metrics.mean_squared_error(y_test, y_pred_poly))))\n",
    "print('R-squared(r2_score) = {:.2f}'.format(metrics.r2_score(y_test, y_pred_poly)))\n",
    "print()\n",
    "print(\"Best parameters set found on development set:\")\n",
    "print(grid_search_poly.best_params_)"
   ]
  },
  {
   "cell_type": "code",
   "execution_count": 19,
   "id": "d8e24a6e",
   "metadata": {},
   "outputs": [],
   "source": [
    "# rbf kernel \n",
    "svm_rbf = SVR(kernel='rbf')\n",
    "search_dic_rbf = {'C': [0.01, 0.1, 1 , 8, 10 , 100, 1000] ,'gamma': [1, 0.1, 0.01, 0.001, 0.0001]}\n",
    "grid_search_rbf = GridSearchCV(svm_rbf, search_dic_rbf)"
   ]
  },
  {
   "cell_type": "code",
   "execution_count": 20,
   "id": "a495c6e8",
   "metadata": {},
   "outputs": [
    {
     "data": {
      "text/plain": [
       "GridSearchCV(estimator=SVR(),\n",
       "             param_grid={'C': [0.01, 0.1, 1, 8, 10, 100, 1000],\n",
       "                         'gamma': [1, 0.1, 0.01, 0.001, 0.0001]})"
      ]
     },
     "execution_count": 20,
     "metadata": {},
     "output_type": "execute_result"
    }
   ],
   "source": [
    "grid_search_rbf.fit(X_train_scaled, y_train)"
   ]
  },
  {
   "cell_type": "code",
   "execution_count": 21,
   "id": "f16b4440",
   "metadata": {},
   "outputs": [],
   "source": [
    "y_pred_rbf = grid_search_rbf.predict(X_test_scaled)"
   ]
  },
  {
   "cell_type": "code",
   "execution_count": 22,
   "id": "e8faefb2",
   "metadata": {},
   "outputs": [
    {
     "name": "stdout",
     "output_type": "stream",
     "text": [
      "**************************************************\n",
      "                SVR (kernel=rbf)                \n",
      "**************************************************\n",
      "Mean Absolute Error(MAE) = 2.04\n",
      "Mean Squared Error(MSE) = 9.71\n",
      "Root Mean Squared Error(RMSE) = 3.12\n",
      "R-squared(r2_score) = 0.89\n",
      "\n",
      "Best parameters set found on development set:\n",
      "{'C': 100, 'gamma': 1}\n"
     ]
    }
   ],
   "source": [
    "print('*'*50)\n",
    "print(' '*15+' SVR (kernel=rbf) '+' '*15)\n",
    "print('*'*50)\n",
    "# calculate MAE, MSE, RMSE\n",
    "print('Mean Absolute Error(MAE) = {:.2f}'.format(metrics.mean_absolute_error(y_test, y_pred_rbf)))\n",
    "print('Mean Squared Error(MSE) = {:.2f}'.format(metrics.mean_squared_error(y_test, y_pred_rbf)))\n",
    "print('Root Mean Squared Error(RMSE) = {:.2f}'.format(np.sqrt(metrics.mean_squared_error(y_test, y_pred_rbf))))\n",
    "print('R-squared(r2_score) = {:.2f}'.format(metrics.r2_score(y_test, y_pred_rbf)))\n",
    "print()\n",
    "print(\"Best parameters set found on development set:\")\n",
    "print(grid_search_rbf.best_params_)"
   ]
  },
  {
   "cell_type": "code",
   "execution_count": 23,
   "id": "fe0723a1",
   "metadata": {},
   "outputs": [],
   "source": [
    "# sigmoid kernel \n",
    "svm_sigmoid = SVR(kernel='sigmoid')\n",
    "search_dic_sigmoid = {'C': [0.01, 0.1, 1 , 8, 10 , 100, 1000] ,'gamma': [1, 0.1, 0.01, 0.001, 0.0001]}\n",
    "grid_search_sigmoid = GridSearchCV(svm_sigmoid, search_dic_sigmoid)"
   ]
  },
  {
   "cell_type": "code",
   "execution_count": 24,
   "id": "379c0c71",
   "metadata": {},
   "outputs": [
    {
     "data": {
      "text/plain": [
       "GridSearchCV(estimator=SVR(kernel='sigmoid'),\n",
       "             param_grid={'C': [0.01, 0.1, 1, 8, 10, 100, 1000],\n",
       "                         'gamma': [1, 0.1, 0.01, 0.001, 0.0001]})"
      ]
     },
     "execution_count": 24,
     "metadata": {},
     "output_type": "execute_result"
    }
   ],
   "source": [
    "grid_search_sigmoid.fit(X_train_scaled, y_train)"
   ]
  },
  {
   "cell_type": "code",
   "execution_count": 25,
   "id": "adb013dc",
   "metadata": {},
   "outputs": [],
   "source": [
    "y_pred_sigmoid = grid_search_sigmoid.predict(X_test_scaled)"
   ]
  },
  {
   "cell_type": "code",
   "execution_count": 26,
   "id": "7d7cc70f",
   "metadata": {},
   "outputs": [
    {
     "name": "stdout",
     "output_type": "stream",
     "text": [
      "**************************************************\n",
      "                SVR (kernel=sigmoid)                \n",
      "**************************************************\n",
      "Mean Absolute Error(MAE) = 3.29\n",
      "Mean Squared Error(MSE) = 28.18\n",
      "Root Mean Squared Error(RMSE) = 5.31\n",
      "R-squared(r2_score) = 0.67\n",
      "\n",
      "Best parameters set found on development set:\n",
      "{'C': 1000, 'gamma': 0.01}\n"
     ]
    }
   ],
   "source": [
    "print('*'*50)\n",
    "print(' '*15+' SVR (kernel=sigmoid) '+' '*15)\n",
    "print('*'*50)\n",
    "# calculate MAE, MSE, RMSE\n",
    "print('Mean Absolute Error(MAE) = {:.2f}'.format(metrics.mean_absolute_error(y_test, y_pred_sigmoid)))\n",
    "print('Mean Squared Error(MSE) = {:.2f}'.format(metrics.mean_squared_error(y_test, y_pred_sigmoid)))\n",
    "print('Root Mean Squared Error(RMSE) = {:.2f}'.format(np.sqrt(metrics.mean_squared_error(y_test, y_pred_sigmoid))))\n",
    "print('R-squared(r2_score) = {:.2f}'.format(metrics.r2_score(y_test, y_pred_sigmoid)))\n",
    "print()\n",
    "print(\"Best parameters set found on development set:\")\n",
    "print(grid_search_sigmoid.best_params_)"
   ]
  },
  {
   "cell_type": "code",
   "execution_count": 37,
   "id": "b6bb4455",
   "metadata": {},
   "outputs": [],
   "source": [
    "# LinearSVR\n",
    "linear_SVR = LinearSVR()\n",
    "linear_SVR.fit(X_train_scaled, y_train)\n",
    "y_pred_linear_SVR = linear_SVR.predict(X_test_scaled)"
   ]
  },
  {
   "cell_type": "code",
   "execution_count": 39,
   "id": "2962306d",
   "metadata": {},
   "outputs": [
    {
     "name": "stdout",
     "output_type": "stream",
     "text": [
      "**************************************************\n",
      "                LinearSVR                \n",
      "**************************************************\n",
      "Mean Absolute Error(MAE) = 3.74\n",
      "Mean Squared Error(MSE) = 35.54\n",
      "Root Mean Squared Error(RMSE) = 5.96\n",
      "R-squared(r2_score) = 0.58\n"
     ]
    }
   ],
   "source": [
    "print('*'*50)\n",
    "print(' '*15+' LinearSVR '+' '*15)\n",
    "print('*'*50)\n",
    "# calculate MAE, MSE, RMSE\n",
    "print('Mean Absolute Error(MAE) = {:.2f}'.format(metrics.mean_absolute_error(y_test, y_pred_linear_SVR)))\n",
    "print('Mean Squared Error(MSE) = {:.2f}'.format(metrics.mean_squared_error(y_test, y_pred_linear_SVR)))\n",
    "print('Root Mean Squared Error(RMSE) = {:.2f}'.format(np.sqrt(metrics.mean_squared_error(y_test, y_pred_linear_SVR))))\n",
    "print('R-squared(r2_score) = {:.2f}'.format(metrics.r2_score(y_test, y_pred_linear_SVR)))"
   ]
  },
  {
   "cell_type": "code",
   "execution_count": null,
   "id": "3cf1381f",
   "metadata": {},
   "outputs": [],
   "source": []
  }
 ],
 "metadata": {
  "kernelspec": {
   "display_name": "Python 3",
   "language": "python",
   "name": "python3"
  },
  "language_info": {
   "codemirror_mode": {
    "name": "ipython",
    "version": 3
   },
   "file_extension": ".py",
   "mimetype": "text/x-python",
   "name": "python",
   "nbconvert_exporter": "python",
   "pygments_lexer": "ipython3",
   "version": "3.8.8"
  }
 },
 "nbformat": 4,
 "nbformat_minor": 5
}
