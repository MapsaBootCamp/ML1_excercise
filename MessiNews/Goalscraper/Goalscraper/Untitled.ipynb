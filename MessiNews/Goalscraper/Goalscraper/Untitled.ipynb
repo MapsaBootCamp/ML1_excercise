{
 "cells": [
  {
   "cell_type": "code",
   "execution_count": 3,
   "id": "d55a13fc",
   "metadata": {},
   "outputs": [],
   "source": [
    "import numpy as np\n",
    "import pandas as pd"
   ]
  },
  {
   "cell_type": "code",
   "execution_count": 4,
   "id": "d7c2e21f",
   "metadata": {},
   "outputs": [],
   "source": [
    "dataset = pd.read_csv('messi.csv')"
   ]
  },
  {
   "cell_type": "code",
   "execution_count": 6,
   "id": "2d7944c2",
   "metadata": {},
   "outputs": [
    {
     "data": {
      "text/html": [
       "<div>\n",
       "<style scoped>\n",
       "    .dataframe tbody tr th:only-of-type {\n",
       "        vertical-align: middle;\n",
       "    }\n",
       "\n",
       "    .dataframe tbody tr th {\n",
       "        vertical-align: top;\n",
       "    }\n",
       "\n",
       "    .dataframe thead th {\n",
       "        text-align: right;\n",
       "    }\n",
       "</style>\n",
       "<table border=\"1\" class=\"dataframe\">\n",
       "  <thead>\n",
       "    <tr style=\"text-align: right;\">\n",
       "      <th></th>\n",
       "      <th>Title</th>\n",
       "      <th>Summary</th>\n",
       "      <th>Content</th>\n",
       "      <th>Author_Name</th>\n",
       "      <th>Time</th>\n",
       "    </tr>\n",
       "  </thead>\n",
       "  <tbody>\n",
       "    <tr>\n",
       "      <th>0</th>\n",
       "      <td>Barcelona less feared without Messi, admits Ko...</td>\n",
       "      <td>The exit of the prolific forward after a glitt...</td>\n",
       "      <td>Barcelona are less feared without Lionel Messi...</td>\n",
       "      <td>Andrew Steel</td>\n",
       "      <td>Aug 22, 2021</td>\n",
       "    </tr>\n",
       "    <tr>\n",
       "      <th>1</th>\n",
       "      <td>NaN</td>\n",
       "      <td>NaN</td>\n",
       "      <td>Other English editions,Copyright © 2021 , All ...</td>\n",
       "      <td>NaN</td>\n",
       "      <td>NaN</td>\n",
       "    </tr>\n",
       "    <tr>\n",
       "      <th>2</th>\n",
       "      <td>Messi exit leaves Dest with 'weird' feeling as...</td>\n",
       "      <td>The Blaugrana defender admits to being left \"s...</td>\n",
       "      <td>Sergino Dest says that , left him \"shocked\", w...</td>\n",
       "      <td>Chris Burton</td>\n",
       "      <td>Aug 14, 2021</td>\n",
       "    </tr>\n",
       "    <tr>\n",
       "      <th>3</th>\n",
       "      <td>Bayern Munich president baffled as to how PSG'...</td>\n",
       "      <td>The Ligue 1 giants have had a superstar shoppi...</td>\n",
       "      <td>Bayern Munich president Herbert Hainer has adm...</td>\n",
       "      <td>Andrew Steel</td>\n",
       "      <td>Aug 22, 2021</td>\n",
       "    </tr>\n",
       "    <tr>\n",
       "      <th>4</th>\n",
       "      <td>NaN</td>\n",
       "      <td>NaN</td>\n",
       "      <td>Other English editions,Copyright © 2021 , All ...</td>\n",
       "      <td>NaN</td>\n",
       "      <td>NaN</td>\n",
       "    </tr>\n",
       "  </tbody>\n",
       "</table>\n",
       "</div>"
      ],
      "text/plain": [
       "                                               Title  \\\n",
       "0  Barcelona less feared without Messi, admits Ko...   \n",
       "1                                                NaN   \n",
       "2  Messi exit leaves Dest with 'weird' feeling as...   \n",
       "3  Bayern Munich president baffled as to how PSG'...   \n",
       "4                                                NaN   \n",
       "\n",
       "                                             Summary  \\\n",
       "0  The exit of the prolific forward after a glitt...   \n",
       "1                                                NaN   \n",
       "2  The Blaugrana defender admits to being left \"s...   \n",
       "3  The Ligue 1 giants have had a superstar shoppi...   \n",
       "4                                                NaN   \n",
       "\n",
       "                                             Content   Author_Name  \\\n",
       "0  Barcelona are less feared without Lionel Messi...  Andrew Steel   \n",
       "1  Other English editions,Copyright © 2021 , All ...           NaN   \n",
       "2  Sergino Dest says that , left him \"shocked\", w...  Chris Burton   \n",
       "3  Bayern Munich president Herbert Hainer has adm...  Andrew Steel   \n",
       "4  Other English editions,Copyright © 2021 , All ...           NaN   \n",
       "\n",
       "           Time  \n",
       "0  Aug 22, 2021  \n",
       "1           NaN  \n",
       "2  Aug 14, 2021  \n",
       "3  Aug 22, 2021  \n",
       "4           NaN  "
      ]
     },
     "execution_count": 6,
     "metadata": {},
     "output_type": "execute_result"
    }
   ],
   "source": [
    "dataset.head()"
   ]
  }
 ],
 "metadata": {
  "kernelspec": {
   "display_name": "Python 3",
   "language": "python",
   "name": "python3"
  },
  "language_info": {
   "codemirror_mode": {
    "name": "ipython",
    "version": 3
   },
   "file_extension": ".py",
   "mimetype": "text/x-python",
   "name": "python",
   "nbconvert_exporter": "python",
   "pygments_lexer": "ipython3",
   "version": "3.8.8"
  }
 },
 "nbformat": 4,
 "nbformat_minor": 5
}
