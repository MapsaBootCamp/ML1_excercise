{
 "cells": [
  {
   "cell_type": "code",
   "execution_count": 2,
   "id": "89a816b2",
   "metadata": {},
   "outputs": [
    {
     "name": "stdout",
     "output_type": "stream",
     "text": [
      "7 3\n",
      "abacaba\n",
      "1 3\n",
      "2 5\n",
      "1 7\n",
      "4\n",
      "7\n",
      "11\n"
     ]
    }
   ],
   "source": [
    "num_str, num_question = input().split()\n",
    "song = input()\n",
    "if len(song) != int(num_str):\n",
    "    raise ValueError\n",
    "song.lower()\n",
    "char_point = [0]\n",
    "point = 0\n",
    "for char in song:\n",
    "    point += ord(char) - 96\n",
    "    char_point.append(point)\n",
    "\n",
    "output = []\n",
    "for n in range(int(num_question)):\n",
    "    qustion = input().split()\n",
    "    start_index = int(qustion[0])\n",
    "    end_index = int(qustion[1])\n",
    "    result = char_point[end_index] - char_point[start_index-1]\n",
    "    output.append(result)\n",
    "\n",
    "for print_elem in output:\n",
    "    print(print_elem)"
   ]
  },
  {
   "cell_type": "code",
   "execution_count": null,
   "id": "179b28cd",
   "metadata": {},
   "outputs": [],
   "source": []
  }
 ],
 "metadata": {
  "kernelspec": {
   "display_name": "Python 3 (ipykernel)",
   "language": "python",
   "name": "python3"
  },
  "language_info": {
   "codemirror_mode": {
    "name": "ipython",
    "version": 3
   },
   "file_extension": ".py",
   "mimetype": "text/x-python",
   "name": "python",
   "nbconvert_exporter": "python",
   "pygments_lexer": "ipython3",
   "version": "3.8.8"
  }
 },
 "nbformat": 4,
 "nbformat_minor": 5
}
