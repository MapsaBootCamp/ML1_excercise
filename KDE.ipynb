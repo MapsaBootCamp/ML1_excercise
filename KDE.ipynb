{
 "cells": [
  {
   "cell_type": "markdown",
   "metadata": {},
   "source": [
    "<div style=\"direction:rtl;line-height:300%;\">\n",
    "\t<font face=\"XB Zar\" size=5>\n",
    "\t\t<div align=center>\n",
    "\t\t\t<font face=\"IranNastaliq\" size=30>\n",
    "\t\t\t\t<p></p>\n",
    "\t\t\t\t<p></p>\n",
    "به نام خدا\n",
    "\t\t\t\t<p></p>\n",
    "\t\t\t</font>\n",
    "        </div>\n",
    "        <font color=#FF7500 size=6>\n",
    "Kernel Density Estimate (KDE)\n",
    "        </font><br>\n",
    "        در آمار و احتمال، برآورد چگالی (به انگلیسی: Density estimation) به فرایند تخمین تابع چگالی احتمال یک متغیر تصادفی با استفاده از نمونه‌های مشاهده‌شده از آن متغیر گفته‌می‌شود. معمولاً فرض می‌شود نمونه‌های مشاهده شده به طور تصادفی و مستقل براساس تابع توزیع احتمال، توزیع شده‌اند. \n",
    "    <br>      \n",
    "        برآورد چگالی کرنل (KDE) یک روش غیر پارامتری برای تخمین تابع چگالی احتمال (PDF) یک متغیر تصادفی است.\n",
    "    این یک مسئله اساسی برای هموارسازی داده ها است که در آن استنباط هایی بر اساس یک نمونه داده محدود، درباره کل جمعیت انجام می شود.\n",
    "        یکی از کاربردهای مشهور برآورد چگالی هسته در برآورد چگالی حاشیه ای داده های شرطی هنگام استفاده از طبقه بندی کننده ساده بیز (naive Bayes) است که می تواند دقت پیش بینی آن را بهبود بخشد.\n",
    "        <br>\n",
    "        اگر (x1 ، x2 ،… ، xn) نمونه های مستقل و یکسان توزیع شده از توزیع تک متغیره با چگالی ناشناخته در هر نقطه x باشند. ما میخواهیم که شکل این تابع را تخمین بزنیم. که بصورت زیر داریم:\n",
    "    </font>\n",
    "</div>\n",
    "    <img src=\"figs/f3b09505158fb06033aabf9b0116c8c07a68bf31.svg\" style=\"float:center; width:50%\"/>\n",
    "    \n",
    "<div style=\"direction:rtl;line-height:300%;\">\n",
    "    <font face=\"XB Zar\" size=5><br>     \n",
    "         که K همان کرنل است -یک تابع غیر منفی- و h> 0 یک پارامتر هموار کننده است که پهنای باند نامیده می شود. Kh کرنل مقیاس شده نامیده می شود و به شکل Kh (x) = 1/h K (x/h) تعریف می شود. به طور شهودی، می خواهیم h را به اندازه ای که داده ها اجازه می دهند کوچک انتخاب کنیم. تابع کرنل میتواند حاصل توزیع های احتمالاتی مختلفی باشد لکن اغلب از توزیع نرمال استاندارد استفاده میشود.\n",
    "     <br><br>\n",
    "        به عبارت دیگر برای هر یک از مقادیر موجود در میان داده ها میتواند تابع تورزیع نرمال استاندارد اختصاص داد و با محاسبه k(x) برای همه xi های موجود در داده ها و محاسبه مجموع f(x) بدست خواهد آمد که تخمینی از تابع چگالی احتمال متغییر تصادفی مربوطه می باشد.\n",
    "    </font>\n",
    "    <img src=\"figs/Comparison_of_1D_histogram_and_KDE.png\" style=\"float:center; width:50%\"/>\n",
    "    \n",
    "</div>\n"
   ]
  },
  {
   "cell_type": "code",
   "execution_count": 28,
   "metadata": {},
   "outputs": [],
   "source": [
    "from math import exp, sqrt, pi\n",
    "import pandas as pd\n",
    "import matplotlib.pyplot as plt\n",
    "import numpy as np"
   ]
  },
  {
   "cell_type": "code",
   "execution_count": 6,
   "metadata": {},
   "outputs": [
    {
     "data": {
      "text/plain": [
       "0.3520653267642995"
      ]
     },
     "execution_count": 6,
     "metadata": {},
     "output_type": "execute_result"
    }
   ],
   "source": [
    "def norm_std(x):\n",
    "    power = -((x**2)/2)\n",
    "    phi = exp(power)/sqrt(2*pi)\n",
    "    return phi\n",
    "\n",
    "norm_std(0.5)"
   ]
  },
  {
   "cell_type": "code",
   "execution_count": 72,
   "metadata": {},
   "outputs": [],
   "source": [
    "def KDE(x_arr, x, h):\n",
    "    n = len(x_arr)\n",
    "    sumation = 0\n",
    "    for x_i in x_arr:\n",
    "        inlet = (x-x_i)/h\n",
    "        K = norm_std(inlet)\n",
    "        sumation += K\n",
    "    sumation = (1/(n*h))*sumation\n",
    "    return sumation"
   ]
  },
  {
   "cell_type": "code",
   "execution_count": 90,
   "metadata": {},
   "outputs": [
    {
     "data": {
      "image/png": "[encoded data removed]",
      "text/plain": [
       "<Figure size 432x288 with 1 Axes>"
      ]
     },
     "metadata": {
      "needs_background": "light"
     },
     "output_type": "display_data"
    }
   ],
   "source": [
    "titanic = pd.read_csv('data/titanic.csv')\n",
    "# titanic['Age'].dropna(inplace = False)\n",
    "Age = titanic['Age'].dropna(inplace = False).tolist()\n",
    "Age = np.array(Age)\n",
    "# Age1[Age1!=None]\n",
    "px = plt.hist(Age, bins=20)\n",
    "f_x = []\n",
    "xs = np.array(np.arange(0,80,0.5))\n",
    "# xs.shape\n",
    "for x in xs:\n",
    "    fx = KDE(Age, x, 4)\n",
    "    f_x.append(fx)\n",
    "\n",
    "\n",
    "# xs\n",
    "# len(f_x)\n",
    "# print(f_x)\n",
    "# Age.shape\n",
    "# np.array(px)\n",
    "# px[1:10]\n",
    "# px[0]\n",
    "# px[1]\n",
    "# plt.hold(True)\n",
    "plt.plot(xs, f_x)\n",
    "plt.show()"
   ]
  },
  {
   "cell_type": "code",
   "execution_count": null,
   "metadata": {},
   "outputs": [],
   "source": [
    "\n"
   ]
  }
 ],
 "metadata": {
  "kernelspec": {
   "display_name": "Python 3",
   "language": "python",
   "name": "python3"
  },
  "language_info": {
   "codemirror_mode": {
    "name": "ipython",
    "version": 3
   },
   "file_extension": ".py",
   "mimetype": "text/x-python",
   "name": "python",
   "nbconvert_exporter": "python",
   "pygments_lexer": "ipython3",
   "version": "3.7.0"
  }
 },
 "nbformat": 4,
 "nbformat_minor": 4
}
