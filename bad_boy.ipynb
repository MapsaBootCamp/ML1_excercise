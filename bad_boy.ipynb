{
 "cells": [
  {
   "cell_type": "code",
   "execution_count": 15,
   "id": "84410acf",
   "metadata": {},
   "outputs": [
    {
     "name": "stdout",
     "output_type": "stream",
     "text": [
      "2 3 1 1\n",
      "4 4 1 1\n",
      "1 5 3 1\n",
      "5 1 1 1\n",
      "1 1 3 1\n",
      "1 1 1 1\n",
      "1 1000000000 1000000000 1\n"
     ]
    }
   ],
   "source": [
    "test_num = int(input())\n",
    "res =[]\n",
    "for i in range(test_num):\n",
    "    n, m, i, j = input().split()\n",
    "    n = int(n)\n",
    "    m = int(m)\n",
    "    i = int(i)\n",
    "    j = int(j)\n",
    "    dot1 = [i, j]\n",
    "    \n",
    "    if (n-i) >= i:\n",
    "        dot1[0] += (n-i)\n",
    "    else:\n",
    "        dot1[0] -= i-1\n",
    "    if (m-j) >= j:\n",
    "        dot1[1] += (m-j)\n",
    "    else:\n",
    "        dot1[1] -= j-1\n",
    "        \n",
    "    i, j = dot1[0], dot1[1]\n",
    "    dot2 = [i, j]\n",
    "    \n",
    "    if (n-i) >= i:\n",
    "        dot2[0] += (n-i)\n",
    "    else:\n",
    "        dot2[0] -= i-1\n",
    "    if (m-j) >= j:\n",
    "        dot2[1] += (m-j)\n",
    "    else:\n",
    "        dot2[1] -= j-1\n",
    "#     print(dot1)\n",
    "    dot1.extend(dot2)\n",
    "#     print(dot1)\n",
    "    res.extend([dot1])\n",
    "for elm in res:\n",
    "    print(*elm)"
   ]
  },
  {
   "cell_type": "code",
   "execution_count": null,
   "id": "972a3b7b",
   "metadata": {},
   "outputs": [],
   "source": []
  }
 ],
 "metadata": {
  "kernelspec": {
   "display_name": "Python 3 (ipykernel)",
   "language": "python",
   "name": "python3"
  },
  "language_info": {
   "codemirror_mode": {
    "name": "ipython",
    "version": 3
   },
   "file_extension": ".py",
   "mimetype": "text/x-python",
   "name": "python",
   "nbconvert_exporter": "python",
   "pygments_lexer": "ipython3",
   "version": "3.8.8"
  }
 },
 "nbformat": 4,
 "nbformat_minor": 5
}
