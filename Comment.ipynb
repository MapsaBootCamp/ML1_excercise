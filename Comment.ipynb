{
 "cells": [
  {
   "cell_type": "code",
   "execution_count": 1,
   "id": "a413308a",
   "metadata": {},
   "outputs": [],
   "source": [
    "import pandas as pd\n",
    "from sklearn.feature_extraction.text import TfidfVectorizer\n",
    "from sklearn.naive_bayes import MultinomialNB\n",
    "from sklearn.pipeline import make_pipeline\n",
    "from sklearn.model_selection import train_test_split"
   ]
  },
  {
   "cell_type": "code",
   "execution_count": 2,
   "id": "d584cbf2",
   "metadata": {},
   "outputs": [
    {
     "name": "stderr",
     "output_type": "stream",
     "text": [
      "/home/afshin/anaconda3/lib/python3.8/site-packages/IPython/core/interactiveshell.py:3165: DtypeWarning: Columns (2,4,6) have mixed types.Specify dtype option on import or set low_memory=False.\n",
      "  has_raised = await self.run_ast_nodes(code_ast.body, cell_name,\n"
     ]
    }
   ],
   "source": [
    "comment_df = pd.read_csv('Intent_analysis/train.csv')"
   ]
  },
  {
   "cell_type": "code",
   "execution_count": 3,
   "id": "198fabd1",
   "metadata": {},
   "outputs": [
    {
     "data": {
      "text/html": [
       "<div>\n",
       "<style scoped>\n",
       "    .dataframe tbody tr th:only-of-type {\n",
       "        vertical-align: middle;\n",
       "    }\n",
       "\n",
       "    .dataframe tbody tr th {\n",
       "        vertical-align: top;\n",
       "    }\n",
       "\n",
       "    .dataframe thead th {\n",
       "        text-align: right;\n",
       "    }\n",
       "</style>\n",
       "<table border=\"1\" class=\"dataframe\">\n",
       "  <thead>\n",
       "    <tr style=\"text-align: right;\">\n",
       "      <th></th>\n",
       "      <th>id</th>\n",
       "      <th>comment</th>\n",
       "      <th>product_id</th>\n",
       "      <th>product_title_fa</th>\n",
       "      <th>category_id</th>\n",
       "      <th>category_title_fa</th>\n",
       "      <th>is_buyer</th>\n",
       "      <th>price_value</th>\n",
       "      <th>fake_originality</th>\n",
       "      <th>warranty</th>\n",
       "      <th>size</th>\n",
       "      <th>discrepancy</th>\n",
       "      <th>flavor_odor</th>\n",
       "      <th>expiration_date</th>\n",
       "    </tr>\n",
       "  </thead>\n",
       "  <tbody>\n",
       "    <tr>\n",
       "      <th>0</th>\n",
       "      <td>1215666.0</td>\n",
       "      <td>ارزششو داشت</td>\n",
       "      <td>2802959</td>\n",
       "      <td>جوراب مردانه فیرو پلاس مدل FP200 مجموعه 4 عددی</td>\n",
       "      <td>9456.0</td>\n",
       "      <td>جوراب و ساق مردانه</td>\n",
       "      <td>True</td>\n",
       "      <td>1.0</td>\n",
       "      <td>0.0</td>\n",
       "      <td>0.0</td>\n",
       "      <td>0.0</td>\n",
       "      <td>0.0</td>\n",
       "      <td>0.0</td>\n",
       "      <td>0.0</td>\n",
       "    </tr>\n",
       "    <tr>\n",
       "      <th>1</th>\n",
       "      <td>1183149.0</td>\n",
       "      <td>یه دستگاه کاربردی فقط ای کاش طرز استفادشو میزد...</td>\n",
       "      <td>1894596</td>\n",
       "      <td>دستگاه سفید کننده دندان دنتال وایت مدل DT-1244</td>\n",
       "      <td>5745.0</td>\n",
       "      <td>مسواک برقی</td>\n",
       "      <td>True</td>\n",
       "      <td>0.0</td>\n",
       "      <td>0.0</td>\n",
       "      <td>0.0</td>\n",
       "      <td>0.0</td>\n",
       "      <td>0.0</td>\n",
       "      <td>0.0</td>\n",
       "      <td>0.0</td>\n",
       "    </tr>\n",
       "    <tr>\n",
       "      <th>2</th>\n",
       "      <td>1011730.0</td>\n",
       "      <td>خیلی خوب و ارزان</td>\n",
       "      <td>323729</td>\n",
       "      <td>کتاب بهترین قصه ملانصرالدین کلک مرغابی اثر مهر...</td>\n",
       "      <td>5918.0</td>\n",
       "      <td>کتاب چاپی</td>\n",
       "      <td>True</td>\n",
       "      <td>1.0</td>\n",
       "      <td>0.0</td>\n",
       "      <td>0.0</td>\n",
       "      <td>0.0</td>\n",
       "      <td>0.0</td>\n",
       "      <td>0.0</td>\n",
       "      <td>0.0</td>\n",
       "    </tr>\n",
       "    <tr>\n",
       "      <th>3</th>\n",
       "      <td>1093325.0</td>\n",
       "      <td>اندازش خیلیییییی بزرگ بود</td>\n",
       "      <td>1431242</td>\n",
       "      <td>نوار بهداشتی تافته مدل Thin بسته 7 عددی</td>\n",
       "      <td>6528.0</td>\n",
       "      <td>نوار بهداشتی</td>\n",
       "      <td>True</td>\n",
       "      <td>0.0</td>\n",
       "      <td>0.0</td>\n",
       "      <td>0.0</td>\n",
       "      <td>1.0</td>\n",
       "      <td>0.0</td>\n",
       "      <td>0.0</td>\n",
       "      <td>0.0</td>\n",
       "    </tr>\n",
       "    <tr>\n",
       "      <th>4</th>\n",
       "      <td>1111983.0</td>\n",
       "      <td>خیلی بد بود و میچسبید به دست</td>\n",
       "      <td>1902220</td>\n",
       "      <td>ژل بازی کد shb57</td>\n",
       "      <td>6083.0</td>\n",
       "      <td>ابزار شوخی</td>\n",
       "      <td>False</td>\n",
       "      <td>0.0</td>\n",
       "      <td>0.0</td>\n",
       "      <td>0.0</td>\n",
       "      <td>0.0</td>\n",
       "      <td>0.0</td>\n",
       "      <td>0.0</td>\n",
       "      <td>0.0</td>\n",
       "    </tr>\n",
       "  </tbody>\n",
       "</table>\n",
       "</div>"
      ],
      "text/plain": [
       "          id                                            comment product_id  \\\n",
       "0  1215666.0                                        ارزششو داشت    2802959   \n",
       "1  1183149.0  یه دستگاه کاربردی فقط ای کاش طرز استفادشو میزد...    1894596   \n",
       "2  1011730.0                                   خیلی خوب و ارزان     323729   \n",
       "3  1093325.0                          اندازش خیلیییییی بزرگ بود    1431242   \n",
       "4  1111983.0                       خیلی بد بود و میچسبید به دست    1902220   \n",
       "\n",
       "                                    product_title_fa category_id  \\\n",
       "0     جوراب مردانه فیرو پلاس مدل FP200 مجموعه 4 عددی      9456.0   \n",
       "1     دستگاه سفید کننده دندان دنتال وایت مدل DT-1244      5745.0   \n",
       "2  کتاب بهترین قصه ملانصرالدین کلک مرغابی اثر مهر...      5918.0   \n",
       "3            نوار بهداشتی تافته مدل Thin بسته 7 عددی      6528.0   \n",
       "4                                   ژل بازی کد shb57      6083.0   \n",
       "\n",
       "    category_title_fa is_buyer  price_value  fake_originality  warranty  size  \\\n",
       "0  جوراب و ساق مردانه     True          1.0               0.0       0.0   0.0   \n",
       "1          مسواک برقی     True          0.0               0.0       0.0   0.0   \n",
       "2           کتاب چاپی     True          1.0               0.0       0.0   0.0   \n",
       "3        نوار بهداشتی     True          0.0               0.0       0.0   1.0   \n",
       "4          ابزار شوخی    False          0.0               0.0       0.0   0.0   \n",
       "\n",
       "   discrepancy  flavor_odor  expiration_date  \n",
       "0          0.0          0.0              0.0  \n",
       "1          0.0          0.0              0.0  \n",
       "2          0.0          0.0              0.0  \n",
       "3          0.0          0.0              0.0  \n",
       "4          0.0          0.0              0.0  "
      ]
     },
     "execution_count": 3,
     "metadata": {},
     "output_type": "execute_result"
    }
   ],
   "source": [
    "comment_df.head()"
   ]
  },
  {
   "cell_type": "code",
   "execution_count": 4,
   "id": "ea9aa89c",
   "metadata": {},
   "outputs": [
    {
     "name": "stdout",
     "output_type": "stream",
     "text": [
      "<class 'pandas.core.frame.DataFrame'>\n",
      "RangeIndex: 224130 entries, 0 to 224129\n",
      "Data columns (total 14 columns):\n",
      " #   Column             Non-Null Count   Dtype  \n",
      "---  ------             --------------   -----  \n",
      " 0   id                 224129 non-null  float64\n",
      " 1   comment            224127 non-null  object \n",
      " 2   product_id         224129 non-null  object \n",
      " 3   product_title_fa   224129 non-null  object \n",
      " 4   category_id        224129 non-null  object \n",
      " 5   category_title_fa  224129 non-null  object \n",
      " 6   is_buyer           224129 non-null  object \n",
      " 7   price_value        224129 non-null  float64\n",
      " 8   fake_originality   224129 non-null  float64\n",
      " 9   warranty           224129 non-null  float64\n",
      " 10  size               224129 non-null  float64\n",
      " 11  discrepancy        224129 non-null  float64\n",
      " 12  flavor_odor        224129 non-null  float64\n",
      " 13  expiration_date    224128 non-null  float64\n",
      "dtypes: float64(8), object(6)\n",
      "memory usage: 23.9+ MB\n"
     ]
    }
   ],
   "source": [
    "comment_df.info()"
   ]
  },
  {
   "cell_type": "code",
   "execution_count": 5,
   "id": "858207a2",
   "metadata": {},
   "outputs": [],
   "source": [
    "comment_df = comment_df.dropna()"
   ]
  },
  {
   "cell_type": "code",
   "execution_count": 6,
   "id": "38f53cb6",
   "metadata": {},
   "outputs": [],
   "source": [
    "from sklearn.model_selection import train_test_split\n",
    "\n",
    "X = comment_df.comment\n",
    "y = comment_df.price_value\n",
    "X_train, X_test, y_train, y_test = train_test_split(X, y, test_size=0.3, random_state=40)"
   ]
  },
  {
   "cell_type": "code",
   "execution_count": 7,
   "id": "b0d14766",
   "metadata": {},
   "outputs": [],
   "source": [
    "from sklearn.feature_extraction.text import TfidfVectorizer\n",
    "from sklearn.naive_bayes import MultinomialNB\n",
    "from sklearn.pipeline import make_pipeline"
   ]
  },
  {
   "cell_type": "code",
   "execution_count": 8,
   "id": "070689ef",
   "metadata": {},
   "outputs": [],
   "source": [
    "model = make_pipeline(TfidfVectorizer(ngram_range=(2,6),smooth_idf=False), MultinomialNB())\n",
    "model.fit(X_train,y_train)\n",
    "label = model.predict(X_test)"
   ]
  },
  {
   "cell_type": "code",
   "execution_count": 9,
   "id": "75f2559d",
   "metadata": {
    "scrolled": false
   },
   "outputs": [
    {
     "data": {
      "text/plain": [
       "0.8887802971071149"
      ]
     },
     "execution_count": 9,
     "metadata": {},
     "output_type": "execute_result"
    }
   ],
   "source": [
    "from sklearn.metrics import recall_score\n",
    "recall_score(label, y_test)"
   ]
  },
  {
   "cell_type": "code",
   "execution_count": 10,
   "id": "877fbd07",
   "metadata": {},
   "outputs": [
    {
     "data": {
      "text/plain": [
       "0.4905334699821997"
      ]
     },
     "execution_count": 10,
     "metadata": {},
     "output_type": "execute_result"
    }
   ],
   "source": [
    "from sklearn.metrics import f1_score\n",
    "f1_score(label, y_test)"
   ]
  },
  {
   "cell_type": "markdown",
   "id": "73d96d13",
   "metadata": {},
   "source": [
    "# fake_originality"
   ]
  },
  {
   "cell_type": "code",
   "execution_count": 11,
   "id": "14825856",
   "metadata": {},
   "outputs": [],
   "source": [
    "from sklearn.model_selection import train_test_split\n",
    "\n",
    "X = comment_df.comment\n",
    "y = comment_df.fake_originality\n",
    "X_train, X_test, y_train, y_test = train_test_split(X, y, test_size=0.3, random_state=40)"
   ]
  },
  {
   "cell_type": "code",
   "execution_count": 12,
   "id": "9ded58b3",
   "metadata": {},
   "outputs": [],
   "source": [
    "model = make_pipeline(TfidfVectorizer(ngram_range=(2,6),smooth_idf=False), MultinomialNB())\n",
    "model.fit(X_train,y_train)\n",
    "label = model.predict(X_test)"
   ]
  },
  {
   "cell_type": "code",
   "execution_count": 72,
   "id": "fdfddab1",
   "metadata": {
    "scrolled": true
   },
   "outputs": [
    {
     "data": {
      "text/plain": [
       "1.0"
      ]
     },
     "execution_count": 72,
     "metadata": {},
     "output_type": "execute_result"
    }
   ],
   "source": [
    "recall_score(label, y_test, zero_division=1)"
   ]
  },
  {
   "cell_type": "code",
   "execution_count": 13,
   "id": "9a67096a",
   "metadata": {},
   "outputs": [
    {
     "data": {
      "text/plain": [
       "0.0"
      ]
     },
     "execution_count": 13,
     "metadata": {},
     "output_type": "execute_result"
    }
   ],
   "source": [
    "from sklearn.metrics import f1_score\n",
    "f1_score(label, y_test)"
   ]
  },
  {
   "cell_type": "markdown",
   "id": "6659537a",
   "metadata": {},
   "source": [
    "# warranty"
   ]
  },
  {
   "cell_type": "code",
   "execution_count": 19,
   "id": "59a2d1b5",
   "metadata": {},
   "outputs": [],
   "source": [
    "from sklearn.model_selection import train_test_split\n",
    "\n",
    "X = comment_df.comment\n",
    "y = comment_df.warranty\n",
    "X_train, X_test, y_train, y_test = train_test_split(X, y, test_size=0.3, random_state=40)"
   ]
  },
  {
   "cell_type": "code",
   "execution_count": 20,
   "id": "27c3a18c",
   "metadata": {},
   "outputs": [],
   "source": [
    "model = make_pipeline(TfidfVectorizer(ngram_range=(2,6),smooth_idf=False), MultinomialNB())\n",
    "model.fit(X_train,y_train)\n",
    "label = model.predict(X_test)"
   ]
  },
  {
   "cell_type": "code",
   "execution_count": 75,
   "id": "2ac671fb",
   "metadata": {},
   "outputs": [
    {
     "data": {
      "text/plain": [
       "1.0"
      ]
     },
     "execution_count": 75,
     "metadata": {},
     "output_type": "execute_result"
    }
   ],
   "source": [
    "recall_score(label, y_test, zero_division=1)"
   ]
  },
  {
   "cell_type": "code",
   "execution_count": 21,
   "id": "1d4a7115",
   "metadata": {},
   "outputs": [
    {
     "data": {
      "text/plain": [
       "0.0"
      ]
     },
     "execution_count": 21,
     "metadata": {},
     "output_type": "execute_result"
    }
   ],
   "source": [
    "f1_score(y_test,label)"
   ]
  },
  {
   "cell_type": "markdown",
   "id": "f9eccf3f",
   "metadata": {},
   "source": [
    "# discrepancy"
   ]
  },
  {
   "cell_type": "code",
   "execution_count": 17,
   "id": "09f5a2ed",
   "metadata": {},
   "outputs": [],
   "source": [
    "X = comment_df.comment\n",
    "y = comment_df.discrepancy\n",
    "X_train, X_test, y_train, y_test = train_test_split(X, y, test_size=0.3, random_state=90)"
   ]
  },
  {
   "cell_type": "code",
   "execution_count": 18,
   "id": "c79328c7",
   "metadata": {},
   "outputs": [],
   "source": [
    "model = make_pipeline(TfidfVectorizer(ngram_range=(1,3)), MultinomialNB())\n",
    "model.fit(X_train,y_train)\n",
    "label = model.predict(X_test)"
   ]
  },
  {
   "cell_type": "code",
   "execution_count": 111,
   "id": "81c5b132",
   "metadata": {
    "scrolled": true
   },
   "outputs": [
    {
     "data": {
      "text/plain": [
       "1.0"
      ]
     },
     "execution_count": 111,
     "metadata": {},
     "output_type": "execute_result"
    }
   ],
   "source": [
    "from sklearn.metrics import recall_score\n",
    "recall_score(label, y_test)"
   ]
  },
  {
   "cell_type": "markdown",
   "id": "6bc1295a",
   "metadata": {},
   "source": [
    "# flavor_odor"
   ]
  },
  {
   "cell_type": "code",
   "execution_count": 67,
   "id": "4713cfa2",
   "metadata": {},
   "outputs": [],
   "source": [
    "X = comment_df.comment\n",
    "y = comment_df.flavor_odor\n",
    "X_train, X_test, y_train, y_test = train_test_split(X, y, test_size=0.3, random_state=90)"
   ]
  },
  {
   "cell_type": "code",
   "execution_count": 68,
   "id": "eda8aea8",
   "metadata": {},
   "outputs": [],
   "source": [
    "model = make_pipeline(TfidfVectorizer(ngram_range=(1,4),min_df=1,smooth_idf=False), MultinomialNB())\n",
    "model.fit(X_train,y_train)\n",
    "label = model.predict(X_test)"
   ]
  },
  {
   "cell_type": "code",
   "execution_count": 69,
   "id": "39210d7c",
   "metadata": {
    "scrolled": true
   },
   "outputs": [
    {
     "data": {
      "text/plain": [
       "0.9669117647058824"
      ]
     },
     "execution_count": 69,
     "metadata": {},
     "output_type": "execute_result"
    }
   ],
   "source": [
    "recall_score(label, y_test)"
   ]
  },
  {
   "cell_type": "markdown",
   "id": "2c80e4fe",
   "metadata": {},
   "source": [
    "# expiration_date"
   ]
  },
  {
   "cell_type": "code",
   "execution_count": 77,
   "id": "818d8081",
   "metadata": {},
   "outputs": [],
   "source": [
    "X = comment_df.comment\n",
    "y = comment_df.expiration_date\n",
    "X_train, X_test, y_train, y_test = train_test_split(X, y, test_size=0.3, random_state=90)"
   ]
  },
  {
   "cell_type": "code",
   "execution_count": 78,
   "id": "daa65dbc",
   "metadata": {},
   "outputs": [],
   "source": [
    "model = make_pipeline(TfidfVectorizer(ngram_range=(1,4),min_df=1,smooth_idf=False), MultinomialNB())\n",
    "model.fit(X_train,y_train)\n",
    "label = model.predict(X_test)"
   ]
  },
  {
   "cell_type": "code",
   "execution_count": 79,
   "id": "7e61827d",
   "metadata": {},
   "outputs": [
    {
     "data": {
      "text/plain": [
       "1.0"
      ]
     },
     "execution_count": 79,
     "metadata": {},
     "output_type": "execute_result"
    }
   ],
   "source": [
    "recall_score(label, y_test,zero_division=1)"
   ]
  }
 ],
 "metadata": {
  "kernelspec": {
   "display_name": "Python 3",
   "language": "python",
   "name": "python3"
  },
  "language_info": {
   "codemirror_mode": {
    "name": "ipython",
    "version": 3
   },
   "file_extension": ".py",
   "mimetype": "text/x-python",
   "name": "python",
   "nbconvert_exporter": "python",
   "pygments_lexer": "ipython3",
   "version": "3.8.8"
  }
 },
 "nbformat": 4,
 "nbformat_minor": 5
}
