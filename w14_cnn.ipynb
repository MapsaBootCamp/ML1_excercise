{
  "nbformat": 4,
  "nbformat_minor": 0,
  "metadata": {
    "colab": {
      "name": "w14_cnn.ipynb",
      "provenance": []
    },
    "kernelspec": {
      "name": "python3",
      "display_name": "Python 3"
    },
    "language_info": {
      "name": "python"
    },
    "accelerator": "GPU"
  },
  "cells": [
    {
      "cell_type": "code",
      "execution_count": 1,
      "metadata": {
        "id": "ZCY_Os4HIOst"
      },
      "outputs": [],
      "source": [
        "import tensorflow as tf\n",
        "from tensorflow import keras\n",
        "from tensorflow.keras.utils import plot_model\n",
        "from tensorflow.keras import models"
      ]
    },
    {
      "cell_type": "code",
      "source": [
        "# load fashion mnist dataset \n",
        "(training_images, training_labels), (test_images, test_labels) = keras.datasets.fashion_mnist.load_data()\n",
        "\n",
        "# reshape \n",
        "training_images = training_images.reshape(training_images.shape[0], 28, 28, 1)\n",
        "\n",
        "test_images = test_images.reshape(test_images.shape[0], 28,28,1)\n",
        "print(training_images.shape)"
      ],
      "metadata": {
        "colab": {
          "base_uri": "https://localhost:8080/"
        },
        "id": "ZydyvAncIYiQ",
        "outputId": "e5031158-e2fd-4457-bb93-0476fd0cf28f"
      },
      "execution_count": 3,
      "outputs": [
        {
          "output_type": "stream",
          "name": "stdout",
          "text": [
            "(60000, 28, 28, 1)\n"
          ]
        }
      ]
    },
    {
      "cell_type": "code",
      "source": [
        "# define model 1\n",
        "model_cnn = tf.keras.models.Sequential([\n",
        "                                        keras.layers.Conv2D(32, (3, 3), activation='relu', input_shape=(28, 28, 1)), \n",
        "                                        keras.layers.MaxPooling2D(2, 2), \n",
        "                                        keras.layers.Flatten(), \n",
        "                                        keras.layers.Dense(128, activation='relu'), \n",
        "                                        keras.layers.Dense(10, activation='softmax')\n",
        "])\n"
      ],
      "metadata": {
        "id": "J2MzYsF8ItgB"
      },
      "execution_count": 4,
      "outputs": []
    },
    {
      "cell_type": "code",
      "source": [
        "model_cnn.summary()"
      ],
      "metadata": {
        "colab": {
          "base_uri": "https://localhost:8080/"
        },
        "id": "Snd64YTfKByV",
        "outputId": "7264aa7d-dd66-4d6a-ad4e-de348a8d65e1"
      },
      "execution_count": 5,
      "outputs": [
        {
          "output_type": "stream",
          "name": "stdout",
          "text": [
            "Model: \"sequential\"\n",
            "_________________________________________________________________\n",
            " Layer (type)                Output Shape              Param #   \n",
            "=================================================================\n",
            " conv2d (Conv2D)             (None, 26, 26, 32)        320       \n",
            "                                                                 \n",
            " max_pooling2d (MaxPooling2D  (None, 13, 13, 32)       0         \n",
            " )                                                               \n",
            "                                                                 \n",
            " flatten (Flatten)           (None, 5408)              0         \n",
            "                                                                 \n",
            " dense (Dense)               (None, 128)               692352    \n",
            "                                                                 \n",
            " dense_1 (Dense)             (None, 10)                1290      \n",
            "                                                                 \n",
            "=================================================================\n",
            "Total params: 693,962\n",
            "Trainable params: 693,962\n",
            "Non-trainable params: 0\n",
            "_________________________________________________________________\n"
          ]
        }
      ]
    },
    {
      "cell_type": "code",
      "source": [
        "model_cnn.compile(optimizer='adam', loss=keras.losses.sparse_categorical_crossentropy, metrics=['accuracy'])\n"
      ],
      "metadata": {
        "id": "PxvZDO4yKGaD"
      },
      "execution_count": 6,
      "outputs": []
    },
    {
      "cell_type": "code",
      "source": [
        "plot_model(model_cnn, to_file='model_cnn_1.png')"
      ],
      "metadata": {
        "colab": {
          "base_uri": "https://localhost:8080/",
          "height": 564
        },
        "id": "18cvh5Y7KdqJ",
        "outputId": "74428718-32fa-4ac7-9904-cc1f1d478564"
      },
      "execution_count": 7,
      "outputs": [
        {
          "output_type": "execute_result",
          "data": {
            "image/png": "[encoded data removed]",
            "text/plain": [
              "<IPython.core.display.Image object>"
            ]
          },
          "metadata": {},
          "execution_count": 7
        }
      ]
    },
    {
      "cell_type": "code",
      "source": [
        "history = model_cnn.fit(training_images, training_labels, epochs=5)"
      ],
      "metadata": {
        "colab": {
          "base_uri": "https://localhost:8080/"
        },
        "id": "-QbcIEIFKmyA",
        "outputId": "8c81b3e6-44b9-4b0e-f661-c6870ef9d726"
      },
      "execution_count": 8,
      "outputs": [
        {
          "output_type": "stream",
          "name": "stdout",
          "text": [
            "Epoch 1/5\n",
            "1875/1875 [==============================] - 18s 5ms/step - loss: 1.0879 - accuracy: 0.8428\n",
            "Epoch 2/5\n",
            "1875/1875 [==============================] - 9s 5ms/step - loss: 0.2887 - accuracy: 0.8962\n",
            "Epoch 3/5\n",
            "1875/1875 [==============================] - 9s 5ms/step - loss: 0.2513 - accuracy: 0.9078\n",
            "Epoch 4/5\n",
            "1875/1875 [==============================] - 9s 5ms/step - loss: 0.2278 - accuracy: 0.9155\n",
            "Epoch 5/5\n",
            "1875/1875 [==============================] - 9s 5ms/step - loss: 0.2141 - accuracy: 0.9208\n"
          ]
        }
      ]
    },
    {
      "cell_type": "code",
      "source": [
        "test_loss, test_acc = model_cnn.evaluate(test_images, test_labels)"
      ],
      "metadata": {
        "colab": {
          "base_uri": "https://localhost:8080/"
        },
        "id": "C_5cVk14KvRR",
        "outputId": "7bf2548d-d532-4517-c0df-934f14251e9a"
      },
      "execution_count": 9,
      "outputs": [
        {
          "output_type": "stream",
          "name": "stdout",
          "text": [
            "313/313 [==============================] - 1s 4ms/step - loss: 0.3402 - accuracy: 0.8940\n"
          ]
        }
      ]
    },
    {
      "cell_type": "code",
      "source": [
        "# define model 2\n",
        "model_cnn2 = tf.keras.models.Sequential([\n",
        "                                        keras.layers.Conv2D(512, (3, 3), activation='relu', input_shape=(28, 28, 1)), \n",
        "                                        \n",
        "                                        keras.layers.Conv2D(256, (3, 3), activation='relu'), \n",
        "                                        \n",
        "                                        keras.layers.Conv2D(128, (3, 3), activation='relu'),\n",
        "                                        keras.layers.MaxPooling2D(2, 2),\n",
        "                                        keras.layers.Flatten(),\n",
        "                                        keras.layers.Dense(64, activation='relu'),\n",
        "                                        keras.layers.Dense(32, activation='relu'),  \n",
        "                                        keras.layers.Dense(10, activation='softmax')\n",
        "])\n"
      ],
      "metadata": {
        "id": "fJnbNICGLK0M"
      },
      "execution_count": 63,
      "outputs": []
    },
    {
      "cell_type": "code",
      "source": [
        "model_cnn2.summary()"
      ],
      "metadata": {
        "colab": {
          "base_uri": "https://localhost:8080/"
        },
        "id": "2v8C-pNgMPKD",
        "outputId": "0859ba09-28e9-4b3f-94cc-da0f51ae2944"
      },
      "execution_count": 64,
      "outputs": [
        {
          "output_type": "stream",
          "name": "stdout",
          "text": [
            "Model: \"sequential_12\"\n",
            "_________________________________________________________________\n",
            " Layer (type)                Output Shape              Param #   \n",
            "=================================================================\n",
            " conv2d_34 (Conv2D)          (None, 26, 26, 512)       5120      \n",
            "                                                                 \n",
            " conv2d_35 (Conv2D)          (None, 24, 24, 256)       1179904   \n",
            "                                                                 \n",
            " conv2d_36 (Conv2D)          (None, 22, 22, 128)       295040    \n",
            "                                                                 \n",
            " max_pooling2d_29 (MaxPoolin  (None, 11, 11, 128)      0         \n",
            " g2D)                                                            \n",
            "                                                                 \n",
            " flatten_10 (Flatten)        (None, 15488)             0         \n",
            "                                                                 \n",
            " dense_24 (Dense)            (None, 64)                991296    \n",
            "                                                                 \n",
            " dense_25 (Dense)            (None, 32)                2080      \n",
            "                                                                 \n",
            " dense_26 (Dense)            (None, 10)                330       \n",
            "                                                                 \n",
            "=================================================================\n",
            "Total params: 2,473,770\n",
            "Trainable params: 2,473,770\n",
            "Non-trainable params: 0\n",
            "_________________________________________________________________\n"
          ]
        }
      ]
    },
    {
      "cell_type": "code",
      "source": [
        "model_cnn2.compile(optimizer='adam', loss=keras.losses.sparse_categorical_crossentropy, metrics=['accuracy'])\n"
      ],
      "metadata": {
        "id": "uBGQHtOlMSEl"
      },
      "execution_count": 65,
      "outputs": []
    },
    {
      "cell_type": "code",
      "source": [
        "plot_model(model_cnn2, to_file='model_cnn_2.png')"
      ],
      "metadata": {
        "colab": {
          "base_uri": "https://localhost:8080/",
          "height": 1000
        },
        "id": "ex3eTEvqMaFq",
        "outputId": "b826fa62-afc0-4f59-d674-79cd4dc60556"
      },
      "execution_count": 66,
      "outputs": [
        {
          "output_type": "error",
          "ename": "KeyboardInterrupt",
          "evalue": "ignored",
          "traceback": [
            "\u001b[0;31m---------------------------------------------------------------------------\u001b[0m",
            "\u001b[0;31mKeyboardInterrupt\u001b[0m                         Traceback (most recent call last)",
            "\u001b[0;32m/usr/local/lib/python3.7/dist-packages/zmq/backend/cython/checkrc.pxd\u001b[0m in \u001b[0;36mzmq.backend.cython.checkrc._check_rc\u001b[0;34m()\u001b[0m\n",
            "\u001b[0;31mKeyboardInterrupt\u001b[0m: "
          ]
        },
        {
          "output_type": "stream",
          "name": "stderr",
          "text": [
            "Exception ignored in: 'zmq.backend.cython.message.Frame.__dealloc__'\n",
            "Traceback (most recent call last):\n",
            "  File \"zmq/backend/cython/checkrc.pxd\", line 13, in zmq.backend.cython.checkrc._check_rc\n",
            "KeyboardInterrupt\n"
          ]
        },
        {
          "output_type": "error",
          "ename": "KeyboardInterrupt",
          "evalue": "ignored",
          "traceback": [
            "\u001b[0;31m---------------------------------------------------------------------------\u001b[0m",
            "\u001b[0;31mKeyboardInterrupt\u001b[0m                         Traceback (most recent call last)",
            "\u001b[0;32m/usr/local/lib/python3.7/dist-packages/zmq/backend/cython/checkrc.pxd\u001b[0m in \u001b[0;36mzmq.backend.cython.checkrc._check_rc\u001b[0;34m()\u001b[0m\n",
            "\u001b[0;31mKeyboardInterrupt\u001b[0m: "
          ]
        },
        {
          "output_type": "stream",
          "name": "stderr",
          "text": [
            "Exception ignored in: 'zmq.backend.cython.message.Frame.__dealloc__'\n",
            "Traceback (most recent call last):\n",
            "  File \"zmq/backend/cython/checkrc.pxd\", line 13, in zmq.backend.cython.checkrc._check_rc\n",
            "KeyboardInterrupt\n"
          ]
        },
        {
          "output_type": "execute_result",
          "data": {
            "image/png": "[encoded data removed]",
            "text/plain": [
              "<IPython.core.display.Image object>"
            ]
          },
          "metadata": {},
          "execution_count": 66
        }
      ]
    },
    {
      "cell_type": "code",
      "source": [
        "history = model_cnn2.fit(training_images, training_labels, epochs=5)"
      ],
      "metadata": {
        "colab": {
          "base_uri": "https://localhost:8080/"
        },
        "id": "urn7Wg2rMfBH",
        "outputId": "df7180bc-bf66-41c0-be4a-2c9c9e20bf74"
      },
      "execution_count": null,
      "outputs": [
        {
          "output_type": "stream",
          "name": "stdout",
          "text": [
            "Epoch 1/5\n",
            "1875/1875 [==============================] - 84s 45ms/step - loss: 0.5052 - accuracy: 0.8433\n",
            "Epoch 2/5\n",
            "1875/1875 [==============================] - 83s 44ms/step - loss: 0.2982 - accuracy: 0.8921\n",
            "Epoch 3/5\n",
            "1875/1875 [==============================] - 82s 44ms/step - loss: 0.2510 - accuracy: 0.9092\n",
            "Epoch 4/5\n",
            "1875/1875 [==============================] - 82s 44ms/step - loss: 0.2171 - accuracy: 0.9199\n",
            "Epoch 5/5\n",
            "1875/1875 [==============================] - 82s 44ms/step - loss: 0.1887 - accuracy: 0.9289\n"
          ]
        }
      ]
    },
    {
      "cell_type": "code",
      "source": [
        ""
      ],
      "metadata": {
        "id": "LL_3J1c3Ml-2"
      },
      "execution_count": null,
      "outputs": []
    }
  ]
}