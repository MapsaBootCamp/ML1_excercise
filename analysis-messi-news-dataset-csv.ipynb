{
 "cells": [
  {
   "cell_type": "code",
   "execution_count": 1,
   "id": "2d8b0f00",
   "metadata": {
    "execution": {
     "iopub.execute_input": "2021-09-11T20:35:17.002890Z",
     "iopub.status.busy": "2021-09-11T20:35:17.002199Z",
     "iopub.status.idle": "2021-09-11T20:35:17.004137Z",
     "shell.execute_reply": "2021-09-11T20:35:17.004672Z",
     "shell.execute_reply.started": "2021-09-11T20:11:12.290033Z"
    },
    "papermill": {
     "duration": 0.017561,
     "end_time": "2021-09-11T20:35:17.004973",
     "exception": false,
     "start_time": "2021-09-11T20:35:16.987412",
     "status": "completed"
    },
    "tags": []
   },
   "outputs": [],
   "source": [
    "import pandas as pd"
   ]
  },
  {
   "cell_type": "code",
   "execution_count": 2,
   "id": "e861388b",
   "metadata": {
    "execution": {
     "iopub.execute_input": "2021-09-11T20:35:17.017860Z",
     "iopub.status.busy": "2021-09-11T20:35:17.017271Z",
     "iopub.status.idle": "2021-09-11T20:35:17.139383Z",
     "shell.execute_reply": "2021-09-11T20:35:17.139855Z",
     "shell.execute_reply.started": "2021-09-11T20:12:28.542088Z"
    },
    "papermill": {
     "duration": 0.129486,
     "end_time": "2021-09-11T20:35:17.140014",
     "exception": false,
     "start_time": "2021-09-11T20:35:17.010528",
     "status": "completed"
    },
    "tags": []
   },
   "outputs": [
    {
     "data": {
      "text/html": [
       "<div>\n",
       "<style scoped>\n",
       "    .dataframe tbody tr th:only-of-type {\n",
       "        vertical-align: middle;\n",
       "    }\n",
       "\n",
       "    .dataframe tbody tr th {\n",
       "        vertical-align: top;\n",
       "    }\n",
       "\n",
       "    .dataframe thead th {\n",
       "        text-align: right;\n",
       "    }\n",
       "</style>\n",
       "<table border=\"1\" class=\"dataframe\">\n",
       "  <thead>\n",
       "    <tr style=\"text-align: right;\">\n",
       "      <th></th>\n",
       "      <th>title</th>\n",
       "      <th>author</th>\n",
       "      <th>date</th>\n",
       "      <th>content</th>\n",
       "    </tr>\n",
       "  </thead>\n",
       "  <tbody>\n",
       "    <tr>\n",
       "      <th>0</th>\n",
       "      <td>With Messi moving to France, the Bundesliga ne...</td>\n",
       "      <td>Ronan Murphy</td>\n",
       "      <td>Aug 12, 2021</td>\n",
       "      <td>After a quiet transfer market, Germany's top f...</td>\n",
       "    </tr>\n",
       "    <tr>\n",
       "      <th>1</th>\n",
       "      <td>No Messi, no hope? How Barcelona will line up ...</td>\n",
       "      <td>Rik Sharma</td>\n",
       "      <td>Aug 12, 2021</td>\n",
       "      <td>The Argentine has been carrying the Catalan cl...</td>\n",
       "    </tr>\n",
       "    <tr>\n",
       "      <th>2</th>\n",
       "      <td>Messi to PSG: A transfer 10 years in the makin...</td>\n",
       "      <td>Robin Bairner</td>\n",
       "      <td>Aug 14, 2021</td>\n",
       "      <td>Seeing Lionel Messi play in a club shirt that ...</td>\n",
       "    </tr>\n",
       "    <tr>\n",
       "      <th>3</th>\n",
       "      <td>NXGN Revisited: What happened to Barcelona's '...</td>\n",
       "      <td>Emma Smith</td>\n",
       "      <td>Aug 25, 2021</td>\n",
       "      <td>The forward broke records during his early yea...</td>\n",
       "    </tr>\n",
       "    <tr>\n",
       "      <th>4</th>\n",
       "      <td>Don't cry for me, Barcelona! PSG providing Mes...</td>\n",
       "      <td>Daniel Edwards</td>\n",
       "      <td>Aug 11, 2021</td>\n",
       "      <td>The Argentine attacker shed tears after his sh...</td>\n",
       "    </tr>\n",
       "  </tbody>\n",
       "</table>\n",
       "</div>"
      ],
      "text/plain": [
       "                                               title          author  \\\n",
       "0  With Messi moving to France, the Bundesliga ne...    Ronan Murphy   \n",
       "1  No Messi, no hope? How Barcelona will line up ...      Rik Sharma   \n",
       "2  Messi to PSG: A transfer 10 years in the makin...   Robin Bairner   \n",
       "3  NXGN Revisited: What happened to Barcelona's '...      Emma Smith   \n",
       "4  Don't cry for me, Barcelona! PSG providing Mes...  Daniel Edwards   \n",
       "\n",
       "           date                                            content  \n",
       "0  Aug 12, 2021  After a quiet transfer market, Germany's top f...  \n",
       "1  Aug 12, 2021  The Argentine has been carrying the Catalan cl...  \n",
       "2  Aug 14, 2021  Seeing Lionel Messi play in a club shirt that ...  \n",
       "3  Aug 25, 2021  The forward broke records during his early yea...  \n",
       "4  Aug 11, 2021  The Argentine attacker shed tears after his sh...  "
      ]
     },
     "execution_count": 2,
     "metadata": {},
     "output_type": "execute_result"
    }
   ],
   "source": [
    "goal_db=pd.read_csv(\"../input/messi-news-dataset/messi_news_dataset.csv\") \n",
    "goal_db.head()"
   ]
  },
  {
   "cell_type": "code",
   "execution_count": 3,
   "id": "92c7df03",
   "metadata": {
    "execution": {
     "iopub.execute_input": "2021-09-11T20:35:17.153533Z",
     "iopub.status.busy": "2021-09-11T20:35:17.152717Z",
     "iopub.status.idle": "2021-09-11T20:35:17.173874Z",
     "shell.execute_reply": "2021-09-11T20:35:17.174339Z",
     "shell.execute_reply.started": "2021-09-11T20:12:34.899644Z"
    },
    "papermill": {
     "duration": 0.029149,
     "end_time": "2021-09-11T20:35:17.174507",
     "exception": false,
     "start_time": "2021-09-11T20:35:17.145358",
     "status": "completed"
    },
    "tags": []
   },
   "outputs": [
    {
     "data": {
      "text/html": [
       "<div>\n",
       "<style scoped>\n",
       "    .dataframe tbody tr th:only-of-type {\n",
       "        vertical-align: middle;\n",
       "    }\n",
       "\n",
       "    .dataframe tbody tr th {\n",
       "        vertical-align: top;\n",
       "    }\n",
       "\n",
       "    .dataframe thead th {\n",
       "        text-align: right;\n",
       "    }\n",
       "</style>\n",
       "<table border=\"1\" class=\"dataframe\">\n",
       "  <thead>\n",
       "    <tr style=\"text-align: right;\">\n",
       "      <th></th>\n",
       "      <th>title</th>\n",
       "      <th>author</th>\n",
       "      <th>date</th>\n",
       "      <th>content</th>\n",
       "      <th>year</th>\n",
       "      <th>month</th>\n",
       "      <th>day</th>\n",
       "    </tr>\n",
       "  </thead>\n",
       "  <tbody>\n",
       "    <tr>\n",
       "      <th>0</th>\n",
       "      <td>With Messi moving to France, the Bundesliga ne...</td>\n",
       "      <td>Ronan Murphy</td>\n",
       "      <td>Aug 12, 2021</td>\n",
       "      <td>After a quiet transfer market, Germany's top f...</td>\n",
       "      <td>2021</td>\n",
       "      <td>Aug</td>\n",
       "      <td>12</td>\n",
       "    </tr>\n",
       "    <tr>\n",
       "      <th>1</th>\n",
       "      <td>No Messi, no hope? How Barcelona will line up ...</td>\n",
       "      <td>Rik Sharma</td>\n",
       "      <td>Aug 12, 2021</td>\n",
       "      <td>The Argentine has been carrying the Catalan cl...</td>\n",
       "      <td>2021</td>\n",
       "      <td>Aug</td>\n",
       "      <td>12</td>\n",
       "    </tr>\n",
       "    <tr>\n",
       "      <th>2</th>\n",
       "      <td>Messi to PSG: A transfer 10 years in the makin...</td>\n",
       "      <td>Robin Bairner</td>\n",
       "      <td>Aug 14, 2021</td>\n",
       "      <td>Seeing Lionel Messi play in a club shirt that ...</td>\n",
       "      <td>2021</td>\n",
       "      <td>Aug</td>\n",
       "      <td>14</td>\n",
       "    </tr>\n",
       "    <tr>\n",
       "      <th>3</th>\n",
       "      <td>NXGN Revisited: What happened to Barcelona's '...</td>\n",
       "      <td>Emma Smith</td>\n",
       "      <td>Aug 25, 2021</td>\n",
       "      <td>The forward broke records during his early yea...</td>\n",
       "      <td>2021</td>\n",
       "      <td>Aug</td>\n",
       "      <td>25</td>\n",
       "    </tr>\n",
       "    <tr>\n",
       "      <th>4</th>\n",
       "      <td>Don't cry for me, Barcelona! PSG providing Mes...</td>\n",
       "      <td>Daniel Edwards</td>\n",
       "      <td>Aug 11, 2021</td>\n",
       "      <td>The Argentine attacker shed tears after his sh...</td>\n",
       "      <td>2021</td>\n",
       "      <td>Aug</td>\n",
       "      <td>11</td>\n",
       "    </tr>\n",
       "  </tbody>\n",
       "</table>\n",
       "</div>"
      ],
      "text/plain": [
       "                                               title          author  \\\n",
       "0  With Messi moving to France, the Bundesliga ne...    Ronan Murphy   \n",
       "1  No Messi, no hope? How Barcelona will line up ...      Rik Sharma   \n",
       "2  Messi to PSG: A transfer 10 years in the makin...   Robin Bairner   \n",
       "3  NXGN Revisited: What happened to Barcelona's '...      Emma Smith   \n",
       "4  Don't cry for me, Barcelona! PSG providing Mes...  Daniel Edwards   \n",
       "\n",
       "           date                                            content   year  \\\n",
       "0  Aug 12, 2021  After a quiet transfer market, Germany's top f...   2021   \n",
       "1  Aug 12, 2021  The Argentine has been carrying the Catalan cl...   2021   \n",
       "2  Aug 14, 2021  Seeing Lionel Messi play in a club shirt that ...   2021   \n",
       "3  Aug 25, 2021  The forward broke records during his early yea...   2021   \n",
       "4  Aug 11, 2021  The Argentine attacker shed tears after his sh...   2021   \n",
       "\n",
       "  month day  \n",
       "0   Aug  12  \n",
       "1   Aug  12  \n",
       "2   Aug  14  \n",
       "3   Aug  25  \n",
       "4   Aug  11  "
      ]
     },
     "execution_count": 3,
     "metadata": {},
     "output_type": "execute_result"
    }
   ],
   "source": [
    "goal_db[['month_day','year']] = goal_db.date.str.split(\",\",expand=True)\n",
    "goal_db[['month','day']] = goal_db.month_day.str.split(\" \",expand=True)\n",
    "goal_db = goal_db.drop(columns=['month_day'])\n",
    "goal_db.head()"
   ]
  },
  {
   "cell_type": "code",
   "execution_count": 4,
   "id": "a3b1530f",
   "metadata": {
    "execution": {
     "iopub.execute_input": "2021-09-11T20:35:17.188465Z",
     "iopub.status.busy": "2021-09-11T20:35:17.187899Z",
     "iopub.status.idle": "2021-09-11T20:35:17.206606Z",
     "shell.execute_reply": "2021-09-11T20:35:17.206129Z",
     "shell.execute_reply.started": "2021-09-11T20:16:33.234602Z"
    },
    "papermill": {
     "duration": 0.026665,
     "end_time": "2021-09-11T20:35:17.206736",
     "exception": false,
     "start_time": "2021-09-11T20:35:17.180071",
     "status": "completed"
    },
    "tags": []
   },
   "outputs": [
    {
     "name": "stdout",
     "output_type": "stream",
     "text": [
      "     year month  total_news\n",
      "13   2020   Aug          14\n",
      "22   2020   Oct          13\n",
      "30   2021   Mar          11\n",
      "25   2021   Aug          11\n",
      "7    2019   Mar          10\n",
      "9    2019   Nov          10\n",
      "0    2019   Apr           9\n",
      "2    2019   Dec           9\n",
      "28   2021   Jul           9\n",
      "14   2020   Dec           9\n",
      "5    2019   Jul           8\n",
      "23   2020   Sep           8\n",
      "18   2020   Jun           8\n",
      "6    2019   Jun           7\n",
      "26   2021   Feb           7\n",
      "17   2020   Jul           6\n",
      "31   2021   May           6\n",
      "12   2020   Apr           6\n",
      "15   2020   Feb           5\n",
      "20   2020   May           5\n",
      "21   2020   Nov           5\n",
      "11   2019   Sep           5\n",
      "24   2021   Apr           5\n",
      "10   2019   Oct           5\n",
      "29   2021   Jun           5\n",
      "16   2020   Jan           5\n",
      "1    2019   Aug           4\n",
      "19   2020   Mar           4\n",
      "8    2019   May           4\n",
      "27   2021   Jan           4\n",
      "3    2019   Feb           3\n",
      "4    2019   Jan           2\n"
     ]
    }
   ],
   "source": [
    "goal_db['COUNTER'] =1\n",
    "group_data = (goal_db.groupby(['year','month'])['COUNTER'].sum()).reset_index(name='total_news')\n",
    "print(group_data.sort_values(by=['total_news'],ascending=False))\n"
   ]
  },
  {
   "cell_type": "code",
   "execution_count": 5,
   "id": "20398f64",
   "metadata": {
    "execution": {
     "iopub.execute_input": "2021-09-11T20:35:17.222749Z",
     "iopub.status.busy": "2021-09-11T20:35:17.222093Z",
     "iopub.status.idle": "2021-09-11T20:35:18.327426Z",
     "shell.execute_reply": "2021-09-11T20:35:18.326960Z",
     "shell.execute_reply.started": "2021-09-11T20:26:10.014160Z"
    },
    "papermill": {
     "duration": 1.114987,
     "end_time": "2021-09-11T20:35:18.327567",
     "exception": false,
     "start_time": "2021-09-11T20:35:17.212580",
     "status": "completed"
    },
    "tags": []
   },
   "outputs": [
    {
     "data": {
      "text/plain": [
       "<AxesSubplot:xlabel='month', ylabel='total_news'>"
      ]
     },
     "execution_count": 5,
     "metadata": {},
     "output_type": "execute_result"
    },
    {
     "data": {
      "image/png": "[encoded data removed]",
      "text/plain": [
       "<Figure size 432x288 with 1 Axes>"
      ]
     },
     "metadata": {
      "needs_background": "light"
     },
     "output_type": "display_data"
    }
   ],
   "source": [
    "import seaborn as sns\n",
    "sns.lineplot(data=group_data,x='month', y='total_news', hue='year')"
   ]
  },
  {
   "cell_type": "code",
   "execution_count": 6,
   "id": "74b11af0",
   "metadata": {
    "execution": {
     "iopub.execute_input": "2021-09-11T20:35:18.350339Z",
     "iopub.status.busy": "2021-09-11T20:35:18.348769Z",
     "iopub.status.idle": "2021-09-11T20:35:18.843459Z",
     "shell.execute_reply": "2021-09-11T20:35:18.842973Z",
     "shell.execute_reply.started": "2021-09-11T20:29:02.211988Z"
    },
    "papermill": {
     "duration": 0.508729,
     "end_time": "2021-09-11T20:35:18.843616",
     "exception": false,
     "start_time": "2021-09-11T20:35:18.334887",
     "status": "completed"
    },
    "tags": []
   },
   "outputs": [
    {
     "data": {
      "text/plain": [
       "<seaborn.axisgrid.FacetGrid at 0x7fdeb45e1a50>"
      ]
     },
     "execution_count": 6,
     "metadata": {},
     "output_type": "execute_result"
    },
    {
     "data": {
      "image/png": "[encoded data removed]",
      "text/plain": [
       "<Figure size 424.5x360 with 1 Axes>"
      ]
     },
     "metadata": {
      "needs_background": "light"
     },
     "output_type": "display_data"
    }
   ],
   "source": [
    "sns.catplot(data=group_data, kind=\"bar\",x='month', y='total_news', hue='year')"
   ]
  }
 ],
 "metadata": {
  "kernelspec": {
   "display_name": "Python 3",
   "language": "python",
   "name": "python3"
  },
  "language_info": {
   "codemirror_mode": {
    "name": "ipython",
    "version": 3
   },
   "file_extension": ".py",
   "mimetype": "text/x-python",
   "name": "python",
   "nbconvert_exporter": "python",
   "pygments_lexer": "ipython3",
   "version": "3.7.10"
  },
  "papermill": {
   "default_parameters": {},
   "duration": 9.341375,
   "end_time": "2021-09-11T20:35:19.562351",
   "environment_variables": {},
   "exception": null,
   "input_path": "__notebook__.ipynb",
   "output_path": "__notebook__.ipynb",
   "parameters": {},
   "start_time": "2021-09-11T20:35:10.220976",
   "version": "2.3.3"
  }
 },
 "nbformat": 4,
 "nbformat_minor": 5
}
