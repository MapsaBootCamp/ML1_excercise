{
 "cells": [
  {
   "cell_type": "code",
   "execution_count": 4,
   "id": "ee6260af",
   "metadata": {},
   "outputs": [],
   "source": [
    "import numpy as np"
   ]
  },
  {
   "cell_type": "code",
   "execution_count": 5,
   "id": "8eafeca7",
   "metadata": {},
   "outputs": [
    {
     "name": "stdout",
     "output_type": "stream",
     "text": [
      "win:  64.7\n",
      "not win:  35.3\n"
     ]
    }
   ],
   "source": [
    "#user changes her/his choice.\n",
    "user_win,user_not_win=0,0\n",
    "total_test=1000\n",
    "TEST=1000\n",
    "while total_test>0:\n",
    "    car_door=np.random.randint(1,4)\n",
    "    user_door=np.random.randint(1,4)\n",
    "    if car_door== user_door:\n",
    "        user_not_win+=1\n",
    "    else:\n",
    "        user_win+=1\n",
    "    total_test-=1\n",
    "print('win: ',(user_win/TEST)*100)   \n",
    "print('not win: ',(user_not_win/TEST)*100)  "
   ]
  },
  {
   "cell_type": "code",
   "execution_count": 6,
   "id": "e608c3a3",
   "metadata": {},
   "outputs": [
    {
     "name": "stdout",
     "output_type": "stream",
     "text": [
      "win:  33.7\n",
      "not win:  66.3\n"
     ]
    }
   ],
   "source": [
    "# user does not change her/his choice.\n",
    "user_win,user_not_win=0,0\n",
    "total_test=1000\n",
    "while total_test>0:\n",
    "    car_door=np.random.randint(1,4)\n",
    "    user_door=np.random.randint(1,4)\n",
    "    if car_door== user_door:\n",
    "        user_win+=1\n",
    "    else:\n",
    "        user_not_win+=1\n",
    "    total_test-=1\n",
    "print('win: ',(user_win/TEST)*100)   \n",
    "print('not win: ',(user_not_win/TEST)*100) "
   ]
  },
  {
   "cell_type": "code",
   "execution_count": null,
   "id": "abd72913",
   "metadata": {},
   "outputs": [],
   "source": []
  }
 ],
 "metadata": {
  "kernelspec": {
   "display_name": "Python 3",
   "language": "python",
   "name": "python3"
  },
  "language_info": {
   "codemirror_mode": {
    "name": "ipython",
    "version": 3
   },
   "file_extension": ".py",
   "mimetype": "text/x-python",
   "name": "python",
   "nbconvert_exporter": "python",
   "pygments_lexer": "ipython3",
   "version": "3.8.8"
  }
 },
 "nbformat": 4,
 "nbformat_minor": 5
}
