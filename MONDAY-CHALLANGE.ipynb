{
 "cells": [
  {
   "cell_type": "code",
   "execution_count": 1,
   "id": "5fda4acb",
   "metadata": {},
   "outputs": [
    {
     "name": "stdout",
     "output_type": "stream",
     "text": [
      "Requirement already satisfied: opencv-python in /opt/anaconda3/lib/python3.8/site-packages (4.5.4.58)\n",
      "Requirement already satisfied: numpy>=1.17.3 in /opt/anaconda3/lib/python3.8/site-packages (from opencv-python) (1.20.1)\n",
      "Note: you may need to restart the kernel to use updated packages.\n"
     ]
    }
   ],
   "source": [
    "pip install opencv-python"
   ]
  },
  {
   "cell_type": "code",
   "execution_count": 2,
   "id": "e5ec198a",
   "metadata": {},
   "outputs": [],
   "source": [
    "import numpy as np\n",
    "import pandas as pd\n",
    "import matplotlib.pyplot as plt\n",
    "import glob\n",
    "import cv2"
   ]
  },
  {
   "cell_type": "code",
   "execution_count": 7,
   "id": "b9c4ceab",
   "metadata": {},
   "outputs": [
    {
     "data": {
      "text/plain": [
       "98"
      ]
     },
     "execution_count": 7,
     "metadata": {},
     "output_type": "execute_result"
    }
   ],
   "source": [
    "images_yes = [cv2.imread(file) for file in glob.glob(\"data/yes/*.*\")]\n",
    "images_no = [cv2.imread(file) for file in glob.glob(\"data/no/*.*\")]\n",
    "len(images_no)"
   ]
  },
  {
   "cell_type": "code",
   "execution_count": 8,
   "id": "bf8e58d0",
   "metadata": {},
   "outputs": [],
   "source": [
    "def image_crop(image_path):\n",
    "    cropped_image = []\n",
    "    for i in image_path:\n",
    "        if i is None:\n",
    "            pass\n",
    "        else:\n",
    "            image = cv2.resize(i , (128,128))\n",
    "        \n",
    "        #The initial processing of the image\n",
    "        image = cv2.medianBlur(image, 3)\n",
    "        image_bw = cv2.cvtColor(image, cv2.COLOR_BGR2GRAY)\n",
    "\n",
    "        #The declaration of CLAHE \n",
    "        #clipLimit -> Threshold for contrast limiting\n",
    "        clahe = cv2.createCLAHE(clipLimit = 5)\n",
    "        final_img = clahe.apply(image_bw)\n",
    "        cropped_image.append(final_img)\n",
    "    cropped_image = np.array(cropped_image)\n",
    "    return cropped_image"
   ]
  },
  {
   "cell_type": "code",
   "execution_count": 9,
   "id": "7f3387fa",
   "metadata": {},
   "outputs": [],
   "source": [
    "cropped_images_no = image_crop(images_no)\n",
    "cropped_images_yes = image_crop(images_yes)"
   ]
  },
  {
   "cell_type": "code",
   "execution_count": 10,
   "id": "c3db3bc6",
   "metadata": {},
   "outputs": [],
   "source": [
    "y_yes = np.ones(len(cropped_images_yes), dtype=\"int8\")\n",
    "y_no = np.zeros(len(cropped_images_no), dtype=\"int8\")"
   ]
  },
  {
   "cell_type": "code",
   "execution_count": 12,
   "id": "20edfc92",
   "metadata": {},
   "outputs": [],
   "source": [
    "X = np.concatenate((cropped_images_yes, cropped_images_no), axis=0)\n",
    "y = np.concatenate((y_yes, y_no), axis=0)\n",
    "\n",
    "d1, d2, d3 = X.shape\n",
    "X = X.reshape((d1, d2 * d3))"
   ]
  },
  {
   "cell_type": "code",
   "execution_count": 13,
   "id": "ba4b8830",
   "metadata": {},
   "outputs": [],
   "source": [
    "from sklearn.model_selection import train_test_split\n",
    "\n",
    "X_train, X_test, y_train, y_test = train_test_split(X, y, test_size=0.2, random_state=42)"
   ]
  },
  {
   "cell_type": "code",
   "execution_count": 14,
   "id": "a0ca0a83",
   "metadata": {},
   "outputs": [],
   "source": [
    "from sklearn.preprocessing import StandardScaler\n",
    "\n",
    "scaler = StandardScaler()\n",
    "X_train_sc = scaler.fit_transform(X_train)\n",
    "X_test_sc = scaler.transform(X_test)"
   ]
  },
  {
   "cell_type": "markdown",
   "id": "c5322630",
   "metadata": {},
   "source": [
    "### PCA"
   ]
  },
  {
   "cell_type": "code",
   "execution_count": 15,
   "id": "33e78e4e",
   "metadata": {},
   "outputs": [],
   "source": [
    "from sklearn.decomposition import PCA, KernelPCA\n",
    "\n",
    "pca = PCA(n_components=10)\n",
    "X_train_pca = pca.fit_transform(X_train_sc)\n",
    "X_test_pca = pca.transform(X_test_sc)"
   ]
  },
  {
   "cell_type": "code",
   "execution_count": 16,
   "id": "ab72cf8e",
   "metadata": {},
   "outputs": [],
   "source": [
    "kpca = KernelPCA()\n",
    "X_train_kpca = kpca.fit_transform(X_train_sc)\n",
    "X_test_kpca = kpca.transform(X_test_sc)"
   ]
  },
  {
   "cell_type": "markdown",
   "id": "b4f9f22b",
   "metadata": {},
   "source": [
    "### SVC with PCA"
   ]
  },
  {
   "cell_type": "code",
   "execution_count": 17,
   "id": "32abaf51",
   "metadata": {},
   "outputs": [],
   "source": [
    "from sklearn.svm import SVC\n",
    "\n",
    "svc_pca = SVC(kernel=\"linear\")\n",
    "svc_pca.fit(X_train_pca, y_train)\n",
    "y_predict_pca = svc_pca.predict(X_test_pca)"
   ]
  },
  {
   "cell_type": "code",
   "execution_count": 20,
   "id": "524ccfa4",
   "metadata": {},
   "outputs": [
    {
     "name": "stdout",
     "output_type": "stream",
     "text": [
      "              precision    recall  f1-score   support\n",
      "\n",
      "           0       0.79      0.79      0.79        24\n",
      "           1       0.81      0.81      0.81        27\n",
      "\n",
      "    accuracy                           0.80        51\n",
      "   macro avg       0.80      0.80      0.80        51\n",
      "weighted avg       0.80      0.80      0.80        51\n",
      "\n"
     ]
    }
   ],
   "source": [
    "from sklearn.metrics import classification_report\n",
    "\n",
    "print(classification_report(y_test, y_predict_pca))"
   ]
  },
  {
   "cell_type": "markdown",
   "id": "9003f704",
   "metadata": {},
   "source": [
    "### SVC with kernel PCA"
   ]
  },
  {
   "cell_type": "code",
   "execution_count": 19,
   "id": "6c627f8a",
   "metadata": {},
   "outputs": [],
   "source": [
    "svc_kpca = SVC(kernel=\"linear\")\n",
    "svc_kpca.fit(X_train_kpca, y_train)\n",
    "y_predict_kpca = svc_kpca.predict(X_test_kpca)"
   ]
  },
  {
   "cell_type": "code",
   "execution_count": 21,
   "id": "6be2d23f",
   "metadata": {},
   "outputs": [
    {
     "name": "stdout",
     "output_type": "stream",
     "text": [
      "              precision    recall  f1-score   support\n",
      "\n",
      "           0       0.85      0.71      0.77        24\n",
      "           1       0.77      0.89      0.83        27\n",
      "\n",
      "    accuracy                           0.80        51\n",
      "   macro avg       0.81      0.80      0.80        51\n",
      "weighted avg       0.81      0.80      0.80        51\n",
      "\n"
     ]
    }
   ],
   "source": [
    "print(classification_report(y_test, y_predict_kpca))"
   ]
  },
  {
   "cell_type": "markdown",
   "id": "230d5617",
   "metadata": {},
   "source": [
    "### SVC without PCA"
   ]
  },
  {
   "cell_type": "code",
   "execution_count": 18,
   "id": "05fa0e77",
   "metadata": {},
   "outputs": [],
   "source": [
    "svc = SVC(kernel=\"linear\")\n",
    "\n",
    "svc.fit(X_train_sc, y_train)\n",
    "y_predict = svc.predict(X_test_sc)"
   ]
  },
  {
   "cell_type": "code",
   "execution_count": 22,
   "id": "870c166c",
   "metadata": {},
   "outputs": [
    {
     "name": "stdout",
     "output_type": "stream",
     "text": [
      "              precision    recall  f1-score   support\n",
      "\n",
      "           0       0.85      0.71      0.77        24\n",
      "           1       0.77      0.89      0.83        27\n",
      "\n",
      "    accuracy                           0.80        51\n",
      "   macro avg       0.81      0.80      0.80        51\n",
      "weighted avg       0.81      0.80      0.80        51\n",
      "\n"
     ]
    }
   ],
   "source": [
    "print(classification_report(y_test, y_predict))"
   ]
  }
 ],
 "metadata": {
  "kernelspec": {
   "display_name": "Python 3",
   "language": "python",
   "name": "python3"
  },
  "language_info": {
   "codemirror_mode": {
    "name": "ipython",
    "version": 3
   },
   "file_extension": ".py",
   "mimetype": "text/x-python",
   "name": "python",
   "nbconvert_exporter": "python",
   "pygments_lexer": "ipython3",
   "version": "3.8.8"
  }
 },
 "nbformat": 4,
 "nbformat_minor": 5
}
