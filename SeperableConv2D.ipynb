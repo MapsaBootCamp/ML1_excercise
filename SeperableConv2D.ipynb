{
  "nbformat": 4,
  "nbformat_minor": 0,
  "metadata": {
    "colab": {
      "name": "SeperableConv2D.ipynb",
      "provenance": [],
      "collapsed_sections": []
    },
    "kernelspec": {
      "name": "python3",
      "display_name": "Python 3"
    },
    "language_info": {
      "name": "python"
    }
  },
  "cells": [
    {
      "cell_type": "code",
      "metadata": {
        "id": "PnAGLrEUwotP"
      },
      "source": [
        "import tensorflow as tf\n",
        "from tensorflow import keras\n",
        "from tensorflow.keras import models\n",
        "from tensorflow.keras.layers import Dense, Dropout, Flatten\n",
        "from tensorflow.keras.layers import Conv2D, MaxPooling2D, SeparableConv2D\n",
        "from keras.models import Sequential"
      ],
      "execution_count": 1,
      "outputs": []
    },
    {
      "cell_type": "code",
      "metadata": {
        "colab": {
          "base_uri": "https://localhost:8080/"
        },
        "id": "RAGihCKU1cvT",
        "outputId": "44d6e250-6b56-4a37-89fc-6033f1d59013"
      },
      "source": [
        "#load fashin mnist dataset\n",
        "(training_images, training_labels), (test_images, test_labels) = keras.datasets.fashion_mnist.load_data()\n",
        "print(training_images.shape)\n",
        "\n",
        "#reshape\n",
        "training_images = training_images.reshape(training_images.shape[0], 28,28,1)\n",
        "test_images = test_images.reshape(test_images.shape[0], 28,28,1)\n",
        "print(training_images.shape)"
      ],
      "execution_count": 2,
      "outputs": [
        {
          "output_type": "stream",
          "name": "stdout",
          "text": [
            "Downloading data from https://storage.googleapis.com/tensorflow/tf-keras-datasets/train-labels-idx1-ubyte.gz\n",
            "32768/29515 [=================================] - 0s 0us/step\n",
            "40960/29515 [=========================================] - 0s 0us/step\n",
            "Downloading data from https://storage.googleapis.com/tensorflow/tf-keras-datasets/train-images-idx3-ubyte.gz\n",
            "26427392/26421880 [==============================] - 0s 0us/step\n",
            "26435584/26421880 [==============================] - 0s 0us/step\n",
            "Downloading data from https://storage.googleapis.com/tensorflow/tf-keras-datasets/t10k-labels-idx1-ubyte.gz\n",
            "16384/5148 [===============================================================================================] - 0s 0us/step\n",
            "Downloading data from https://storage.googleapis.com/tensorflow/tf-keras-datasets/t10k-images-idx3-ubyte.gz\n",
            "4423680/4422102 [==============================] - 0s 0us/step\n",
            "4431872/4422102 [==============================] - 0s 0us/step\n",
            "(60000, 28, 28)\n",
            "(60000, 28, 28, 1)\n"
          ]
        }
      ]
    },
    {
      "cell_type": "code",
      "metadata": {
        "colab": {
          "base_uri": "https://localhost:8080/"
        },
        "id": "EdFMktev1jPT",
        "outputId": "94beb25b-5544-4e2d-c093-c1e05963381b"
      },
      "source": [
        "model = Sequential()\n",
        "model.add(SeparableConv2D(32, kernel_size=(3, 3), activation='relu', input_shape=(28, 28, 1)))\n",
        "model.add(MaxPooling2D(pool_size=(2, 2)))\n",
        "model.add(Dropout(0.25))\n",
        "model.add(SeparableConv2D(64, kernel_size=(3, 3), activation='relu'))\n",
        "model.add(MaxPooling2D(pool_size=(2, 2)))\n",
        "model.add(Dropout(0.25))\n",
        "model.add(tf.keras.layers.Flatten())\n",
        "model.add(tf.keras.layers.Dense(128, activation=keras.activations.relu))\n",
        "model.add(tf.keras.layers.Dense(10, activation='linear'))\n",
        "\n",
        "model.compile(optimizer='adam', loss=keras.losses.SparseCategoricalCrossentropy(from_logits=True), metrics=['accuracy'])\n",
        "\n",
        "\n",
        "model.summary()"
      ],
      "execution_count": 7,
      "outputs": [
        {
          "output_type": "stream",
          "name": "stdout",
          "text": [
            "Model: \"sequential_3\"\n",
            "_________________________________________________________________\n",
            " Layer (type)                Output Shape              Param #   \n",
            "=================================================================\n",
            " separable_conv2d_6 (Separab  (None, 26, 26, 32)       73        \n",
            " leConv2D)                                                       \n",
            "                                                                 \n",
            " max_pooling2d_6 (MaxPooling  (None, 13, 13, 32)       0         \n",
            " 2D)                                                             \n",
            "                                                                 \n",
            " dropout_6 (Dropout)         (None, 13, 13, 32)        0         \n",
            "                                                                 \n",
            " separable_conv2d_7 (Separab  (None, 11, 11, 64)       2400      \n",
            " leConv2D)                                                       \n",
            "                                                                 \n",
            " max_pooling2d_7 (MaxPooling  (None, 5, 5, 64)         0         \n",
            " 2D)                                                             \n",
            "                                                                 \n",
            " dropout_7 (Dropout)         (None, 5, 5, 64)          0         \n",
            "                                                                 \n",
            " flatten_3 (Flatten)         (None, 1600)              0         \n",
            "                                                                 \n",
            " dense_6 (Dense)             (None, 128)               204928    \n",
            "                                                                 \n",
            " dense_7 (Dense)             (None, 10)                1290      \n",
            "                                                                 \n",
            "=================================================================\n",
            "Total params: 208,691\n",
            "Trainable params: 208,691\n",
            "Non-trainable params: 0\n",
            "_________________________________________________________________\n"
          ]
        }
      ]
    },
    {
      "cell_type": "code",
      "metadata": {
        "colab": {
          "base_uri": "https://localhost:8080/"
        },
        "id": "d4xod-pj4sNc",
        "outputId": "8f102cd3-a90c-4ee4-fd6a-60bc96b4ca9e"
      },
      "source": [
        "model.fit(training_images, training_labels, batch_size= 32, epochs=5, validation_split=0.2)\n"
      ],
      "execution_count": 8,
      "outputs": [
        {
          "output_type": "stream",
          "name": "stdout",
          "text": [
            "Epoch 1/5\n",
            "1500/1500 [==============================] - 38s 25ms/step - loss: 0.8900 - accuracy: 0.7075 - val_loss: 0.5624 - val_accuracy: 0.7895\n",
            "Epoch 2/5\n",
            "1500/1500 [==============================] - 36s 24ms/step - loss: 0.5448 - accuracy: 0.7944 - val_loss: 0.4729 - val_accuracy: 0.8258\n",
            "Epoch 3/5\n",
            "1500/1500 [==============================] - 37s 25ms/step - loss: 0.4830 - accuracy: 0.8183 - val_loss: 0.4406 - val_accuracy: 0.8413\n",
            "Epoch 4/5\n",
            "1500/1500 [==============================] - 37s 25ms/step - loss: 0.4433 - accuracy: 0.8342 - val_loss: 0.4253 - val_accuracy: 0.8425\n",
            "Epoch 5/5\n",
            "1500/1500 [==============================] - 37s 25ms/step - loss: 0.4183 - accuracy: 0.8446 - val_loss: 0.3859 - val_accuracy: 0.8587\n"
          ]
        },
        {
          "output_type": "execute_result",
          "data": {
            "text/plain": [
              "<keras.callbacks.History at 0x7f4b5d19ffd0>"
            ]
          },
          "metadata": {},
          "execution_count": 8
        }
      ]
    },
    {
      "cell_type": "code",
      "metadata": {
        "colab": {
          "base_uri": "https://localhost:8080/"
        },
        "id": "lmc79TIp4vqf",
        "outputId": "14578af3-6ebd-41ca-e12c-0a40bf107138"
      },
      "source": [
        "test_loss, test_acc = model.evaluate(test_images, test_labels)\n",
        "print(test_acc)"
      ],
      "execution_count": 9,
      "outputs": [
        {
          "output_type": "stream",
          "name": "stdout",
          "text": [
            "313/313 [==============================] - 2s 7ms/step - loss: 0.4078 - accuracy: 0.8525\n",
            "0.8525000214576721\n"
          ]
        }
      ]
    }
  ]
}