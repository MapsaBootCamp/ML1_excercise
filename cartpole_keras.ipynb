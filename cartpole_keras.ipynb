{
  "nbformat": 4,
  "nbformat_minor": 0,
  "metadata": {
    "colab": {
      "name": "cartpole_keras.ipynb",
      "provenance": [],
      "collapsed_sections": []
    },
    "kernelspec": {
      "name": "python3",
      "display_name": "Python 3"
    },
    "language_info": {
      "name": "python"
    },
    "accelerator": "GPU"
  },
  "cells": [
    {
      "cell_type": "code",
      "execution_count": null,
      "metadata": {
        "id": "4S8rv743_4w9"
      },
      "outputs": [],
      "source": [
        "import gym \n",
        "import random "
      ]
    },
    {
      "cell_type": "code",
      "source": [
        "env = gym.make('CartPole-v1')\n",
        "states = env.observation_space.shape[0]\n",
        "actions = env.action_space.n\n"
      ],
      "metadata": {
        "id": "4viSXca3_95d"
      },
      "execution_count": null,
      "outputs": []
    },
    {
      "cell_type": "code",
      "source": [
        "episodes = 10 \n",
        "for episode in range(1, episodes):\n",
        "  state = env.reset()\n",
        "  done = False \n",
        "  score = 0 \n",
        "  while not done:\n",
        "    action = random.choice([0, 1])\n",
        "    n_state, reward, done, info = env.step(action) \n",
        "    score += reward\n",
        "  print(f'episode: {episode}, score: {score} ')"
      ],
      "metadata": {
        "colab": {
          "base_uri": "https://localhost:8080/"
        },
        "id": "El8Cmx96AYwO",
        "outputId": "0a6b6546-3238-4b64-8309-8449e1f07dde"
      },
      "execution_count": null,
      "outputs": [
        {
          "output_type": "stream",
          "name": "stdout",
          "text": [
            "episode: 1, score: 18.0 \n",
            "episode: 2, score: 28.0 \n",
            "episode: 3, score: 12.0 \n",
            "episode: 4, score: 11.0 \n",
            "episode: 5, score: 10.0 \n",
            "episode: 6, score: 56.0 \n",
            "episode: 7, score: 12.0 \n",
            "episode: 8, score: 20.0 \n",
            "episode: 9, score: 15.0 \n"
          ]
        }
      ]
    },
    {
      "cell_type": "code",
      "source": [
        "import numpy as np\n",
        "from tensorflow.keras.models import Sequential\n",
        "from tensorflow.keras.layers import Dense, Flatten, Input\n",
        "from tensorflow.keras.optimizers import Adam"
      ],
      "metadata": {
        "id": "9NWRQWLuAd39"
      },
      "execution_count": null,
      "outputs": []
    },
    {
      "cell_type": "code",
      "source": [
        "def build_model(states, actions):\n",
        "  model = Sequential()\n",
        "  model.add(Flatten(input_shape=(1, states)))\n",
        "  model.add(Dense(128, activation='relu'))\n",
        "  model.add(Dense(128, activation='relu'))\n",
        "  model.add(Dense(actions, activation='linear'))\n",
        "  return model"
      ],
      "metadata": {
        "id": "B5tS0fJjDvda"
      },
      "execution_count": null,
      "outputs": []
    },
    {
      "cell_type": "code",
      "source": [
        "model = build_model(states, actions)"
      ],
      "metadata": {
        "id": "UhmER2w7RV88"
      },
      "execution_count": null,
      "outputs": []
    },
    {
      "cell_type": "code",
      "source": [
        "model.summary()"
      ],
      "metadata": {
        "colab": {
          "base_uri": "https://localhost:8080/"
        },
        "id": "zKVeyTGBSGpF",
        "outputId": "a008a999-2afe-4dc6-81b5-97dcff9e333b"
      },
      "execution_count": null,
      "outputs": [
        {
          "output_type": "stream",
          "name": "stdout",
          "text": [
            "Model: \"sequential_1\"\n",
            "_________________________________________________________________\n",
            " Layer (type)                Output Shape              Param #   \n",
            "=================================================================\n",
            " flatten_1 (Flatten)         (None, 4)                 0         \n",
            "                                                                 \n",
            " dense_3 (Dense)             (None, 128)               640       \n",
            "                                                                 \n",
            " dense_4 (Dense)             (None, 128)               16512     \n",
            "                                                                 \n",
            " dense_5 (Dense)             (None, 2)                 258       \n",
            "                                                                 \n",
            "=================================================================\n",
            "Total params: 17,410\n",
            "Trainable params: 17,410\n",
            "Non-trainable params: 0\n",
            "_________________________________________________________________\n"
          ]
        }
      ]
    },
    {
      "cell_type": "code",
      "source": [
        "!pip install keras-rl2"
      ],
      "metadata": {
        "id": "GiPVb-_ETDHj",
        "colab": {
          "base_uri": "https://localhost:8080/"
        },
        "outputId": "21a3c873-ef8c-4158-f9e1-7a14281ffdb3"
      },
      "execution_count": null,
      "outputs": [
        {
          "output_type": "stream",
          "name": "stdout",
          "text": [
            "Requirement already satisfied: keras-rl2 in /usr/local/lib/python3.7/dist-packages (1.0.5)\n",
            "Requirement already satisfied: tensorflow in /usr/local/lib/python3.7/dist-packages (from keras-rl2) (2.8.0)\n",
            "Requirement already satisfied: google-pasta>=0.1.1 in /usr/local/lib/python3.7/dist-packages (from tensorflow->keras-rl2) (0.2.0)\n",
            "Requirement already satisfied: setuptools in /usr/local/lib/python3.7/dist-packages (from tensorflow->keras-rl2) (57.4.0)\n",
            "Requirement already satisfied: gast>=0.2.1 in /usr/local/lib/python3.7/dist-packages (from tensorflow->keras-rl2) (0.5.3)\n",
            "Requirement already satisfied: h5py>=2.9.0 in /usr/local/lib/python3.7/dist-packages (from tensorflow->keras-rl2) (3.1.0)\n",
            "Requirement already satisfied: libclang>=9.0.1 in /usr/local/lib/python3.7/dist-packages (from tensorflow->keras-rl2) (13.0.0)\n",
            "Requirement already satisfied: keras<2.9,>=2.8.0rc0 in /usr/local/lib/python3.7/dist-packages (from tensorflow->keras-rl2) (2.8.0)\n",
            "Requirement already satisfied: termcolor>=1.1.0 in /usr/local/lib/python3.7/dist-packages (from tensorflow->keras-rl2) (1.1.0)\n",
            "Requirement already satisfied: tf-estimator-nightly==2.8.0.dev2021122109 in /usr/local/lib/python3.7/dist-packages (from tensorflow->keras-rl2) (2.8.0.dev2021122109)\n",
            "Requirement already satisfied: grpcio<2.0,>=1.24.3 in /usr/local/lib/python3.7/dist-packages (from tensorflow->keras-rl2) (1.43.0)\n",
            "Requirement already satisfied: six>=1.12.0 in /usr/local/lib/python3.7/dist-packages (from tensorflow->keras-rl2) (1.15.0)\n",
            "Requirement already satisfied: keras-preprocessing>=1.1.1 in /usr/local/lib/python3.7/dist-packages (from tensorflow->keras-rl2) (1.1.2)\n",
            "Requirement already satisfied: wrapt>=1.11.0 in /usr/local/lib/python3.7/dist-packages (from tensorflow->keras-rl2) (1.13.3)\n",
            "Requirement already satisfied: tensorflow-io-gcs-filesystem>=0.23.1 in /usr/local/lib/python3.7/dist-packages (from tensorflow->keras-rl2) (0.24.0)\n",
            "Requirement already satisfied: tensorboard<2.9,>=2.8 in /usr/local/lib/python3.7/dist-packages (from tensorflow->keras-rl2) (2.8.0)\n",
            "Requirement already satisfied: astunparse>=1.6.0 in /usr/local/lib/python3.7/dist-packages (from tensorflow->keras-rl2) (1.6.3)\n",
            "Requirement already satisfied: protobuf>=3.9.2 in /usr/local/lib/python3.7/dist-packages (from tensorflow->keras-rl2) (3.17.3)\n",
            "Requirement already satisfied: numpy>=1.20 in /usr/local/lib/python3.7/dist-packages (from tensorflow->keras-rl2) (1.21.5)\n",
            "Requirement already satisfied: typing-extensions>=3.6.6 in /usr/local/lib/python3.7/dist-packages (from tensorflow->keras-rl2) (3.10.0.2)\n",
            "Requirement already satisfied: opt-einsum>=2.3.2 in /usr/local/lib/python3.7/dist-packages (from tensorflow->keras-rl2) (3.3.0)\n",
            "Requirement already satisfied: absl-py>=0.4.0 in /usr/local/lib/python3.7/dist-packages (from tensorflow->keras-rl2) (1.0.0)\n",
            "Requirement already satisfied: flatbuffers>=1.12 in /usr/local/lib/python3.7/dist-packages (from tensorflow->keras-rl2) (2.0)\n",
            "Requirement already satisfied: wheel<1.0,>=0.23.0 in /usr/local/lib/python3.7/dist-packages (from astunparse>=1.6.0->tensorflow->keras-rl2) (0.37.1)\n",
            "Requirement already satisfied: cached-property in /usr/local/lib/python3.7/dist-packages (from h5py>=2.9.0->tensorflow->keras-rl2) (1.5.2)\n",
            "Requirement already satisfied: markdown>=2.6.8 in /usr/local/lib/python3.7/dist-packages (from tensorboard<2.9,>=2.8->tensorflow->keras-rl2) (3.3.6)\n",
            "Requirement already satisfied: tensorboard-data-server<0.7.0,>=0.6.0 in /usr/local/lib/python3.7/dist-packages (from tensorboard<2.9,>=2.8->tensorflow->keras-rl2) (0.6.1)\n",
            "Requirement already satisfied: werkzeug>=0.11.15 in /usr/local/lib/python3.7/dist-packages (from tensorboard<2.9,>=2.8->tensorflow->keras-rl2) (1.0.1)\n",
            "Requirement already satisfied: google-auth<3,>=1.6.3 in /usr/local/lib/python3.7/dist-packages (from tensorboard<2.9,>=2.8->tensorflow->keras-rl2) (1.35.0)\n",
            "Requirement already satisfied: google-auth-oauthlib<0.5,>=0.4.1 in /usr/local/lib/python3.7/dist-packages (from tensorboard<2.9,>=2.8->tensorflow->keras-rl2) (0.4.6)\n",
            "Requirement already satisfied: tensorboard-plugin-wit>=1.6.0 in /usr/local/lib/python3.7/dist-packages (from tensorboard<2.9,>=2.8->tensorflow->keras-rl2) (1.8.1)\n",
            "Requirement already satisfied: requests<3,>=2.21.0 in /usr/local/lib/python3.7/dist-packages (from tensorboard<2.9,>=2.8->tensorflow->keras-rl2) (2.23.0)\n",
            "Requirement already satisfied: rsa<5,>=3.1.4 in /usr/local/lib/python3.7/dist-packages (from google-auth<3,>=1.6.3->tensorboard<2.9,>=2.8->tensorflow->keras-rl2) (4.8)\n",
            "Requirement already satisfied: pyasn1-modules>=0.2.1 in /usr/local/lib/python3.7/dist-packages (from google-auth<3,>=1.6.3->tensorboard<2.9,>=2.8->tensorflow->keras-rl2) (0.2.8)\n",
            "Requirement already satisfied: cachetools<5.0,>=2.0.0 in /usr/local/lib/python3.7/dist-packages (from google-auth<3,>=1.6.3->tensorboard<2.9,>=2.8->tensorflow->keras-rl2) (4.2.4)\n",
            "Requirement already satisfied: requests-oauthlib>=0.7.0 in /usr/local/lib/python3.7/dist-packages (from google-auth-oauthlib<0.5,>=0.4.1->tensorboard<2.9,>=2.8->tensorflow->keras-rl2) (1.3.1)\n",
            "Requirement already satisfied: importlib-metadata>=4.4 in /usr/local/lib/python3.7/dist-packages (from markdown>=2.6.8->tensorboard<2.9,>=2.8->tensorflow->keras-rl2) (4.11.0)\n",
            "Requirement already satisfied: zipp>=0.5 in /usr/local/lib/python3.7/dist-packages (from importlib-metadata>=4.4->markdown>=2.6.8->tensorboard<2.9,>=2.8->tensorflow->keras-rl2) (3.7.0)\n",
            "Requirement already satisfied: pyasn1<0.5.0,>=0.4.6 in /usr/local/lib/python3.7/dist-packages (from pyasn1-modules>=0.2.1->google-auth<3,>=1.6.3->tensorboard<2.9,>=2.8->tensorflow->keras-rl2) (0.4.8)\n",
            "Requirement already satisfied: certifi>=2017.4.17 in /usr/local/lib/python3.7/dist-packages (from requests<3,>=2.21.0->tensorboard<2.9,>=2.8->tensorflow->keras-rl2) (2021.10.8)\n",
            "Requirement already satisfied: chardet<4,>=3.0.2 in /usr/local/lib/python3.7/dist-packages (from requests<3,>=2.21.0->tensorboard<2.9,>=2.8->tensorflow->keras-rl2) (3.0.4)\n",
            "Requirement already satisfied: idna<3,>=2.5 in /usr/local/lib/python3.7/dist-packages (from requests<3,>=2.21.0->tensorboard<2.9,>=2.8->tensorflow->keras-rl2) (2.10)\n",
            "Requirement already satisfied: urllib3!=1.25.0,!=1.25.1,<1.26,>=1.21.1 in /usr/local/lib/python3.7/dist-packages (from requests<3,>=2.21.0->tensorboard<2.9,>=2.8->tensorflow->keras-rl2) (1.24.3)\n",
            "Requirement already satisfied: oauthlib>=3.0.0 in /usr/local/lib/python3.7/dist-packages (from requests-oauthlib>=0.7.0->google-auth-oauthlib<0.5,>=0.4.1->tensorboard<2.9,>=2.8->tensorflow->keras-rl2) (3.2.0)\n"
          ]
        }
      ]
    },
    {
      "cell_type": "code",
      "source": [
        "from rl.agents import DQNAgent\n",
        "from rl.policy import BoltzmannGumbelQPolicy\n",
        "from rl.memory import SequentialMemory "
      ],
      "metadata": {
        "id": "HpYQdFbpSMfD"
      },
      "execution_count": null,
      "outputs": []
    },
    {
      "cell_type": "code",
      "source": [
        "def build_agent(model, actions):\n",
        "  policy = BoltzmannGumbelQPolicy()\n",
        "  memory = SequentialMemory(limit=50000, window_length=1)\n",
        "  dqn = DQNAgent(model=model, memory=memory, policy=policy, \n",
        "                 nb_actions=actions, nb_steps_warmup=10, target_model_update=1e-2)\n",
        "  return dqn"
      ],
      "metadata": {
        "id": "PjuTp5JuS5CM"
      },
      "execution_count": null,
      "outputs": []
    },
    {
      "cell_type": "code",
      "source": [
        "dqn = build_agent(model, actions)\n",
        "dqn.compile(Adam(lr=1e-3), metrics=['mae'])\n",
        "dqn.fit(env, nb_steps=50000, visualize=False, verbose=1)"
      ],
      "metadata": {
        "colab": {
          "base_uri": "https://localhost:8080/"
        },
        "id": "zF0ML1tJSWdi",
        "outputId": "ae098aa9-c789-43fc-d284-ecf629dadac7"
      },
      "execution_count": null,
      "outputs": [
        {
          "output_type": "stream",
          "name": "stderr",
          "text": [
            "/usr/local/lib/python3.7/dist-packages/keras/optimizer_v2/adam.py:105: UserWarning: The `lr` argument is deprecated, use `learning_rate` instead.\n",
            "  super(Adam, self).__init__(name, **kwargs)\n"
          ]
        },
        {
          "output_type": "stream",
          "name": "stdout",
          "text": [
            "Training for 50000 steps ...\n",
            "Interval 1 (0 steps performed)\n"
          ]
        },
        {
          "output_type": "stream",
          "name": "stderr",
          "text": [
            "/usr/local/lib/python3.7/dist-packages/keras/engine/training_v1.py:2079: UserWarning: `Model.state_updates` will be removed in a future version. This property should not be used in TensorFlow 2.0, as `updates` are applied automatically.\n",
            "  updates=self.state_updates,\n"
          ]
        },
        {
          "output_type": "stream",
          "name": "stdout",
          "text": [
            "\r    1/10000 [..............................] - ETA: 4:42:21 - reward: 1.0000"
          ]
        },
        {
          "output_type": "stream",
          "name": "stderr",
          "text": [
            "/usr/local/lib/python3.7/dist-packages/rl/memory.py:37: UserWarning: Not enough entries to sample without replacement. Consider increasing your warm-up phase to avoid oversampling!\n",
            "  warnings.warn('Not enough entries to sample without replacement. Consider increasing your warm-up phase to avoid oversampling!')\n"
          ]
        },
        {
          "output_type": "stream",
          "name": "stdout",
          "text": [
            "10000/10000 [==============================] - 139s 14ms/step - reward: 1.0000\n",
            "88 episodes - episode_reward: 113.511 [8.000, 500.000] - loss: 0.535 - mae: 18.752 - mean_q: 37.699\n",
            "\n",
            "Interval 2 (10000 steps performed)\n",
            "10000/10000 [==============================] - 134s 13ms/step - reward: 1.0000\n",
            "44 episodes - episode_reward: 224.591 [156.000, 323.000] - loss: 0.470 - mae: 35.769 - mean_q: 71.789\n",
            "\n",
            "Interval 3 (20000 steps performed)\n",
            "10000/10000 [==============================] - 134s 13ms/step - reward: 1.0000\n",
            "30 episodes - episode_reward: 332.233 [111.000, 500.000] - loss: 1.035 - mae: 38.638 - mean_q: 77.504\n",
            "\n",
            "Interval 4 (30000 steps performed)\n",
            "10000/10000 [==============================] - 131s 13ms/step - reward: 1.0000\n",
            "25 episodes - episode_reward: 401.240 [218.000, 500.000] - loss: 3.578 - mae: 42.987 - mean_q: 86.162\n",
            "\n",
            "Interval 5 (40000 steps performed)\n",
            "10000/10000 [==============================] - 139s 14ms/step - reward: 1.0000\n",
            "done, took 676.603 seconds\n"
          ]
        },
        {
          "output_type": "execute_result",
          "data": {
            "text/plain": [
              "<keras.callbacks.History at 0x7eff8bebe0d0>"
            ]
          },
          "metadata": {},
          "execution_count": 26
        }
      ]
    },
    {
      "cell_type": "code",
      "source": [
        "scores = dqn.test(env, nb_episodes=100, visualize=False)"
      ],
      "metadata": {
        "colab": {
          "base_uri": "https://localhost:8080/"
        },
        "id": "Gl82xj03TAWr",
        "outputId": "ea86724f-de61-4ecf-d6f6-b64b9c710cbd"
      },
      "execution_count": null,
      "outputs": [
        {
          "output_type": "stream",
          "name": "stdout",
          "text": [
            "Testing for 100 episodes ...\n",
            "Episode 1: reward: 500.000, steps: 500\n",
            "Episode 2: reward: 500.000, steps: 500\n",
            "Episode 3: reward: 500.000, steps: 500\n",
            "Episode 4: reward: 500.000, steps: 500\n",
            "Episode 5: reward: 500.000, steps: 500\n",
            "Episode 6: reward: 500.000, steps: 500\n",
            "Episode 7: reward: 500.000, steps: 500\n",
            "Episode 8: reward: 500.000, steps: 500\n",
            "Episode 9: reward: 500.000, steps: 500\n",
            "Episode 10: reward: 500.000, steps: 500\n",
            "Episode 11: reward: 500.000, steps: 500\n",
            "Episode 12: reward: 500.000, steps: 500\n",
            "Episode 13: reward: 500.000, steps: 500\n",
            "Episode 14: reward: 500.000, steps: 500\n",
            "Episode 15: reward: 500.000, steps: 500\n",
            "Episode 16: reward: 500.000, steps: 500\n",
            "Episode 17: reward: 500.000, steps: 500\n",
            "Episode 18: reward: 500.000, steps: 500\n",
            "Episode 19: reward: 500.000, steps: 500\n",
            "Episode 20: reward: 500.000, steps: 500\n",
            "Episode 21: reward: 500.000, steps: 500\n",
            "Episode 22: reward: 500.000, steps: 500\n",
            "Episode 23: reward: 500.000, steps: 500\n",
            "Episode 24: reward: 500.000, steps: 500\n",
            "Episode 25: reward: 500.000, steps: 500\n",
            "Episode 26: reward: 500.000, steps: 500\n",
            "Episode 27: reward: 500.000, steps: 500\n",
            "Episode 28: reward: 500.000, steps: 500\n",
            "Episode 29: reward: 500.000, steps: 500\n",
            "Episode 30: reward: 500.000, steps: 500\n",
            "Episode 31: reward: 500.000, steps: 500\n",
            "Episode 32: reward: 500.000, steps: 500\n",
            "Episode 33: reward: 500.000, steps: 500\n",
            "Episode 34: reward: 500.000, steps: 500\n",
            "Episode 35: reward: 500.000, steps: 500\n",
            "Episode 36: reward: 500.000, steps: 500\n",
            "Episode 37: reward: 500.000, steps: 500\n",
            "Episode 38: reward: 500.000, steps: 500\n",
            "Episode 39: reward: 500.000, steps: 500\n",
            "Episode 40: reward: 500.000, steps: 500\n",
            "Episode 41: reward: 500.000, steps: 500\n",
            "Episode 42: reward: 500.000, steps: 500\n",
            "Episode 43: reward: 500.000, steps: 500\n",
            "Episode 44: reward: 500.000, steps: 500\n",
            "Episode 45: reward: 500.000, steps: 500\n",
            "Episode 46: reward: 500.000, steps: 500\n",
            "Episode 47: reward: 500.000, steps: 500\n",
            "Episode 48: reward: 500.000, steps: 500\n",
            "Episode 49: reward: 500.000, steps: 500\n",
            "Episode 50: reward: 500.000, steps: 500\n",
            "Episode 51: reward: 500.000, steps: 500\n",
            "Episode 52: reward: 500.000, steps: 500\n",
            "Episode 53: reward: 500.000, steps: 500\n",
            "Episode 54: reward: 500.000, steps: 500\n",
            "Episode 55: reward: 500.000, steps: 500\n",
            "Episode 56: reward: 500.000, steps: 500\n",
            "Episode 57: reward: 500.000, steps: 500\n",
            "Episode 58: reward: 500.000, steps: 500\n",
            "Episode 59: reward: 500.000, steps: 500\n",
            "Episode 60: reward: 500.000, steps: 500\n",
            "Episode 61: reward: 500.000, steps: 500\n",
            "Episode 62: reward: 500.000, steps: 500\n",
            "Episode 63: reward: 500.000, steps: 500\n",
            "Episode 64: reward: 500.000, steps: 500\n",
            "Episode 65: reward: 500.000, steps: 500\n",
            "Episode 66: reward: 500.000, steps: 500\n",
            "Episode 67: reward: 500.000, steps: 500\n",
            "Episode 68: reward: 500.000, steps: 500\n",
            "Episode 69: reward: 500.000, steps: 500\n",
            "Episode 70: reward: 500.000, steps: 500\n",
            "Episode 71: reward: 500.000, steps: 500\n",
            "Episode 72: reward: 500.000, steps: 500\n",
            "Episode 73: reward: 500.000, steps: 500\n",
            "Episode 74: reward: 500.000, steps: 500\n",
            "Episode 75: reward: 500.000, steps: 500\n",
            "Episode 76: reward: 500.000, steps: 500\n",
            "Episode 77: reward: 500.000, steps: 500\n",
            "Episode 78: reward: 500.000, steps: 500\n",
            "Episode 79: reward: 500.000, steps: 500\n",
            "Episode 80: reward: 500.000, steps: 500\n",
            "Episode 81: reward: 500.000, steps: 500\n",
            "Episode 82: reward: 500.000, steps: 500\n",
            "Episode 83: reward: 500.000, steps: 500\n",
            "Episode 84: reward: 500.000, steps: 500\n",
            "Episode 85: reward: 500.000, steps: 500\n",
            "Episode 86: reward: 500.000, steps: 500\n",
            "Episode 87: reward: 500.000, steps: 500\n",
            "Episode 88: reward: 500.000, steps: 500\n",
            "Episode 89: reward: 500.000, steps: 500\n",
            "Episode 90: reward: 500.000, steps: 500\n",
            "Episode 91: reward: 500.000, steps: 500\n",
            "Episode 92: reward: 500.000, steps: 500\n",
            "Episode 93: reward: 500.000, steps: 500\n",
            "Episode 94: reward: 500.000, steps: 500\n",
            "Episode 95: reward: 500.000, steps: 500\n",
            "Episode 96: reward: 500.000, steps: 500\n",
            "Episode 97: reward: 500.000, steps: 500\n",
            "Episode 98: reward: 500.000, steps: 500\n",
            "Episode 99: reward: 500.000, steps: 500\n",
            "Episode 100: reward: 500.000, steps: 500\n"
          ]
        }
      ]
    },
    {
      "cell_type": "code",
      "source": [
        "dqn.save_weights('dqn_weights.h5f', overwrite=True)"
      ],
      "metadata": {
        "id": "Aj2-QqV-Y3_0"
      },
      "execution_count": null,
      "outputs": []
    },
    {
      "cell_type": "code",
      "source": [
        ""
      ],
      "metadata": {
        "id": "nTis0KxXszgE"
      },
      "execution_count": null,
      "outputs": []
    }
  ]
}