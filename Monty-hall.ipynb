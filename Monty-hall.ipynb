{
 "cells": [
  {
   "cell_type": "markdown",
   "metadata": {},
   "source": [
    "<div style=\"direction:rtl;line-height:300%;\">\n",
    "\t<font face=\"XB Zar\" size=5>\n",
    "\t\t<div align=center>\n",
    "\t\t\t<font face=\"IranNastaliq\" size=30>\n",
    "\t\t\t\t<p></p>\n",
    "\t\t\t\t<p></p>\n",
    "به نام خدا\n",
    "\t\t\t\t<p></p>\n",
    "\t\t\t</font>\n",
    "        </div>\n",
    "        مسئله مونتی هال (به انگلیسی: Monty Hall problem) یکی از معماهای احتمالات است. این معما بر اساس یک مسابقه تلویزیونی آمریکایی به نام بیا معامله کنیم طرح‌ریزی شده و نامش را نیز از نام مجری اصلی این مسابقه، مونتی هال، گرفته‌است.\n",
    "    <br>        \n",
    "        فرض کنید که در یک مسابقه تلویزیونی شرکت کرده‌اید و میان سه در باید یکی را انتخاب کنید. پشت یکی از درها یک ماشین است و پشت دو در دیگر دو بز. شما یکی از درها را انتخاب می‌کنید (مثلاً در شمارهٔ ۱). مجری برنامه که می‌داند پشت هر در چه چیزی است، در دیگری را باز می‌کند (مثلاً در شمارهٔ سه) و به شما نشان می‌دهد که پشتش یک بز است. بعد از شما می‌پرسد که «می‌خواهید در شمارهٔ ۱ را با شمارهٔ ۲ تاخت بزنید؟» آیا به سود شماست که انتخابتان را عوض کنید؟\n",
    "    </font>\n",
    "    <img src=\"figs/game_show_1.png\" style=\"float:center; width:50%\"/>\n",
    "    <font face=\"XB Zar\" size=5> \n",
    "    </font>\n",
    "    </div>\n",
    "    "
   ]
  },
  {
   "cell_type": "markdown",
   "metadata": {},
   "source": [
    "<div id=\"sec_problem\" style=\"direction:rtl;line-height:300%;\">\n",
    "\t<font face=\"XB Zar\" size=5>\n",
    "\t\t<font color=#FF7500 size=6>\n",
    "حل احتمالاتی\n",
    "        </font>\n",
    "\t\t<p></p>\n",
    "\t\t<hr>\n",
    "واقعه های $A$، $B$ و $C$ را به ترتیب وجود داشتن ماشین در درهای ۱، ۲ و ۳ بگیرید. به وضوح می دانیم:\n",
    "        $$P(A) = P(B) = P(C) = \\frac{1}{3}$$\n",
    "        حال بدون از دست دادن کلیت فرض کنید ما در شماره ۱ را انتخاب کرده باشیم و مجری در ۲ را برایمان باز کند.\n",
    "         احتمال رخداد $B$ را توسط مجری با $P(HB)$ نشان می دهیم. حال روابط زیر به وضوح برقرارند:\n",
    "        $$P(HB|A) = \\frac{1}{2}, \\ P(HB|B) = 0, \\ P(HB|C) = 1$$\n",
    "        برای بررسی تعویض در، کافیست احتمال های $P(A|HB)$ و $P(C|HB)$ را محاسبه کنیم. طبق قاعده بیز داریم:\n",
    "        <br><br>\n",
    "        $$P(A|HB) = \\frac{P(HB|A)P(A)}{P(HB)} = \\frac{P(HB|A)P(A)}{P(HB|A)P(A) + P(HB|B)P(B) + P(HB|C)P(C)} = \\frac{\\frac{1}{2} \\cdot \\frac{1}{3}}{\\frac{1}{2} \\cdot \\frac{1}{3} + 0 \\cdot \\frac{1}{3} + 1 \\cdot \\frac{1}{3}} = \\frac{1}{3}$$\n",
    "        <br>\n",
    "        $$P(C|HB) = \\frac{P(HB|C)P(C)}{P(HB)} = \\frac{P(HB|C)P(C)}{P(HB|A)P(A) + P(HB|B)P(B) + P(HB|C)P(C)} = \\frac{1 \\cdot \\frac{1}{3}}{\\frac{1}{2} \\cdot \\frac{1}{3} + 0 \\cdot \\frac{1}{3} + 1 \\cdot \\frac{1}{3}} = \\frac{2}{3}$$\n",
    "        <br>\n",
    "        بنابراین، تعویض در انتخاب کار معقولانه‌ای خواهد بود.\n",
    "\t</font>\n",
    "</div>"
   ]
  },
  {
   "cell_type": "code",
   "execution_count": 1,
   "metadata": {},
   "outputs": [],
   "source": [
    "def monty(test_nums):\n",
    "    non_switch = 0\n",
    "    switch = 0\n",
    "    from random import choice\n",
    "    for n in range(test_nums):\n",
    "        doors = [1, 2, 3]\n",
    "        prize = choice(doors)\n",
    "        chosen = choice(doors)\n",
    "        doors.remove(chosen) \n",
    "        if chosen != prize:\n",
    "            doors.remove(prize)\n",
    "        pick = choice(doors)\n",
    "        if chosen == prize:\n",
    "            non_switch += 1\n",
    "        else:\n",
    "            switch += 1\n",
    "    return switch, non_switch\n"
   ]
  },
  {
   "cell_type": "code",
   "execution_count": 2,
   "metadata": {},
   "outputs": [
    {
     "name": "stdout",
     "output_type": "stream",
     "text": [
      "Number of Win's if switch choice:  669\n",
      "Number of Win's if preserve choice:  331\n"
     ]
    }
   ],
   "source": [
    "S, nS = monty(1000)\n",
    "print('Number of Win\\'s if switch choice: ', S)\n",
    "print('Number of Win\\'s if preserve choice: ', nS)"
   ]
  },
  {
   "cell_type": "code",
   "execution_count": null,
   "metadata": {},
   "outputs": [],
   "source": []
  }
 ],
 "metadata": {
  "kernelspec": {
   "display_name": "Python 3",
   "language": "python",
   "name": "python3"
  },
  "language_info": {
   "codemirror_mode": {
    "name": "ipython",
    "version": 3
   },
   "file_extension": ".py",
   "mimetype": "text/x-python",
   "name": "python",
   "nbconvert_exporter": "python",
   "pygments_lexer": "ipython3",
   "version": "3.7.0"
  }
 },
 "nbformat": 4,
 "nbformat_minor": 4
}
