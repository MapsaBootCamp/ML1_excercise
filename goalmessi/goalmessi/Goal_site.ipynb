{
 "cells": [
  {
   "cell_type": "code",
   "execution_count": 1,
   "id": "040c350b",
   "metadata": {},
   "outputs": [],
   "source": [
    "import pandas as pd"
   ]
  },
  {
   "cell_type": "code",
   "execution_count": 2,
   "id": "b71d075d",
   "metadata": {},
   "outputs": [],
   "source": [
    "import seaborn as sns"
   ]
  },
  {
   "cell_type": "code",
   "execution_count": 2,
   "id": "0d1f4fe3",
   "metadata": {},
   "outputs": [],
   "source": [
    "df = pd.read_json('messi53.json')"
   ]
  },
  {
   "cell_type": "code",
   "execution_count": 3,
   "id": "cf78b45c",
   "metadata": {},
   "outputs": [
    {
     "data": {
      "text/html": [
       "<div>\n",
       "<style scoped>\n",
       "    .dataframe tbody tr th:only-of-type {\n",
       "        vertical-align: middle;\n",
       "    }\n",
       "\n",
       "    .dataframe tbody tr th {\n",
       "        vertical-align: top;\n",
       "    }\n",
       "\n",
       "    .dataframe thead th {\n",
       "        text-align: right;\n",
       "    }\n",
       "</style>\n",
       "<table border=\"1\" class=\"dataframe\">\n",
       "  <thead>\n",
       "    <tr style=\"text-align: right;\">\n",
       "      <th></th>\n",
       "      <th>date</th>\n",
       "      <th>title</th>\n",
       "      <th>url</th>\n",
       "      <th>content</th>\n",
       "    </tr>\n",
       "  </thead>\n",
       "  <tbody>\n",
       "    <tr>\n",
       "      <th>0</th>\n",
       "      <td>2021-08-11</td>\n",
       "      <td>BBC, MSN and now MNM: Where does Messi, Neymar...</td>\n",
       "      <td>https://www.goal.com/en/news/bbc-msn-mnm-where...</td>\n",
       "      <td>Marco Verratti has never hidden his excitement...</td>\n",
       "    </tr>\n",
       "    <tr>\n",
       "      <th>1</th>\n",
       "      <td>2021-04-04</td>\n",
       "      <td>It would be 'wonderful' to play with Messi at ...</td>\n",
       "      <td>https://www.goal.com/en/news/it-would-be-wonde...</td>\n",
       "      <td>Angel Di Maria said it would be “wonderful” to...</td>\n",
       "    </tr>\n",
       "    <tr>\n",
       "      <th>2</th>\n",
       "      <td>2021-04-03</td>\n",
       "      <td>Rivaldo thinks 'bluffing' Man City still want ...</td>\n",
       "      <td>https://www.goal.com/en/news/rivaldo-thinks-bl...</td>\n",
       "      <td>Former Brazil star Rivaldo refuses to believe ...</td>\n",
       "    </tr>\n",
       "    <tr>\n",
       "      <th>3</th>\n",
       "      <td>2021-04-08</td>\n",
       "      <td>'We suffered against Messi' - Ramos concedes M...</td>\n",
       "      <td>https://www.goal.com/en/news/we-suffered-again...</td>\n",
       "      <td>Sergio Ramos admits that Lionel Messi has made...</td>\n",
       "    </tr>\n",
       "    <tr>\n",
       "      <th>4</th>\n",
       "      <td>2021-04-06</td>\n",
       "      <td>Man Utd star Fred names 'out of this world' Me...</td>\n",
       "      <td>https://www.goal.com/en/news/man-utd-fred-out-...</td>\n",
       "      <td>Manchester United midfielder Fred has named “o...</td>\n",
       "    </tr>\n",
       "  </tbody>\n",
       "</table>\n",
       "</div>"
      ],
      "text/plain": [
       "        date                                              title  \\\n",
       "0 2021-08-11  BBC, MSN and now MNM: Where does Messi, Neymar...   \n",
       "1 2021-04-04  It would be 'wonderful' to play with Messi at ...   \n",
       "2 2021-04-03  Rivaldo thinks 'bluffing' Man City still want ...   \n",
       "3 2021-04-08  'We suffered against Messi' - Ramos concedes M...   \n",
       "4 2021-04-06  Man Utd star Fred names 'out of this world' Me...   \n",
       "\n",
       "                                                 url  \\\n",
       "0  https://www.goal.com/en/news/bbc-msn-mnm-where...   \n",
       "1  https://www.goal.com/en/news/it-would-be-wonde...   \n",
       "2  https://www.goal.com/en/news/rivaldo-thinks-bl...   \n",
       "3  https://www.goal.com/en/news/we-suffered-again...   \n",
       "4  https://www.goal.com/en/news/man-utd-fred-out-...   \n",
       "\n",
       "                                             content  \n",
       "0  Marco Verratti has never hidden his excitement...  \n",
       "1  Angel Di Maria said it would be “wonderful” to...  \n",
       "2  Former Brazil star Rivaldo refuses to believe ...  \n",
       "3  Sergio Ramos admits that Lionel Messi has made...  \n",
       "4  Manchester United midfielder Fred has named “o...  "
      ]
     },
     "execution_count": 3,
     "metadata": {},
     "output_type": "execute_result"
    }
   ],
   "source": [
    "df.head()"
   ]
  },
  {
   "cell_type": "code",
   "execution_count": 4,
   "id": "375a7572",
   "metadata": {},
   "outputs": [],
   "source": [
    "df.to_csv('MessiGoalsite.csv')"
   ]
  },
  {
   "cell_type": "code",
   "execution_count": 6,
   "id": "703edbed",
   "metadata": {},
   "outputs": [
    {
     "data": {
      "text/plain": [
       "2020-08-26    15\n",
       "2021-07-23    15\n",
       "2020-09-02    13\n",
       "2020-09-01    12\n",
       "2020-08-27    12\n",
       "              ..\n",
       "2020-06-27     1\n",
       "2020-06-22     1\n",
       "2020-06-19     1\n",
       "2020-05-07     1\n",
       "2020-05-23     1\n",
       "Name: date, Length: 691, dtype: int64"
      ]
     },
     "execution_count": 6,
     "metadata": {},
     "output_type": "execute_result"
    }
   ],
   "source": [
    "df['date'].value_counts()"
   ]
  },
  {
   "cell_type": "code",
   "execution_count": 8,
   "id": "2b1ed7f1",
   "metadata": {},
   "outputs": [
    {
     "data": {
      "text/plain": [
       "691"
      ]
     },
     "execution_count": 8,
     "metadata": {},
     "output_type": "execute_result"
    }
   ],
   "source": [
    "df['date'].nunique()"
   ]
  },
  {
   "cell_type": "code",
   "execution_count": 9,
   "id": "efac7acc",
   "metadata": {},
   "outputs": [
    {
     "name": "stdout",
     "output_type": "stream",
     "text": [
      "<class 'pandas.core.frame.DataFrame'>\n",
      "RangeIndex: 1560 entries, 0 to 1559\n",
      "Data columns (total 4 columns):\n",
      " #   Column   Non-Null Count  Dtype         \n",
      "---  ------   --------------  -----         \n",
      " 0   date     1560 non-null   datetime64[ns]\n",
      " 1   title    1560 non-null   object        \n",
      " 2   url      1560 non-null   object        \n",
      " 3   content  1560 non-null   object        \n",
      "dtypes: datetime64[ns](1), object(3)\n",
      "memory usage: 48.9+ KB\n"
     ]
    }
   ],
   "source": [
    "df.info()"
   ]
  },
  {
   "cell_type": "code",
   "execution_count": 7,
   "id": "6f257761",
   "metadata": {},
   "outputs": [
    {
     "data": {
      "text/plain": [
       "<AxesSubplot:xlabel='Count', ylabel='date'>"
      ]
     },
     "execution_count": 7,
     "metadata": {},
     "output_type": "execute_result"
    },
    {
     "data": {
      "image/png": "[encoded data removed]",
      "text/plain": [
       "<Figure size 432x288 with 1 Axes>"
      ]
     },
     "metadata": {
      "needs_background": "light"
     },
     "output_type": "display_data"
    }
   ],
   "source": [
    "sns.histplot(y=df['date'])"
   ]
  },
  {
   "cell_type": "code",
   "execution_count": null,
   "id": "4dc48e94",
   "metadata": {},
   "outputs": [],
   "source": []
  }
 ],
 "metadata": {
  "kernelspec": {
   "display_name": "Python 3 (ipykernel)",
   "language": "python",
   "name": "python3"
  },
  "language_info": {
   "codemirror_mode": {
    "name": "ipython",
    "version": 3
   },
   "file_extension": ".py",
   "mimetype": "text/x-python",
   "name": "python",
   "nbconvert_exporter": "python",
   "pygments_lexer": "ipython3",
   "version": "3.9.6"
  }
 },
 "nbformat": 4,
 "nbformat_minor": 5
}
