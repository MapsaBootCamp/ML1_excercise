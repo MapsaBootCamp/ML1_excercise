{
 "cells": [
  {
   "cell_type": "code",
   "execution_count": 1,
   "id": "105823a0",
   "metadata": {},
   "outputs": [],
   "source": [
    "import pandas as pd"
   ]
  },
  {
   "cell_type": "code",
   "execution_count": 2,
   "id": "9f075889",
   "metadata": {},
   "outputs": [],
   "source": [
    "import datetime"
   ]
  },
  {
   "cell_type": "code",
   "execution_count": 3,
   "id": "56558e48",
   "metadata": {},
   "outputs": [],
   "source": [
    "import seaborn as sns"
   ]
  },
  {
   "cell_type": "code",
   "execution_count": 4,
   "id": "0ee8eb30",
   "metadata": {},
   "outputs": [],
   "source": [
    "df = pd.read_csv('./train.csv', index_col=0)"
   ]
  },
  {
   "cell_type": "code",
   "execution_count": 5,
   "id": "4f248b9a",
   "metadata": {},
   "outputs": [],
   "source": [
    "#dt = pd.read_csv('./test.csv', index_col=0)"
   ]
  },
  {
   "cell_type": "code",
   "execution_count": 6,
   "id": "6eb69e95",
   "metadata": {},
   "outputs": [
    {
     "data": {
      "text/plain": [
       "date                    object\n",
       "product_id               int64\n",
       "cat_id                   int64\n",
       "live_rate              float64\n",
       "score_mean             float64\n",
       "score_count            float64\n",
       "price_group            float64\n",
       "discount_percentage    float64\n",
       "sold_count             float64\n",
       "dtype: object"
      ]
     },
     "execution_count": 6,
     "metadata": {},
     "output_type": "execute_result"
    }
   ],
   "source": [
    "df.dtypes"
   ]
  },
  {
   "cell_type": "code",
   "execution_count": 7,
   "id": "a04a575f",
   "metadata": {},
   "outputs": [],
   "source": [
    "df.fillna({'score_mean':-1}, inplace=True)"
   ]
  },
  {
   "cell_type": "code",
   "execution_count": 8,
   "id": "e6b4cc3a",
   "metadata": {},
   "outputs": [
    {
     "data": {
      "text/plain": [
       "0"
      ]
     },
     "execution_count": 8,
     "metadata": {},
     "output_type": "execute_result"
    }
   ],
   "source": [
    "df.score_mean.isna().sum()"
   ]
  },
  {
   "cell_type": "code",
   "execution_count": 9,
   "id": "9b222549",
   "metadata": {},
   "outputs": [
    {
     "data": {
      "text/plain": [
       "date                   datetime64[ns]\n",
       "product_id                      int64\n",
       "cat_id                          int64\n",
       "live_rate                     float64\n",
       "score_mean                    float64\n",
       "score_count                   float64\n",
       "price_group                   float64\n",
       "discount_percentage           float64\n",
       "sold_count                    float64\n",
       "day_of_week                     int64\n",
       "day_of_month                    int64\n",
       "day_of_year                     int64\n",
       "dtype: object"
      ]
     },
     "execution_count": 9,
     "metadata": {},
     "output_type": "execute_result"
    }
   ],
   "source": [
    "df.date = pd.to_datetime(df.date, format='%Y/%m/%d')\n",
    "df['day_of_week'] = df.date.dt.day_of_week  # .astype('category')\n",
    "df['day_of_month'] = df.date.dt.day\n",
    "df['day_of_year'] = df.date.dt.day_of_year\n",
    "#df = df.astype({'product_id':'category', 'cat_id':'category', 'price_group':'category'})\n",
    "df.dtypes"
   ]
  },
  {
   "cell_type": "code",
   "execution_count": 10,
   "id": "6dfc389f",
   "metadata": {},
   "outputs": [
    {
     "data": {
      "text/plain": [
       "70"
      ]
     },
     "execution_count": 10,
     "metadata": {},
     "output_type": "execute_result"
    }
   ],
   "source": [
    "df.date.nunique()"
   ]
  },
  {
   "cell_type": "code",
   "execution_count": 11,
   "id": "a1843774",
   "metadata": {},
   "outputs": [
    {
     "data": {
      "text/plain": [
       "Timestamp('2018-06-30 00:00:00')"
      ]
     },
     "execution_count": 11,
     "metadata": {},
     "output_type": "execute_result"
    }
   ],
   "source": [
    "df.date.min()"
   ]
  },
  {
   "cell_type": "code",
   "execution_count": 31,
   "id": "46d3754e",
   "metadata": {},
   "outputs": [
    {
     "data": {
      "text/plain": [
       "Timedelta('69 days 00:00:00')"
      ]
     },
     "execution_count": 31,
     "metadata": {},
     "output_type": "execute_result"
    }
   ],
   "source": [
    "df.date.max() - df.date.min()"
   ]
  },
  {
   "cell_type": "code",
   "execution_count": 22,
   "id": "6dd19e18",
   "metadata": {},
   "outputs": [
    {
     "data": {
      "text/plain": [
       "184"
      ]
     },
     "execution_count": 22,
     "metadata": {},
     "output_type": "execute_result"
    }
   ],
   "source": [
    "df.cat_id.nunique()"
   ]
  },
  {
   "cell_type": "code",
   "execution_count": 32,
   "id": "fe0b3e90",
   "metadata": {},
   "outputs": [
    {
     "data": {
      "text/plain": [
       "7650"
      ]
     },
     "execution_count": 32,
     "metadata": {},
     "output_type": "execute_result"
    }
   ],
   "source": [
    "df.product_id.nunique()"
   ]
  },
  {
   "cell_type": "code",
   "execution_count": 39,
   "id": "21e9bb46",
   "metadata": {},
   "outputs": [],
   "source": [
    "dp = df[df.product_id.isin(df.product_id.iloc[-10:])].sort_values('date')"
   ]
  },
  {
   "cell_type": "code",
   "execution_count": 40,
   "id": "aa9d5523",
   "metadata": {},
   "outputs": [
    {
     "data": {
      "text/plain": [
       "(592, 12)"
      ]
     },
     "execution_count": 40,
     "metadata": {},
     "output_type": "execute_result"
    }
   ],
   "source": [
    "dp.shape"
   ]
  },
  {
   "cell_type": "code",
   "execution_count": 41,
   "id": "feb8bd1c",
   "metadata": {},
   "outputs": [],
   "source": [
    "sample_mat_x = dp.drop('sold_count', axis=1)\n",
    "sample_vec_y = dp['sold_count']"
   ]
  },
  {
   "cell_type": "code",
   "execution_count": 42,
   "id": "a4886f93",
   "metadata": {},
   "outputs": [
    {
     "data": {
      "text/plain": [
       "<AxesSubplot:xlabel='date', ylabel='sold_count'>"
      ]
     },
     "execution_count": 42,
     "metadata": {},
     "output_type": "execute_result"
    },
    {
     "data": {
      "image/png": "[encoded data removed]",
      "text/plain": [
       "<Figure size 432x288 with 1 Axes>"
      ]
     },
     "metadata": {
      "needs_background": "light"
     },
     "output_type": "display_data"
    }
   ],
   "source": [
    "sns.scatterplot(data=sample_mat_x, x='date', y=sample_vec_y, hue='product_id', palette='bright')"
   ]
  },
  {
   "cell_type": "code",
   "execution_count": 19,
   "id": "2b34523e",
   "metadata": {},
   "outputs": [
    {
     "data": {
      "text/plain": [
       "Timedelta('69 days 00:00:00')"
      ]
     },
     "execution_count": 19,
     "metadata": {},
     "output_type": "execute_result"
    }
   ],
   "source": [
    "dp.date.max() - dp.date.min()"
   ]
  },
  {
   "cell_type": "code",
   "execution_count": 49,
   "id": "fc163883",
   "metadata": {},
   "outputs": [],
   "source": [
    "bound = df.date.min() + pd.Timedelta(\"40 days\")\n",
    "dp_train = dp[dp.date < bound]\n",
    "dp_test = dp[dp.date >= bound]"
   ]
  },
  {
   "cell_type": "code",
   "execution_count": 50,
   "id": "5dc4bf48",
   "metadata": {},
   "outputs": [
    {
     "data": {
      "text/plain": [
       "Timedelta('39 days 00:00:00')"
      ]
     },
     "execution_count": 50,
     "metadata": {},
     "output_type": "execute_result"
    }
   ],
   "source": [
    "dp_train.date.max() - dp_train.date.min()"
   ]
  },
  {
   "cell_type": "code",
   "execution_count": 51,
   "id": "56a0156f",
   "metadata": {},
   "outputs": [
    {
     "data": {
      "text/plain": [
       "Timedelta('29 days 00:00:00')"
      ]
     },
     "execution_count": 51,
     "metadata": {},
     "output_type": "execute_result"
    }
   ],
   "source": [
    "dp_test.date.max() - dp_test.date.min()"
   ]
  },
  {
   "cell_type": "code",
   "execution_count": 15,
   "id": "7a23012d",
   "metadata": {},
   "outputs": [],
   "source": [
    "bound = df.date.min() + pd.Timedelta(\"31 days\")\n",
    "dp_train = df[df.date < bound]\n",
    "dp_test = df[df.date >= bound]\n",
    "x_train = dp_train.drop(['sold_count', 'date'], axis=1)\n",
    "x_test = dp_test.drop(['sold_count', 'date'], axis=1)\n",
    "y_train = dp_train['sold_count']\n",
    "y_test = dp_test['sold_count']"
   ]
  },
  {
   "cell_type": "code",
   "execution_count": 16,
   "id": "910f7c5d",
   "metadata": {},
   "outputs": [
    {
     "data": {
      "text/plain": [
       "31"
      ]
     },
     "execution_count": 16,
     "metadata": {},
     "output_type": "execute_result"
    }
   ],
   "source": [
    "df.day_of_month.nunique()"
   ]
  },
  {
   "cell_type": "code",
   "execution_count": 17,
   "id": "7a5be520",
   "metadata": {},
   "outputs": [],
   "source": [
    "y_train = dp_train['sold_count']\n",
    "y_test = dp_test['sold_count']"
   ]
  },
  {
   "cell_type": "code",
   "execution_count": 18,
   "id": "6982d962",
   "metadata": {},
   "outputs": [
    {
     "name": "stdout",
     "output_type": "stream",
     "text": [
      "(181810, 10)\n",
      "(181810,)\n",
      "(205215, 10)\n",
      "(205215,)\n"
     ]
    }
   ],
   "source": [
    "for this in [x_train, y_train, x_test, y_test]:\n",
    "    print(this.shape)"
   ]
  }
 ],
 "metadata": {
  "kernelspec": {
   "display_name": "Python 3 (ipykernel)",
   "language": "python",
   "name": "python3"
  },
  "language_info": {
   "codemirror_mode": {
    "name": "ipython",
    "version": 3
   },
   "file_extension": ".py",
   "mimetype": "text/x-python",
   "name": "python",
   "nbconvert_exporter": "python",
   "pygments_lexer": "ipython3",
   "version": "3.9.6"
  }
 },
 "nbformat": 4,
 "nbformat_minor": 5
}
