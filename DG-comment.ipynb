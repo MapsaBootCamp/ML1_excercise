{
 "cells": [
  {
   "cell_type": "code",
   "execution_count": 12,
   "id": "107f93f8",
   "metadata": {},
   "outputs": [
    {
     "name": "stderr",
     "output_type": "stream",
     "text": [
      "/opt/anaconda3/lib/python3.8/site-packages/IPython/core/interactiveshell.py:3165: DtypeWarning: Columns (2,4,6) have mixed types.Specify dtype option on import or set low_memory=False.\n",
      "  has_raised = await self.run_ast_nodes(code_ast.body, cell_name,\n"
     ]
    },
    {
     "data": {
      "text/html": [
       "<div>\n",
       "<style scoped>\n",
       "    .dataframe tbody tr th:only-of-type {\n",
       "        vertical-align: middle;\n",
       "    }\n",
       "\n",
       "    .dataframe tbody tr th {\n",
       "        vertical-align: top;\n",
       "    }\n",
       "\n",
       "    .dataframe thead th {\n",
       "        text-align: right;\n",
       "    }\n",
       "</style>\n",
       "<table border=\"1\" class=\"dataframe\">\n",
       "  <thead>\n",
       "    <tr style=\"text-align: right;\">\n",
       "      <th></th>\n",
       "      <th>id</th>\n",
       "      <th>comment</th>\n",
       "      <th>product_id</th>\n",
       "      <th>product_title_fa</th>\n",
       "      <th>category_id</th>\n",
       "      <th>category_title_fa</th>\n",
       "      <th>is_buyer</th>\n",
       "      <th>price_value</th>\n",
       "      <th>fake_originality</th>\n",
       "      <th>warranty</th>\n",
       "      <th>size</th>\n",
       "      <th>discrepancy</th>\n",
       "      <th>flavor_odor</th>\n",
       "      <th>expiration_date</th>\n",
       "    </tr>\n",
       "  </thead>\n",
       "  <tbody>\n",
       "    <tr>\n",
       "      <th>0</th>\n",
       "      <td>1215666.0</td>\n",
       "      <td>ارزششو داشت</td>\n",
       "      <td>2802959</td>\n",
       "      <td>جوراب مردانه فیرو پلاس مدل FP200 مجموعه 4 عددی</td>\n",
       "      <td>9456.0</td>\n",
       "      <td>جوراب و ساق مردانه</td>\n",
       "      <td>True</td>\n",
       "      <td>1.0</td>\n",
       "      <td>0.0</td>\n",
       "      <td>0.0</td>\n",
       "      <td>0.0</td>\n",
       "      <td>0.0</td>\n",
       "      <td>0.0</td>\n",
       "      <td>0.0</td>\n",
       "    </tr>\n",
       "    <tr>\n",
       "      <th>1</th>\n",
       "      <td>1183149.0</td>\n",
       "      <td>یه دستگاه کاربردی فقط ای کاش طرز استفادشو میزد...</td>\n",
       "      <td>1894596</td>\n",
       "      <td>دستگاه سفید کننده دندان دنتال وایت مدل DT-1244</td>\n",
       "      <td>5745.0</td>\n",
       "      <td>مسواک برقی</td>\n",
       "      <td>True</td>\n",
       "      <td>0.0</td>\n",
       "      <td>0.0</td>\n",
       "      <td>0.0</td>\n",
       "      <td>0.0</td>\n",
       "      <td>0.0</td>\n",
       "      <td>0.0</td>\n",
       "      <td>0.0</td>\n",
       "    </tr>\n",
       "    <tr>\n",
       "      <th>2</th>\n",
       "      <td>1011730.0</td>\n",
       "      <td>خیلی خوب و ارزان</td>\n",
       "      <td>323729</td>\n",
       "      <td>کتاب بهترین قصه ملانصرالدین کلک مرغابی اثر مهر...</td>\n",
       "      <td>5918.0</td>\n",
       "      <td>کتاب چاپی</td>\n",
       "      <td>True</td>\n",
       "      <td>1.0</td>\n",
       "      <td>0.0</td>\n",
       "      <td>0.0</td>\n",
       "      <td>0.0</td>\n",
       "      <td>0.0</td>\n",
       "      <td>0.0</td>\n",
       "      <td>0.0</td>\n",
       "    </tr>\n",
       "    <tr>\n",
       "      <th>3</th>\n",
       "      <td>1093325.0</td>\n",
       "      <td>اندازش خیلیییییی بزرگ بود</td>\n",
       "      <td>1431242</td>\n",
       "      <td>نوار بهداشتی تافته مدل Thin بسته 7 عددی</td>\n",
       "      <td>6528.0</td>\n",
       "      <td>نوار بهداشتی</td>\n",
       "      <td>True</td>\n",
       "      <td>0.0</td>\n",
       "      <td>0.0</td>\n",
       "      <td>0.0</td>\n",
       "      <td>1.0</td>\n",
       "      <td>0.0</td>\n",
       "      <td>0.0</td>\n",
       "      <td>0.0</td>\n",
       "    </tr>\n",
       "    <tr>\n",
       "      <th>4</th>\n",
       "      <td>1111983.0</td>\n",
       "      <td>خیلی بد بود و میچسبید به دست</td>\n",
       "      <td>1902220</td>\n",
       "      <td>ژل بازی کد shb57</td>\n",
       "      <td>6083.0</td>\n",
       "      <td>ابزار شوخی</td>\n",
       "      <td>False</td>\n",
       "      <td>0.0</td>\n",
       "      <td>0.0</td>\n",
       "      <td>0.0</td>\n",
       "      <td>0.0</td>\n",
       "      <td>0.0</td>\n",
       "      <td>0.0</td>\n",
       "      <td>0.0</td>\n",
       "    </tr>\n",
       "    <tr>\n",
       "      <th>...</th>\n",
       "      <td>...</td>\n",
       "      <td>...</td>\n",
       "      <td>...</td>\n",
       "      <td>...</td>\n",
       "      <td>...</td>\n",
       "      <td>...</td>\n",
       "      <td>...</td>\n",
       "      <td>...</td>\n",
       "      <td>...</td>\n",
       "      <td>...</td>\n",
       "      <td>...</td>\n",
       "      <td>...</td>\n",
       "      <td>...</td>\n",
       "      <td>...</td>\n",
       "    </tr>\n",
       "    <tr>\n",
       "      <th>224125</th>\n",
       "      <td>1231557.0</td>\n",
       "      <td>ممنون خوب هستش</td>\n",
       "      <td>360716</td>\n",
       "      <td>کاردک نقاشی کد 1040</td>\n",
       "      <td>8397.0</td>\n",
       "      <td>ابزار و ملزومات هنرهای تجسمی</td>\n",
       "      <td>True</td>\n",
       "      <td>0.0</td>\n",
       "      <td>0.0</td>\n",
       "      <td>0.0</td>\n",
       "      <td>0.0</td>\n",
       "      <td>0.0</td>\n",
       "      <td>0.0</td>\n",
       "      <td>0.0</td>\n",
       "    </tr>\n",
       "    <tr>\n",
       "      <th>224126</th>\n",
       "      <td>1256361.0</td>\n",
       "      <td>سلام به همه دوستان\\r\\nمن گوشت را در تخفیفات سو...</td>\n",
       "      <td>792262</td>\n",
       "      <td>ران گوساله داخلی مهیا پروتئین - 1 کیلوگرم</td>\n",
       "      <td>9219.0</td>\n",
       "      <td>گوشت گاو و گوساله و شتر</td>\n",
       "      <td>True</td>\n",
       "      <td>1.0</td>\n",
       "      <td>0.0</td>\n",
       "      <td>0.0</td>\n",
       "      <td>0.0</td>\n",
       "      <td>0.0</td>\n",
       "      <td>0.0</td>\n",
       "      <td>1.0</td>\n",
       "    </tr>\n",
       "    <tr>\n",
       "      <th>224127</th>\n",
       "      <td>1149489.0</td>\n",
       "      <td>خیلی خوبه</td>\n",
       "      <td>854126</td>\n",
       "      <td>حلقه تقویت مچ دست مدل 002</td>\n",
       "      <td>6116.0</td>\n",
       "      <td>تجهیزات جانبی ایروبیک و تناسب اندام</td>\n",
       "      <td>True</td>\n",
       "      <td>0.0</td>\n",
       "      <td>0.0</td>\n",
       "      <td>0.0</td>\n",
       "      <td>0.0</td>\n",
       "      <td>0.0</td>\n",
       "      <td>0.0</td>\n",
       "      <td>0.0</td>\n",
       "    </tr>\n",
       "    <tr>\n",
       "      <th>224128</th>\n",
       "      <td>1025940.0</td>\n",
       "      <td>با عمر نسبتا مناسب و کارا</td>\n",
       "      <td>2131411</td>\n",
       "      <td>باتری نیم قلمی سونی مدل LR03 بسته 4 عددی</td>\n",
       "      <td>5880.0</td>\n",
       "      <td>باتری استاندارد</td>\n",
       "      <td>True</td>\n",
       "      <td>0.0</td>\n",
       "      <td>0.0</td>\n",
       "      <td>0.0</td>\n",
       "      <td>0.0</td>\n",
       "      <td>0.0</td>\n",
       "      <td>0.0</td>\n",
       "      <td>0.0</td>\n",
       "    </tr>\n",
       "    <tr>\n",
       "      <th>224129</th>\n",
       "      <td>1070083.0</td>\n",
       "      <td>بد نیست یکم کوچیکه و از سر میوفته ،فکر میکنم ب...</td>\n",
       "      <td>3176815</td>\n",
       "      <td>تل مو دخترانه مدل GIR</td>\n",
       "      <td>9711.0</td>\n",
       "      <td>زیور آلات مو دخترانه</td>\n",
       "      <td>True</td>\n",
       "      <td>0.0</td>\n",
       "      <td>0.0</td>\n",
       "      <td>0.0</td>\n",
       "      <td>1.0</td>\n",
       "      <td>0.0</td>\n",
       "      <td>0.0</td>\n",
       "      <td>0.0</td>\n",
       "    </tr>\n",
       "  </tbody>\n",
       "</table>\n",
       "<p>224130 rows × 14 columns</p>\n",
       "</div>"
      ],
      "text/plain": [
       "               id                                            comment  \\\n",
       "0       1215666.0                                        ارزششو داشت   \n",
       "1       1183149.0  یه دستگاه کاربردی فقط ای کاش طرز استفادشو میزد...   \n",
       "2       1011730.0                                   خیلی خوب و ارزان   \n",
       "3       1093325.0                          اندازش خیلیییییی بزرگ بود   \n",
       "4       1111983.0                       خیلی بد بود و میچسبید به دست   \n",
       "...           ...                                                ...   \n",
       "224125  1231557.0                                     ممنون خوب هستش   \n",
       "224126  1256361.0  سلام به همه دوستان\\r\\nمن گوشت را در تخفیفات سو...   \n",
       "224127  1149489.0                                          خیلی خوبه   \n",
       "224128  1025940.0                          با عمر نسبتا مناسب و کارا   \n",
       "224129  1070083.0  بد نیست یکم کوچیکه و از سر میوفته ،فکر میکنم ب...   \n",
       "\n",
       "       product_id                                   product_title_fa  \\\n",
       "0         2802959     جوراب مردانه فیرو پلاس مدل FP200 مجموعه 4 عددی   \n",
       "1         1894596     دستگاه سفید کننده دندان دنتال وایت مدل DT-1244   \n",
       "2          323729  کتاب بهترین قصه ملانصرالدین کلک مرغابی اثر مهر...   \n",
       "3         1431242            نوار بهداشتی تافته مدل Thin بسته 7 عددی   \n",
       "4         1902220                                   ژل بازی کد shb57   \n",
       "...           ...                                                ...   \n",
       "224125     360716                                کاردک نقاشی کد 1040   \n",
       "224126     792262          ران گوساله داخلی مهیا پروتئین - 1 کیلوگرم   \n",
       "224127     854126                          حلقه تقویت مچ دست مدل 002   \n",
       "224128    2131411           باتری نیم قلمی سونی مدل LR03 بسته 4 عددی   \n",
       "224129    3176815                              تل مو دخترانه مدل GIR   \n",
       "\n",
       "       category_id                    category_title_fa is_buyer  price_value  \\\n",
       "0           9456.0                   جوراب و ساق مردانه     True          1.0   \n",
       "1           5745.0                           مسواک برقی     True          0.0   \n",
       "2           5918.0                            کتاب چاپی     True          1.0   \n",
       "3           6528.0                         نوار بهداشتی     True          0.0   \n",
       "4           6083.0                           ابزار شوخی    False          0.0   \n",
       "...            ...                                  ...      ...          ...   \n",
       "224125      8397.0         ابزار و ملزومات هنرهای تجسمی     True          0.0   \n",
       "224126      9219.0              گوشت گاو و گوساله و شتر     True          1.0   \n",
       "224127      6116.0  تجهیزات جانبی ایروبیک و تناسب اندام     True          0.0   \n",
       "224128      5880.0                      باتری استاندارد     True          0.0   \n",
       "224129      9711.0                 زیور آلات مو دخترانه     True          0.0   \n",
       "\n",
       "        fake_originality  warranty  size  discrepancy  flavor_odor  \\\n",
       "0                    0.0       0.0   0.0          0.0          0.0   \n",
       "1                    0.0       0.0   0.0          0.0          0.0   \n",
       "2                    0.0       0.0   0.0          0.0          0.0   \n",
       "3                    0.0       0.0   1.0          0.0          0.0   \n",
       "4                    0.0       0.0   0.0          0.0          0.0   \n",
       "...                  ...       ...   ...          ...          ...   \n",
       "224125               0.0       0.0   0.0          0.0          0.0   \n",
       "224126               0.0       0.0   0.0          0.0          0.0   \n",
       "224127               0.0       0.0   0.0          0.0          0.0   \n",
       "224128               0.0       0.0   0.0          0.0          0.0   \n",
       "224129               0.0       0.0   1.0          0.0          0.0   \n",
       "\n",
       "        expiration_date  \n",
       "0                   0.0  \n",
       "1                   0.0  \n",
       "2                   0.0  \n",
       "3                   0.0  \n",
       "4                   0.0  \n",
       "...                 ...  \n",
       "224125              0.0  \n",
       "224126              1.0  \n",
       "224127              0.0  \n",
       "224128              0.0  \n",
       "224129              0.0  \n",
       "\n",
       "[224130 rows x 14 columns]"
      ]
     },
     "execution_count": 12,
     "metadata": {},
     "output_type": "execute_result"
    }
   ],
   "source": [
    "import numpy as np\n",
    "import pandas as pd\n",
    "import seaborn as sns\n",
    "from sklearn.model_selection import train_test_split\n",
    "from sklearn.feature_extraction.text import TfidfVectorizer\n",
    "from sklearn.naive_bayes import MultinomialNB\n",
    "from sklearn.pipeline import make_pipeline\n",
    "\n",
    "comment_df = pd.read_csv('train.csv')\n",
    "comment_df"
   ]
  },
  {
   "cell_type": "code",
   "execution_count": 2,
   "id": "c4d88c63",
   "metadata": {},
   "outputs": [
    {
     "name": "stdout",
     "output_type": "stream",
     "text": [
      "<class 'pandas.core.frame.DataFrame'>\n",
      "RangeIndex: 224130 entries, 0 to 224129\n",
      "Data columns (total 14 columns):\n",
      " #   Column             Non-Null Count   Dtype  \n",
      "---  ------             --------------   -----  \n",
      " 0   id                 224129 non-null  float64\n",
      " 1   comment            224127 non-null  object \n",
      " 2   product_id         224129 non-null  object \n",
      " 3   product_title_fa   224129 non-null  object \n",
      " 4   category_id        224129 non-null  object \n",
      " 5   category_title_fa  224129 non-null  object \n",
      " 6   is_buyer           224129 non-null  object \n",
      " 7   price_value        224129 non-null  float64\n",
      " 8   fake_originality   224129 non-null  float64\n",
      " 9   warranty           224129 non-null  float64\n",
      " 10  size               224129 non-null  float64\n",
      " 11  discrepancy        224129 non-null  float64\n",
      " 12  flavor_odor        224129 non-null  float64\n",
      " 13  expiration_date    224128 non-null  float64\n",
      "dtypes: float64(8), object(6)\n",
      "memory usage: 23.9+ MB\n"
     ]
    }
   ],
   "source": [
    "comment_df.info()"
   ]
  },
  {
   "cell_type": "code",
   "execution_count": 34,
   "id": "2c18af47",
   "metadata": {},
   "outputs": [
    {
     "name": "stdout",
     "output_type": "stream",
     "text": [
      "<class 'pandas.core.frame.DataFrame'>\n",
      "Int64Index: 224125 entries, 0 to 224129\n",
      "Data columns (total 14 columns):\n",
      " #   Column             Non-Null Count   Dtype  \n",
      "---  ------             --------------   -----  \n",
      " 0   id                 224125 non-null  float64\n",
      " 1   comment            224125 non-null  object \n",
      " 2   product_id         224125 non-null  object \n",
      " 3   product_title_fa   224125 non-null  object \n",
      " 4   category_id        224125 non-null  object \n",
      " 5   category_title_fa  224125 non-null  object \n",
      " 6   is_buyer           224125 non-null  object \n",
      " 7   price_value        224125 non-null  float64\n",
      " 8   fake_originality   224125 non-null  float64\n",
      " 9   warranty           224125 non-null  float64\n",
      " 10  size               224125 non-null  float64\n",
      " 11  discrepancy        224125 non-null  float64\n",
      " 12  flavor_odor        224125 non-null  float64\n",
      " 13  expiration_date    224125 non-null  float64\n",
      "dtypes: float64(8), object(6)\n",
      "memory usage: 25.6+ MB\n"
     ]
    }
   ],
   "source": [
    "comment_df = comment_df.dropna()\n",
    "comment_df.info()"
   ]
  },
  {
   "cell_type": "markdown",
   "id": "d5c11846",
   "metadata": {},
   "source": [
    "<h2>Price Value</h2>"
   ]
  },
  {
   "cell_type": "code",
   "execution_count": 4,
   "id": "575b1f85",
   "metadata": {},
   "outputs": [],
   "source": [
    "X = comment_df.iloc[:, 1]\n",
    "y = comment_df['price_value']\n",
    "X_train, X_test, y_train, y_test = train_test_split(X, y, test_size=0.3, random_state=0)"
   ]
  },
  {
   "cell_type": "code",
   "execution_count": 5,
   "id": "1134f1cc",
   "metadata": {},
   "outputs": [
    {
     "data": {
      "text/plain": [
       "Pipeline(steps=[('tfidfvectorizer', TfidfVectorizer()),\n",
       "                ('multinomialnb', MultinomialNB())])"
      ]
     },
     "execution_count": 5,
     "metadata": {},
     "output_type": "execute_result"
    }
   ],
   "source": [
    "model = make_pipeline(TfidfVectorizer(), MultinomialNB())\n",
    "model.fit(X_train, y_train)"
   ]
  },
  {
   "cell_type": "code",
   "execution_count": 6,
   "id": "640a4995",
   "metadata": {},
   "outputs": [],
   "source": [
    "predicted_target = model.predict(X_test)"
   ]
  },
  {
   "cell_type": "code",
   "execution_count": 11,
   "id": "dd5708f5",
   "metadata": {
    "scrolled": true
   },
   "outputs": [
    {
     "name": "stdout",
     "output_type": "stream",
     "text": [
      "              precision    recall  f1-score   support\n",
      "\n",
      "         0.0       0.99      0.92      0.95     66758\n",
      "         1.0       0.00      0.03      0.00       480\n",
      "\n",
      "    accuracy                           0.91     67238\n",
      "   macro avg       0.50      0.47      0.48     67238\n",
      "weighted avg       0.99      0.91      0.95     67238\n",
      "\n"
     ]
    }
   ],
   "source": [
    "from sklearn.metrics import classification_report\n",
    "\n",
    "print(classification_report(y_test, predicted_target))"
   ]
  },
  {
   "cell_type": "markdown",
   "id": "5de084ca",
   "metadata": {},
   "source": [
    "<h2>Fake - Originality</h2>"
   ]
  },
  {
   "cell_type": "code",
   "execution_count": 8,
   "id": "18ba1ab9",
   "metadata": {},
   "outputs": [],
   "source": [
    "y_fo = comment_df['fake_originality']\n",
    "X_train, X_test, y_train, y_test = train_test_split(X, y_fo, test_size=0.3, random_state=0)"
   ]
  },
  {
   "cell_type": "code",
   "execution_count": 9,
   "id": "6a0ac7f8",
   "metadata": {},
   "outputs": [
    {
     "data": {
      "text/plain": [
       "Pipeline(steps=[('tfidfvectorizer', TfidfVectorizer()),\n",
       "                ('multinomialnb', MultinomialNB())])"
      ]
     },
     "execution_count": 9,
     "metadata": {},
     "output_type": "execute_result"
    }
   ],
   "source": [
    "model = make_pipeline(TfidfVectorizer(), MultinomialNB())\n",
    "model.fit(X_train, y_train)"
   ]
  },
  {
   "cell_type": "code",
   "execution_count": 10,
   "id": "7959cae5",
   "metadata": {},
   "outputs": [
    {
     "name": "stdout",
     "output_type": "stream",
     "text": [
      "              precision    recall  f1-score   support\n",
      "\n",
      "         0.0       0.99      1.00      1.00     66758\n",
      "         1.0       1.00      0.00      0.00       480\n",
      "\n",
      "    accuracy                           0.99     67238\n",
      "   macro avg       1.00      0.50      0.50     67238\n",
      "weighted avg       0.99      0.99      0.99     67238\n",
      "\n"
     ]
    }
   ],
   "source": [
    "predicted_yfo = model.predict(X_test)\n",
    "\n",
    "print(classification_report(y_test, predicted_yfo, zero_division=1))"
   ]
  },
  {
   "cell_type": "markdown",
   "id": "59b9a4cd",
   "metadata": {},
   "source": [
    "## Warranty"
   ]
  },
  {
   "cell_type": "code",
   "execution_count": 35,
   "id": "83222d4b",
   "metadata": {},
   "outputs": [],
   "source": [
    "y_w = comment_df['warranty']\n",
    "X_train, X_test, y_train, y_test = train_test_split(X, y_w, test_size=0.3, random_state=0)"
   ]
  },
  {
   "cell_type": "code",
   "execution_count": 36,
   "id": "74d12e95",
   "metadata": {},
   "outputs": [
    {
     "data": {
      "text/plain": [
       "Pipeline(steps=[('tfidfvectorizer', TfidfVectorizer()),\n",
       "                ('multinomialnb', MultinomialNB())])"
      ]
     },
     "execution_count": 36,
     "metadata": {},
     "output_type": "execute_result"
    }
   ],
   "source": [
    "model.fit(X_train, y_train)"
   ]
  },
  {
   "cell_type": "code",
   "execution_count": 37,
   "id": "e83b4364",
   "metadata": {},
   "outputs": [
    {
     "name": "stdout",
     "output_type": "stream",
     "text": [
      "              precision    recall  f1-score   support\n",
      "\n",
      "         0.0       1.00      1.00      1.00     67077\n",
      "         1.0       1.00      0.00      0.00       161\n",
      "\n",
      "    accuracy                           1.00     67238\n",
      "   macro avg       1.00      0.50      0.50     67238\n",
      "weighted avg       1.00      1.00      1.00     67238\n",
      "\n"
     ]
    }
   ],
   "source": [
    "predicted_yw = model.predict(X_test)\n",
    "\n",
    "print(classification_report(y_test, predicted_yw, zero_division=1))"
   ]
  },
  {
   "cell_type": "markdown",
   "id": "0f25d5d4",
   "metadata": {},
   "source": [
    "## Size"
   ]
  },
  {
   "cell_type": "code",
   "execution_count": 38,
   "id": "9f83b8e8",
   "metadata": {},
   "outputs": [],
   "source": [
    "y_s = comment_df['size']\n",
    "X_train, X_test, y_train, y_test = train_test_split(X, y_s, test_size=0.3, random_state=0)"
   ]
  },
  {
   "cell_type": "code",
   "execution_count": 39,
   "id": "71fe1887",
   "metadata": {},
   "outputs": [
    {
     "data": {
      "text/plain": [
       "Pipeline(steps=[('tfidfvectorizer', TfidfVectorizer()),\n",
       "                ('multinomialnb', MultinomialNB())])"
      ]
     },
     "execution_count": 39,
     "metadata": {},
     "output_type": "execute_result"
    }
   ],
   "source": [
    "model.fit(X_train, y_train)"
   ]
  },
  {
   "cell_type": "code",
   "execution_count": 40,
   "id": "8c7263b7",
   "metadata": {},
   "outputs": [
    {
     "name": "stdout",
     "output_type": "stream",
     "text": [
      "              precision    recall  f1-score   support\n",
      "\n",
      "         0.0       0.92      1.00      0.96     61689\n",
      "         1.0       0.94      0.06      0.12      5549\n",
      "\n",
      "    accuracy                           0.92     67238\n",
      "   macro avg       0.93      0.53      0.54     67238\n",
      "weighted avg       0.92      0.92      0.89     67238\n",
      "\n"
     ]
    }
   ],
   "source": [
    "predicted_ys = model.predict(X_test)\n",
    "\n",
    "print(classification_report(y_test, predicted_ys, zero_division=1))"
   ]
  },
  {
   "cell_type": "markdown",
   "id": "8c6c5f71",
   "metadata": {},
   "source": [
    "## Discrepancy"
   ]
  },
  {
   "cell_type": "code",
   "execution_count": 41,
   "id": "c20e78d6",
   "metadata": {},
   "outputs": [],
   "source": [
    "y_d = comment_df['discrepancy']\n",
    "X_train, X_test, y_train, y_test = train_test_split(X, y_d, test_size=0.3, random_state=0)"
   ]
  },
  {
   "cell_type": "code",
   "execution_count": 42,
   "id": "a282364d",
   "metadata": {},
   "outputs": [
    {
     "data": {
      "text/plain": [
       "Pipeline(steps=[('tfidfvectorizer', TfidfVectorizer()),\n",
       "                ('multinomialnb', MultinomialNB())])"
      ]
     },
     "execution_count": 42,
     "metadata": {},
     "output_type": "execute_result"
    }
   ],
   "source": [
    "model.fit(X_train, y_train)"
   ]
  },
  {
   "cell_type": "code",
   "execution_count": 43,
   "id": "b06e7087",
   "metadata": {},
   "outputs": [
    {
     "name": "stdout",
     "output_type": "stream",
     "text": [
      "              precision    recall  f1-score   support\n",
      "\n",
      "         0.0       0.96      1.00      0.98     64276\n",
      "         1.0       0.82      0.01      0.02      2962\n",
      "\n",
      "    accuracy                           0.96     67238\n",
      "   macro avg       0.89      0.50      0.50     67238\n",
      "weighted avg       0.95      0.96      0.94     67238\n",
      "\n"
     ]
    }
   ],
   "source": [
    "predicted_yd = model.predict(X_test)\n",
    "\n",
    "print(classification_report(y_test, predicted_yd, zero_division=1))"
   ]
  },
  {
   "cell_type": "markdown",
   "id": "601c8742",
   "metadata": {},
   "source": [
    "## Flavor Odor"
   ]
  },
  {
   "cell_type": "code",
   "execution_count": 44,
   "id": "47d4d684",
   "metadata": {},
   "outputs": [],
   "source": [
    "y_fo = comment_df['flavor_odor']\n",
    "X_train, X_test, y_train, y_test = train_test_split(X, y_fo, test_size=0.3, random_state=0)"
   ]
  },
  {
   "cell_type": "code",
   "execution_count": 45,
   "id": "61ed457c",
   "metadata": {},
   "outputs": [
    {
     "data": {
      "text/plain": [
       "Pipeline(steps=[('tfidfvectorizer', TfidfVectorizer()),\n",
       "                ('multinomialnb', MultinomialNB())])"
      ]
     },
     "execution_count": 45,
     "metadata": {},
     "output_type": "execute_result"
    }
   ],
   "source": [
    "model.fit(X_train, y_train)"
   ]
  },
  {
   "cell_type": "code",
   "execution_count": 46,
   "id": "4f4cdb81",
   "metadata": {},
   "outputs": [
    {
     "name": "stdout",
     "output_type": "stream",
     "text": [
      "              precision    recall  f1-score   support\n",
      "\n",
      "         0.0       0.96      1.00      0.98     63824\n",
      "         1.0       0.94      0.15      0.26      3414\n",
      "\n",
      "    accuracy                           0.96     67238\n",
      "   macro avg       0.95      0.58      0.62     67238\n",
      "weighted avg       0.96      0.96      0.94     67238\n",
      "\n"
     ]
    }
   ],
   "source": [
    "predicted_yfo = model.predict(X_test)\n",
    "\n",
    "print(classification_report(y_test, predicted_yfo, zero_division=1))"
   ]
  },
  {
   "cell_type": "markdown",
   "id": "e0de222b",
   "metadata": {},
   "source": [
    "## Expiration Date"
   ]
  },
  {
   "cell_type": "code",
   "execution_count": 47,
   "id": "576d64af",
   "metadata": {},
   "outputs": [],
   "source": [
    "y_ed = comment_df['expiration_date']\n",
    "X_train, X_test, y_train, y_test = train_test_split(X, y_ed, test_size=0.3, random_state=0)"
   ]
  },
  {
   "cell_type": "code",
   "execution_count": 48,
   "id": "386bb6d1",
   "metadata": {},
   "outputs": [
    {
     "data": {
      "text/plain": [
       "Pipeline(steps=[('tfidfvectorizer', TfidfVectorizer()),\n",
       "                ('multinomialnb', MultinomialNB())])"
      ]
     },
     "execution_count": 48,
     "metadata": {},
     "output_type": "execute_result"
    }
   ],
   "source": [
    "model.fit(X_train, y_train)"
   ]
  },
  {
   "cell_type": "code",
   "execution_count": 49,
   "id": "4bb9fdda",
   "metadata": {},
   "outputs": [
    {
     "name": "stdout",
     "output_type": "stream",
     "text": [
      "              precision    recall  f1-score   support\n",
      "\n",
      "         0.0       1.00      1.00      1.00     67036\n",
      "         1.0       1.00      0.00      0.00       202\n",
      "\n",
      "    accuracy                           1.00     67238\n",
      "   macro avg       1.00      0.50      0.50     67238\n",
      "weighted avg       1.00      1.00      1.00     67238\n",
      "\n"
     ]
    }
   ],
   "source": [
    "predicted_yed = model.predict(X_test)\n",
    "\n",
    "print(classification_report(y_test, predicted_yed, zero_division=1))"
   ]
  }
 ],
 "metadata": {
  "kernelspec": {
   "display_name": "Python 3",
   "language": "python",
   "name": "python3"
  },
  "language_info": {
   "codemirror_mode": {
    "name": "ipython",
    "version": 3
   },
   "file_extension": ".py",
   "mimetype": "text/x-python",
   "name": "python",
   "nbconvert_exporter": "python",
   "pygments_lexer": "ipython3",
   "version": "3.8.8"
  }
 },
 "nbformat": 4,
 "nbformat_minor": 5
}
