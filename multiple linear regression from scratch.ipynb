{
 "cells": [
  {
   "cell_type": "code",
   "execution_count": 31,
   "id": "fec4b7da",
   "metadata": {},
   "outputs": [],
   "source": [
    "from sklearn.datasets import load_boston\n",
    "import pandas as pd\n",
    "import numpy as np\n",
    "from sklearn.model_selection import train_test_split\n",
    "from sklearn.preprocessing import StandardScaler"
   ]
  },
  {
   "cell_type": "code",
   "execution_count": 21,
   "id": "20dca8ca",
   "metadata": {},
   "outputs": [],
   "source": [
    "sc = StandardScaler()"
   ]
  },
  {
   "cell_type": "code",
   "execution_count": 22,
   "id": "07271aa0",
   "metadata": {},
   "outputs": [],
   "source": [
    "# normalize data\n",
    "def normalize(X):\n",
    "    X_transform = sc.fit_transform(X)\n",
    "    return X_transform"
   ]
  },
  {
   "cell_type": "code",
   "execution_count": 3,
   "id": "7050356c",
   "metadata": {},
   "outputs": [],
   "source": [
    "# loss function\n",
    "def loss(y, y_hat):\n",
    "    n = len(y)\n",
    "    s = 0\n",
    "    \n",
    "    for i in range(n):\n",
    "        s += (y[i] - y_pred[i]) ** 2\n",
    "        \n",
    "    return (1 / n) * s"
   ]
  },
  {
   "cell_type": "code",
   "execution_count": 4,
   "id": "aacb8469",
   "metadata": {},
   "outputs": [],
   "source": [
    "# multiple linear regression equation \"wx + c\"\n",
    "def cal_y(weight, x, intercept):\n",
    "    y_lst = []\n",
    "    multiply_temp = 0\n",
    "    \n",
    "    for i in range(len(x)):\n",
    "        multiply_temp = np.multiply(weight, x[i])\n",
    "        y_lst.append(np.sum(multiply_temp) + intercept) \n",
    "        \n",
    "    return np.array(y_lst)"
   ]
  },
  {
   "cell_type": "code",
   "execution_count": 5,
   "id": "45728515",
   "metadata": {},
   "outputs": [],
   "source": [
    "#derivative of loss function based on weight\n",
    "def dldw(x, y, y_pred):\n",
    "    s = 0\n",
    "    n = len(y)\n",
    "    \n",
    "    for i in range(n):\n",
    "        s += -x[i] * (y[i] - y_pred[i])\n",
    "        \n",
    "    return (2 / n) * s"
   ]
  },
  {
   "cell_type": "code",
   "execution_count": 6,
   "id": "daddc95f",
   "metadata": {},
   "outputs": [],
   "source": [
    "#derivative of loss function based on c\n",
    "def dldc(y, y_pred):\n",
    "    n = len(y)\n",
    "    s=0\n",
    "    for i in range(len(y)):\n",
    "        s += -(y[i] - y_pred[i])\n",
    "    return (2 / n) * s"
   ]
  },
  {
   "cell_type": "code",
   "execution_count": 8,
   "id": "0e7c5242",
   "metadata": {},
   "outputs": [],
   "source": [
    "def gradient_descent(learning_rate, epochs, x, y):\n",
    "    weight_vector = np.random.randn(x.shape[1])\n",
    "    intercept = 0\n",
    "    for i in range(epochs):\n",
    "        y_pred = cal_y(weight_vector, x, intercept)\n",
    "        #update weight\n",
    "        weight_vector = weight_vector - learning_rate * dldw(x, y, y_pred) \n",
    "        #update c\n",
    "        intercept = intercept - learning_rate * dldc(y, y_pred)\n",
    "        \n",
    "    data_out = {'y':y, 'y_predicted':y_pred}\n",
    "    df_out = pd.DataFrame(data_out)  \n",
    "\n",
    "    return weight_vector, intercept, df_out"
   ]
  },
  {
   "cell_type": "code",
   "execution_count": 19,
   "id": "86ef607d",
   "metadata": {},
   "outputs": [],
   "source": [
    "# train model\n",
    "def fit(x, y, learning_rate, epochs):\n",
    "    x = normalize(x)\n",
    "    m, c, df_out = gradient_descent(learning_rate, epochs, x, y)\n",
    "    return m, c, df_out\n"
   ]
  },
  {
   "cell_type": "code",
   "execution_count": 23,
   "id": "43b324ed",
   "metadata": {},
   "outputs": [],
   "source": [
    "def predict(x_test, m, c):\n",
    "    x_test = np.array(x_test)\n",
    "    x_test = sc.transform(x_test.reshape(1, -1))\n",
    "    multiply_temp = np.multiply(m, x_test)\n",
    "    y_pred = np.sum(multiply_temp) + c\n",
    "    return y_pred\n",
    "\n"
   ]
  }
 ],
 "metadata": {
  "kernelspec": {
   "display_name": "Python 3 (ipykernel)",
   "language": "python",
   "name": "python3"
  },
  "language_info": {
   "codemirror_mode": {
    "name": "ipython",
    "version": 3
   },
   "file_extension": ".py",
   "mimetype": "text/x-python",
   "name": "python",
   "nbconvert_exporter": "python",
   "pygments_lexer": "ipython3",
   "version": "3.8.8"
  }
 },
 "nbformat": 4,
 "nbformat_minor": 5
}
