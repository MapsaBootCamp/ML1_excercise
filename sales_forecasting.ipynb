{
 "cells": [
  {
   "cell_type": "code",
   "execution_count": 1,
   "id": "7a90404a",
   "metadata": {},
   "outputs": [],
   "source": [
    "import pandas as pd\n",
    "import numpy as np\n",
    "import matplotlib.pyplot as plt\n",
    "import seaborn as sns\n",
    "from sklearn.naive_bayes import GaussianNB\n",
    "from sklearn.model_selection import train_test_split"
   ]
  },
  {
   "cell_type": "code",
   "execution_count": 2,
   "id": "e0f40fd9",
   "metadata": {},
   "outputs": [],
   "source": [
    "train_data = pd.read_csv(\"C:\\\\Users\\\\Masoumeh\\\\replenishment_data\\\\train.csv\")\n",
    "test_data = pd.read_csv(\"C:\\\\Users\\\\Masoumeh\\\\replenishment_data\\\\test.csv\")"
   ]
  },
  {
   "cell_type": "code",
   "execution_count": 3,
   "id": "e3e5ae21",
   "metadata": {},
   "outputs": [
    {
     "name": "stdout",
     "output_type": "stream",
     "text": [
      "<class 'pandas.core.frame.DataFrame'>\n",
      "RangeIndex: 387025 entries, 0 to 387024\n",
      "Data columns (total 10 columns):\n",
      " #   Column               Non-Null Count   Dtype  \n",
      "---  ------               --------------   -----  \n",
      " 0   Unnamed: 0           387025 non-null  int64  \n",
      " 1   date                 387025 non-null  object \n",
      " 2   product_id           387025 non-null  int64  \n",
      " 3   cat_id               387025 non-null  int64  \n",
      " 4   live_rate            387025 non-null  float64\n",
      " 5   score_mean           372145 non-null  float64\n",
      " 6   score_count          387025 non-null  int64  \n",
      " 7   price_group          387025 non-null  int64  \n",
      " 8   discount_percentage  387025 non-null  int64  \n",
      " 9   sold_count           387025 non-null  int64  \n",
      "dtypes: float64(2), int64(7), object(1)\n",
      "memory usage: 29.5+ MB\n"
     ]
    }
   ],
   "source": [
    "train_data.info()"
   ]
  },
  {
   "cell_type": "code",
   "execution_count": 4,
   "id": "7518c68e",
   "metadata": {},
   "outputs": [],
   "source": [
    "train_data['score_mean'].fillna((train_data['score_mean'].mean()), inplace=True)\n",
    "test_data['score_mean'].fillna((test_data['score_mean'].mean()), inplace=True)"
   ]
  },
  {
   "cell_type": "code",
   "execution_count": 5,
   "id": "7eeed597",
   "metadata": {},
   "outputs": [],
   "source": [
    "train_label = train_data['sold_count']\n",
    "test_label = test_data['sold_count']\n",
    "train_data = train_data.drop([\"date\",\"sold_count\"],axis=1)\n",
    "test_data = test_data.drop([\"date\",\"sold_count\"],axis=1)"
   ]
  },
  {
   "cell_type": "code",
   "execution_count": 6,
   "id": "06a3f68f",
   "metadata": {},
   "outputs": [],
   "source": [
    "X_train, X_valid, y_train, y_valid = train_test_split(\n",
    "...     train_data, train_label, test_size=0.2, random_state=42)"
   ]
  },
  {
   "cell_type": "code",
   "execution_count": 7,
   "id": "07a64458",
   "metadata": {},
   "outputs": [],
   "source": [
    "model =GaussianNB()"
   ]
  },
  {
   "cell_type": "code",
   "execution_count": 8,
   "id": "d261d432",
   "metadata": {},
   "outputs": [
    {
     "data": {
      "text/plain": [
       "GaussianNB()"
      ]
     },
     "execution_count": 8,
     "metadata": {},
     "output_type": "execute_result"
    }
   ],
   "source": [
    "model.fit(X_train,y_train)"
   ]
  },
  {
   "cell_type": "code",
   "execution_count": 9,
   "id": "1b148c59",
   "metadata": {},
   "outputs": [
    {
     "data": {
      "text/plain": [
       "0.6416381370712486"
      ]
     },
     "execution_count": 9,
     "metadata": {},
     "output_type": "execute_result"
    }
   ],
   "source": [
    "model.score(X_valid,y_valid)"
   ]
  },
  {
   "cell_type": "code",
   "execution_count": 14,
   "id": "c34a8a46",
   "metadata": {},
   "outputs": [
    {
     "data": {
      "text/plain": [
       "0         True\n",
       "1         True\n",
       "2         True\n",
       "3         True\n",
       "4         True\n",
       "          ... \n",
       "387020    True\n",
       "387021    True\n",
       "387022    True\n",
       "387023    True\n",
       "387024    True\n",
       "Name: sold_count, Length: 387025, dtype: bool"
      ]
     },
     "execution_count": 14,
     "metadata": {},
     "output_type": "execute_result"
    }
   ],
   "source": [
    "train_label !=-1"
   ]
  },
  {
   "cell_type": "code",
   "execution_count": 11,
   "id": "4e5f620b",
   "metadata": {},
   "outputs": [
    {
     "data": {
      "text/plain": [
       "0.6583557023883267"
      ]
     },
     "execution_count": 11,
     "metadata": {},
     "output_type": "execute_result"
    }
   ],
   "source": [
    "model.score(test_data[:58116],test_label[:58116]) #score tests with sold_count!=-1"
   ]
  },
  {
   "cell_type": "code",
   "execution_count": 12,
   "id": "c57c8f6d",
   "metadata": {},
   "outputs": [],
   "source": [
    "pred=model.predict(test_data[58116:])#prediction tests with sold_count=-1"
   ]
  },
  {
   "cell_type": "code",
   "execution_count": null,
   "id": "516204f3",
   "metadata": {},
   "outputs": [],
   "source": []
  }
 ],
 "metadata": {
  "kernelspec": {
   "display_name": "Python 3",
   "language": "python",
   "name": "python3"
  },
  "language_info": {
   "codemirror_mode": {
    "name": "ipython",
    "version": 3
   },
   "file_extension": ".py",
   "mimetype": "text/x-python",
   "name": "python",
   "nbconvert_exporter": "python",
   "pygments_lexer": "ipython3",
   "version": "3.8.8"
  }
 },
 "nbformat": 4,
 "nbformat_minor": 5
}
