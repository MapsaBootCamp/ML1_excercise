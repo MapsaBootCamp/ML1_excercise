{
 "cells": [
  {
   "cell_type": "code",
   "execution_count": 8,
   "id": "c1ed1c7c",
   "metadata": {},
   "outputs": [],
   "source": [
    "import numpy as np\n",
    "import pandas as pd\n",
    "import seaborn as sns\n",
    "from sklearn.model_selection import train_test_split\n",
    "from sklearn.neighbors import KNeighborsClassifier\n",
    "from sklearn.metrics import classification_report"
   ]
  },
  {
   "cell_type": "code",
   "execution_count": 4,
   "id": "0f1b9b1e",
   "metadata": {},
   "outputs": [],
   "source": [
    "iris_df = sns.load_dataset('iris')"
   ]
  },
  {
   "cell_type": "code",
   "execution_count": 5,
   "id": "10ececea",
   "metadata": {},
   "outputs": [
    {
     "data": {
      "text/plain": [
       "Index(['sepal_length', 'sepal_width', 'petal_length', 'petal_width',\n",
       "       'species'],\n",
       "      dtype='object')"
      ]
     },
     "execution_count": 5,
     "metadata": {},
     "output_type": "execute_result"
    }
   ],
   "source": [
    "iris_df.columns"
   ]
  },
  {
   "cell_type": "code",
   "execution_count": 7,
   "id": "727a9d72",
   "metadata": {},
   "outputs": [],
   "source": [
    "X_train, X_test, y_train, y_test = train_test_split(iris_df.drop('species', axis=1), iris_df['species'], random_state=1224)"
   ]
  },
  {
   "cell_type": "code",
   "execution_count": 9,
   "id": "280bea0b",
   "metadata": {},
   "outputs": [],
   "source": [
    "cls = KNeighborsClassifier().fit(X_train, y_train)"
   ]
  },
  {
   "cell_type": "code",
   "execution_count": 10,
   "id": "3ed51ccd",
   "metadata": {},
   "outputs": [
    {
     "data": {
      "text/plain": [
       "0.9821428571428571"
      ]
     },
     "execution_count": 10,
     "metadata": {},
     "output_type": "execute_result"
    }
   ],
   "source": [
    "cls.score(X=X_train, y=y_train)"
   ]
  },
  {
   "cell_type": "code",
   "execution_count": 11,
   "id": "6c3a9d3a",
   "metadata": {},
   "outputs": [
    {
     "data": {
      "text/plain": [
       "0.9210526315789473"
      ]
     },
     "execution_count": 11,
     "metadata": {},
     "output_type": "execute_result"
    }
   ],
   "source": [
    "cls.score(X=X_test, y=y_test)"
   ]
  },
  {
   "cell_type": "code",
   "execution_count": 12,
   "id": "327abd38",
   "metadata": {},
   "outputs": [],
   "source": [
    "predict = cls.predict(X_test)"
   ]
  },
  {
   "cell_type": "code",
   "execution_count": 14,
   "id": "6143521b",
   "metadata": {},
   "outputs": [
    {
     "name": "stdout",
     "output_type": "stream",
     "text": [
      "              precision    recall  f1-score   support\n",
      "\n",
      "      setosa       1.00      1.00      1.00        11\n",
      "  versicolor       0.92      0.86      0.89        14\n",
      "   virginica       0.86      0.92      0.89        13\n",
      "\n",
      "    accuracy                           0.92        38\n",
      "   macro avg       0.93      0.93      0.93        38\n",
      "weighted avg       0.92      0.92      0.92        38\n",
      "\n"
     ]
    }
   ],
   "source": [
    "print(classification_report(y_true=y_test, y_pred=predict))"
   ]
  },
  {
   "cell_type": "markdown",
   "id": "9a3a3913",
   "metadata": {},
   "source": [
    "# train data Distribution effect"
   ]
  },
  {
   "cell_type": "code",
   "execution_count": 18,
   "id": "38c8eed7",
   "metadata": {},
   "outputs": [
    {
     "name": "stdout",
     "output_type": "stream",
     "text": [
      "random_state =  0\n",
      "              precision    recall  f1-score   support\n",
      "\n",
      "      setosa       1.00      1.00      1.00        13\n",
      "  versicolor       1.00      0.94      0.97        16\n",
      "   virginica       0.90      1.00      0.95         9\n",
      "\n",
      "    accuracy                           0.97        38\n",
      "   macro avg       0.97      0.98      0.97        38\n",
      "weighted avg       0.98      0.97      0.97        38\n",
      "\n",
      "____________________________________________________________________________________________________\n",
      "random_state =  42\n",
      "              precision    recall  f1-score   support\n",
      "\n",
      "      setosa       1.00      1.00      1.00        15\n",
      "  versicolor       1.00      1.00      1.00        11\n",
      "   virginica       1.00      1.00      1.00        12\n",
      "\n",
      "    accuracy                           1.00        38\n",
      "   macro avg       1.00      1.00      1.00        38\n",
      "weighted avg       1.00      1.00      1.00        38\n",
      "\n",
      "____________________________________________________________________________________________________\n",
      "random_state =  13\n",
      "              precision    recall  f1-score   support\n",
      "\n",
      "      setosa       1.00      1.00      1.00        12\n",
      "  versicolor       0.71      1.00      0.83        10\n",
      "   virginica       1.00      0.75      0.86        16\n",
      "\n",
      "    accuracy                           0.89        38\n",
      "   macro avg       0.90      0.92      0.90        38\n",
      "weighted avg       0.92      0.89      0.90        38\n",
      "\n",
      "____________________________________________________________________________________________________\n",
      "random_state =  100\n",
      "              precision    recall  f1-score   support\n",
      "\n",
      "      setosa       1.00      1.00      1.00        14\n",
      "  versicolor       0.91      1.00      0.95        10\n",
      "   virginica       1.00      0.93      0.96        14\n",
      "\n",
      "    accuracy                           0.97        38\n",
      "   macro avg       0.97      0.98      0.97        38\n",
      "weighted avg       0.98      0.97      0.97        38\n",
      "\n",
      "____________________________________________________________________________________________________\n",
      "random_state =  2315\n",
      "              precision    recall  f1-score   support\n",
      "\n",
      "      setosa       1.00      1.00      1.00        14\n",
      "  versicolor       0.93      1.00      0.97        14\n",
      "   virginica       1.00      0.90      0.95        10\n",
      "\n",
      "    accuracy                           0.97        38\n",
      "   macro avg       0.98      0.97      0.97        38\n",
      "weighted avg       0.98      0.97      0.97        38\n",
      "\n",
      "____________________________________________________________________________________________________\n"
     ]
    }
   ],
   "source": [
    "for n_rand in [0, 42, 13, 100, 2315]:\n",
    "    X_train, X_test, y_train, y_test = train_test_split(iris_df.drop('species', axis=1), iris_df['species'], random_state=n_rand)\n",
    "    cls = KNeighborsClassifier().fit(X_train, y_train)\n",
    "    predict = cls.predict(X_test)\n",
    "    print('random_state = ', n_rand)\n",
    "    print(classification_report(y_true=y_test, y_pred=predict))\n",
    "    print('_'*100)"
   ]
  },
  {
   "cell_type": "markdown",
   "id": "44ef2aa6",
   "metadata": {},
   "source": [
    "# train data Size effect"
   ]
  },
  {
   "cell_type": "code",
   "execution_count": 23,
   "id": "807f41f9",
   "metadata": {},
   "outputs": [
    {
     "name": "stdout",
     "output_type": "stream",
     "text": [
      "test_size =  0.9\n",
      "              precision    recall  f1-score   support\n",
      "\n",
      "      setosa       1.00      1.00      1.00        45\n",
      "  versicolor       0.97      0.69      0.81        45\n",
      "   virginica       0.76      0.98      0.85        45\n",
      "\n",
      "    accuracy                           0.89       135\n",
      "   macro avg       0.91      0.89      0.89       135\n",
      "weighted avg       0.91      0.89      0.89       135\n",
      "\n",
      "____________________________________________________________________________________________________\n",
      "test_size =  0.7\n",
      "              precision    recall  f1-score   support\n",
      "\n",
      "      setosa       1.00      1.00      1.00        35\n",
      "  versicolor       0.97      0.91      0.94        35\n",
      "   virginica       0.92      0.97      0.94        35\n",
      "\n",
      "    accuracy                           0.96       105\n",
      "   macro avg       0.96      0.96      0.96       105\n",
      "weighted avg       0.96      0.96      0.96       105\n",
      "\n",
      "____________________________________________________________________________________________________\n",
      "test_size =  0.3\n",
      "              precision    recall  f1-score   support\n",
      "\n",
      "      setosa       1.00      1.00      1.00        15\n",
      "  versicolor       1.00      0.93      0.97        15\n",
      "   virginica       0.94      1.00      0.97        15\n",
      "\n",
      "    accuracy                           0.98        45\n",
      "   macro avg       0.98      0.98      0.98        45\n",
      "weighted avg       0.98      0.98      0.98        45\n",
      "\n",
      "____________________________________________________________________________________________________\n",
      "test_size =  0.1\n",
      "              precision    recall  f1-score   support\n",
      "\n",
      "      setosa       1.00      1.00      1.00         5\n",
      "  versicolor       1.00      0.80      0.89         5\n",
      "   virginica       0.83      1.00      0.91         5\n",
      "\n",
      "    accuracy                           0.93        15\n",
      "   macro avg       0.94      0.93      0.93        15\n",
      "weighted avg       0.94      0.93      0.93        15\n",
      "\n",
      "____________________________________________________________________________________________________\n"
     ]
    }
   ],
   "source": [
    "for n_rand in [0.9, 0.7, 0.3, 0.1]:\n",
    "    X_train, X_test, y_train, y_test = train_test_split(iris_df.drop('species', axis=1), iris_df['species'],\n",
    "                                                        test_size=n_rand, random_state=13, stratify=iris_df['species'],\n",
    "                                                        shuffle=True)\n",
    "    cls = KNeighborsClassifier().fit(X_train, y_train)\n",
    "    predict = cls.predict(X_test)\n",
    "    print('test_size = ', n_rand)\n",
    "    print(classification_report(y_true=y_test, y_pred=predict, zero_division=0))\n",
    "    print('_'*100)"
   ]
  },
  {
   "cell_type": "markdown",
   "id": "6336feb8",
   "metadata": {},
   "source": [
    "# n_neighbors effect"
   ]
  },
  {
   "cell_type": "code",
   "execution_count": 25,
   "id": "b3dfc4b5",
   "metadata": {},
   "outputs": [
    {
     "name": "stdout",
     "output_type": "stream",
     "text": [
      "n_neighbors =  1\n",
      "              precision    recall  f1-score   support\n",
      "\n",
      "      setosa       1.00      1.00      1.00        15\n",
      "  versicolor       1.00      0.93      0.97        15\n",
      "   virginica       0.94      1.00      0.97        15\n",
      "\n",
      "    accuracy                           0.98        45\n",
      "   macro avg       0.98      0.98      0.98        45\n",
      "weighted avg       0.98      0.98      0.98        45\n",
      "\n",
      "____________________________________________________________________________________________________\n",
      "n_neighbors =  3\n",
      "              precision    recall  f1-score   support\n",
      "\n",
      "      setosa       1.00      1.00      1.00        15\n",
      "  versicolor       1.00      0.93      0.97        15\n",
      "   virginica       0.94      1.00      0.97        15\n",
      "\n",
      "    accuracy                           0.98        45\n",
      "   macro avg       0.98      0.98      0.98        45\n",
      "weighted avg       0.98      0.98      0.98        45\n",
      "\n",
      "____________________________________________________________________________________________________\n",
      "n_neighbors =  5\n",
      "              precision    recall  f1-score   support\n",
      "\n",
      "      setosa       1.00      1.00      1.00        15\n",
      "  versicolor       1.00      0.93      0.97        15\n",
      "   virginica       0.94      1.00      0.97        15\n",
      "\n",
      "    accuracy                           0.98        45\n",
      "   macro avg       0.98      0.98      0.98        45\n",
      "weighted avg       0.98      0.98      0.98        45\n",
      "\n",
      "____________________________________________________________________________________________________\n",
      "n_neighbors =  10\n",
      "              precision    recall  f1-score   support\n",
      "\n",
      "      setosa       1.00      1.00      1.00        15\n",
      "  versicolor       1.00      1.00      1.00        15\n",
      "   virginica       1.00      1.00      1.00        15\n",
      "\n",
      "    accuracy                           1.00        45\n",
      "   macro avg       1.00      1.00      1.00        45\n",
      "weighted avg       1.00      1.00      1.00        45\n",
      "\n",
      "____________________________________________________________________________________________________\n",
      "n_neighbors =  15\n",
      "              precision    recall  f1-score   support\n",
      "\n",
      "      setosa       1.00      1.00      1.00        15\n",
      "  versicolor       1.00      0.93      0.97        15\n",
      "   virginica       0.94      1.00      0.97        15\n",
      "\n",
      "    accuracy                           0.98        45\n",
      "   macro avg       0.98      0.98      0.98        45\n",
      "weighted avg       0.98      0.98      0.98        45\n",
      "\n",
      "____________________________________________________________________________________________________\n"
     ]
    }
   ],
   "source": [
    "X_train, X_test, y_train, y_test = train_test_split(iris_df.drop('species', axis=1), iris_df['species'],\n",
    "                                                    test_size=0.3, random_state=13, stratify=iris_df['species'],\n",
    "                                                    shuffle=True)\n",
    "for n_rand in [1, 3, 5, 10, 15]:\n",
    "    cls = KNeighborsClassifier(n_neighbors=n_rand).fit(X_train, y_train)\n",
    "    predict = cls.predict(X_test)\n",
    "    print('n_neighbors = ', n_rand)\n",
    "    print(classification_report(y_true=y_test, y_pred=predict, zero_division=0))\n",
    "    print('_'*100)"
   ]
  },
  {
   "cell_type": "code",
   "execution_count": null,
   "id": "36db711a",
   "metadata": {},
   "outputs": [],
   "source": []
  }
 ],
 "metadata": {
  "kernelspec": {
   "display_name": "Python 3 (ipykernel)",
   "language": "python",
   "name": "python3"
  },
  "language_info": {
   "codemirror_mode": {
    "name": "ipython",
    "version": 3
   },
   "file_extension": ".py",
   "mimetype": "text/x-python",
   "name": "python",
   "nbconvert_exporter": "python",
   "pygments_lexer": "ipython3",
   "version": "3.9.6"
  }
 },
 "nbformat": 4,
 "nbformat_minor": 5
}
