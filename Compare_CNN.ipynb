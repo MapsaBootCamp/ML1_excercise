{
  "nbformat": 4,
  "nbformat_minor": 0,
  "metadata": {
    "colab": {
      "name": "Compare_CNN.ipynb",
      "provenance": [],
      "collapsed_sections": []
    },
    "kernelspec": {
      "name": "python3",
      "display_name": "Python 3"
    },
    "language_info": {
      "name": "python"
    },
    "accelerator": "GPU"
  },
  "cells": [
    {
      "cell_type": "code",
      "execution_count": 1,
      "metadata": {
        "id": "QjykS38rwXlK"
      },
      "outputs": [],
      "source": [
        "import tensorflow as tf\n",
        "from tensorflow import keras\n",
        "from tensorflow.keras.utils import plot_model\n",
        "from tensorflow.keras import models"
      ]
    },
    {
      "cell_type": "code",
      "source": [
        "fashion_mnist = keras.datasets.fashion_mnist\n",
        "(training_images, training_labels), (test_images, test_lables) = fashion_mnist.load_data()"
      ],
      "metadata": {
        "id": "FYwSvVzGxBKx"
      },
      "execution_count": 10,
      "outputs": []
    },
    {
      "cell_type": "code",
      "source": [
        "training_images = training_images.reshape(-1, 28,28, 1)\n",
        "test_images = test_images.reshape(-1, 28,28, 1)\n",
        "training_images.shape, test_images.shape"
      ],
      "metadata": {
        "colab": {
          "base_uri": "https://localhost:8080/"
        },
        "id": "OFmXhxRvzaTy",
        "outputId": "2935e2c4-1ae7-445b-ce4f-f153b05a53b9"
      },
      "execution_count": 4,
      "outputs": [
        {
          "output_type": "execute_result",
          "data": {
            "text/plain": [
              "((60000, 28, 28, 1), (10000, 28, 28, 1))"
            ]
          },
          "metadata": {},
          "execution_count": 4
        }
      ]
    },
    {
      "cell_type": "code",
      "source": [
        "class_names = ['T-shirt/top', 'Trouser', 'Pullover', 'Dress', 'Coat',\n",
        "               'Sandal', 'Shirt', 'Sneaker', 'Bag', 'Ankle boot']"
      ],
      "metadata": {
        "id": "oaNPJMe61pZL"
      },
      "execution_count": 11,
      "outputs": []
    },
    {
      "cell_type": "code",
      "source": [
        "training_images = training_images.astype('float32')\n",
        "test_images = test_images.astype('float32')\n",
        "training_images = training_images / 255.\n",
        "test_images = test_images / 255."
      ],
      "metadata": {
        "id": "zwOPl9Xtzlm0"
      },
      "execution_count": 5,
      "outputs": []
    },
    {
      "cell_type": "code",
      "source": [
        "from tensorflow.keras.utils import to_categorical\n",
        "training_labels_one_hot = to_categorical(training_labels)\n",
        "test_lables_one_hot = to_categorical(test_lables)\n",
        "print('Original label:', training_labels[0])\n",
        "print('After conversion to one-hot:', training_labels_one_hot[0])"
      ],
      "metadata": {
        "colab": {
          "base_uri": "https://localhost:8080/"
        },
        "id": "_XjY4s4Xzzqu",
        "outputId": "489c5ca4-4921-4710-a2b6-4ea6c9466bbb"
      },
      "execution_count": 12,
      "outputs": [
        {
          "output_type": "stream",
          "name": "stdout",
          "text": [
            "Original label: 9\n",
            "After conversion to one-hot: [0. 0. 0. 0. 0. 0. 0. 0. 0. 1.]\n"
          ]
        }
      ]
    },
    {
      "cell_type": "markdown",
      "source": [
        "#Model With one CNN layer"
      ],
      "metadata": {
        "id": "dglO4P3GxE9r"
      }
    },
    {
      "cell_type": "code",
      "source": [
        "import keras\n",
        "from keras.models import Sequential,Input,Model\n",
        "from keras.layers import Dense, Dropout, Flatten\n",
        "from keras.layers import Conv2D, MaxPooling2D\n",
        "from tensorflow.keras.layers import BatchNormalization\n",
        "from keras.layers.advanced_activations import LeakyReLU"
      ],
      "metadata": {
        "id": "y_MFhI89xC3x"
      },
      "execution_count": 13,
      "outputs": []
    },
    {
      "cell_type": "code",
      "source": [
        "fashion_model = Sequential()\n",
        "fashion_model.add(Conv2D(32, kernel_size=(3, 3),activation='relu',input_shape=(28,28,1),padding='valid'))\n",
        "fashion_model.add(MaxPooling2D((2, 2),padding='valid'))\n",
        "fashion_model.add(Flatten())\n",
        "fashion_model.add(Dense(128, activation='relu'))            \n",
        "fashion_model.add(Dense(10, activation='softmax'))"
      ],
      "metadata": {
        "id": "mSO85J76yMJ8"
      },
      "execution_count": 14,
      "outputs": []
    },
    {
      "cell_type": "code",
      "source": [
        "fashion_model.compile(optimizer='adam',\n",
        "              loss='categorical_crossentropy',\n",
        "              metrics=['accuracy'])"
      ],
      "metadata": {
        "id": "oEIddF-7y_sJ"
      },
      "execution_count": 15,
      "outputs": []
    },
    {
      "cell_type": "code",
      "source": [
        "fashion_model.summary()"
      ],
      "metadata": {
        "colab": {
          "base_uri": "https://localhost:8080/"
        },
        "id": "ZOABhT7FybmC",
        "outputId": "195245bf-3749-4c60-b403-1bd2a671054e"
      },
      "execution_count": 16,
      "outputs": [
        {
          "output_type": "stream",
          "name": "stdout",
          "text": [
            "Model: \"sequential\"\n",
            "_________________________________________________________________\n",
            " Layer (type)                Output Shape              Param #   \n",
            "=================================================================\n",
            " conv2d (Conv2D)             (None, 26, 26, 32)        320       \n",
            "                                                                 \n",
            " max_pooling2d (MaxPooling2D  (None, 13, 13, 32)       0         \n",
            " )                                                               \n",
            "                                                                 \n",
            " flatten (Flatten)           (None, 5408)              0         \n",
            "                                                                 \n",
            " dense (Dense)               (None, 128)               692352    \n",
            "                                                                 \n",
            " dense_1 (Dense)             (None, 10)                1290      \n",
            "                                                                 \n",
            "=================================================================\n",
            "Total params: 693,962\n",
            "Trainable params: 693,962\n",
            "Non-trainable params: 0\n",
            "_________________________________________________________________\n"
          ]
        }
      ]
    },
    {
      "cell_type": "code",
      "source": [
        "plot_model(fashion_model)"
      ],
      "metadata": {
        "colab": {
          "base_uri": "https://localhost:8080/",
          "height": 564
        },
        "id": "ofLI74JHymZI",
        "outputId": "8df86f9d-2526-4829-9343-23ca05434663"
      },
      "execution_count": 17,
      "outputs": [
        {
          "output_type": "execute_result",
          "data": {
            "image/png": "[encoded data removed]",
            "text/plain": [
              "<IPython.core.display.Image object>"
            ]
          },
          "metadata": {},
          "execution_count": 17
        }
      ]
    },
    {
      "cell_type": "code",
      "source": [
        "history =fashion_model.fit(training_images, training_labels_one_hot, epochs=10)"
      ],
      "metadata": {
        "colab": {
          "base_uri": "https://localhost:8080/"
        },
        "id": "bPmM9o8_yylV",
        "outputId": "92dc8ea4-fe15-43a4-a4e8-90d52b83854b"
      },
      "execution_count": 18,
      "outputs": [
        {
          "output_type": "stream",
          "name": "stdout",
          "text": [
            "Epoch 1/10\n",
            "1875/1875 [==============================] - 11s 5ms/step - loss: 0.8649 - accuracy: 0.8462\n",
            "Epoch 2/10\n",
            "1875/1875 [==============================] - 9s 5ms/step - loss: 0.2893 - accuracy: 0.8950\n",
            "Epoch 3/10\n",
            "1875/1875 [==============================] - 9s 5ms/step - loss: 0.2520 - accuracy: 0.9072\n",
            "Epoch 4/10\n",
            "1875/1875 [==============================] - 9s 5ms/step - loss: 0.2309 - accuracy: 0.9157\n",
            "Epoch 5/10\n",
            "1875/1875 [==============================] - 10s 5ms/step - loss: 0.2107 - accuracy: 0.9219\n",
            "Epoch 6/10\n",
            "1875/1875 [==============================] - 9s 5ms/step - loss: 0.1943 - accuracy: 0.9284\n",
            "Epoch 7/10\n",
            "1875/1875 [==============================] - 9s 5ms/step - loss: 0.1791 - accuracy: 0.9333\n",
            "Epoch 8/10\n",
            "1875/1875 [==============================] - 9s 5ms/step - loss: 0.1598 - accuracy: 0.9398\n",
            "Epoch 9/10\n",
            "1875/1875 [==============================] - 9s 5ms/step - loss: 0.1495 - accuracy: 0.9442\n",
            "Epoch 10/10\n",
            "1875/1875 [==============================] - 9s 5ms/step - loss: 0.1402 - accuracy: 0.9486\n"
          ]
        }
      ]
    },
    {
      "cell_type": "code",
      "source": [
        "test_loss, test_acc = fashion_model.evaluate(test_images, test_lables_one_hot)\n",
        "print(test_acc)"
      ],
      "metadata": {
        "colab": {
          "base_uri": "https://localhost:8080/"
        },
        "id": "TxltONeL3IuX",
        "outputId": "93a52539-c7a7-421a-8447-5ecf78ca823a"
      },
      "execution_count": 20,
      "outputs": [
        {
          "output_type": "stream",
          "name": "stdout",
          "text": [
            "313/313 [==============================] - 2s 4ms/step - loss: 0.4191 - accuracy: 0.8991\n",
            "0.8991000056266785\n"
          ]
        }
      ]
    },
    {
      "cell_type": "markdown",
      "source": [
        "##Model With 2 CNN layers"
      ],
      "metadata": {
        "id": "be3f2I4x4cP9"
      }
    },
    {
      "cell_type": "code",
      "source": [
        "fashion_model2 = Sequential()\n",
        "fashion_model2.add(Conv2D(32, kernel_size=(3, 3),activation='relu',input_shape=(28,28,1),padding='valid'))\n",
        "fashion_model2.add(MaxPooling2D((2, 2),padding='valid'))\n",
        "fashion_model2.add(Conv2D(64, (3, 3), activation='relu',padding='valid'))\n",
        "fashion_model2.add(MaxPooling2D(pool_size=(2, 2),padding='valid'))\n",
        "fashion_model2.add(Flatten())\n",
        "fashion_model2.add(Dense(128, activation='relu'))            \n",
        "fashion_model2.add(Dense(10, activation='softmax'))"
      ],
      "metadata": {
        "id": "II-wkK7V4WuE"
      },
      "execution_count": 21,
      "outputs": []
    },
    {
      "cell_type": "code",
      "source": [
        "fashion_model2.compile(optimizer='adam',\n",
        "              loss='categorical_crossentropy',\n",
        "              metrics=['accuracy'])"
      ],
      "metadata": {
        "id": "CcV-u1zP5E56"
      },
      "execution_count": 22,
      "outputs": []
    },
    {
      "cell_type": "code",
      "source": [
        "fashion_model2.summary()"
      ],
      "metadata": {
        "colab": {
          "base_uri": "https://localhost:8080/"
        },
        "id": "VBZmDWhy5IXJ",
        "outputId": "1a079a4e-96cf-41c0-f95c-fe872c2af0a7"
      },
      "execution_count": 23,
      "outputs": [
        {
          "output_type": "stream",
          "name": "stdout",
          "text": [
            "Model: \"sequential_1\"\n",
            "_________________________________________________________________\n",
            " Layer (type)                Output Shape              Param #   \n",
            "=================================================================\n",
            " conv2d_1 (Conv2D)           (None, 26, 26, 32)        320       \n",
            "                                                                 \n",
            " max_pooling2d_1 (MaxPooling  (None, 13, 13, 32)       0         \n",
            " 2D)                                                             \n",
            "                                                                 \n",
            " conv2d_2 (Conv2D)           (None, 11, 11, 64)        18496     \n",
            "                                                                 \n",
            " max_pooling2d_2 (MaxPooling  (None, 5, 5, 64)         0         \n",
            " 2D)                                                             \n",
            "                                                                 \n",
            " flatten_1 (Flatten)         (None, 1600)              0         \n",
            "                                                                 \n",
            " dense_2 (Dense)             (None, 128)               204928    \n",
            "                                                                 \n",
            " dense_3 (Dense)             (None, 10)                1290      \n",
            "                                                                 \n",
            "=================================================================\n",
            "Total params: 225,034\n",
            "Trainable params: 225,034\n",
            "Non-trainable params: 0\n",
            "_________________________________________________________________\n"
          ]
        }
      ]
    },
    {
      "cell_type": "code",
      "source": [
        "plot_model(fashion_model2)"
      ],
      "metadata": {
        "colab": {
          "base_uri": "https://localhost:8080/",
          "height": 758
        },
        "id": "5UBu8ylm5Lk0",
        "outputId": "c5b5279c-27a2-4f8f-bcf8-ed4dfabdb0bd"
      },
      "execution_count": 36,
      "outputs": [
        {
          "output_type": "execute_result",
          "data": {
            "image/png": "[encoded data removed]",
            "text/plain": [
              "<IPython.core.display.Image object>"
            ]
          },
          "metadata": {},
          "execution_count": 36
        }
      ]
    },
    {
      "cell_type": "code",
      "source": [
        "history =fashion_model2.fit(training_images, training_labels_one_hot, epochs=10)"
      ],
      "metadata": {
        "colab": {
          "base_uri": "https://localhost:8080/"
        },
        "id": "Ym8wUpAu6WJV",
        "outputId": "01e64167-255e-423d-81b8-03fcd3539bf5"
      },
      "execution_count": 26,
      "outputs": [
        {
          "output_type": "stream",
          "name": "stdout",
          "text": [
            "Epoch 1/10\n",
            "1875/1875 [==============================] - 11s 5ms/step - loss: 0.5745 - accuracy: 0.8320\n",
            "Epoch 2/10\n",
            "1875/1875 [==============================] - 10s 6ms/step - loss: 0.3295 - accuracy: 0.8789\n",
            "Epoch 3/10\n",
            "1875/1875 [==============================] - 10s 6ms/step - loss: 0.2869 - accuracy: 0.8952\n",
            "Epoch 4/10\n",
            "1875/1875 [==============================] - 10s 6ms/step - loss: 0.2616 - accuracy: 0.9024\n",
            "Epoch 5/10\n",
            "1875/1875 [==============================] - 10s 6ms/step - loss: 0.2396 - accuracy: 0.9115\n",
            "Epoch 6/10\n",
            "1875/1875 [==============================] - 10s 6ms/step - loss: 0.2208 - accuracy: 0.9161\n",
            "Epoch 7/10\n",
            "1875/1875 [==============================] - 10s 6ms/step - loss: 0.2040 - accuracy: 0.9222\n",
            "Epoch 8/10\n",
            "1875/1875 [==============================] - 10s 6ms/step - loss: 0.1866 - accuracy: 0.9301\n",
            "Epoch 9/10\n",
            "1875/1875 [==============================] - 10s 5ms/step - loss: 0.1760 - accuracy: 0.9340\n",
            "Epoch 10/10\n",
            "1875/1875 [==============================] - 10s 6ms/step - loss: 0.1634 - accuracy: 0.9388\n"
          ]
        }
      ]
    },
    {
      "cell_type": "code",
      "source": [
        "test_loss, test_acc = fashion_model2.evaluate(test_images, test_lables_one_hot)\n",
        "print(test_acc)"
      ],
      "metadata": {
        "colab": {
          "base_uri": "https://localhost:8080/"
        },
        "id": "eT8DiC_B7E2m",
        "outputId": "cd8dd2e8-3d53-43ac-e0ac-e4b03bdfd598"
      },
      "execution_count": 27,
      "outputs": [
        {
          "output_type": "stream",
          "name": "stdout",
          "text": [
            "313/313 [==============================] - 1s 4ms/step - loss: 0.3869 - accuracy: 0.8925\n",
            "0.8924999833106995\n"
          ]
        }
      ]
    },
    {
      "cell_type": "markdown",
      "source": [
        "##Model With 3 CNN layers"
      ],
      "metadata": {
        "id": "x3KWc0F07jpm"
      }
    },
    {
      "cell_type": "code",
      "source": [
        "fashion_model3 = Sequential()\n",
        "fashion_model3.add(Conv2D(32, kernel_size=(3, 3),activation='relu',input_shape=(28,28,1),padding='valid'))\n",
        "fashion_model3.add(MaxPooling2D((2, 2),padding='valid'))\n",
        "fashion_model3.add(Conv2D(64, (3, 3), activation='relu',padding='valid'))\n",
        "fashion_model3.add(MaxPooling2D(pool_size=(2, 2),padding='valid'))\n",
        "fashion_model3.add(Conv2D(128, (3, 3), activation='relu',padding='valid'))\n",
        "fashion_model3.add(MaxPooling2D(pool_size=(2, 2),padding='valid'))\n",
        "fashion_model3.add(Flatten())\n",
        "fashion_model3.add(Dense(128, activation='relu'))            \n",
        "fashion_model3.add(Dense(10, activation='softmax'))"
      ],
      "metadata": {
        "id": "qcZEcskN7e5b"
      },
      "execution_count": 28,
      "outputs": []
    },
    {
      "cell_type": "code",
      "source": [
        "fashion_model3.compile(optimizer='adam',\n",
        "              loss='categorical_crossentropy',\n",
        "              metrics=['accuracy'])"
      ],
      "metadata": {
        "id": "hAHh-Ene8M-Q"
      },
      "execution_count": 29,
      "outputs": []
    },
    {
      "cell_type": "code",
      "source": [
        "fashion_model3.summary()"
      ],
      "metadata": {
        "colab": {
          "base_uri": "https://localhost:8080/"
        },
        "id": "Cw9rtfMj8QmC",
        "outputId": "af79a724-548b-4319-9878-54fda5b268da"
      },
      "execution_count": 32,
      "outputs": [
        {
          "output_type": "stream",
          "name": "stdout",
          "text": [
            "Model: \"sequential_2\"\n",
            "_________________________________________________________________\n",
            " Layer (type)                Output Shape              Param #   \n",
            "=================================================================\n",
            " conv2d_3 (Conv2D)           (None, 26, 26, 32)        320       \n",
            "                                                                 \n",
            " max_pooling2d_3 (MaxPooling  (None, 13, 13, 32)       0         \n",
            " 2D)                                                             \n",
            "                                                                 \n",
            " conv2d_4 (Conv2D)           (None, 11, 11, 64)        18496     \n",
            "                                                                 \n",
            " max_pooling2d_4 (MaxPooling  (None, 5, 5, 64)         0         \n",
            " 2D)                                                             \n",
            "                                                                 \n",
            " conv2d_5 (Conv2D)           (None, 3, 3, 128)         73856     \n",
            "                                                                 \n",
            " max_pooling2d_5 (MaxPooling  (None, 1, 1, 128)        0         \n",
            " 2D)                                                             \n",
            "                                                                 \n",
            " flatten_2 (Flatten)         (None, 128)               0         \n",
            "                                                                 \n",
            " dense_4 (Dense)             (None, 128)               16512     \n",
            "                                                                 \n",
            " dense_5 (Dense)             (None, 10)                1290      \n",
            "                                                                 \n",
            "=================================================================\n",
            "Total params: 110,474\n",
            "Trainable params: 110,474\n",
            "Non-trainable params: 0\n",
            "_________________________________________________________________\n"
          ]
        }
      ]
    },
    {
      "cell_type": "code",
      "source": [
        "plot_model(fashion_model3)"
      ],
      "metadata": {
        "colab": {
          "base_uri": "https://localhost:8080/",
          "height": 953
        },
        "id": "ipwDCVJE9jAC",
        "outputId": "8ea3d4ab-794e-4fd7-860f-b9cab37c5401"
      },
      "execution_count": 37,
      "outputs": [
        {
          "output_type": "execute_result",
          "data": {
            "image/png": "[encoded data removed]",
            "text/plain": [
              "<IPython.core.display.Image object>"
            ]
          },
          "metadata": {},
          "execution_count": 37
        }
      ]
    },
    {
      "cell_type": "code",
      "source": [
        "history =fashion_model3.fit(training_images, training_labels_one_hot, epochs=10)"
      ],
      "metadata": {
        "colab": {
          "base_uri": "https://localhost:8080/"
        },
        "id": "Uwv3kG2-8kis",
        "outputId": "c5eb02c0-0d2a-4ad9-83df-c5dec52635b2"
      },
      "execution_count": 33,
      "outputs": [
        {
          "output_type": "stream",
          "name": "stdout",
          "text": [
            "Epoch 1/10\n",
            "1875/1875 [==============================] - 14s 7ms/step - loss: 0.5854 - accuracy: 0.8017\n",
            "Epoch 2/10\n",
            "1875/1875 [==============================] - 13s 7ms/step - loss: 0.3896 - accuracy: 0.8572\n",
            "Epoch 3/10\n",
            "1875/1875 [==============================] - 13s 7ms/step - loss: 0.3428 - accuracy: 0.8740\n",
            "Epoch 4/10\n",
            "1875/1875 [==============================] - 13s 7ms/step - loss: 0.3198 - accuracy: 0.8816\n",
            "Epoch 5/10\n",
            "1875/1875 [==============================] - 13s 7ms/step - loss: 0.2973 - accuracy: 0.8890\n",
            "Epoch 6/10\n",
            "1875/1875 [==============================] - 13s 7ms/step - loss: 0.2765 - accuracy: 0.8977\n",
            "Epoch 7/10\n",
            "1875/1875 [==============================] - 13s 7ms/step - loss: 0.2588 - accuracy: 0.9025\n",
            "Epoch 8/10\n",
            "1875/1875 [==============================] - 13s 7ms/step - loss: 0.2453 - accuracy: 0.9076\n",
            "Epoch 9/10\n",
            "1875/1875 [==============================] - 13s 7ms/step - loss: 0.2333 - accuracy: 0.9117\n",
            "Epoch 10/10\n",
            "1875/1875 [==============================] - 13s 7ms/step - loss: 0.2227 - accuracy: 0.9169\n"
          ]
        }
      ]
    },
    {
      "cell_type": "code",
      "source": [
        "test_loss, test_acc = fashion_model3.evaluate(test_images, test_lables_one_hot)\n",
        "print(test_acc)"
      ],
      "metadata": {
        "colab": {
          "base_uri": "https://localhost:8080/"
        },
        "id": "WCU6Hoku8p7H",
        "outputId": "cdb9523d-de3f-4081-f970-f26f62f8ac1e"
      },
      "execution_count": 34,
      "outputs": [
        {
          "output_type": "stream",
          "name": "stdout",
          "text": [
            "313/313 [==============================] - 2s 4ms/step - loss: 0.3768 - accuracy: 0.8804\n",
            "0.8804000020027161\n"
          ]
        }
      ]
    }
  ]
}