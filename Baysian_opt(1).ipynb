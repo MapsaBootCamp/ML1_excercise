{
  "nbformat": 4,
  "nbformat_minor": 0,
  "metadata": {
    "colab": {
      "name": "Baysian_opt.ipynb",
      "provenance": [],
      "collapsed_sections": []
    },
    "kernelspec": {
      "name": "python3",
      "display_name": "Python 3"
    },
    "language_info": {
      "name": "python"
    }
  },
  "cells": [
    {
      "cell_type": "code",
      "source": [
        "# pip install bayesian-optimization"
      ],
      "metadata": {
        "colab": {
          "base_uri": "https://localhost:8080/"
        },
        "id": "08aIENcKe5eS",
        "outputId": "5be41b32-27c5-47bf-c2a6-3f3dd6e787f1"
      },
      "execution_count": 1,
      "outputs": [
        {
          "output_type": "stream",
          "name": "stdout",
          "text": [
            "Collecting bayesian-optimization\n",
            "  Downloading bayesian-optimization-1.2.0.tar.gz (14 kB)\n",
            "Requirement already satisfied: numpy>=1.9.0 in /usr/local/lib/python3.7/dist-packages (from bayesian-optimization) (1.19.5)\n",
            "Requirement already satisfied: scipy>=0.14.0 in /usr/local/lib/python3.7/dist-packages (from bayesian-optimization) (1.4.1)\n",
            "Requirement already satisfied: scikit-learn>=0.18.0 in /usr/local/lib/python3.7/dist-packages (from bayesian-optimization) (1.0.1)\n",
            "Requirement already satisfied: threadpoolctl>=2.0.0 in /usr/local/lib/python3.7/dist-packages (from scikit-learn>=0.18.0->bayesian-optimization) (3.0.0)\n",
            "Requirement already satisfied: joblib>=0.11 in /usr/local/lib/python3.7/dist-packages (from scikit-learn>=0.18.0->bayesian-optimization) (1.1.0)\n",
            "Building wheels for collected packages: bayesian-optimization\n",
            "  Building wheel for bayesian-optimization (setup.py) ... \u001b[?25l\u001b[?25hdone\n",
            "  Created wheel for bayesian-optimization: filename=bayesian_optimization-1.2.0-py3-none-any.whl size=11685 sha256=b71d4972187c9d5b02484fae0d444daa31295de467e0ba3d04ae7c185048a73b\n",
            "  Stored in directory: /root/.cache/pip/wheels/fd/9b/71/f127d694e02eb40bcf18c7ae9613b88a6be4470f57a8528c5b\n",
            "Successfully built bayesian-optimization\n",
            "Installing collected packages: bayesian-optimization\n",
            "Successfully installed bayesian-optimization-1.2.0\n"
          ]
        }
      ]
    },
    {
      "cell_type": "code",
      "execution_count": 4,
      "metadata": {
        "id": "9XDhVpjEdimH"
      },
      "outputs": [],
      "source": [
        "import numpy as np\n",
        "import tensorflow as tf\n",
        "from tensorflow.keras.datasets import mnist\n",
        "from tensorflow import keras"
      ]
    },
    {
      "cell_type": "code",
      "source": [
        "def Mnist_General(layers, nodes, epo, Bsize):\n",
        "  Data = mnist\n",
        "  nodes = nodes.astype(int)\n",
        "\n",
        "  (x_train, y_train),(x_test, y_test) = Data.load_data()\n",
        "  x_train, x_test = x_train / 255.0, x_test / 255.0\n",
        "\n",
        "  inputs = tf.keras.Input(shape=(28,28))\n",
        "  x1 = tf.keras.layers.Flatten(input_shape=(28, 28))(inputs)\n",
        "  X = [x1]\n",
        "\n",
        "  for i in range(int(layers)):\n",
        "    x_prime = tf.keras.layers.Dense(nodes, activation=tf.nn.relu)(X[i])\n",
        "    X.append(x_prime)\n",
        "\n",
        "  outputs = tf.keras.layers.Dense(10, activation=tf.nn.softmax)(X[-1])\n",
        "\n",
        "  func_model = tf.keras.Model(inputs=inputs, outputs=outputs)\n",
        "\n",
        "  func_model.compile(optimizer='adam',\n",
        "              loss='sparse_categorical_crossentropy',\n",
        "              metrics=['accuracy'])\n",
        "\n",
        "  func_history = func_model.fit(x_train, y_train, batch_size=int(Bsize), epochs=int(epo))\n",
        "  X = []\n",
        "  return func_history.history['accuracy'][-1]"
      ],
      "metadata": {
        "id": "EfmXUSFie4th"
      },
      "execution_count": 65,
      "outputs": []
    },
    {
      "cell_type": "code",
      "source": [
        "from bayes_opt import BayesianOptimization\n",
        "\n",
        "# Bounded region of parameter space\n",
        "pbounds = {'layers': (1, 4), 'nodes': (128, 600), 'epo': (4, 12), 'Bsize': (25, 80)}\n",
        "\n",
        "optimizer = BayesianOptimization(\n",
        "    f=Mnist_General,\n",
        "    pbounds=pbounds,\n",
        "    random_state=1,\n",
        ")"
      ],
      "metadata": {
        "id": "tik8Q5rml_l4"
      },
      "execution_count": 68,
      "outputs": []
    },
    {
      "cell_type": "code",
      "source": [
        "optimizer.maximize(\n",
        "    init_points=2,\n",
        "    n_iter=10,\n",
        ")"
      ],
      "metadata": {
        "colab": {
          "base_uri": "https://localhost:8080/"
        },
        "id": "1Q_GUFHcnYdf",
        "outputId": "5b15df3a-d144-4ca7-ed05-0f285085da1f"
      },
      "execution_count": 69,
      "outputs": [
        {
          "output_type": "stream",
          "name": "stdout",
          "text": [
            "|   iter    |  target   |   Bsize   |    epo    |  layers   |   nodes   |\n",
            "-------------------------------------------------------------------------\n",
            "Epoch 1/9\n",
            "1277/1277 [==============================] - 5s 4ms/step - loss: 0.2430 - accuracy: 0.9303\n",
            "Epoch 2/9\n",
            "1277/1277 [==============================] - 5s 4ms/step - loss: 0.0977 - accuracy: 0.9714\n",
            "Epoch 3/9\n",
            "1277/1277 [==============================] - 5s 4ms/step - loss: 0.0634 - accuracy: 0.9807\n",
            "Epoch 4/9\n",
            "1277/1277 [==============================] - 5s 4ms/step - loss: 0.0469 - accuracy: 0.9860\n",
            "Epoch 5/9\n",
            "1277/1277 [==============================] - 4s 3ms/step - loss: 0.0337 - accuracy: 0.9897\n",
            "Epoch 6/9\n",
            "1277/1277 [==============================] - 4s 3ms/step - loss: 0.0249 - accuracy: 0.9926\n",
            "Epoch 7/9\n",
            "1277/1277 [==============================] - 4s 3ms/step - loss: 0.0211 - accuracy: 0.9934\n",
            "Epoch 8/9\n",
            "1277/1277 [==============================] - 4s 4ms/step - loss: 0.0159 - accuracy: 0.9951\n",
            "Epoch 9/9\n",
            "1277/1277 [==============================] - 5s 4ms/step - loss: 0.0129 - accuracy: 0.9959\n",
            "| \u001b[0m 1       \u001b[0m | \u001b[0m 0.9959  \u001b[0m | \u001b[0m 47.94   \u001b[0m | \u001b[0m 9.763   \u001b[0m | \u001b[0m 1.0     \u001b[0m | \u001b[0m 270.7   \u001b[0m |\n",
            "Epoch 1/4\n",
            "1819/1819 [==============================] - 6s 3ms/step - loss: 0.2235 - accuracy: 0.9356\n",
            "Epoch 2/4\n",
            "1819/1819 [==============================] - 6s 3ms/step - loss: 0.0904 - accuracy: 0.9729\n",
            "Epoch 3/4\n",
            "1819/1819 [==============================] - 6s 3ms/step - loss: 0.0585 - accuracy: 0.9823\n",
            "Epoch 4/4\n",
            "1819/1819 [==============================] - 6s 3ms/step - loss: 0.0415 - accuracy: 0.9869\n",
            "| \u001b[0m 2       \u001b[0m | \u001b[0m 0.9869  \u001b[0m | \u001b[0m 33.07   \u001b[0m | \u001b[0m 4.739   \u001b[0m | \u001b[0m 1.559   \u001b[0m | \u001b[0m 291.1   \u001b[0m |\n",
            "Epoch 1/10\n",
            "1334/1334 [==============================] - 7s 5ms/step - loss: 0.2103 - accuracy: 0.9371\n",
            "Epoch 2/10\n",
            "1334/1334 [==============================] - 6s 5ms/step - loss: 0.0844 - accuracy: 0.9736\n",
            "Epoch 3/10\n",
            "1334/1334 [==============================] - 6s 5ms/step - loss: 0.0588 - accuracy: 0.9817\n",
            "Epoch 4/10\n",
            "1334/1334 [==============================] - 6s 5ms/step - loss: 0.0429 - accuracy: 0.9864\n",
            "Epoch 5/10\n",
            "1334/1334 [==============================] - 6s 5ms/step - loss: 0.0324 - accuracy: 0.9894\n",
            "Epoch 6/10\n",
            "1334/1334 [==============================] - 6s 5ms/step - loss: 0.0278 - accuracy: 0.9911\n",
            "Epoch 7/10\n",
            "1334/1334 [==============================] - 6s 5ms/step - loss: 0.0232 - accuracy: 0.9927\n",
            "Epoch 8/10\n",
            "1334/1334 [==============================] - 6s 5ms/step - loss: 0.0199 - accuracy: 0.9933\n",
            "Epoch 9/10\n",
            "1334/1334 [==============================] - 6s 5ms/step - loss: 0.0184 - accuracy: 0.9937\n",
            "Epoch 10/10\n",
            "1334/1334 [==============================] - 6s 5ms/step - loss: 0.0167 - accuracy: 0.9945\n",
            "| \u001b[0m 3       \u001b[0m | \u001b[0m 0.9945  \u001b[0m | \u001b[0m 45.64   \u001b[0m | \u001b[0m 10.26   \u001b[0m | \u001b[0m 2.158   \u001b[0m | \u001b[0m 270.1   \u001b[0m |\n",
            "Epoch 1/6\n",
            "1017/1017 [==============================] - 4s 4ms/step - loss: 0.2491 - accuracy: 0.9280\n",
            "Epoch 2/6\n",
            "1017/1017 [==============================] - 4s 4ms/step - loss: 0.1028 - accuracy: 0.9694\n",
            "Epoch 3/6\n",
            "1017/1017 [==============================] - 4s 4ms/step - loss: 0.0693 - accuracy: 0.9794\n",
            "Epoch 4/6\n",
            "1017/1017 [==============================] - 4s 4ms/step - loss: 0.0497 - accuracy: 0.9852\n",
            "Epoch 5/6\n",
            "1017/1017 [==============================] - 4s 4ms/step - loss: 0.0375 - accuracy: 0.9886\n",
            "Epoch 6/6\n",
            "1017/1017 [==============================] - 4s 4ms/step - loss: 0.0275 - accuracy: 0.9920\n",
            "| \u001b[0m 4       \u001b[0m | \u001b[0m 0.992   \u001b[0m | \u001b[0m 59.93   \u001b[0m | \u001b[0m 6.679   \u001b[0m | \u001b[0m 1.17    \u001b[0m | \u001b[0m 271.5   \u001b[0m |\n",
            "Epoch 1/6\n",
            "1225/1225 [==============================] - 5s 4ms/step - loss: 0.2376 - accuracy: 0.9311\n",
            "Epoch 2/6\n",
            "1225/1225 [==============================] - 5s 4ms/step - loss: 0.0962 - accuracy: 0.9708\n",
            "Epoch 3/6\n",
            "1225/1225 [==============================] - 5s 4ms/step - loss: 0.0640 - accuracy: 0.9806\n",
            "Epoch 4/6\n",
            "1225/1225 [==============================] - 5s 4ms/step - loss: 0.0462 - accuracy: 0.9860\n",
            "Epoch 5/6\n",
            "1225/1225 [==============================] - 4s 4ms/step - loss: 0.0344 - accuracy: 0.9893\n",
            "Epoch 6/6\n",
            "1225/1225 [==============================] - 4s 4ms/step - loss: 0.0250 - accuracy: 0.9925\n",
            "| \u001b[0m 5       \u001b[0m | \u001b[0m 0.9925  \u001b[0m | \u001b[0m 49.57   \u001b[0m | \u001b[0m 6.701   \u001b[0m | \u001b[0m 1.089   \u001b[0m | \u001b[0m 278.3   \u001b[0m |\n",
            "Epoch 1/6\n",
            "1200/1200 [==============================] - 6s 5ms/step - loss: 0.2105 - accuracy: 0.9376\n",
            "Epoch 2/6\n",
            "1200/1200 [==============================] - 6s 5ms/step - loss: 0.0845 - accuracy: 0.9747\n",
            "Epoch 3/6\n",
            "1200/1200 [==============================] - 6s 5ms/step - loss: 0.0592 - accuracy: 0.9805\n",
            "Epoch 4/6\n",
            "1200/1200 [==============================] - 6s 5ms/step - loss: 0.0430 - accuracy: 0.9866\n",
            "Epoch 5/6\n",
            "1200/1200 [==============================] - 6s 5ms/step - loss: 0.0316 - accuracy: 0.9900\n",
            "Epoch 6/6\n",
            "1200/1200 [==============================] - 6s 5ms/step - loss: 0.0292 - accuracy: 0.9904\n",
            "| \u001b[0m 6       \u001b[0m | \u001b[0m 0.9904  \u001b[0m | \u001b[0m 50.18   \u001b[0m | \u001b[0m 6.236   \u001b[0m | \u001b[0m 2.299   \u001b[0m | \u001b[0m 264.9   \u001b[0m |\n",
            "Epoch 1/11\n",
            "1154/1154 [==============================] - 5s 4ms/step - loss: 0.2470 - accuracy: 0.9301\n",
            "Epoch 2/11\n",
            "1154/1154 [==============================] - 4s 4ms/step - loss: 0.1026 - accuracy: 0.9699\n",
            "Epoch 3/11\n",
            "1154/1154 [==============================] - 5s 4ms/step - loss: 0.0677 - accuracy: 0.9801\n",
            "Epoch 4/11\n",
            "1154/1154 [==============================] - 5s 4ms/step - loss: 0.0476 - accuracy: 0.9861\n",
            "Epoch 5/11\n",
            "1154/1154 [==============================] - 4s 4ms/step - loss: 0.0362 - accuracy: 0.9891\n",
            "Epoch 6/11\n",
            "1154/1154 [==============================] - 4s 4ms/step - loss: 0.0273 - accuracy: 0.9918\n",
            "Epoch 7/11\n",
            "1154/1154 [==============================] - 4s 4ms/step - loss: 0.0205 - accuracy: 0.9939\n",
            "Epoch 8/11\n",
            "1154/1154 [==============================] - 4s 4ms/step - loss: 0.0171 - accuracy: 0.9949\n",
            "Epoch 9/11\n",
            "1154/1154 [==============================] - 4s 4ms/step - loss: 0.0114 - accuracy: 0.9969\n",
            "Epoch 10/11\n",
            "1154/1154 [==============================] - 4s 4ms/step - loss: 0.0112 - accuracy: 0.9967\n",
            "Epoch 11/11\n",
            "1154/1154 [==============================] - 4s 4ms/step - loss: 0.0093 - accuracy: 0.9971\n",
            "| \u001b[95m 7       \u001b[0m | \u001b[95m 0.9971  \u001b[0m | \u001b[95m 52.9    \u001b[0m | \u001b[95m 11.89   \u001b[0m | \u001b[95m 1.181   \u001b[0m | \u001b[95m 270.4   \u001b[0m |\n",
            "Epoch 1/6\n",
            "760/760 [==============================] - 4s 5ms/step - loss: 0.2607 - accuracy: 0.9228\n",
            "Epoch 2/6\n",
            "760/760 [==============================] - 3s 5ms/step - loss: 0.1032 - accuracy: 0.9682\n",
            "Epoch 3/6\n",
            "760/760 [==============================] - 4s 5ms/step - loss: 0.0725 - accuracy: 0.9778\n",
            "Epoch 4/6\n",
            "760/760 [==============================] - 3s 5ms/step - loss: 0.0531 - accuracy: 0.9830\n",
            "Epoch 5/6\n",
            "760/760 [==============================] - 3s 4ms/step - loss: 0.0441 - accuracy: 0.9857\n",
            "Epoch 6/6\n",
            "760/760 [==============================] - 4s 5ms/step - loss: 0.0359 - accuracy: 0.9880\n",
            "| \u001b[0m 8       \u001b[0m | \u001b[0m 0.988   \u001b[0m | \u001b[0m 79.74   \u001b[0m | \u001b[0m 6.601   \u001b[0m | \u001b[0m 3.451   \u001b[0m | \u001b[0m 149.1   \u001b[0m |\n",
            "Epoch 1/12\n",
            "1177/1177 [==============================] - 10s 8ms/step - loss: 0.2213 - accuracy: 0.9325\n",
            "Epoch 2/12\n",
            "1177/1177 [==============================] - 10s 8ms/step - loss: 0.0959 - accuracy: 0.9707\n",
            "Epoch 3/12\n",
            "1177/1177 [==============================] - 10s 8ms/step - loss: 0.0709 - accuracy: 0.9784\n",
            "Epoch 4/12\n",
            "1177/1177 [==============================] - 10s 9ms/step - loss: 0.0563 - accuracy: 0.9828\n",
            "Epoch 5/12\n",
            "1177/1177 [==============================] - 10s 8ms/step - loss: 0.0451 - accuracy: 0.9862\n",
            "Epoch 6/12\n",
            "1177/1177 [==============================] - 10s 8ms/step - loss: 0.0397 - accuracy: 0.9877\n",
            "Epoch 7/12\n",
            "1177/1177 [==============================] - 10s 8ms/step - loss: 0.0352 - accuracy: 0.9895\n",
            "Epoch 8/12\n",
            "1177/1177 [==============================] - 10s 8ms/step - loss: 0.0286 - accuracy: 0.9915\n",
            "Epoch 9/12\n",
            "1177/1177 [==============================] - 10s 8ms/step - loss: 0.0271 - accuracy: 0.9915\n",
            "Epoch 10/12\n",
            "1177/1177 [==============================] - 10s 8ms/step - loss: 0.0250 - accuracy: 0.9928\n",
            "Epoch 11/12\n",
            "1177/1177 [==============================] - 10s 8ms/step - loss: 0.0227 - accuracy: 0.9933\n",
            "Epoch 12/12\n",
            "1177/1177 [==============================] - 10s 8ms/step - loss: 0.0205 - accuracy: 0.9944\n",
            "| \u001b[0m 9       \u001b[0m | \u001b[0m 0.9944  \u001b[0m | \u001b[0m 51.36   \u001b[0m | \u001b[0m 12.0    \u001b[0m | \u001b[0m 4.0     \u001b[0m | \u001b[0m 274.3   \u001b[0m |\n",
            "Epoch 1/9\n",
            "1429/1429 [==============================] - 11s 8ms/step - loss: 0.1873 - accuracy: 0.9424\n",
            "Epoch 2/9\n",
            "1429/1429 [==============================] - 11s 8ms/step - loss: 0.0794 - accuracy: 0.9754\n",
            "Epoch 3/9\n",
            "1429/1429 [==============================] - 11s 8ms/step - loss: 0.0547 - accuracy: 0.9822\n",
            "Epoch 4/9\n",
            "1429/1429 [==============================] - 11s 8ms/step - loss: 0.0411 - accuracy: 0.9872\n",
            "Epoch 5/9\n",
            "1429/1429 [==============================] - 11s 8ms/step - loss: 0.0317 - accuracy: 0.9897\n",
            "Epoch 6/9\n",
            "1429/1429 [==============================] - 11s 8ms/step - loss: 0.0291 - accuracy: 0.9908\n",
            "Epoch 7/9\n",
            "1429/1429 [==============================] - 11s 8ms/step - loss: 0.0226 - accuracy: 0.9924\n",
            "Epoch 8/9\n",
            "1429/1429 [==============================] - 11s 8ms/step - loss: 0.0201 - accuracy: 0.9934\n",
            "Epoch 9/9\n",
            "1429/1429 [==============================] - 11s 8ms/step - loss: 0.0199 - accuracy: 0.9939\n",
            "| \u001b[0m 10      \u001b[0m | \u001b[0m 0.9939  \u001b[0m | \u001b[0m 42.87   \u001b[0m | \u001b[0m 9.086   \u001b[0m | \u001b[0m 2.202   \u001b[0m | \u001b[0m 482.7   \u001b[0m |\n",
            "Epoch 1/7\n",
            "1154/1154 [==============================] - 10s 9ms/step - loss: 0.1881 - accuracy: 0.9430\n",
            "Epoch 2/7\n",
            "1154/1154 [==============================] - 10s 8ms/step - loss: 0.0788 - accuracy: 0.9754\n",
            "Epoch 3/7\n",
            "1154/1154 [==============================] - 10s 9ms/step - loss: 0.0500 - accuracy: 0.9841\n",
            "Epoch 4/7\n",
            "1154/1154 [==============================] - 10s 9ms/step - loss: 0.0395 - accuracy: 0.9871\n",
            "Epoch 5/7\n",
            "1154/1154 [==============================] - 10s 9ms/step - loss: 0.0310 - accuracy: 0.9898\n",
            "Epoch 6/7\n",
            "1154/1154 [==============================] - 10s 8ms/step - loss: 0.0262 - accuracy: 0.9916\n",
            "Epoch 7/7\n",
            "1154/1154 [==============================] - 10s 9ms/step - loss: 0.0232 - accuracy: 0.9919\n",
            "| \u001b[0m 11      \u001b[0m | \u001b[0m 0.9919  \u001b[0m | \u001b[0m 52.85   \u001b[0m | \u001b[0m 7.212   \u001b[0m | \u001b[0m 2.558   \u001b[0m | \u001b[0m 488.3   \u001b[0m |\n",
            "Epoch 1/10\n",
            "1819/1819 [==============================] - 14s 7ms/step - loss: 0.1834 - accuracy: 0.9450\n",
            "Epoch 2/10\n",
            "1819/1819 [==============================] - 13s 7ms/step - loss: 0.0790 - accuracy: 0.9753\n",
            "Epoch 3/10\n",
            "1819/1819 [==============================] - 13s 7ms/step - loss: 0.0551 - accuracy: 0.9827\n",
            "Epoch 4/10\n",
            "1819/1819 [==============================] - 13s 7ms/step - loss: 0.0421 - accuracy: 0.9863\n",
            "Epoch 5/10\n",
            "1819/1819 [==============================] - 13s 7ms/step - loss: 0.0349 - accuracy: 0.9891\n",
            "Epoch 6/10\n",
            "1819/1819 [==============================] - 13s 7ms/step - loss: 0.0298 - accuracy: 0.9903\n",
            "Epoch 7/10\n",
            "1819/1819 [==============================] - 13s 7ms/step - loss: 0.0244 - accuracy: 0.9921\n",
            "Epoch 8/10\n",
            "1819/1819 [==============================] - 13s 7ms/step - loss: 0.0223 - accuracy: 0.9932\n",
            "Epoch 9/10\n",
            "1819/1819 [==============================] - 13s 7ms/step - loss: 0.0198 - accuracy: 0.9940\n",
            "Epoch 10/10\n",
            "1819/1819 [==============================] - 13s 7ms/step - loss: 0.0194 - accuracy: 0.9938\n",
            "| \u001b[0m 12      \u001b[0m | \u001b[0m 0.9938  \u001b[0m | \u001b[0m 33.72   \u001b[0m | \u001b[0m 10.43   \u001b[0m | \u001b[0m 2.795   \u001b[0m | \u001b[0m 477.7   \u001b[0m |\n",
            "=========================================================================\n"
          ]
        }
      ]
    },
    {
      "cell_type": "code",
      "source": [
        "def Mnist_CNN_General(layers, filters, kernel_size, stride, epo, Bsize):\n",
        "  Data = mnist\n",
        "  filters = filters.astype(int)\n",
        "  kernel_size = kernel_size.astype(int)\n",
        "  stride = stride.astype(int)\n",
        "  \n",
        "\n",
        "  (x_train, y_train),(x_test, y_test) = Data.load_data()\n",
        "  x_train, x_test = x_train / 255.0, x_test / 255.0\n",
        "\n",
        "  inputs = tf.keras.Input(shape=(28,28))\n",
        "  # x1 = tf.keras.layers.Flatten(input_shape=(28, 28))(inputs)\n",
        "  X = [inputs]\n",
        "\n",
        "  for i in range(int(layers)):\n",
        "    x_prime = tf.keras.layers.Conv2D(filters, kernel_size, stride, activation=tf.nn.relu)(X[i])\n",
        "    X.append(x_prime)\n",
        "\n",
        "  outputs = tf.keras.layers.Dense(10, activation=tf.nn.softmax)(X[-1])\n",
        "\n",
        "  func_model = tf.keras.Model(inputs=inputs, outputs=outputs)\n",
        "\n",
        "  func_model.compile(optimizer='adam',\n",
        "              loss='sparse_categorical_crossentropy',\n",
        "              metrics=['accuracy'])\n",
        "\n",
        "  func_history = func_model.fit(x_train, y_train, batch_size=int(Bsize), epochs=int(epo))\n",
        "  X = []\n",
        "  return func_history.history['accuracy'][-1]"
      ],
      "metadata": {
        "id": "GH8o2oZCeyx0"
      },
      "execution_count": 77,
      "outputs": []
    },
    {
      "cell_type": "code",
      "source": [
        "pbounds = {'layers': (1, 4), 'filters': (5, 40), 'kernel_size': (2, 7), 'stride': (1, 3), 'epo': (4, 12), 'Bsize': (25, 80)}\n",
        "\n",
        "optimizer = BayesianOptimization(\n",
        "    f=Mnist_CNN_General,\n",
        "    pbounds=pbounds,\n",
        "    random_state=1,\n",
        ")"
      ],
      "metadata": {
        "id": "5tT1mFIItm96"
      },
      "execution_count": 78,
      "outputs": []
    },
    {
      "cell_type": "code",
      "source": [
        "optimizer.maximize(\n",
        "    init_points=2,\n",
        "    n_iter=10,\n",
        ")"
      ],
      "metadata": {
        "colab": {
          "base_uri": "https://localhost:8080/",
          "height": 582
        },
        "id": "-huF3n9g3NSZ",
        "outputId": "2d185e64-59b8-476c-de9e-54993453b2a2"
      },
      "execution_count": 79,
      "outputs": [
        {
          "output_type": "stream",
          "name": "stdout",
          "text": [
            "|   iter    |  target   |   Bsize   |    epo    |  filters  | kernel... |  layers   |  stride   |\n",
            "-------------------------------------------------------------------------------------------------\n"
          ]
        },
        {
          "output_type": "error",
          "ename": "ValueError",
          "evalue": "ignored",
          "traceback": [
            "\u001b[0;31m---------------------------------------------------------------------------\u001b[0m",
            "\u001b[0;31mKeyError\u001b[0m                                  Traceback (most recent call last)",
            "\u001b[0;32m/usr/local/lib/python3.7/dist-packages/bayes_opt/target_space.py\u001b[0m in \u001b[0;36mprobe\u001b[0;34m(self, params)\u001b[0m\n\u001b[1;32m    190\u001b[0m         \u001b[0;32mtry\u001b[0m\u001b[0;34m:\u001b[0m\u001b[0;34m\u001b[0m\u001b[0;34m\u001b[0m\u001b[0m\n\u001b[0;32m--> 191\u001b[0;31m             \u001b[0mtarget\u001b[0m \u001b[0;34m=\u001b[0m \u001b[0mself\u001b[0m\u001b[0;34m.\u001b[0m\u001b[0m_cache\u001b[0m\u001b[0;34m[\u001b[0m\u001b[0m_hashable\u001b[0m\u001b[0;34m(\u001b[0m\u001b[0mx\u001b[0m\u001b[0;34m)\u001b[0m\u001b[0;34m]\u001b[0m\u001b[0;34m\u001b[0m\u001b[0;34m\u001b[0m\u001b[0m\n\u001b[0m\u001b[1;32m    192\u001b[0m         \u001b[0;32mexcept\u001b[0m \u001b[0mKeyError\u001b[0m\u001b[0;34m:\u001b[0m\u001b[0;34m\u001b[0m\u001b[0;34m\u001b[0m\u001b[0m\n",
            "\u001b[0;31mKeyError\u001b[0m: (47.936210258641566, 9.762595947537264, 5.004003118607071, 3.5116628631591986, 1.440267672451339, 1.1846771895375956)",
            "\nDuring handling of the above exception, another exception occurred:\n",
            "\u001b[0;31mTypeError\u001b[0m                                 Traceback (most recent call last)",
            "\u001b[0;32m/usr/local/lib/python3.7/dist-packages/keras/utils/conv_utils.py\u001b[0m in \u001b[0;36mnormalize_tuple\u001b[0;34m(value, n, name, allow_zero)\u001b[0m\n\u001b[1;32m     78\u001b[0m     \u001b[0;32mtry\u001b[0m\u001b[0;34m:\u001b[0m\u001b[0;34m\u001b[0m\u001b[0;34m\u001b[0m\u001b[0m\n\u001b[0;32m---> 79\u001b[0;31m       \u001b[0mvalue_tuple\u001b[0m \u001b[0;34m=\u001b[0m \u001b[0mtuple\u001b[0m\u001b[0;34m(\u001b[0m\u001b[0mvalue\u001b[0m\u001b[0;34m)\u001b[0m\u001b[0;34m\u001b[0m\u001b[0;34m\u001b[0m\u001b[0m\n\u001b[0m\u001b[1;32m     80\u001b[0m     \u001b[0;32mexcept\u001b[0m \u001b[0mTypeError\u001b[0m\u001b[0;34m:\u001b[0m\u001b[0;34m\u001b[0m\u001b[0;34m\u001b[0m\u001b[0m\n",
            "\u001b[0;31mTypeError\u001b[0m: 'numpy.int64' object is not iterable",
            "\nDuring handling of the above exception, another exception occurred:\n",
            "\u001b[0;31mValueError\u001b[0m                                Traceback (most recent call last)",
            "\u001b[0;32m<ipython-input-79-0a868ed0f98c>\u001b[0m in \u001b[0;36m<module>\u001b[0;34m()\u001b[0m\n\u001b[1;32m      1\u001b[0m optimizer.maximize(\n\u001b[1;32m      2\u001b[0m     \u001b[0minit_points\u001b[0m\u001b[0;34m=\u001b[0m\u001b[0;36m2\u001b[0m\u001b[0;34m,\u001b[0m\u001b[0;34m\u001b[0m\u001b[0;34m\u001b[0m\u001b[0m\n\u001b[0;32m----> 3\u001b[0;31m     \u001b[0mn_iter\u001b[0m\u001b[0;34m=\u001b[0m\u001b[0;36m10\u001b[0m\u001b[0;34m,\u001b[0m\u001b[0;34m\u001b[0m\u001b[0;34m\u001b[0m\u001b[0m\n\u001b[0m\u001b[1;32m      4\u001b[0m )\n",
            "\u001b[0;32m/usr/local/lib/python3.7/dist-packages/bayes_opt/bayesian_optimization.py\u001b[0m in \u001b[0;36mmaximize\u001b[0;34m(self, init_points, n_iter, acq, kappa, kappa_decay, kappa_decay_delay, xi, **gp_params)\u001b[0m\n\u001b[1;32m    183\u001b[0m                 \u001b[0miteration\u001b[0m \u001b[0;34m+=\u001b[0m \u001b[0;36m1\u001b[0m\u001b[0;34m\u001b[0m\u001b[0;34m\u001b[0m\u001b[0m\n\u001b[1;32m    184\u001b[0m \u001b[0;34m\u001b[0m\u001b[0m\n\u001b[0;32m--> 185\u001b[0;31m             \u001b[0mself\u001b[0m\u001b[0;34m.\u001b[0m\u001b[0mprobe\u001b[0m\u001b[0;34m(\u001b[0m\u001b[0mx_probe\u001b[0m\u001b[0;34m,\u001b[0m \u001b[0mlazy\u001b[0m\u001b[0;34m=\u001b[0m\u001b[0;32mFalse\u001b[0m\u001b[0;34m)\u001b[0m\u001b[0;34m\u001b[0m\u001b[0;34m\u001b[0m\u001b[0m\n\u001b[0m\u001b[1;32m    186\u001b[0m \u001b[0;34m\u001b[0m\u001b[0m\n\u001b[1;32m    187\u001b[0m             \u001b[0;32mif\u001b[0m \u001b[0mself\u001b[0m\u001b[0;34m.\u001b[0m\u001b[0m_bounds_transformer\u001b[0m\u001b[0;34m:\u001b[0m\u001b[0;34m\u001b[0m\u001b[0;34m\u001b[0m\u001b[0m\n",
            "\u001b[0;32m/usr/local/lib/python3.7/dist-packages/bayes_opt/bayesian_optimization.py\u001b[0m in \u001b[0;36mprobe\u001b[0;34m(self, params, lazy)\u001b[0m\n\u001b[1;32m    114\u001b[0m             \u001b[0mself\u001b[0m\u001b[0;34m.\u001b[0m\u001b[0m_queue\u001b[0m\u001b[0;34m.\u001b[0m\u001b[0madd\u001b[0m\u001b[0;34m(\u001b[0m\u001b[0mparams\u001b[0m\u001b[0;34m)\u001b[0m\u001b[0;34m\u001b[0m\u001b[0;34m\u001b[0m\u001b[0m\n\u001b[1;32m    115\u001b[0m         \u001b[0;32melse\u001b[0m\u001b[0;34m:\u001b[0m\u001b[0;34m\u001b[0m\u001b[0;34m\u001b[0m\u001b[0m\n\u001b[0;32m--> 116\u001b[0;31m             \u001b[0mself\u001b[0m\u001b[0;34m.\u001b[0m\u001b[0m_space\u001b[0m\u001b[0;34m.\u001b[0m\u001b[0mprobe\u001b[0m\u001b[0;34m(\u001b[0m\u001b[0mparams\u001b[0m\u001b[0;34m)\u001b[0m\u001b[0;34m\u001b[0m\u001b[0;34m\u001b[0m\u001b[0m\n\u001b[0m\u001b[1;32m    117\u001b[0m             \u001b[0mself\u001b[0m\u001b[0;34m.\u001b[0m\u001b[0mdispatch\u001b[0m\u001b[0;34m(\u001b[0m\u001b[0mEvents\u001b[0m\u001b[0;34m.\u001b[0m\u001b[0mOPTIMIZATION_STEP\u001b[0m\u001b[0;34m)\u001b[0m\u001b[0;34m\u001b[0m\u001b[0;34m\u001b[0m\u001b[0m\n\u001b[1;32m    118\u001b[0m \u001b[0;34m\u001b[0m\u001b[0m\n",
            "\u001b[0;32m/usr/local/lib/python3.7/dist-packages/bayes_opt/target_space.py\u001b[0m in \u001b[0;36mprobe\u001b[0;34m(self, params)\u001b[0m\n\u001b[1;32m    192\u001b[0m         \u001b[0;32mexcept\u001b[0m \u001b[0mKeyError\u001b[0m\u001b[0;34m:\u001b[0m\u001b[0;34m\u001b[0m\u001b[0;34m\u001b[0m\u001b[0m\n\u001b[1;32m    193\u001b[0m             \u001b[0mparams\u001b[0m \u001b[0;34m=\u001b[0m \u001b[0mdict\u001b[0m\u001b[0;34m(\u001b[0m\u001b[0mzip\u001b[0m\u001b[0;34m(\u001b[0m\u001b[0mself\u001b[0m\u001b[0;34m.\u001b[0m\u001b[0m_keys\u001b[0m\u001b[0;34m,\u001b[0m \u001b[0mx\u001b[0m\u001b[0;34m)\u001b[0m\u001b[0;34m)\u001b[0m\u001b[0;34m\u001b[0m\u001b[0;34m\u001b[0m\u001b[0m\n\u001b[0;32m--> 194\u001b[0;31m             \u001b[0mtarget\u001b[0m \u001b[0;34m=\u001b[0m \u001b[0mself\u001b[0m\u001b[0;34m.\u001b[0m\u001b[0mtarget_func\u001b[0m\u001b[0;34m(\u001b[0m\u001b[0;34m**\u001b[0m\u001b[0mparams\u001b[0m\u001b[0;34m)\u001b[0m\u001b[0;34m\u001b[0m\u001b[0;34m\u001b[0m\u001b[0m\n\u001b[0m\u001b[1;32m    195\u001b[0m             \u001b[0mself\u001b[0m\u001b[0;34m.\u001b[0m\u001b[0mregister\u001b[0m\u001b[0;34m(\u001b[0m\u001b[0mx\u001b[0m\u001b[0;34m,\u001b[0m \u001b[0mtarget\u001b[0m\u001b[0;34m)\u001b[0m\u001b[0;34m\u001b[0m\u001b[0;34m\u001b[0m\u001b[0m\n\u001b[1;32m    196\u001b[0m         \u001b[0;32mreturn\u001b[0m \u001b[0mtarget\u001b[0m\u001b[0;34m\u001b[0m\u001b[0;34m\u001b[0m\u001b[0m\n",
            "\u001b[0;32m<ipython-input-77-0a3818b628dd>\u001b[0m in \u001b[0;36mMnist_CNN_General\u001b[0;34m(layers, filters, kernel_size, stride, epo, Bsize)\u001b[0m\n\u001b[1;32m     14\u001b[0m \u001b[0;34m\u001b[0m\u001b[0m\n\u001b[1;32m     15\u001b[0m   \u001b[0;32mfor\u001b[0m \u001b[0mi\u001b[0m \u001b[0;32min\u001b[0m \u001b[0mrange\u001b[0m\u001b[0;34m(\u001b[0m\u001b[0mint\u001b[0m\u001b[0;34m(\u001b[0m\u001b[0mlayers\u001b[0m\u001b[0;34m)\u001b[0m\u001b[0;34m)\u001b[0m\u001b[0;34m:\u001b[0m\u001b[0;34m\u001b[0m\u001b[0;34m\u001b[0m\u001b[0m\n\u001b[0;32m---> 16\u001b[0;31m     \u001b[0mx_prime\u001b[0m \u001b[0;34m=\u001b[0m \u001b[0mtf\u001b[0m\u001b[0;34m.\u001b[0m\u001b[0mkeras\u001b[0m\u001b[0;34m.\u001b[0m\u001b[0mlayers\u001b[0m\u001b[0;34m.\u001b[0m\u001b[0mConv2D\u001b[0m\u001b[0;34m(\u001b[0m\u001b[0mfilters\u001b[0m\u001b[0;34m,\u001b[0m \u001b[0mkernel_size\u001b[0m\u001b[0;34m,\u001b[0m \u001b[0mstride\u001b[0m\u001b[0;34m,\u001b[0m \u001b[0mactivation\u001b[0m\u001b[0;34m=\u001b[0m\u001b[0mtf\u001b[0m\u001b[0;34m.\u001b[0m\u001b[0mnn\u001b[0m\u001b[0;34m.\u001b[0m\u001b[0mrelu\u001b[0m\u001b[0;34m)\u001b[0m\u001b[0;34m(\u001b[0m\u001b[0mX\u001b[0m\u001b[0;34m[\u001b[0m\u001b[0mi\u001b[0m\u001b[0;34m]\u001b[0m\u001b[0;34m)\u001b[0m\u001b[0;34m\u001b[0m\u001b[0;34m\u001b[0m\u001b[0m\n\u001b[0m\u001b[1;32m     17\u001b[0m     \u001b[0mX\u001b[0m\u001b[0;34m.\u001b[0m\u001b[0mappend\u001b[0m\u001b[0;34m(\u001b[0m\u001b[0mx_prime\u001b[0m\u001b[0;34m)\u001b[0m\u001b[0;34m\u001b[0m\u001b[0;34m\u001b[0m\u001b[0m\n\u001b[1;32m     18\u001b[0m \u001b[0;34m\u001b[0m\u001b[0m\n",
            "\u001b[0;32m/usr/local/lib/python3.7/dist-packages/keras/layers/convolutional.py\u001b[0m in \u001b[0;36m__init__\u001b[0;34m(self, filters, kernel_size, strides, padding, data_format, dilation_rate, groups, activation, use_bias, kernel_initializer, bias_initializer, kernel_regularizer, bias_regularizer, activity_regularizer, kernel_constraint, bias_constraint, **kwargs)\u001b[0m\n\u001b[1;32m    687\u001b[0m         \u001b[0mkernel_constraint\u001b[0m\u001b[0;34m=\u001b[0m\u001b[0mconstraints\u001b[0m\u001b[0;34m.\u001b[0m\u001b[0mget\u001b[0m\u001b[0;34m(\u001b[0m\u001b[0mkernel_constraint\u001b[0m\u001b[0;34m)\u001b[0m\u001b[0;34m,\u001b[0m\u001b[0;34m\u001b[0m\u001b[0;34m\u001b[0m\u001b[0m\n\u001b[1;32m    688\u001b[0m         \u001b[0mbias_constraint\u001b[0m\u001b[0;34m=\u001b[0m\u001b[0mconstraints\u001b[0m\u001b[0;34m.\u001b[0m\u001b[0mget\u001b[0m\u001b[0;34m(\u001b[0m\u001b[0mbias_constraint\u001b[0m\u001b[0;34m)\u001b[0m\u001b[0;34m,\u001b[0m\u001b[0;34m\u001b[0m\u001b[0;34m\u001b[0m\u001b[0m\n\u001b[0;32m--> 689\u001b[0;31m         **kwargs)\n\u001b[0m\u001b[1;32m    690\u001b[0m \u001b[0;34m\u001b[0m\u001b[0m\n\u001b[1;32m    691\u001b[0m \u001b[0;34m\u001b[0m\u001b[0m\n",
            "\u001b[0;32m/usr/local/lib/python3.7/dist-packages/keras/layers/convolutional.py\u001b[0m in \u001b[0;36m__init__\u001b[0;34m(self, rank, filters, kernel_size, strides, padding, data_format, dilation_rate, groups, activation, use_bias, kernel_initializer, bias_initializer, kernel_regularizer, bias_regularizer, activity_regularizer, kernel_constraint, bias_constraint, trainable, name, conv_op, **kwargs)\u001b[0m\n\u001b[1;32m    138\u001b[0m     \u001b[0mself\u001b[0m\u001b[0;34m.\u001b[0m\u001b[0mgroups\u001b[0m \u001b[0;34m=\u001b[0m \u001b[0mgroups\u001b[0m \u001b[0;32mor\u001b[0m \u001b[0;36m1\u001b[0m\u001b[0;34m\u001b[0m\u001b[0;34m\u001b[0m\u001b[0m\n\u001b[1;32m    139\u001b[0m     self.kernel_size = conv_utils.normalize_tuple(\n\u001b[0;32m--> 140\u001b[0;31m         kernel_size, rank, 'kernel_size')\n\u001b[0m\u001b[1;32m    141\u001b[0m     self.strides = conv_utils.normalize_tuple(\n\u001b[1;32m    142\u001b[0m         strides, rank, 'strides', allow_zero=True)\n",
            "\u001b[0;32m/usr/local/lib/python3.7/dist-packages/keras/utils/conv_utils.py\u001b[0m in \u001b[0;36mnormalize_tuple\u001b[0;34m(value, n, name, allow_zero)\u001b[0m\n\u001b[1;32m     79\u001b[0m       \u001b[0mvalue_tuple\u001b[0m \u001b[0;34m=\u001b[0m \u001b[0mtuple\u001b[0m\u001b[0;34m(\u001b[0m\u001b[0mvalue\u001b[0m\u001b[0;34m)\u001b[0m\u001b[0;34m\u001b[0m\u001b[0;34m\u001b[0m\u001b[0m\n\u001b[1;32m     80\u001b[0m     \u001b[0;32mexcept\u001b[0m \u001b[0mTypeError\u001b[0m\u001b[0;34m:\u001b[0m\u001b[0;34m\u001b[0m\u001b[0;34m\u001b[0m\u001b[0m\n\u001b[0;32m---> 81\u001b[0;31m       \u001b[0;32mraise\u001b[0m \u001b[0mValueError\u001b[0m\u001b[0;34m(\u001b[0m\u001b[0merror_msg\u001b[0m\u001b[0;34m)\u001b[0m\u001b[0;34m\u001b[0m\u001b[0;34m\u001b[0m\u001b[0m\n\u001b[0m\u001b[1;32m     82\u001b[0m     \u001b[0;32mif\u001b[0m \u001b[0mlen\u001b[0m\u001b[0;34m(\u001b[0m\u001b[0mvalue_tuple\u001b[0m\u001b[0;34m)\u001b[0m \u001b[0;34m!=\u001b[0m \u001b[0mn\u001b[0m\u001b[0;34m:\u001b[0m\u001b[0;34m\u001b[0m\u001b[0;34m\u001b[0m\u001b[0m\n\u001b[1;32m     83\u001b[0m       \u001b[0;32mraise\u001b[0m \u001b[0mValueError\u001b[0m\u001b[0;34m(\u001b[0m\u001b[0merror_msg\u001b[0m\u001b[0;34m)\u001b[0m\u001b[0;34m\u001b[0m\u001b[0;34m\u001b[0m\u001b[0m\n",
            "\u001b[0;31mValueError\u001b[0m: The `kernel_size` argument must be a tuple of 2 integers. Received: 3"
          ]
        }
      ]
    },
    {
      "cell_type": "code",
      "source": [
        ""
      ],
      "metadata": {
        "id": "jgUN9beh3TOg"
      },
      "execution_count": null,
      "outputs": []
    },
    {
      "cell_type": "markdown",
      "source": [
        "# New Section"
      ],
      "metadata": {
        "id": "ty3ZIOAQ49oC"
      }
    }
  ]
}