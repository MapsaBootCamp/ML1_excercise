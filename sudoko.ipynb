{
 "cells": [
  {
   "cell_type": "code",
   "execution_count": 9,
   "id": "64d2d8b6",
   "metadata": {},
   "outputs": [],
   "source": [
    "sudoku =[[8, 1, 0, 0, 3, 0, 0, 2, 7], \n",
    "         [0, 6, 2, 0, 5, 0, 0, 9, 0], \n",
    "         [0, 7, 0, 0, 0, 0, 0, 0, 0], \n",
    "         [0, 9, 0, 6, 0, 0, 1, 0, 0], \n",
    "         [1, 0, 0, 0, 2, 0, 0, 0, 4], \n",
    "         [0, 0, 8, 0, 0, 5, 0, 7, 0], \n",
    "         [0, 0, 0, 0, 0, 0, 0, 8, 0], \n",
    "         [0, 2, 0, 0, 1, 0, 7, 5, 0], \n",
    "         [3, 8, 0, 0, 7, 0, 0, 4, 2]]"
   ]
  },
  {
   "cell_type": "code",
   "execution_count": 10,
   "id": "6aad8853",
   "metadata": {},
   "outputs": [],
   "source": [
    "def valid_move(grid, row, column, number):\n",
    "    if number in grid[row]:\n",
    "        return False\n",
    "    \n",
    "    for x in range(9):\n",
    "        if grid[x][column] == number:\n",
    "            return False\n",
    "        \n",
    "    corner_row = row - (row%3)\n",
    "    corner_column = column - (column%3)\n",
    "    \n",
    "    for i in range(3):\n",
    "        for j in range(3):\n",
    "            if grid[i + corner_row][j + corner_column] == number:\n",
    "                return False\n",
    "            \n",
    "    return True\n",
    "        "
   ]
  },
  {
   "cell_type": "code",
   "execution_count": 11,
   "id": "9c2d9619",
   "metadata": {},
   "outputs": [],
   "source": [
    "def solving(grid, row, column):\n",
    "    if column == 9:\n",
    "        if row == 8:\n",
    "            return True\n",
    "        else:\n",
    "            row += 1\n",
    "            column = 0\n",
    "    \n",
    "    if grid[row][column] > 0:\n",
    "        return solving(grid, row, column+1)\n",
    "    \n",
    "    for number in range(1,10):\n",
    "        if valid_move(grid, row, column, number):\n",
    "            grid[row][column] = number\n",
    "            \n",
    "            if solving(grid, row, column+1):\n",
    "                return True\n",
    "        grid[row][column] = 0\n",
    "\n",
    "    return False\n",
    "        "
   ]
  },
  {
   "cell_type": "code",
   "execution_count": 12,
   "id": "ca1d0de0",
   "metadata": {},
   "outputs": [
    {
     "name": "stdout",
     "output_type": "stream",
     "text": [
      "8 1 9 4 3 6 5 2 7 \n",
      "\n",
      "4 6 2 7 5 1 3 9 8 \n",
      "\n",
      "5 7 3 2 9 8 4 1 6 \n",
      "\n",
      "2 9 4 6 8 7 1 3 5 \n",
      "\n",
      "1 5 7 9 2 3 8 6 4 \n",
      "\n",
      "6 3 8 1 4 5 2 7 9 \n",
      "\n",
      "7 4 5 3 6 2 9 8 1 \n",
      "\n",
      "9 2 6 8 1 4 7 5 3 \n",
      "\n",
      "3 8 1 5 7 9 6 4 2 \n",
      "\n"
     ]
    }
   ],
   "source": [
    "if solving(sudoku,0, 0):\n",
    "    for i in range(9):\n",
    "        for j in range(9):\n",
    "            print(sudoku[i][j], end=' ')\n",
    "        print(\"\\n\")\n",
    "else:\n",
    "    print(\"no solution\")"
   ]
  },
  {
   "cell_type": "code",
   "execution_count": null,
   "id": "d9be7c64",
   "metadata": {},
   "outputs": [],
   "source": []
  }
 ],
 "metadata": {
  "kernelspec": {
   "display_name": "Python 3 (ipykernel)",
   "language": "python",
   "name": "python3"
  },
  "language_info": {
   "codemirror_mode": {
    "name": "ipython",
    "version": 3
   },
   "file_extension": ".py",
   "mimetype": "text/x-python",
   "name": "python",
   "nbconvert_exporter": "python",
   "pygments_lexer": "ipython3",
   "version": "3.8.8"
  }
 },
 "nbformat": 4,
 "nbformat_minor": 5
}
