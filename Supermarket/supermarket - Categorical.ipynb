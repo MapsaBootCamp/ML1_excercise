{
 "cells": [
  {
   "cell_type": "code",
   "execution_count": 1,
   "id": "105823a0",
   "metadata": {},
   "outputs": [],
   "source": [
    "import pandas as pd"
   ]
  },
  {
   "cell_type": "code",
   "execution_count": 2,
   "id": "4d3e9494",
   "metadata": {},
   "outputs": [],
   "source": [
    "import seaborn as sns"
   ]
  },
  {
   "cell_type": "code",
   "execution_count": 3,
   "id": "9f075889",
   "metadata": {},
   "outputs": [],
   "source": [
    "import datetime"
   ]
  },
  {
   "cell_type": "code",
   "execution_count": 4,
   "id": "0ee8eb30",
   "metadata": {},
   "outputs": [],
   "source": [
    "df = pd.read_csv('./train.csv', index_col=0)"
   ]
  },
  {
   "cell_type": "code",
   "execution_count": 5,
   "id": "a04a575f",
   "metadata": {},
   "outputs": [],
   "source": [
    "df.fillna({'score_mean':0}, inplace=True)"
   ]
  },
  {
   "cell_type": "code",
   "execution_count": 6,
   "id": "9e2fddd5",
   "metadata": {},
   "outputs": [],
   "source": [
    "df.discount_percentage = df.discount_percentage.transform(abs)"
   ]
  },
  {
   "cell_type": "code",
   "execution_count": 7,
   "id": "9b222549",
   "metadata": {},
   "outputs": [],
   "source": [
    "df.date = pd.to_datetime(df.date, format='%Y/%m/%d')\n",
    "df['day_of_week'] = df.date.dt.day_of_week\n",
    "df['day_of_month'] = df.date.dt.day\n",
    "df['day_of_year'] = df.date.dt.day_of_year"
   ]
  },
  {
   "cell_type": "code",
   "execution_count": 8,
   "id": "fc163883",
   "metadata": {},
   "outputs": [
    {
     "data": {
      "text/plain": [
       "((5196, 12), (3393, 12))"
      ]
     },
     "execution_count": 8,
     "metadata": {},
     "output_type": "execute_result"
    }
   ],
   "source": [
    "dp = df[df.cat_id ==df.cat_id.iloc[-100]].sort_values('date')\n",
    "bound = df.date.min() + pd.Timedelta(\"40 days\")\n",
    "dp_train = dp[dp.date < bound]\n",
    "dp_test = dp[dp.date >= bound]\n",
    "x_train = dp_train.drop(['sold_count', 'date'], axis=1)\n",
    "x_test = dp_test.drop(['sold_count', 'date'], axis=1)\n",
    "y_train = dp_train['sold_count']\n",
    "y_test = dp_test['sold_count']\n",
    "(dp_train.shape, dp_test.shape)"
   ]
  },
  {
   "cell_type": "code",
   "execution_count": 9,
   "id": "b30b56fd",
   "metadata": {},
   "outputs": [],
   "source": [
    "from sklearn.ensemble import RandomForestRegressor\n",
    "from sklearn.linear_model import BayesianRidge, ElasticNet, Lars, Lasso\n",
    "from sklearn.naive_bayes import ComplementNB, GaussianNB\n",
    "from sklearn.svm import SVR"
   ]
  },
  {
   "cell_type": "code",
   "execution_count": 10,
   "id": "a9778210",
   "metadata": {},
   "outputs": [],
   "source": [
    "regressor = {}"
   ]
  },
  {
   "cell_type": "code",
   "execution_count": 11,
   "id": "00f0e558",
   "metadata": {},
   "outputs": [],
   "source": [
    "regressor['Lasso'] = Lasso()"
   ]
  },
  {
   "cell_type": "code",
   "execution_count": 12,
   "id": "1f7887e0",
   "metadata": {},
   "outputs": [],
   "source": [
    "regressor['Lars'] = Lars()"
   ]
  },
  {
   "cell_type": "code",
   "execution_count": 13,
   "id": "a46e0e05",
   "metadata": {},
   "outputs": [],
   "source": [
    "regressor['ElasticNet'] = ElasticNet()"
   ]
  },
  {
   "cell_type": "code",
   "execution_count": 14,
   "id": "eaa10640",
   "metadata": {},
   "outputs": [],
   "source": [
    "regressor['BayesianRidge'] = BayesianRidge()"
   ]
  },
  {
   "cell_type": "code",
   "execution_count": 15,
   "id": "b6cdf2dd",
   "metadata": {},
   "outputs": [],
   "source": [
    "regressor['ComplementNB'] = ComplementNB()"
   ]
  },
  {
   "cell_type": "code",
   "execution_count": 16,
   "id": "b0f5076b",
   "metadata": {},
   "outputs": [],
   "source": [
    "regressor['GaussianNB'] = GaussianNB()"
   ]
  },
  {
   "cell_type": "code",
   "execution_count": 17,
   "id": "4c9e6d51",
   "metadata": {},
   "outputs": [],
   "source": [
    "regressor['poly'] = SVR(kernel='poly')"
   ]
  },
  {
   "cell_type": "code",
   "execution_count": 18,
   "id": "51024225",
   "metadata": {},
   "outputs": [],
   "source": [
    "regressor['rbf'] = SVR()"
   ]
  },
  {
   "cell_type": "code",
   "execution_count": 19,
   "id": "5e393db1",
   "metadata": {},
   "outputs": [
    {
     "data": {
      "text/plain": [
       "dict_keys(['Lasso', 'Lars', 'ElasticNet', 'BayesianRidge', 'ComplementNB', 'GaussianNB', 'poly', 'rbf'])"
      ]
     },
     "execution_count": 19,
     "metadata": {},
     "output_type": "execute_result"
    }
   ],
   "source": [
    "regressor.keys()"
   ]
  },
  {
   "cell_type": "code",
   "execution_count": 20,
   "id": "98ad5ed2",
   "metadata": {},
   "outputs": [],
   "source": [
    "train_score = {}\n",
    "test_score = {}\n",
    "y_pred_train = {}\n",
    "y_pred_test = {}\n",
    "def regressor_see (key, regressorset=regressor):\n",
    "    model = regressor[key]\n",
    "    model.fit(x_train, y_train)\n",
    "    train_score[key] = model.score(x_train, y_train)\n",
    "    test_score[key] = model.score(x_test, y_test)\n",
    "    y_pred_train[key] = model.predict(x_train)\n",
    "    y_pred_test[key] = model.predict(x_test)\n",
    "    print(f'{key} model score:\\n\\ttrain:{train_score[key]}\\n\\ttest:{test_score[key]}')"
   ]
  },
  {
   "cell_type": "code",
   "execution_count": 21,
   "id": "e7adc990",
   "metadata": {},
   "outputs": [
    {
     "name": "stdout",
     "output_type": "stream",
     "text": [
      "Lasso model score:\n",
      "\ttrain:0.17569306269148954\n",
      "\ttest:0.19601639976875074\n"
     ]
    }
   ],
   "source": [
    "regressor_see('Lasso')"
   ]
  },
  {
   "cell_type": "code",
   "execution_count": 22,
   "id": "988d12fe",
   "metadata": {},
   "outputs": [
    {
     "name": "stdout",
     "output_type": "stream",
     "text": [
      "Lars model score:\n",
      "\ttrain:0.19428793469776506\n",
      "\ttest:0.20834648261712008\n"
     ]
    }
   ],
   "source": [
    "regressor_see('Lars')"
   ]
  },
  {
   "cell_type": "code",
   "execution_count": 23,
   "id": "d1c57581",
   "metadata": {},
   "outputs": [
    {
     "name": "stdout",
     "output_type": "stream",
     "text": [
      "ElasticNet model score:\n",
      "\ttrain:0.18375140324224204\n",
      "\ttest:0.20629806278684493\n"
     ]
    }
   ],
   "source": [
    "regressor_see('ElasticNet')"
   ]
  },
  {
   "cell_type": "code",
   "execution_count": 24,
   "id": "3ca11a99",
   "metadata": {},
   "outputs": [
    {
     "name": "stdout",
     "output_type": "stream",
     "text": [
      "BayesianRidge model score:\n",
      "\ttrain:0.1932233806734962\n",
      "\ttest:0.2081941719653635\n"
     ]
    }
   ],
   "source": [
    "regressor_see('BayesianRidge')"
   ]
  },
  {
   "cell_type": "code",
   "execution_count": 25,
   "id": "2da4c08c",
   "metadata": {},
   "outputs": [
    {
     "name": "stdout",
     "output_type": "stream",
     "text": [
      "ComplementNB model score:\n",
      "\ttrain:0.3371824480369515\n",
      "\ttest:0.30297671676982024\n"
     ]
    }
   ],
   "source": [
    "regressor_see('ComplementNB')"
   ]
  },
  {
   "cell_type": "code",
   "execution_count": 26,
   "id": "5a5df07a",
   "metadata": {},
   "outputs": [
    {
     "name": "stdout",
     "output_type": "stream",
     "text": [
      "GaussianNB model score:\n",
      "\ttrain:0.46150885296381833\n",
      "\ttest:0.4294134983790156\n"
     ]
    }
   ],
   "source": [
    "regressor_see('GaussianNB')"
   ]
  },
  {
   "cell_type": "code",
   "execution_count": 27,
   "id": "11feb043",
   "metadata": {},
   "outputs": [
    {
     "name": "stdout",
     "output_type": "stream",
     "text": [
      "poly model score:\n",
      "\ttrain:-0.07235927995216684\n",
      "\ttest:-0.10086508672091532\n"
     ]
    }
   ],
   "source": [
    "regressor_see('poly')"
   ]
  },
  {
   "cell_type": "code",
   "execution_count": 28,
   "id": "5f66d067",
   "metadata": {},
   "outputs": [
    {
     "name": "stdout",
     "output_type": "stream",
     "text": [
      "rbf model score:\n",
      "\ttrain:0.012328156328325401\n",
      "\ttest:-0.031173672024811694\n"
     ]
    }
   ],
   "source": [
    "regressor_see('rbf')"
   ]
  },
  {
   "cell_type": "code",
   "execution_count": null,
   "id": "efcc96ab",
   "metadata": {},
   "outputs": [],
   "source": []
  }
 ],
 "metadata": {
  "kernelspec": {
   "display_name": "Python 3 (ipykernel)",
   "language": "python",
   "name": "python3"
  },
  "language_info": {
   "codemirror_mode": {
    "name": "ipython",
    "version": 3
   },
   "file_extension": ".py",
   "mimetype": "text/x-python",
   "name": "python",
   "nbconvert_exporter": "python",
   "pygments_lexer": "ipython3",
   "version": "3.9.6"
  }
 },
 "nbformat": 4,
 "nbformat_minor": 5
}
