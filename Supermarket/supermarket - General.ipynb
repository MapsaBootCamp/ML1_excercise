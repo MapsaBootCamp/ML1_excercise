{
 "cells": [
  {
   "cell_type": "code",
   "execution_count": 1,
   "id": "105823a0",
   "metadata": {},
   "outputs": [],
   "source": [
    "import pandas as pd"
   ]
  },
  {
   "cell_type": "code",
   "execution_count": 2,
   "id": "4d3e9494",
   "metadata": {},
   "outputs": [],
   "source": [
    "import seaborn as sns"
   ]
  },
  {
   "cell_type": "code",
   "execution_count": 3,
   "id": "9f075889",
   "metadata": {},
   "outputs": [],
   "source": [
    "import datetime"
   ]
  },
  {
   "cell_type": "code",
   "execution_count": 4,
   "id": "0ee8eb30",
   "metadata": {},
   "outputs": [],
   "source": [
    "df = pd.read_csv('./train.csv', index_col=0)"
   ]
  },
  {
   "cell_type": "code",
   "execution_count": 5,
   "id": "a04a575f",
   "metadata": {},
   "outputs": [],
   "source": [
    "df.fillna({'score_mean':0}, inplace=True)"
   ]
  },
  {
   "cell_type": "code",
   "execution_count": 6,
   "id": "9e2fddd5",
   "metadata": {},
   "outputs": [],
   "source": [
    "df.discount_percentage = df.discount_percentage.transform(abs)"
   ]
  },
  {
   "cell_type": "code",
   "execution_count": 7,
   "id": "9b222549",
   "metadata": {},
   "outputs": [],
   "source": [
    "df.date = pd.to_datetime(df.date, format='%Y/%m/%d')\n",
    "df['day_of_week'] = df.date.dt.day_of_week\n",
    "df['day_of_month'] = df.date.dt.day\n",
    "df['day_of_year'] = df.date.dt.day_of_year"
   ]
  },
  {
   "cell_type": "code",
   "execution_count": 8,
   "id": "21e9bb46",
   "metadata": {},
   "outputs": [],
   "source": [
    "dp = df[df.product_id ==df.product_id.iloc[-10]].sort_values('date')"
   ]
  },
  {
   "cell_type": "code",
   "execution_count": 9,
   "id": "fc163883",
   "metadata": {},
   "outputs": [
    {
     "data": {
      "text/plain": [
       "((36, 12), (28, 12))"
      ]
     },
     "execution_count": 9,
     "metadata": {},
     "output_type": "execute_result"
    }
   ],
   "source": [
    "bound = df.date.min() + pd.Timedelta(\"40 days\")\n",
    "dp_train = dp[dp.date < bound]\n",
    "dp_test = dp[dp.date >= bound]\n",
    "(dp_train.shape, dp_test.shape)"
   ]
  },
  {
   "cell_type": "code",
   "execution_count": 10,
   "id": "7a23012d",
   "metadata": {},
   "outputs": [],
   "source": [
    "bound = df.date.min() + pd.Timedelta(\"31 days\")\n",
    "dp_train = df[df.date < bound]\n",
    "dp_test = df[df.date >= bound]\n",
    "x_train = dp_train.drop(['sold_count', 'date'], axis=1)\n",
    "x_test = dp_test.drop(['sold_count', 'date'], axis=1)\n",
    "y_train = dp_train['sold_count']\n",
    "y_test = dp_test['sold_count']"
   ]
  },
  {
   "cell_type": "code",
   "execution_count": 11,
   "id": "b30b56fd",
   "metadata": {},
   "outputs": [],
   "source": [
    "from sklearn.ensemble import RandomForestRegressor\n",
    "from sklearn.linear_model import BayesianRidge, ElasticNet, Lars, Lasso\n",
    "from sklearn.naive_bayes import ComplementNB, GaussianNB\n",
    "from sklearn.svm import SVR"
   ]
  },
  {
   "cell_type": "code",
   "execution_count": 12,
   "id": "a9778210",
   "metadata": {},
   "outputs": [],
   "source": [
    "regressor = {}"
   ]
  },
  {
   "cell_type": "code",
   "execution_count": 13,
   "id": "00f0e558",
   "metadata": {},
   "outputs": [],
   "source": [
    "regressor['Lasso'] = Lasso()"
   ]
  },
  {
   "cell_type": "code",
   "execution_count": 14,
   "id": "1f7887e0",
   "metadata": {},
   "outputs": [],
   "source": [
    "regressor['Lars'] = Lars()"
   ]
  },
  {
   "cell_type": "code",
   "execution_count": 15,
   "id": "a46e0e05",
   "metadata": {},
   "outputs": [],
   "source": [
    "regressor['ElasticNet'] = ElasticNet()"
   ]
  },
  {
   "cell_type": "code",
   "execution_count": 16,
   "id": "eaa10640",
   "metadata": {},
   "outputs": [],
   "source": [
    "regressor['BayesianRidge'] = BayesianRidge()"
   ]
  },
  {
   "cell_type": "code",
   "execution_count": 17,
   "id": "b6cdf2dd",
   "metadata": {},
   "outputs": [],
   "source": [
    "regressor['ComplementNB'] = ComplementNB()"
   ]
  },
  {
   "cell_type": "code",
   "execution_count": 18,
   "id": "b0f5076b",
   "metadata": {},
   "outputs": [],
   "source": [
    "regressor['GaussianNB'] = GaussianNB()"
   ]
  },
  {
   "cell_type": "code",
   "execution_count": 19,
   "id": "4c9e6d51",
   "metadata": {},
   "outputs": [],
   "source": [
    "regressor['poly'] = SVR(kernel='poly')"
   ]
  },
  {
   "cell_type": "code",
   "execution_count": 20,
   "id": "51024225",
   "metadata": {},
   "outputs": [],
   "source": [
    "regressor['rbf'] = SVR()"
   ]
  },
  {
   "cell_type": "code",
   "execution_count": 21,
   "id": "5e393db1",
   "metadata": {},
   "outputs": [
    {
     "data": {
      "text/plain": [
       "dict_keys(['Lasso', 'Lars', 'ElasticNet', 'BayesianRidge', 'ComplementNB', 'GaussianNB', 'poly', 'rbf'])"
      ]
     },
     "execution_count": 21,
     "metadata": {},
     "output_type": "execute_result"
    }
   ],
   "source": [
    "regressor.keys()"
   ]
  },
  {
   "cell_type": "code",
   "execution_count": 22,
   "id": "98ad5ed2",
   "metadata": {},
   "outputs": [],
   "source": [
    "train_score = {}\n",
    "test_score = {}\n",
    "y_pred_train = {}\n",
    "y_pred_test = {}\n",
    "def regressor_see (key, regressorset=regressor):\n",
    "    model = regressor[key]\n",
    "    model.fit(x_train, y_train)\n",
    "    train_score[key] = model.score(x_train, y_train)\n",
    "    test_score[key] = model.score(x_test, y_test)\n",
    "    y_pred_train[key] = model.predict(x_train)\n",
    "    y_pred_test[key] = model.predict(x_test)\n",
    "    print(f'{key} model score:\\n\\ttrain:{train_score[key]}\\n\\ttest:{test_score[key]}')"
   ]
  },
  {
   "cell_type": "code",
   "execution_count": 23,
   "id": "e7adc990",
   "metadata": {},
   "outputs": [
    {
     "name": "stdout",
     "output_type": "stream",
     "text": [
      "Lasso model score:\n",
      "\ttrain:0.13559329131477948\n",
      "\ttest:0.15546852037348713\n"
     ]
    }
   ],
   "source": [
    "regressor_see('Lasso')"
   ]
  },
  {
   "cell_type": "code",
   "execution_count": 24,
   "id": "988d12fe",
   "metadata": {},
   "outputs": [
    {
     "name": "stdout",
     "output_type": "stream",
     "text": [
      "Lars model score:\n",
      "\ttrain:0.13613480663442723\n",
      "\ttest:0.1565465382986233\n"
     ]
    }
   ],
   "source": [
    "regressor_see('Lars')"
   ]
  },
  {
   "cell_type": "code",
   "execution_count": 25,
   "id": "d1c57581",
   "metadata": {},
   "outputs": [
    {
     "name": "stdout",
     "output_type": "stream",
     "text": [
      "ElasticNet model score:\n",
      "\ttrain:0.13566808580235667\n",
      "\ttest:0.1557906177663536\n"
     ]
    }
   ],
   "source": [
    "regressor_see('ElasticNet')"
   ]
  },
  {
   "cell_type": "code",
   "execution_count": 26,
   "id": "3ca11a99",
   "metadata": {},
   "outputs": [
    {
     "name": "stdout",
     "output_type": "stream",
     "text": [
      "BayesianRidge model score:\n",
      "\ttrain:0.13610401618845436\n",
      "\ttest:0.15656127028871358\n"
     ]
    }
   ],
   "source": [
    "regressor_see('BayesianRidge')"
   ]
  },
  {
   "cell_type": "code",
   "execution_count": 27,
   "id": "2da4c08c",
   "metadata": {},
   "outputs": [
    {
     "name": "stdout",
     "output_type": "stream",
     "text": [
      "ComplementNB model score:\n",
      "\ttrain:0.35575050877289477\n",
      "\ttest:0.3494091562507614\n"
     ]
    }
   ],
   "source": [
    "regressor_see('ComplementNB')"
   ]
  },
  {
   "cell_type": "code",
   "execution_count": 28,
   "id": "5a5df07a",
   "metadata": {},
   "outputs": [
    {
     "name": "stdout",
     "output_type": "stream",
     "text": [
      "GaussianNB model score:\n",
      "\ttrain:0.6650294263241846\n",
      "\ttest:0.6179129205954731\n"
     ]
    }
   ],
   "source": [
    "regressor_see('GaussianNB')"
   ]
  },
  {
   "cell_type": "code",
   "execution_count": null,
   "id": "11feb043",
   "metadata": {},
   "outputs": [],
   "source": [
    "regressor_see('GaussianNB')"
   ]
  }
 ],
 "metadata": {
  "kernelspec": {
   "display_name": "Python 3 (ipykernel)",
   "language": "python",
   "name": "python3"
  },
  "language_info": {
   "codemirror_mode": {
    "name": "ipython",
    "version": 3
   },
   "file_extension": ".py",
   "mimetype": "text/x-python",
   "name": "python",
   "nbconvert_exporter": "python",
   "pygments_lexer": "ipython3",
   "version": "3.9.6"
  }
 },
 "nbformat": 4,
 "nbformat_minor": 5
}
