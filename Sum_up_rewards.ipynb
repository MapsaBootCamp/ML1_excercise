{
 "cells": [
  {
   "cell_type": "code",
   "execution_count": 1,
   "id": "0acec96e-f64a-438f-829e-0a923ca043a0",
   "metadata": {},
   "outputs": [],
   "source": [
    "import timeit\n",
    "def compare(k=500):\n",
    "    NUMBER=1000\n",
    "    def a():\n",
    "        import random\n",
    "        discount_factor = 0.9\n",
    "        episode = random.choices(range(100),k=500)\n",
    "        G = sum([x*(discount_factor**i) for i,x in enumerate(episode)])\n",
    "        return G\n",
    "\n",
    "    def b():\n",
    "        import random\n",
    "        discount_factor = 0.9\n",
    "        episode = random.choices(range(100),k=500)\n",
    "\n",
    "        ans = 0\n",
    "        for i in reversed(episode):\n",
    "            ans = ans * 0.9 + i\n",
    "        return ans\n",
    "\n",
    "    t_a = timeit.timeit(a, number=NUMBER) / NUMBER\n",
    "    t_b = timeit.timeit(b, number=NUMBER) / NUMBER\n",
    "    return t_a, t_b"
   ]
  },
  {
   "cell_type": "code",
   "execution_count": 6,
   "id": "8e5bef6f-748c-455b-8244-a01cb74fe624",
   "metadata": {},
   "outputs": [],
   "source": [
    "a = [compare(i) for i in [10,50,100,500,1000]]"
   ]
  },
  {
   "cell_type": "code",
   "execution_count": 7,
   "id": "848a6917-dbea-4c2b-a662-2ff1730b1650",
   "metadata": {},
   "outputs": [
    {
     "data": {
      "text/plain": [
       "[(0.2796657139999752, 0.16192326700002013),\n",
       " (0.2551583089999667, 0.14778872199997295),\n",
       " (0.2538290129999723, 0.1466926059999878),\n",
       " (0.2575340449999999, 0.14679318699995747),\n",
       " (0.2563377609999975, 0.15008070999999745)]"
      ]
     },
     "execution_count": 7,
     "metadata": {},
     "output_type": "execute_result"
    }
   ],
   "source": [
    "a"
   ]
  },
  {
   "cell_type": "code",
   "execution_count": null,
   "id": "befa60e5-c878-4c9a-a5f0-8e9faacd125c",
   "metadata": {},
   "outputs": [],
   "source": []
  }
 ],
 "metadata": {
  "kernelspec": {
   "display_name": "Python 3 (ipykernel)",
   "language": "python",
   "name": "python3"
  },
  "language_info": {
   "codemirror_mode": {
    "name": "ipython",
    "version": 3
   },
   "file_extension": ".py",
   "mimetype": "text/x-python",
   "name": "python",
   "nbconvert_exporter": "python",
   "pygments_lexer": "ipython3",
   "version": "3.9.6"
  }
 },
 "nbformat": 4,
 "nbformat_minor": 5
}
