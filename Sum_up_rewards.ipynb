{
 "cells": [
  {
   "cell_type": "code",
   "execution_count": 9,
   "id": "0acec96e-f64a-438f-829e-0a923ca043a0",
   "metadata": {},
   "outputs": [],
   "source": [
    "import timeit\n",
    "def compare(k=500):\n",
    "    NUMBER=1000\n",
    "    def a():\n",
    "        import random\n",
    "        discount_factor = 0.9\n",
    "        episode = random.choices(range(100),k=k)\n",
    "        G = sum([x*(discount_factor**i) for i,x in enumerate(episode)])\n",
    "        return G\n",
    "\n",
    "    def b():\n",
    "        import random\n",
    "        discount_factor = 0.9\n",
    "        episode = random.choices(range(100),k=k)\n",
    "\n",
    "        ans = 0\n",
    "        for i in reversed(episode):\n",
    "            ans = ans * 0.9 + i\n",
    "        return ans\n",
    "\n",
    "    t_a = timeit.timeit(a, number=NUMBER) / NUMBER\n",
    "    t_b = timeit.timeit(b, number=NUMBER) / NUMBER\n",
    "    return t_a, t_b"
   ]
  },
  {
   "cell_type": "code",
   "execution_count": 12,
   "id": "8e5bef6f-748c-455b-8244-a01cb74fe624",
   "metadata": {},
   "outputs": [],
   "source": [
    "a = [(i,*compare(i)) for i in [10,50,100,500,1000]]"
   ]
  },
  {
   "cell_type": "code",
   "execution_count": 13,
   "id": "848a6917-dbea-4c2b-a662-2ff1730b1650",
   "metadata": {},
   "outputs": [
    {
     "data": {
      "text/plain": [
       "[(10, 1.1372499999993124e-05, 9.198743999945691e-06),\n",
       " (50, 3.7405433999992965e-05, 2.2281922000047415e-05),\n",
       " (100, 5.3957179999997606e-05, 3.2239735999951334e-05),\n",
       " (500, 0.00026759284900003876, 0.0001510581809999394),\n",
       " (1000, 0.0005219042350000791, 0.0003022243330000265)]"
      ]
     },
     "execution_count": 13,
     "metadata": {},
     "output_type": "execute_result"
    }
   ],
   "source": [
    "a"
   ]
  }
 ],
 "metadata": {
  "kernelspec": {
   "display_name": "Python 3 (ipykernel)",
   "language": "python",
   "name": "python3"
  },
  "language_info": {
   "codemirror_mode": {
    "name": "ipython",
    "version": 3
   },
   "file_extension": ".py",
   "mimetype": "text/x-python",
   "name": "python",
   "nbconvert_exporter": "python",
   "pygments_lexer": "ipython3",
   "version": "3.9.6"
  }
 },
 "nbformat": 4,
 "nbformat_minor": 5
}
